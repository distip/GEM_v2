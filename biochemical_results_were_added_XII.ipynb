{
 "cells": [
  {
   "cell_type": "code",
   "execution_count": 1,
   "metadata": {},
   "outputs": [],
   "source": [
    "import pandas as pd\n",
    "import numpy as np"
   ]
  },
  {
   "cell_type": "code",
   "execution_count": 2,
   "metadata": {},
   "outputs": [],
   "source": [
    "data = pd.read_csv('Biochemical_results_BGEM.csv')"
   ]
  },
  {
   "cell_type": "code",
   "execution_count": 1,
   "metadata": {},
   "outputs": [
    {
     "ename": "NameError",
     "evalue": "name 'data' is not defined",
     "output_type": "error",
     "traceback": [
      "\u001b[0;31m---------------------------------------------------------------------------\u001b[0m",
      "\u001b[0;31mNameError\u001b[0m                                 Traceback (most recent call last)",
      "Cell \u001b[0;32mIn[1], line 1\u001b[0m\n\u001b[0;32m----> 1\u001b[0m \u001b[43mdata\u001b[49m\u001b[38;5;241m.\u001b[39mcolumns\n",
      "\u001b[0;31mNameError\u001b[0m: name 'data' is not defined"
     ]
    }
   ],
   "source": [
    "data.columns"
   ]
  },
  {
   "cell_type": "code",
   "execution_count": null,
   "metadata": {},
   "outputs": [],
   "source": []
  },
  {
   "cell_type": "code",
   "execution_count": 7,
   "metadata": {},
   "outputs": [],
   "source": [
    "raw = pd.read_csv('Raw_spectrum_merged.csv')"
   ]
  },
  {
   "cell_type": "code",
   "execution_count": 8,
   "metadata": {},
   "outputs": [],
   "source": [
    "data = data.loc[:, ['Sample ID', '% N', '% P', '% K', '% S', '% Ca', '% Mg', 'ppm Zn', 'ppm Fe', 'ppm Mn',\n",
    "       'ppm Cu', 'ppm B', 'ppm Mo' ]]"
   ]
  },
  {
   "cell_type": "code",
   "execution_count": 9,
   "metadata": {},
   "outputs": [],
   "source": [
    "new_ID = []\n",
    "\n",
    "for i in data['Sample ID']:\n",
    "    str(i)\n",
    "    ID = i[0:4]\n",
    "    new_ID.append(ID)"
   ]
  },
  {
   "cell_type": "code",
   "execution_count": 10,
   "metadata": {},
   "outputs": [],
   "source": [
    "data['Sample ID'] = new_ID"
   ]
  },
  {
   "cell_type": "code",
   "execution_count": 11,
   "metadata": {},
   "outputs": [],
   "source": [
    "data.rename(columns={'Sample ID' : 'PLOT ID'}, inplace= True)"
   ]
  },
  {
   "cell_type": "code",
   "execution_count": 12,
   "metadata": {},
   "outputs": [],
   "source": [
    "data['PLOT ID'] =data['PLOT ID'].astype('int')"
   ]
  },
  {
   "cell_type": "code",
   "execution_count": 13,
   "metadata": {},
   "outputs": [
    {
     "data": {
      "text/html": [
       "<div>\n",
       "<style scoped>\n",
       "    .dataframe tbody tr th:only-of-type {\n",
       "        vertical-align: middle;\n",
       "    }\n",
       "\n",
       "    .dataframe tbody tr th {\n",
       "        vertical-align: top;\n",
       "    }\n",
       "\n",
       "    .dataframe thead th {\n",
       "        text-align: right;\n",
       "    }\n",
       "</style>\n",
       "<table border=\"1\" class=\"dataframe\">\n",
       "  <thead>\n",
       "    <tr style=\"text-align: right;\">\n",
       "      <th></th>\n",
       "      <th>PLOT ID</th>\n",
       "      <th>% N</th>\n",
       "      <th>% P</th>\n",
       "      <th>% K</th>\n",
       "      <th>% S</th>\n",
       "      <th>% Ca</th>\n",
       "      <th>% Mg</th>\n",
       "      <th>ppm Zn</th>\n",
       "      <th>ppm Fe</th>\n",
       "      <th>ppm Mn</th>\n",
       "      <th>ppm Cu</th>\n",
       "      <th>ppm B</th>\n",
       "      <th>ppm Mo</th>\n",
       "    </tr>\n",
       "  </thead>\n",
       "  <tbody>\n",
       "    <tr>\n",
       "      <th>0</th>\n",
       "      <td>1203</td>\n",
       "      <td>3.051</td>\n",
       "      <td>0.397</td>\n",
       "      <td>2.11</td>\n",
       "      <td>0.273</td>\n",
       "      <td>0.628</td>\n",
       "      <td>0.252</td>\n",
       "      <td>66</td>\n",
       "      <td>861</td>\n",
       "      <td>107</td>\n",
       "      <td>34.1</td>\n",
       "      <td>18.3</td>\n",
       "      <td>1.54</td>\n",
       "    </tr>\n",
       "    <tr>\n",
       "      <th>1</th>\n",
       "      <td>1255</td>\n",
       "      <td>2.629</td>\n",
       "      <td>0.346</td>\n",
       "      <td>2.20</td>\n",
       "      <td>0.179</td>\n",
       "      <td>0.354</td>\n",
       "      <td>0.203</td>\n",
       "      <td>36</td>\n",
       "      <td>191</td>\n",
       "      <td>37</td>\n",
       "      <td>9.7</td>\n",
       "      <td>12.8</td>\n",
       "      <td>0.52</td>\n",
       "    </tr>\n",
       "    <tr>\n",
       "      <th>2</th>\n",
       "      <td>2329</td>\n",
       "      <td>2.343</td>\n",
       "      <td>0.427</td>\n",
       "      <td>2.82</td>\n",
       "      <td>0.181</td>\n",
       "      <td>0.537</td>\n",
       "      <td>0.184</td>\n",
       "      <td>30</td>\n",
       "      <td>209</td>\n",
       "      <td>30</td>\n",
       "      <td>10.4</td>\n",
       "      <td>14.9</td>\n",
       "      <td>0.88</td>\n",
       "    </tr>\n",
       "    <tr>\n",
       "      <th>3</th>\n",
       "      <td>1540</td>\n",
       "      <td>4.543</td>\n",
       "      <td>0.374</td>\n",
       "      <td>1.97</td>\n",
       "      <td>0.251</td>\n",
       "      <td>0.686</td>\n",
       "      <td>0.217</td>\n",
       "      <td>40</td>\n",
       "      <td>372</td>\n",
       "      <td>95</td>\n",
       "      <td>16.3</td>\n",
       "      <td>13.9</td>\n",
       "      <td>1.44</td>\n",
       "    </tr>\n",
       "    <tr>\n",
       "      <th>4</th>\n",
       "      <td>2100</td>\n",
       "      <td>4.710</td>\n",
       "      <td>0.447</td>\n",
       "      <td>2.18</td>\n",
       "      <td>0.230</td>\n",
       "      <td>0.416</td>\n",
       "      <td>0.223</td>\n",
       "      <td>28</td>\n",
       "      <td>160</td>\n",
       "      <td>29</td>\n",
       "      <td>9.9</td>\n",
       "      <td>11.7</td>\n",
       "      <td>0.49</td>\n",
       "    </tr>\n",
       "    <tr>\n",
       "      <th>...</th>\n",
       "      <td>...</td>\n",
       "      <td>...</td>\n",
       "      <td>...</td>\n",
       "      <td>...</td>\n",
       "      <td>...</td>\n",
       "      <td>...</td>\n",
       "      <td>...</td>\n",
       "      <td>...</td>\n",
       "      <td>...</td>\n",
       "      <td>...</td>\n",
       "      <td>...</td>\n",
       "      <td>...</td>\n",
       "      <td>...</td>\n",
       "    </tr>\n",
       "    <tr>\n",
       "      <th>320</th>\n",
       "      <td>1456</td>\n",
       "      <td>3.506</td>\n",
       "      <td>0.365</td>\n",
       "      <td>1.63</td>\n",
       "      <td>0.265</td>\n",
       "      <td>0.365</td>\n",
       "      <td>0.178</td>\n",
       "      <td>33</td>\n",
       "      <td>277</td>\n",
       "      <td>65</td>\n",
       "      <td>12.4</td>\n",
       "      <td>10.0</td>\n",
       "      <td>0.64</td>\n",
       "    </tr>\n",
       "    <tr>\n",
       "      <th>321</th>\n",
       "      <td>3288</td>\n",
       "      <td>2.449</td>\n",
       "      <td>0.330</td>\n",
       "      <td>1.99</td>\n",
       "      <td>0.232</td>\n",
       "      <td>0.657</td>\n",
       "      <td>0.181</td>\n",
       "      <td>31</td>\n",
       "      <td>162</td>\n",
       "      <td>37</td>\n",
       "      <td>12.5</td>\n",
       "      <td>18.2</td>\n",
       "      <td>1.08</td>\n",
       "    </tr>\n",
       "    <tr>\n",
       "      <th>322</th>\n",
       "      <td>3223</td>\n",
       "      <td>2.124</td>\n",
       "      <td>0.360</td>\n",
       "      <td>1.69</td>\n",
       "      <td>0.178</td>\n",
       "      <td>0.472</td>\n",
       "      <td>0.195</td>\n",
       "      <td>21</td>\n",
       "      <td>153</td>\n",
       "      <td>31</td>\n",
       "      <td>5.6</td>\n",
       "      <td>13.6</td>\n",
       "      <td>0.65</td>\n",
       "    </tr>\n",
       "    <tr>\n",
       "      <th>323</th>\n",
       "      <td>3417</td>\n",
       "      <td>1.966</td>\n",
       "      <td>0.297</td>\n",
       "      <td>1.80</td>\n",
       "      <td>0.162</td>\n",
       "      <td>0.365</td>\n",
       "      <td>0.199</td>\n",
       "      <td>22</td>\n",
       "      <td>129</td>\n",
       "      <td>35</td>\n",
       "      <td>5.6</td>\n",
       "      <td>13.6</td>\n",
       "      <td>3.05</td>\n",
       "    </tr>\n",
       "    <tr>\n",
       "      <th>324</th>\n",
       "      <td>4070</td>\n",
       "      <td>3.117</td>\n",
       "      <td>0.354</td>\n",
       "      <td>1.77</td>\n",
       "      <td>0.265</td>\n",
       "      <td>0.283</td>\n",
       "      <td>0.111</td>\n",
       "      <td>29</td>\n",
       "      <td>189</td>\n",
       "      <td>43</td>\n",
       "      <td>9.2</td>\n",
       "      <td>23.8</td>\n",
       "      <td>1.18</td>\n",
       "    </tr>\n",
       "  </tbody>\n",
       "</table>\n",
       "<p>325 rows × 13 columns</p>\n",
       "</div>"
      ],
      "text/plain": [
       "     PLOT ID    % N    % P   % K    % S   % Ca   % Mg  ppm Zn  ppm Fe  ppm Mn  \\\n",
       "0       1203  3.051  0.397  2.11  0.273  0.628  0.252      66     861     107   \n",
       "1       1255  2.629  0.346  2.20  0.179  0.354  0.203      36     191      37   \n",
       "2       2329  2.343  0.427  2.82  0.181  0.537  0.184      30     209      30   \n",
       "3       1540  4.543  0.374  1.97  0.251  0.686  0.217      40     372      95   \n",
       "4       2100  4.710  0.447  2.18  0.230  0.416  0.223      28     160      29   \n",
       "..       ...    ...    ...   ...    ...    ...    ...     ...     ...     ...   \n",
       "320     1456  3.506  0.365  1.63  0.265  0.365  0.178      33     277      65   \n",
       "321     3288  2.449  0.330  1.99  0.232  0.657  0.181      31     162      37   \n",
       "322     3223  2.124  0.360  1.69  0.178  0.472  0.195      21     153      31   \n",
       "323     3417  1.966  0.297  1.80  0.162  0.365  0.199      22     129      35   \n",
       "324     4070  3.117  0.354  1.77  0.265  0.283  0.111      29     189      43   \n",
       "\n",
       "     ppm Cu  ppm B  ppm Mo  \n",
       "0      34.1   18.3    1.54  \n",
       "1       9.7   12.8    0.52  \n",
       "2      10.4   14.9    0.88  \n",
       "3      16.3   13.9    1.44  \n",
       "4       9.9   11.7    0.49  \n",
       "..      ...    ...     ...  \n",
       "320    12.4   10.0    0.64  \n",
       "321    12.5   18.2    1.08  \n",
       "322     5.6   13.6    0.65  \n",
       "323     5.6   13.6    3.05  \n",
       "324     9.2   23.8    1.18  \n",
       "\n",
       "[325 rows x 13 columns]"
      ]
     },
     "execution_count": 13,
     "metadata": {},
     "output_type": "execute_result"
    }
   ],
   "source": [
    "data"
   ]
  },
  {
   "cell_type": "code",
   "execution_count": null,
   "metadata": {},
   "outputs": [],
   "source": []
  },
  {
   "cell_type": "code",
   "execution_count": 9,
   "metadata": {},
   "outputs": [],
   "source": [
    "merged= pd.merge(data, raw, how='outer')\n",
    "merged.sort_values(by='PLOT ID', inplace=True)\n",
    "merged.reset_index(inplace=True, drop=True)"
   ]
  },
  {
   "cell_type": "code",
   "execution_count": 10,
   "metadata": {},
   "outputs": [
    {
     "data": {
      "text/plain": [
       "2175"
      ]
     },
     "execution_count": 10,
     "metadata": {},
     "output_type": "execute_result"
    }
   ],
   "source": [
    "len(merged.columns)"
   ]
  },
  {
   "cell_type": "code",
   "execution_count": 11,
   "metadata": {},
   "outputs": [
    {
     "data": {
      "text/plain": [
       "Index(['PLOT ID', '% N', '% P', '% K', '% S', '% Ca', '% Mg', 'ppm Zn',\n",
       "       'ppm Fe', 'ppm Mn', 'ppm Cu', 'ppm B', 'ppm Mo', 'rows', 'ranges',\n",
       "       'Block', 'Rep', 'Group', 'Trt', 'year', 'genotype', 'note',\n",
       "       'Calibration', 'ASD', '350', '351', '352', '353', '354', '355', '356',\n",
       "       '357', '358', '359', '360', '361', '362', '363', '364', '365', '366',\n",
       "       '367', '368', '369', '370', '371', '372', '373', '374', '375'],\n",
       "      dtype='object')"
      ]
     },
     "execution_count": 11,
     "metadata": {},
     "output_type": "execute_result"
    }
   ],
   "source": [
    "merged.columns[0:50]"
   ]
  },
  {
   "cell_type": "code",
   "execution_count": 12,
   "metadata": {},
   "outputs": [],
   "source": [
    "a=[0,13,14,15,16,17,18,19,20,21,22,23,1,2,3,4,5,6,7,8,9,10,11,12]\n",
    "b =(np.arange(24,2175).tolist())\n",
    "merged2 =merged.iloc[:, a +b]"
   ]
  },
  {
   "cell_type": "code",
   "execution_count": 13,
   "metadata": {},
   "outputs": [
    {
     "data": {
      "text/plain": [
       "Index(['PLOT ID', 'rows', 'ranges', 'Block', 'Rep', 'Group', 'Trt', 'year',\n",
       "       'genotype', 'note', 'Calibration', 'ASD', '% N', '% P', '% K', '% S',\n",
       "       '% Ca', '% Mg', 'ppm Zn', 'ppm Fe', 'ppm Mn', 'ppm Cu', 'ppm B',\n",
       "       'ppm Mo', '350', '351', '352', '353', '354', '355'],\n",
       "      dtype='object')"
      ]
     },
     "execution_count": 13,
     "metadata": {},
     "output_type": "execute_result"
    }
   ],
   "source": [
    "merged2.columns[0:30]"
   ]
  },
  {
   "cell_type": "code",
   "execution_count": 14,
   "metadata": {},
   "outputs": [],
   "source": [
    "merged.to_csv('Spectrum_with_biochemical_traits.csv', index= False)"
   ]
  },
  {
   "cell_type": "markdown",
   "metadata": {},
   "source": [
    "\n",
    "# removing outliers"
   ]
  },
  {
   "cell_type": "code",
   "execution_count": 1,
   "metadata": {},
   "outputs": [],
   "source": [
    "import pandas as pd\n",
    "import numpy as np"
   ]
  },
  {
   "cell_type": "code",
   "execution_count": 2,
   "metadata": {},
   "outputs": [],
   "source": [
    "data = pd.read_csv('Spectrum_with_biochemical_traits.csv')"
   ]
  },
  {
   "cell_type": "code",
   "execution_count": 3,
   "metadata": {},
   "outputs": [
    {
     "data": {
      "text/plain": [
       "Index(['PLOT ID', '% N', '% P', '% K', '% S', '% Ca', '% Mg', 'ppm Zn',\n",
       "       'ppm Fe', 'ppm Mn', 'ppm Cu', 'ppm B', 'ppm Mo', 'rows', 'ranges',\n",
       "       'Block', 'Rep', 'Group', 'Trt', 'year', 'genotype', 'note',\n",
       "       'Calibration', 'ASD', '350', '351', '352', '353', '354', '355'],\n",
       "      dtype='object')"
      ]
     },
     "execution_count": 3,
     "metadata": {},
     "output_type": "execute_result"
    }
   ],
   "source": [
    "data.columns[0:30]"
   ]
  },
  {
   "cell_type": "code",
   "execution_count": 4,
   "metadata": {},
   "outputs": [
    {
     "data": {
      "text/plain": [
       "0       Inbred\n",
       "1       Inbred\n",
       "2       Inbred\n",
       "3       Inbred\n",
       "4       Inbred\n",
       "         ...  \n",
       "2395    Hybrid\n",
       "2396    Hybrid\n",
       "2397    Hybrid\n",
       "2398    Hybrid\n",
       "2399    Hybrid\n",
       "Name: Group, Length: 2400, dtype: object"
      ]
     },
     "execution_count": 4,
     "metadata": {},
     "output_type": "execute_result"
    }
   ],
   "source": [
    "data['Group']"
   ]
  },
  {
   "cell_type": "markdown",
   "metadata": {},
   "source": [
    "### IQR dan önce gözle seçim için box"
   ]
  },
  {
   "cell_type": "code",
   "execution_count": null,
   "metadata": {},
   "outputs": [],
   "source": []
  },
  {
   "cell_type": "code",
   "execution_count": 19,
   "metadata": {},
   "outputs": [],
   "source": [
    "traits = ['% N','% P', '% K', '% S', '% Ca', '% Mg', 'ppm Zn', 'ppm Fe', 'ppm Mn', 'ppm Cu', 'ppm B', 'ppm Mo']\n",
    "groups = ['Inbred', 'Hybrid']\n",
    "trts = ['HN', 'LN']"
   ]
  },
  {
   "cell_type": "code",
   "execution_count": 20,
   "metadata": {
    "tags": []
   },
   "outputs": [],
   "source": [
    "#data_non_na = data.loc[data[trait].notna(),:]\n",
    "#data_non_na = data_non_na.loc[data_non_na[trait].notna(), :]"
   ]
  },
  {
   "cell_type": "code",
   "execution_count": 21,
   "metadata": {
    "tags": []
   },
   "outputs": [],
   "source": [
    "#defining a function to remove the outliers\n",
    "def outlier_treatment(datacolumn):\n",
    " sorted(datacolumn)\n",
    " Q1=datacolumn.quantile(0.25)\n",
    " Q3=datacolumn.quantile(0.75)\n",
    " #Q1,Q3 = np.percentile(datacolumn , [25,75])\n",
    " IQR = Q3 - Q1\n",
    " lower_range = Q1 - (1.5 * IQR)\n",
    " upper_range = Q3 + (1.5 * IQR)\n",
    " return lower_range,upper_range"
   ]
  },
  {
   "cell_type": "code",
   "execution_count": 22,
   "metadata": {
    "tags": []
   },
   "outputs": [],
   "source": [
    "#Outlier treatment\n",
    "for group in groups:\n",
    "    for trt in trts:\n",
    "        for trait in traits:\n",
    "            data_non_na = data.loc[data[trait].notna(),:]\n",
    "            outlier_treatment(data_non_na.loc[(data_non_na['Group'] == group) & (data_non_na['Trt'] == trt) , trait])\n",
    "            lowerbound,upperbound = outlier_treatment(data_non_na.loc[(data_non_na['Group'] == group) & (data_non_na['Trt'] == trt) , trait])\n",
    "            rm_index =data_non_na.loc[(data_non_na['Group'] == group) & (data_non_na['Trt'] == trt) , trait][(data_non_na.loc[(data_non_na['Group'] == group) & (data_non_na['Trt'] == trt)  , :][trait] < lowerbound) | (data_non_na.loc[(data_non_na['Group'] == group) & (data_non_na['Trt'] == trt) , :][trait] > upperbound)].index.values.tolist()\n",
    "            rm_index\n",
    "            data.loc[rm_index, trait] = np.nan\n"
   ]
  },
  {
   "cell_type": "code",
   "execution_count": 23,
   "metadata": {},
   "outputs": [],
   "source": [
    "data.to_csv('Spectrum_with_biochemical_traits_outlier_removal.csv', index=False)"
   ]
  }
 ],
 "metadata": {
  "kernelspec": {
   "display_name": "Python (mypython)",
   "language": "python",
   "name": "mypythno"
  },
  "language_info": {
   "codemirror_mode": {
    "name": "ipython",
    "version": 3
   },
   "file_extension": ".py",
   "mimetype": "text/x-python",
   "name": "python",
   "nbconvert_exporter": "python",
   "pygments_lexer": "ipython3",
   "version": "3.11.0"
  }
 },
 "nbformat": 4,
 "nbformat_minor": 4
}
