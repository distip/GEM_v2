{
 "cells": [
  {
   "cell_type": "code",
   "execution_count": 158,
   "metadata": {},
   "outputs": [],
   "source": [
    "import pandas as pd\n",
    "import matplotlib.pyplot as plt\n",
    "import seaborn as sns\n",
    "import numpy as np"
   ]
  },
  {
   "cell_type": "code",
   "execution_count": 161,
   "metadata": {},
   "outputs": [],
   "source": [
    "data = pd.read_csv('BGEM_extra_phenotypes.csv')"
   ]
  },
  {
   "cell_type": "code",
   "execution_count": 91,
   "metadata": {},
   "outputs": [
    {
     "data": {
      "text/plain": [
       "Plot                    int64\n",
       "Row                     int64\n",
       "Ran.                    int64\n",
       "Leaf Length 1         float64\n",
       "Leaf Width 1          float64\n",
       "Leaf Length 2         float64\n",
       "Leaf Width 2          float64\n",
       "Ear Height 1          float64\n",
       "Flag Leaf Height 1    float64\n",
       "Plant Height 1        float64\n",
       "Ear Height 2          float64\n",
       "Flag Leaf Height 2    float64\n",
       "Plant Height 2        float64\n",
       "Yang Field Notes       object\n",
       "Inbred or Hybrid?      object\n",
       "Data missing?          object\n",
       "dtype: object"
      ]
     },
     "execution_count": 91,
     "metadata": {},
     "output_type": "execute_result"
    }
   ],
   "source": [
    "data.dtypes"
   ]
  },
  {
   "cell_type": "code",
   "execution_count": 137,
   "metadata": {},
   "outputs": [
    {
     "data": {
      "text/plain": [
       "Index(['Plot', 'Row', 'Ran.', 'Leaf Length 1', 'Leaf Width 1', 'Leaf Length 2',\n",
       "       'Leaf Width 2', 'Ear Height 1', 'Flag Leaf Height 1', 'Plant Height 1',\n",
       "       'Ear Height 2', 'Flag Leaf Height 2', 'Plant Height 2',\n",
       "       'Yang Field Notes', 'Inbred or Hybrid?', 'Data missing?'],\n",
       "      dtype='object')"
      ]
     },
     "execution_count": 137,
     "metadata": {},
     "output_type": "execute_result"
    }
   ],
   "source": [
    "data.columns"
   ]
  },
  {
   "cell_type": "code",
   "execution_count": 126,
   "metadata": {},
   "outputs": [
    {
     "data": {
      "text/plain": [
       "<AxesSubplot:>"
      ]
     },
     "execution_count": 126,
     "metadata": {},
     "output_type": "execute_result"
    },
    {
     "data": {
      "image/png": "[encoded data removed]",
      "text/plain": [
       "<Figure size 432x288 with 1 Axes>"
      ]
     },
     "metadata": {},
     "output_type": "display_data"
    }
   ],
   "source": [
    "data.iloc[:, [9,12]].plot(kind='box')\n"
   ]
  },
  {
   "cell_type": "code",
   "execution_count": 82,
   "metadata": {},
   "outputs": [],
   "source": [
    "#defining a function to remove the outliers\n",
    "def outlier_treatment(datacolumn):\n",
    " sorted(datacolumn)\n",
    " Q1=datacolumn.quantile(0.25)\n",
    " Q3=datacolumn.quantile(0.75)\n",
    " #Q1,Q3 = np.percentile(datacolumn , [25,75])\n",
    " IQR = Q3 - Q1\n",
    " lower_range = Q1 - (2.0 * IQR)\n",
    " upper_range = Q3 + (2.0 * IQR)\n",
    " return lower_range,upper_range"
   ]
  },
  {
   "cell_type": "code",
   "execution_count": 124,
   "metadata": {},
   "outputs": [],
   "source": [
    "trait = 'Plant Height 2'"
   ]
  },
  {
   "cell_type": "code",
   "execution_count": 125,
   "metadata": {},
   "outputs": [],
   "source": [
    "#Outlier treatment\n",
    "outlier_treatment(data[trait])\n",
    "lowerbound,upperbound = outlier_treatment(data[trait])\n",
    "rm_index =data[(data[trait] < lowerbound) | (data[trait] > upperbound)].index\n",
    "rm_index.size\n",
    "data.at[rm_index, trait] = np.nan"
   ]
  },
  {
   "cell_type": "code",
   "execution_count": 138,
   "metadata": {},
   "outputs": [],
   "source": [
    "data.rename(columns={'Plot' : 'PLOT ID'}, inplace= True)"
   ]
  },
  {
   "cell_type": "code",
   "execution_count": 128,
   "metadata": {},
   "outputs": [],
   "source": [
    "genolabs = pd.read_csv('Raw_spectrum_merged')"
   ]
  },
  {
   "cell_type": "code",
   "execution_count": 134,
   "metadata": {},
   "outputs": [
    {
     "data": {
      "text/plain": [
       "Index(['PLOT ID', 'rows', 'ranges', 'Block', 'Rep', 'Group', 'Trt', 'year',\n",
       "       'genotype', 'note', 'Calibration', 'ASD'],\n",
       "      dtype='object')"
      ]
     },
     "execution_count": 134,
     "metadata": {},
     "output_type": "execute_result"
    }
   ],
   "source": [
    "genolabs.columns[4:16]"
   ]
  },
  {
   "cell_type": "code",
   "execution_count": 135,
   "metadata": {},
   "outputs": [],
   "source": [
    "genolabs = genolabs.loc[:, ['PLOT ID', 'rows', 'ranges', 'Block', 'Rep', 'Group', 'Trt', 'year',\n",
    "       'genotype', 'note', 'Calibration', 'ASD']]"
   ]
  },
  {
   "cell_type": "code",
   "execution_count": 139,
   "metadata": {},
   "outputs": [],
   "source": [
    "merged1 = pd.merge(genolabs, data , how= 'right')"
   ]
  },
  {
   "cell_type": "code",
   "execution_count": 140,
   "metadata": {},
   "outputs": [],
   "source": [
    "leaf_length = merged1[['Leaf Length 1', 'Leaf Length 2']].mean(axis=1)"
   ]
  },
  {
   "cell_type": "code",
   "execution_count": 141,
   "metadata": {},
   "outputs": [],
   "source": [
    "leaf_width = merged1[['Leaf Width 1', 'Leaf Width 2']].mean(axis=1)"
   ]
  },
  {
   "cell_type": "code",
   "execution_count": 142,
   "metadata": {},
   "outputs": [],
   "source": [
    "ear_height = merged1[['Ear Height 1', 'Ear Height 2']].mean(axis=1)"
   ]
  },
  {
   "cell_type": "code",
   "execution_count": 143,
   "metadata": {},
   "outputs": [],
   "source": [
    "flag_leaf = merged1[['Flag Leaf Height 1', 'Flag Leaf Height 2']].mean(axis=1)"
   ]
  },
  {
   "cell_type": "code",
   "execution_count": 144,
   "metadata": {},
   "outputs": [],
   "source": [
    "plant_height = merged1[['Plant Height 1', 'Plant Height 2']].mean(axis=1)"
   ]
  },
  {
   "cell_type": "code",
   "execution_count": 145,
   "metadata": {},
   "outputs": [],
   "source": [
    "merged1.insert(12 , 'plant_height', plant_height)"
   ]
  },
  {
   "cell_type": "code",
   "execution_count": 146,
   "metadata": {},
   "outputs": [],
   "source": [
    "merged1.insert(12 , 'flag_leaf', flag_leaf)"
   ]
  },
  {
   "cell_type": "code",
   "execution_count": 147,
   "metadata": {},
   "outputs": [],
   "source": [
    "merged1.insert(12 , 'ear_height', ear_height)"
   ]
  },
  {
   "cell_type": "code",
   "execution_count": 148,
   "metadata": {},
   "outputs": [],
   "source": [
    "merged1.insert(12 , 'leaf_width', leaf_width)"
   ]
  },
  {
   "cell_type": "code",
   "execution_count": 149,
   "metadata": {},
   "outputs": [],
   "source": [
    "merged1.insert(12 , 'leaf_length', leaf_length)"
   ]
  },
  {
   "cell_type": "code",
   "execution_count": 156,
   "metadata": {},
   "outputs": [],
   "source": [
    "merged1.to_csv('BGEM_extra_phenotypes.csv')"
   ]
  },
  {
   "cell_type": "code",
   "execution_count": 155,
   "metadata": {},
   "outputs": [
    {
     "data": {
      "text/plain": [
       "<AxesSubplot:>"
      ]
     },
     "execution_count": 155,
     "metadata": {},
     "output_type": "execute_result"
    },
    {
     "data": {
      "image/png": "[encoded data removed]",
      "text/plain": [
       "<Figure size 432x288 with 1 Axes>"
      ]
     },
     "metadata": {},
     "output_type": "display_data"
    }
   ],
   "source": [
    "merged1.loc[:, 'leaf_length'].plot(kind='box')"
   ]
  },
  {
   "cell_type": "code",
   "execution_count": 164,
   "metadata": {},
   "outputs": [],
   "source": [
    "data.loc[data['Block'] == 4 , ['leaf_length',\n",
    "       'leaf_width', 'ear_height', 'flag_leaf', 'plant_height']] = np.nan"
   ]
  },
  {
   "cell_type": "code",
   "execution_count": 163,
   "metadata": {},
   "outputs": [
    {
     "data": {
      "text/plain": [
       "Index(['Unnamed: 0', 'PLOT ID', 'rows', 'ranges', 'Block', 'Rep', 'Group',\n",
       "       'Trt', 'year', 'genotype', 'note', 'Calibration', 'ASD', 'leaf_length',\n",
       "       'leaf_width', 'ear_height', 'flag_leaf', 'plant_height', 'Row', 'Ran.',\n",
       "       'Leaf Length 1', 'Leaf Width 1', 'Leaf Length 2', 'Leaf Width 2',\n",
       "       'Ear Height 1', 'Flag Leaf Height 1', 'Plant Height 1', 'Ear Height 2',\n",
       "       'Flag Leaf Height 2', 'Plant Height 2', 'Yang Field Notes',\n",
       "       'Inbred or Hybrid?', 'Data missing?'],\n",
       "      dtype='object')"
      ]
     },
     "execution_count": 163,
     "metadata": {},
     "output_type": "execute_result"
    }
   ],
   "source": [
    "data.columns"
   ]
  },
  {
   "cell_type": "code",
   "execution_count": 168,
   "metadata": {},
   "outputs": [
    {
     "data": {
      "text/html": [
       "<div>\n",
       "<style scoped>\n",
       "    .dataframe tbody tr th:only-of-type {\n",
       "        vertical-align: middle;\n",
       "    }\n",
       "\n",
       "    .dataframe tbody tr th {\n",
       "        vertical-align: top;\n",
       "    }\n",
       "\n",
       "    .dataframe thead th {\n",
       "        text-align: right;\n",
       "    }\n",
       "</style>\n",
       "<table border=\"1\" class=\"dataframe\">\n",
       "  <thead>\n",
       "    <tr style=\"text-align: right;\">\n",
       "      <th></th>\n",
       "      <th>leaf_length</th>\n",
       "      <th>leaf_width</th>\n",
       "      <th>ear_height</th>\n",
       "      <th>flag_leaf</th>\n",
       "    </tr>\n",
       "  </thead>\n",
       "  <tbody>\n",
       "    <tr>\n",
       "      <th>1350</th>\n",
       "      <td>NaN</td>\n",
       "      <td>NaN</td>\n",
       "      <td>NaN</td>\n",
       "      <td>NaN</td>\n",
       "    </tr>\n",
       "    <tr>\n",
       "      <th>1351</th>\n",
       "      <td>NaN</td>\n",
       "      <td>NaN</td>\n",
       "      <td>NaN</td>\n",
       "      <td>NaN</td>\n",
       "    </tr>\n",
       "    <tr>\n",
       "      <th>1352</th>\n",
       "      <td>NaN</td>\n",
       "      <td>NaN</td>\n",
       "      <td>NaN</td>\n",
       "      <td>NaN</td>\n",
       "    </tr>\n",
       "    <tr>\n",
       "      <th>1353</th>\n",
       "      <td>NaN</td>\n",
       "      <td>NaN</td>\n",
       "      <td>NaN</td>\n",
       "      <td>NaN</td>\n",
       "    </tr>\n",
       "    <tr>\n",
       "      <th>1354</th>\n",
       "      <td>NaN</td>\n",
       "      <td>NaN</td>\n",
       "      <td>NaN</td>\n",
       "      <td>NaN</td>\n",
       "    </tr>\n",
       "    <tr>\n",
       "      <th>1355</th>\n",
       "      <td>NaN</td>\n",
       "      <td>NaN</td>\n",
       "      <td>NaN</td>\n",
       "      <td>NaN</td>\n",
       "    </tr>\n",
       "    <tr>\n",
       "      <th>1356</th>\n",
       "      <td>NaN</td>\n",
       "      <td>NaN</td>\n",
       "      <td>NaN</td>\n",
       "      <td>NaN</td>\n",
       "    </tr>\n",
       "    <tr>\n",
       "      <th>1357</th>\n",
       "      <td>NaN</td>\n",
       "      <td>NaN</td>\n",
       "      <td>NaN</td>\n",
       "      <td>NaN</td>\n",
       "    </tr>\n",
       "    <tr>\n",
       "      <th>1358</th>\n",
       "      <td>NaN</td>\n",
       "      <td>NaN</td>\n",
       "      <td>NaN</td>\n",
       "      <td>NaN</td>\n",
       "    </tr>\n",
       "    <tr>\n",
       "      <th>1359</th>\n",
       "      <td>NaN</td>\n",
       "      <td>NaN</td>\n",
       "      <td>NaN</td>\n",
       "      <td>NaN</td>\n",
       "    </tr>\n",
       "  </tbody>\n",
       "</table>\n",
       "</div>"
      ],
      "text/plain": [
       "      leaf_length  leaf_width  ear_height  flag_leaf\n",
       "1350          NaN         NaN         NaN        NaN\n",
       "1351          NaN         NaN         NaN        NaN\n",
       "1352          NaN         NaN         NaN        NaN\n",
       "1353          NaN         NaN         NaN        NaN\n",
       "1354          NaN         NaN         NaN        NaN\n",
       "1355          NaN         NaN         NaN        NaN\n",
       "1356          NaN         NaN         NaN        NaN\n",
       "1357          NaN         NaN         NaN        NaN\n",
       "1358          NaN         NaN         NaN        NaN\n",
       "1359          NaN         NaN         NaN        NaN"
      ]
     },
     "execution_count": 168,
     "metadata": {},
     "output_type": "execute_result"
    }
   ],
   "source": [
    "data."
   ]
  },
  {
   "cell_type": "markdown",
   "metadata": {},
   "source": [
    "#  # insert GWAS ids for BLUPs"
   ]
  },
  {
   "cell_type": "code",
   "execution_count": 201,
   "metadata": {},
   "outputs": [],
   "source": [
    "import pandas as pd\n",
    "ids = pd.read_csv('BGEM_WGS_Labels.csv')\n",
    "ids = ids.loc[: , ['UID', 'Genotype']]\n",
    "ids.rename(columns={'Genotype' : 'genotype'}, inplace=True)"
   ]
  },
  {
   "cell_type": "code",
   "execution_count": 202,
   "metadata": {},
   "outputs": [],
   "source": [
    "pheno_blups = pd.read_csv('extra_pheno_blups.csv')"
   ]
  },
  {
   "cell_type": "code",
   "execution_count": 203,
   "metadata": {},
   "outputs": [],
   "source": [
    "pheno_blups = pheno_blups.loc[pheno_blups['Rep'] == 1 , :]"
   ]
  },
  {
   "cell_type": "code",
   "execution_count": 204,
   "metadata": {},
   "outputs": [],
   "source": [
    "GWAS_labels = pd.read_csv('WGS_labels_only.csv')\n",
    "GWAS_labels.rename(columns={'UID                     ': 'UID'}, inplace=True)\n",
    "GWAS_labels['UID'] = GWAS_labels['UID'].str.replace(' ' , '')"
   ]
  },
  {
   "cell_type": "code",
   "execution_count": 205,
   "metadata": {},
   "outputs": [],
   "source": [
    "pheno_HN = pheno_blups.loc[pheno_blups['Trt'] == 'HN' , :]\n",
    "pheno_LN = pheno_blups.loc[pheno_blups['Trt'] ==  'LN', :]"
   ]
  },
  {
   "cell_type": "code",
   "execution_count": 206,
   "metadata": {},
   "outputs": [],
   "source": [
    "merged_HN = pd.merge(ids, pheno_HN, how = 'left')\n",
    "merged_LN = pd.merge(ids, pheno_LN, how = 'left')"
   ]
  },
  {
   "cell_type": "code",
   "execution_count": 207,
   "metadata": {},
   "outputs": [],
   "source": [
    "pheno_HN2= pd.merge(GWAS_labels, merged_HN, how='left')\n",
    "pheno_LN2= pd.merge(GWAS_labels, merged_LN, how='left')"
   ]
  },
  {
   "cell_type": "code",
   "execution_count": 208,
   "metadata": {},
   "outputs": [],
   "source": [
    "merged_last = pd.concat([pheno_HN2, pheno_LN2], axis= 0)"
   ]
  },
  {
   "cell_type": "code",
   "execution_count": 209,
   "metadata": {},
   "outputs": [],
   "source": [
    "merged_last.to_csv('pheno_extra_blups_for_GWAS.csv', index= False)"
   ]
  },
  {
   "cell_type": "code",
   "execution_count": 210,
   "metadata": {},
   "outputs": [],
   "source": [
    "pheno_blups_LN = merged_last.loc[merged_last['Trt'] == 'LN', ['UID', 'leaf_length', 'leaf_width', 'ear_height', \n",
    "                                                              'flag_leaf', 'plant_height']]\n",
    "pheno_blups_HN = merged_last.loc[merged_last['Trt'] == 'HN', ['UID', 'leaf_length', 'leaf_width', 'ear_height', \n",
    "                                                              'flag_leaf', 'plant_height']]"
   ]
  },
  {
   "cell_type": "code",
   "execution_count": 211,
   "metadata": {},
   "outputs": [],
   "source": [
    "pheno_blups_LN.to_csv('pheno_extra_blups_LN.csv', index=False)\n",
    "pheno_blups_HN.to_csv('pheno_extra_blups_HN.csv', index=False)"
   ]
  },
  {
   "cell_type": "code",
   "execution_count": null,
   "metadata": {},
   "outputs": [],
   "source": [
    "def uncommon_items(list1, list2):\n",
    "    set1 = set(list1)\n",
    "    set2 = set(list2)\n",
    "    if(set1 ^ set2):\n",
    "        print('Uncommon elements: ' + str(set1 ^ set2))\n",
    "    else:\n",
    "        print('No Uncommon elements')\n",
    "\n",
    "uncommon_items(list1, list2)"
   ]
  },
  {
   "cell_type": "code",
   "execution_count": null,
   "metadata": {},
   "outputs": [],
   "source": [
    "    set1 = set(list1)\n",
    "    set2 = set(list2)\n",
    "(set1 ^ set2)"
   ]
  },
  {
   "cell_type": "markdown",
   "metadata": {},
   "source": [
    "# Insert GWAS Ids for extra Pheno Blues"
   ]
  },
  {
   "cell_type": "code",
   "execution_count": 212,
   "metadata": {},
   "outputs": [],
   "source": [
    "import pandas as pd\n",
    "ids = pd.read_csv('BGEM_WGS_Labels.csv')\n",
    "ids = ids.loc[: , ['UID', 'Genotype']]\n",
    "ids.rename(columns={'Genotype' : 'genotype'}, inplace=True)"
   ]
  },
  {
   "cell_type": "code",
   "execution_count": 213,
   "metadata": {},
   "outputs": [],
   "source": [
    "pheno_blues = pd.read_csv('extra_pheno_blues.csv')"
   ]
  },
  {
   "cell_type": "code",
   "execution_count": 214,
   "metadata": {},
   "outputs": [],
   "source": [
    "GWAS_labels = pd.read_csv('WGS_labels_only.csv')\n",
    "GWAS_labels.rename(columns={'UID                     ': 'UID'}, inplace=True)\n",
    "GWAS_labels['UID'] = GWAS_labels['UID'].str.replace(' ' , '')"
   ]
  },
  {
   "cell_type": "code",
   "execution_count": 215,
   "metadata": {},
   "outputs": [],
   "source": [
    "pheno_HN = pheno_blues.loc[pheno_blues['Trt'] == 'HN' , :]\n",
    "pheno_LN = pheno_blues.loc[pheno_blues['Trt'] ==  'LN', :]"
   ]
  },
  {
   "cell_type": "code",
   "execution_count": 216,
   "metadata": {},
   "outputs": [],
   "source": [
    "merged_HN = pd.merge(ids, pheno_HN, how = 'left')\n",
    "merged_LN = pd.merge(ids, pheno_LN, how = 'left')"
   ]
  },
  {
   "cell_type": "code",
   "execution_count": 217,
   "metadata": {},
   "outputs": [],
   "source": [
    "pheno_HN2= pd.merge(GWAS_labels, merged_HN, how='left')\n",
    "pheno_LN2= pd.merge(GWAS_labels, merged_LN, how='left')"
   ]
  },
  {
   "cell_type": "code",
   "execution_count": 218,
   "metadata": {},
   "outputs": [],
   "source": [
    "merged_last = pd.concat([pheno_HN2, pheno_LN2], axis= 0)"
   ]
  },
  {
   "cell_type": "code",
   "execution_count": 219,
   "metadata": {},
   "outputs": [],
   "source": [
    "merged_last.to_csv('pheno_extra_blues_for_GWAS.csv', index= False)"
   ]
  },
  {
   "cell_type": "code",
   "execution_count": 220,
   "metadata": {},
   "outputs": [],
   "source": [
    "pheno_blues_LN = merged_last.loc[merged_last['Trt'] == 'LN', ['UID', 'leaf_length', 'leaf_width', 'ear_height', \n",
    "                                                              'flag_leaf', 'plant_height']]\n",
    "pheno_blues_HN = merged_last.loc[merged_last['Trt'] == 'HN', ['UID', 'leaf_length', 'leaf_width', 'ear_height', \n",
    "                                                              'flag_leaf', 'plant_height']]"
   ]
  },
  {
   "cell_type": "code",
   "execution_count": 221,
   "metadata": {},
   "outputs": [],
   "source": [
    "pheno_blues_LN.to_csv('pheno_extra_blues_LN.csv', index=False)\n",
    "pheno_blues_HN.to_csv('pheno_extra_blues_HN.csv', index=False)"
   ]
  }
 ],
 "metadata": {
  "kernelspec": {
   "display_name": "Python 3",
   "language": "python",
   "name": "python3"
  },
  "language_info": {
   "codemirror_mode": {
    "name": "ipython",
    "version": 3
   },
   "file_extension": ".py",
   "mimetype": "text/x-python",
   "name": "python",
   "nbconvert_exporter": "python",
   "pygments_lexer": "ipython3",
   "version": "3.6.9"
  }
 },
 "nbformat": 4,
 "nbformat_minor": 5
}
