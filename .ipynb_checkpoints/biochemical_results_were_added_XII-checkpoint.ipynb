{
 "cells": [
  {
   "cell_type": "code",
   "execution_count": 1,
   "metadata": {},
   "outputs": [],
   "source": [
    "import pandas as pd\n",
    "import numpy as np"
   ]
  },
  {
   "cell_type": "code",
   "execution_count": 2,
   "metadata": {},
   "outputs": [],
   "source": [
    "data = pd.read_csv('Biochemical_results_BGEM.csv')"
   ]
  },
  {
   "cell_type": "code",
   "execution_count": 3,
   "metadata": {},
   "outputs": [],
   "source": [
    "raw = pd.read_csv('Raw_spectrum_merged.csv')"
   ]
  },
  {
   "cell_type": "code",
   "execution_count": 4,
   "metadata": {},
   "outputs": [],
   "source": [
    "data = data.loc[:, ['Sample ID', '% N', '% P', '% K', '% S', '% Ca', '% Mg', 'ppm Zn', 'ppm Fe', 'ppm Mn',\n",
    "       'ppm Cu', 'ppm B', 'ppm Mo' ]]"
   ]
  },
  {
   "cell_type": "code",
   "execution_count": 5,
   "metadata": {},
   "outputs": [],
   "source": [
    "new_ID = []\n",
    "\n",
    "for i in data['Sample ID']:\n",
    "    str(i)\n",
    "    ID = i[0:4]\n",
    "    new_ID.append(ID)"
   ]
  },
  {
   "cell_type": "code",
   "execution_count": 6,
   "metadata": {},
   "outputs": [],
   "source": [
    "data['Sample ID'] = new_ID"
   ]
  },
  {
   "cell_type": "code",
   "execution_count": 7,
   "metadata": {},
   "outputs": [],
   "source": [
    "data.rename(columns={'Sample ID' : 'PLOT ID'}, inplace= True)"
   ]
  },
  {
   "cell_type": "code",
   "execution_count": 8,
   "metadata": {},
   "outputs": [],
   "source": [
    "data['PLOT ID'] =data['PLOT ID'].astype('int')"
   ]
  },
  {
   "cell_type": "code",
   "execution_count": 9,
   "metadata": {},
   "outputs": [],
   "source": [
    "merged= pd.merge(data, raw, how='outer')\n",
    "merged.sort_values(by='PLOT ID', inplace=True)\n",
    "merged.reset_index(inplace=True, drop=True)"
   ]
  },
  {
   "cell_type": "code",
   "execution_count": 10,
   "metadata": {},
   "outputs": [
    {
     "data": {
      "text/plain": [
       "2175"
      ]
     },
     "execution_count": 10,
     "metadata": {},
     "output_type": "execute_result"
    }
   ],
   "source": [
    "len(merged.columns)"
   ]
  },
  {
   "cell_type": "code",
   "execution_count": 11,
   "metadata": {},
   "outputs": [
    {
     "data": {
      "text/plain": [
       "Index(['PLOT ID', '% N', '% P', '% K', '% S', '% Ca', '% Mg', 'ppm Zn',\n",
       "       'ppm Fe', 'ppm Mn', 'ppm Cu', 'ppm B', 'ppm Mo', 'rows', 'ranges',\n",
       "       'Block', 'Rep', 'Group', 'Trt', 'year', 'genotype', 'note',\n",
       "       'Calibration', 'ASD', '350', '351', '352', '353', '354', '355', '356',\n",
       "       '357', '358', '359', '360', '361', '362', '363', '364', '365', '366',\n",
       "       '367', '368', '369', '370', '371', '372', '373', '374', '375'],\n",
       "      dtype='object')"
      ]
     },
     "execution_count": 11,
     "metadata": {},
     "output_type": "execute_result"
    }
   ],
   "source": [
    "merged.columns[0:50]"
   ]
  },
  {
   "cell_type": "code",
   "execution_count": 12,
   "metadata": {},
   "outputs": [],
   "source": [
    "a=[0,13,14,15,16,17,18,19,20,21,22,23,1,2,3,4,5,6,7,8,9,10,11,12]\n",
    "b =(np.arange(24,2175).tolist())\n",
    "merged2 =merged.iloc[:, a +b]"
   ]
  },
  {
   "cell_type": "code",
   "execution_count": 13,
   "metadata": {},
   "outputs": [
    {
     "data": {
      "text/plain": [
       "Index(['PLOT ID', 'rows', 'ranges', 'Block', 'Rep', 'Group', 'Trt', 'year',\n",
       "       'genotype', 'note', 'Calibration', 'ASD', '% N', '% P', '% K', '% S',\n",
       "       '% Ca', '% Mg', 'ppm Zn', 'ppm Fe', 'ppm Mn', 'ppm Cu', 'ppm B',\n",
       "       'ppm Mo', '350', '351', '352', '353', '354', '355'],\n",
       "      dtype='object')"
      ]
     },
     "execution_count": 13,
     "metadata": {},
     "output_type": "execute_result"
    }
   ],
   "source": [
    "merged2.columns[0:30]"
   ]
  },
  {
   "cell_type": "code",
   "execution_count": 14,
   "metadata": {},
   "outputs": [],
   "source": [
    "merged.to_csv('Spectrum_with_biochemical_traits.csv', index= False)"
   ]
  },
  {
   "cell_type": "markdown",
   "metadata": {},
   "source": [
    "\n",
    "# removing outliers"
   ]
  },
  {
   "cell_type": "code",
   "execution_count": 15,
   "metadata": {},
   "outputs": [],
   "source": [
    "import pandas as pd\n",
    "import numpy as np"
   ]
  },
  {
   "cell_type": "code",
   "execution_count": 16,
   "metadata": {},
   "outputs": [],
   "source": [
    "data = pd.read_csv('Spectrum_with_biochemical_traits.csv')"
   ]
  },
  {
   "cell_type": "code",
   "execution_count": 17,
   "metadata": {},
   "outputs": [
    {
     "data": {
      "text/plain": [
       "Index(['PLOT ID', '% N', '% P', '% K', '% S', '% Ca', '% Mg', 'ppm Zn',\n",
       "       'ppm Fe', 'ppm Mn', 'ppm Cu', 'ppm B', 'ppm Mo', 'rows', 'ranges',\n",
       "       'Block', 'Rep', 'Group', 'Trt', 'year', 'genotype', 'note',\n",
       "       'Calibration', 'ASD', '350', '351', '352', '353', '354', '355'],\n",
       "      dtype='object')"
      ]
     },
     "execution_count": 17,
     "metadata": {},
     "output_type": "execute_result"
    }
   ],
   "source": [
    "data.columns[0:30]"
   ]
  },
  {
   "cell_type": "code",
   "execution_count": 18,
   "metadata": {},
   "outputs": [
    {
     "data": {
      "text/plain": [
       "0       Inbred\n",
       "1       Inbred\n",
       "2       Inbred\n",
       "3       Inbred\n",
       "4       Inbred\n",
       "         ...  \n",
       "2395    Hybrid\n",
       "2396    Hybrid\n",
       "2397    Hybrid\n",
       "2398    Hybrid\n",
       "2399    Hybrid\n",
       "Name: Group, Length: 2400, dtype: object"
      ]
     },
     "execution_count": 18,
     "metadata": {},
     "output_type": "execute_result"
    }
   ],
   "source": [
    "data['Group']"
   ]
  },
  {
   "cell_type": "code",
   "execution_count": 19,
   "metadata": {},
   "outputs": [],
   "source": [
    "traits = ['% N','% P', '% K', '% S', '% Ca', '% Mg', 'ppm Zn', 'ppm Fe', 'ppm Mn', 'ppm Cu', 'ppm B', 'ppm Mo']\n",
    "groups = ['Inbred', 'Hybrid']\n",
    "trts = ['HN', 'LN']"
   ]
  },
  {
   "cell_type": "code",
   "execution_count": 20,
   "metadata": {
    "tags": []
   },
   "outputs": [],
   "source": [
    "#data_non_na = data.loc[data[trait].notna(),:]\n",
    "#data_non_na = data_non_na.loc[data_non_na[trait].notna(), :]"
   ]
  },
  {
   "cell_type": "code",
   "execution_count": 21,
   "metadata": {
    "tags": []
   },
   "outputs": [],
   "source": [
    "#defining a function to remove the outliers\n",
    "def outlier_treatment(datacolumn):\n",
    " sorted(datacolumn)\n",
    " Q1=datacolumn.quantile(0.25)\n",
    " Q3=datacolumn.quantile(0.75)\n",
    " #Q1,Q3 = np.percentile(datacolumn , [25,75])\n",
    " IQR = Q3 - Q1\n",
    " lower_range = Q1 - (1.5 * IQR)\n",
    " upper_range = Q3 + (1.5 * IQR)\n",
    " return lower_range,upper_range"
   ]
  },
  {
   "cell_type": "code",
   "execution_count": 22,
   "metadata": {
    "tags": []
   },
   "outputs": [],
   "source": [
    "#Outlier treatment\n",
    "for group in groups:\n",
    "    for trt in trts:\n",
    "        for trait in traits:\n",
    "            data_non_na = data.loc[data[trait].notna(),:]\n",
    "            outlier_treatment(data_non_na.loc[(data_non_na['Group'] == group) & (data_non_na['Trt'] == trt) , trait])\n",
    "            lowerbound,upperbound = outlier_treatment(data_non_na.loc[(data_non_na['Group'] == group) & (data_non_na['Trt'] == trt) , trait])\n",
    "            rm_index =data_non_na.loc[(data_non_na['Group'] == group) & (data_non_na['Trt'] == trt) , trait][(data_non_na.loc[(data_non_na['Group'] == group) & (data_non_na['Trt'] == trt)  , :][trait] < lowerbound) | (data_non_na.loc[(data_non_na['Group'] == group) & (data_non_na['Trt'] == trt) , :][trait] > upperbound)].index.values.tolist()\n",
    "            rm_index\n",
    "            data.loc[rm_index, trait] = np.nan\n"
   ]
  },
  {
   "cell_type": "code",
   "execution_count": 23,
   "metadata": {},
   "outputs": [],
   "source": [
    "data.to_csv('Spectrum_with_biochemical_traits_outlier_removal.csv', index=False)"
   ]
  }
 ],
 "metadata": {
  "kernelspec": {
   "display_name": "Python (mypython)",
   "language": "python",
   "name": "mypythno"
  },
  "language_info": {
   "codemirror_mode": {
    "name": "ipython",
    "version": 3
   },
   "file_extension": ".py",
   "mimetype": "text/x-python",
   "name": "python",
   "nbconvert_exporter": "python",
   "pygments_lexer": "ipython3",
   "version": "3.11.0"
  }
 },
 "nbformat": 4,
 "nbformat_minor": 4
}
