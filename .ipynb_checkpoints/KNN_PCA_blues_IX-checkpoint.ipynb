{
 "cells": [
  {
   "cell_type": "code",
   "execution_count": 145,
   "metadata": {},
   "outputs": [],
   "source": [
    "import pandas as pd\n",
    "import numpy as np\n",
    "import matplotlib.pyplot as plt\n",
    "import seaborn as sns\n",
    "from sklearn.preprocessing import scale \n",
    "from sklearn.preprocessing import StandardScaler\n",
    "from sklearn import model_selection\n",
    "from sklearn.model_selection import RepeatedKFold\n",
    "from sklearn.model_selection import train_test_split\n",
    "from sklearn.cross_decomposition import PLSRegression\n",
    "from sklearn.metrics import mean_squared_error\n",
    "from sklearn.metrics import r2_score\n",
    "from scipy.signal import savgol_filter\n",
    "from sklearn.decomposition import PCA\n",
    "from sklearn.discriminant_analysis import LinearDiscriminantAnalysis\n",
    "from sklearn.neighbors import KNeighborsClassifier, NeighborhoodComponentsAnalysis\n",
    "from sklearn.pipeline import make_pipeline\n",
    "from sklearn.metrics import classification_report\n",
    "from sklearn.metrics import confusion_matrix\n",
    "from sklearn.metrics import accuracy_score\n",
    "from sklearn.neighbors import KNeighborsClassifier\n",
    "from sklearn import svm\n",
    "from sklearn.linear_model import LogisticRegression\n",
    "from sklearn.decomposition import TruncatedSVD\n",
    "from sklearn.pipeline import Pipeline\n",
    "from sklearn.model_selection import RepeatedStratifiedKFold\n",
    "from numpy import std\n",
    "from sklearn.datasets import make_classification\n",
    "from sklearn.model_selection import cross_val_score\n",
    "from sklearn.model_selection import RepeatedStratifiedKFold\n",
    "from sklearn.pipeline import Pipeline\n",
    "from sklearn.decomposition import PCA\n",
    "from sklearn.linear_model import LogisticRegression\n",
    "from numpy import mean\n",
    "from sklearn.discriminant_analysis import LinearDiscriminantAnalysis\n",
    "from sklearn.ensemble import RandomForestClassifier\n",
    "from sklearn.inspection import permutation_importance"
   ]
  },
  {
   "cell_type": "code",
   "execution_count": 219,
   "metadata": {},
   "outputs": [],
   "source": [
    "data = pd.read_csv('spectra_blues.csv')\n",
    "data= data.loc[data['Rep'] == 1, :]\n",
    "data.reset_index(inplace= True)\n",
    "#data= data.loc[data['note'] != 'Hybrid', :]\n",
    "#data = data.loc[-data['genotype'].isin(['B73', 'Mo17']), :]\n",
    "#data  = data.loc[data['Trt']== 'LN', :]\n"
   ]
  },
  {
   "cell_type": "code",
   "execution_count": 220,
   "metadata": {},
   "outputs": [
    {
     "data": {
      "text/html": [
       "<div>\n",
       "<style scoped>\n",
       "    .dataframe tbody tr th:only-of-type {\n",
       "        vertical-align: middle;\n",
       "    }\n",
       "\n",
       "    .dataframe tbody tr th {\n",
       "        vertical-align: top;\n",
       "    }\n",
       "\n",
       "    .dataframe thead th {\n",
       "        text-align: right;\n",
       "    }\n",
       "</style>\n",
       "<table border=\"1\" class=\"dataframe\">\n",
       "  <thead>\n",
       "    <tr style=\"text-align: right;\">\n",
       "      <th></th>\n",
       "      <th>index</th>\n",
       "      <th>genotype</th>\n",
       "      <th>PLOT.ID</th>\n",
       "      <th>rows</th>\n",
       "      <th>ranges</th>\n",
       "      <th>Block</th>\n",
       "      <th>Rep</th>\n",
       "      <th>Trt</th>\n",
       "      <th>year</th>\n",
       "      <th>note</th>\n",
       "      <th>...</th>\n",
       "      <th>X2491</th>\n",
       "      <th>X2492</th>\n",
       "      <th>X2493</th>\n",
       "      <th>X2494</th>\n",
       "      <th>X2495</th>\n",
       "      <th>X2496</th>\n",
       "      <th>X2497</th>\n",
       "      <th>X2498</th>\n",
       "      <th>X2499</th>\n",
       "      <th>X2500</th>\n",
       "    </tr>\n",
       "  </thead>\n",
       "  <tbody>\n",
       "    <tr>\n",
       "      <th>0</th>\n",
       "      <td>0</td>\n",
       "      <td>B73 X Mo17</td>\n",
       "      <td>1353</td>\n",
       "      <td>3</td>\n",
       "      <td>8</td>\n",
       "      <td>1</td>\n",
       "      <td>1</td>\n",
       "      <td>HN</td>\n",
       "      <td>2022</td>\n",
       "      <td>Hybrid</td>\n",
       "      <td>...</td>\n",
       "      <td>0.048292</td>\n",
       "      <td>0.048095</td>\n",
       "      <td>0.047899</td>\n",
       "      <td>0.047720</td>\n",
       "      <td>0.047537</td>\n",
       "      <td>0.047389</td>\n",
       "      <td>0.047252</td>\n",
       "      <td>0.047121</td>\n",
       "      <td>0.046992</td>\n",
       "      <td>0.046831</td>\n",
       "    </tr>\n",
       "    <tr>\n",
       "      <th>1</th>\n",
       "      <td>1</td>\n",
       "      <td>B73 X Mo17</td>\n",
       "      <td>1396</td>\n",
       "      <td>46</td>\n",
       "      <td>8</td>\n",
       "      <td>1</td>\n",
       "      <td>1</td>\n",
       "      <td>HN</td>\n",
       "      <td>2022</td>\n",
       "      <td>Hybrid</td>\n",
       "      <td>...</td>\n",
       "      <td>0.048292</td>\n",
       "      <td>0.048095</td>\n",
       "      <td>0.047899</td>\n",
       "      <td>0.047720</td>\n",
       "      <td>0.047537</td>\n",
       "      <td>0.047389</td>\n",
       "      <td>0.047252</td>\n",
       "      <td>0.047121</td>\n",
       "      <td>0.046992</td>\n",
       "      <td>0.046831</td>\n",
       "    </tr>\n",
       "    <tr>\n",
       "      <th>2</th>\n",
       "      <td>2</td>\n",
       "      <td>B73 X Mo17</td>\n",
       "      <td>1450</td>\n",
       "      <td>50</td>\n",
       "      <td>9</td>\n",
       "      <td>1</td>\n",
       "      <td>1</td>\n",
       "      <td>HN</td>\n",
       "      <td>2022</td>\n",
       "      <td>Hybrid</td>\n",
       "      <td>...</td>\n",
       "      <td>0.048292</td>\n",
       "      <td>0.048095</td>\n",
       "      <td>0.047899</td>\n",
       "      <td>0.047720</td>\n",
       "      <td>0.047537</td>\n",
       "      <td>0.047389</td>\n",
       "      <td>0.047252</td>\n",
       "      <td>0.047121</td>\n",
       "      <td>0.046992</td>\n",
       "      <td>0.046831</td>\n",
       "    </tr>\n",
       "    <tr>\n",
       "      <th>3</th>\n",
       "      <td>3</td>\n",
       "      <td>B73 X Mo17</td>\n",
       "      <td>1354</td>\n",
       "      <td>4</td>\n",
       "      <td>8</td>\n",
       "      <td>1</td>\n",
       "      <td>1</td>\n",
       "      <td>HN</td>\n",
       "      <td>2022</td>\n",
       "      <td>Hybrid</td>\n",
       "      <td>...</td>\n",
       "      <td>0.048292</td>\n",
       "      <td>0.048095</td>\n",
       "      <td>0.047899</td>\n",
       "      <td>0.047720</td>\n",
       "      <td>0.047537</td>\n",
       "      <td>0.047389</td>\n",
       "      <td>0.047252</td>\n",
       "      <td>0.047121</td>\n",
       "      <td>0.046992</td>\n",
       "      <td>0.046831</td>\n",
       "    </tr>\n",
       "    <tr>\n",
       "      <th>4</th>\n",
       "      <td>4</td>\n",
       "      <td>B73 X Mo17</td>\n",
       "      <td>1476</td>\n",
       "      <td>26</td>\n",
       "      <td>10</td>\n",
       "      <td>1</td>\n",
       "      <td>1</td>\n",
       "      <td>HN</td>\n",
       "      <td>2022</td>\n",
       "      <td>Hybrid</td>\n",
       "      <td>...</td>\n",
       "      <td>0.048292</td>\n",
       "      <td>0.048095</td>\n",
       "      <td>0.047899</td>\n",
       "      <td>0.047720</td>\n",
       "      <td>0.047537</td>\n",
       "      <td>0.047389</td>\n",
       "      <td>0.047252</td>\n",
       "      <td>0.047121</td>\n",
       "      <td>0.046992</td>\n",
       "      <td>0.046831</td>\n",
       "    </tr>\n",
       "    <tr>\n",
       "      <th>...</th>\n",
       "      <td>...</td>\n",
       "      <td>...</td>\n",
       "      <td>...</td>\n",
       "      <td>...</td>\n",
       "      <td>...</td>\n",
       "      <td>...</td>\n",
       "      <td>...</td>\n",
       "      <td>...</td>\n",
       "      <td>...</td>\n",
       "      <td>...</td>\n",
       "      <td>...</td>\n",
       "      <td>...</td>\n",
       "      <td>...</td>\n",
       "      <td>...</td>\n",
       "      <td>...</td>\n",
       "      <td>...</td>\n",
       "      <td>...</td>\n",
       "      <td>...</td>\n",
       "      <td>...</td>\n",
       "      <td>...</td>\n",
       "      <td>...</td>\n",
       "    </tr>\n",
       "    <tr>\n",
       "      <th>1146</th>\n",
       "      <td>1146</td>\n",
       "      <td>PHZ51 X LH123</td>\n",
       "      <td>2572</td>\n",
       "      <td>22</td>\n",
       "      <td>12</td>\n",
       "      <td>2</td>\n",
       "      <td>1</td>\n",
       "      <td>LN</td>\n",
       "      <td>2022</td>\n",
       "      <td>Hybrid</td>\n",
       "      <td>...</td>\n",
       "      <td>0.055214</td>\n",
       "      <td>0.055023</td>\n",
       "      <td>0.054655</td>\n",
       "      <td>0.054295</td>\n",
       "      <td>0.054083</td>\n",
       "      <td>0.053881</td>\n",
       "      <td>0.053785</td>\n",
       "      <td>0.053714</td>\n",
       "      <td>0.053453</td>\n",
       "      <td>0.053083</td>\n",
       "    </tr>\n",
       "    <tr>\n",
       "      <th>1147</th>\n",
       "      <td>1147</td>\n",
       "      <td>PHZ51 X PHG35</td>\n",
       "      <td>2500</td>\n",
       "      <td>50</td>\n",
       "      <td>10</td>\n",
       "      <td>2</td>\n",
       "      <td>1</td>\n",
       "      <td>LN</td>\n",
       "      <td>2022</td>\n",
       "      <td>Hybrid</td>\n",
       "      <td>...</td>\n",
       "      <td>0.059882</td>\n",
       "      <td>0.059629</td>\n",
       "      <td>0.059460</td>\n",
       "      <td>0.059314</td>\n",
       "      <td>0.059117</td>\n",
       "      <td>0.058983</td>\n",
       "      <td>0.058702</td>\n",
       "      <td>0.058197</td>\n",
       "      <td>0.058011</td>\n",
       "      <td>0.057994</td>\n",
       "    </tr>\n",
       "    <tr>\n",
       "      <th>1148</th>\n",
       "      <td>1148</td>\n",
       "      <td>PHZ51 X PHG35</td>\n",
       "      <td>2542</td>\n",
       "      <td>42</td>\n",
       "      <td>11</td>\n",
       "      <td>2</td>\n",
       "      <td>1</td>\n",
       "      <td>LN</td>\n",
       "      <td>2022</td>\n",
       "      <td>Hybrid</td>\n",
       "      <td>...</td>\n",
       "      <td>0.059882</td>\n",
       "      <td>0.059629</td>\n",
       "      <td>0.059460</td>\n",
       "      <td>0.059314</td>\n",
       "      <td>0.059117</td>\n",
       "      <td>0.058983</td>\n",
       "      <td>0.058702</td>\n",
       "      <td>0.058197</td>\n",
       "      <td>0.058011</td>\n",
       "      <td>0.057994</td>\n",
       "    </tr>\n",
       "    <tr>\n",
       "      <th>1149</th>\n",
       "      <td>1149</td>\n",
       "      <td>PHZ51 X PHG35</td>\n",
       "      <td>2536</td>\n",
       "      <td>36</td>\n",
       "      <td>11</td>\n",
       "      <td>2</td>\n",
       "      <td>1</td>\n",
       "      <td>LN</td>\n",
       "      <td>2022</td>\n",
       "      <td>Hybrid</td>\n",
       "      <td>...</td>\n",
       "      <td>0.059882</td>\n",
       "      <td>0.059629</td>\n",
       "      <td>0.059460</td>\n",
       "      <td>0.059314</td>\n",
       "      <td>0.059117</td>\n",
       "      <td>0.058983</td>\n",
       "      <td>0.058702</td>\n",
       "      <td>0.058197</td>\n",
       "      <td>0.058011</td>\n",
       "      <td>0.057994</td>\n",
       "    </tr>\n",
       "    <tr>\n",
       "      <th>1150</th>\n",
       "      <td>1150</td>\n",
       "      <td>PHZ51 X PHG35</td>\n",
       "      <td>2506</td>\n",
       "      <td>6</td>\n",
       "      <td>11</td>\n",
       "      <td>2</td>\n",
       "      <td>1</td>\n",
       "      <td>LN</td>\n",
       "      <td>2022</td>\n",
       "      <td>Hybrid</td>\n",
       "      <td>...</td>\n",
       "      <td>0.059882</td>\n",
       "      <td>0.059629</td>\n",
       "      <td>0.059460</td>\n",
       "      <td>0.059314</td>\n",
       "      <td>0.059117</td>\n",
       "      <td>0.058983</td>\n",
       "      <td>0.058702</td>\n",
       "      <td>0.058197</td>\n",
       "      <td>0.058011</td>\n",
       "      <td>0.057994</td>\n",
       "    </tr>\n",
       "  </tbody>\n",
       "</table>\n",
       "<p>1151 rows × 2163 columns</p>\n",
       "</div>"
      ],
      "text/plain": [
       "      index       genotype  PLOT.ID  rows  ranges  Block  Rep Trt  year  \\\n",
       "0         0     B73 X Mo17     1353     3       8      1    1  HN  2022   \n",
       "1         1     B73 X Mo17     1396    46       8      1    1  HN  2022   \n",
       "2         2     B73 X Mo17     1450    50       9      1    1  HN  2022   \n",
       "3         3     B73 X Mo17     1354     4       8      1    1  HN  2022   \n",
       "4         4     B73 X Mo17     1476    26      10      1    1  HN  2022   \n",
       "...     ...            ...      ...   ...     ...    ...  ...  ..   ...   \n",
       "1146   1146  PHZ51 X LH123     2572    22      12      2    1  LN  2022   \n",
       "1147   1147  PHZ51 X PHG35     2500    50      10      2    1  LN  2022   \n",
       "1148   1148  PHZ51 X PHG35     2542    42      11      2    1  LN  2022   \n",
       "1149   1149  PHZ51 X PHG35     2536    36      11      2    1  LN  2022   \n",
       "1150   1150  PHZ51 X PHG35     2506     6      11      2    1  LN  2022   \n",
       "\n",
       "        note  ...     X2491     X2492     X2493     X2494     X2495     X2496  \\\n",
       "0     Hybrid  ...  0.048292  0.048095  0.047899  0.047720  0.047537  0.047389   \n",
       "1     Hybrid  ...  0.048292  0.048095  0.047899  0.047720  0.047537  0.047389   \n",
       "2     Hybrid  ...  0.048292  0.048095  0.047899  0.047720  0.047537  0.047389   \n",
       "3     Hybrid  ...  0.048292  0.048095  0.047899  0.047720  0.047537  0.047389   \n",
       "4     Hybrid  ...  0.048292  0.048095  0.047899  0.047720  0.047537  0.047389   \n",
       "...      ...  ...       ...       ...       ...       ...       ...       ...   \n",
       "1146  Hybrid  ...  0.055214  0.055023  0.054655  0.054295  0.054083  0.053881   \n",
       "1147  Hybrid  ...  0.059882  0.059629  0.059460  0.059314  0.059117  0.058983   \n",
       "1148  Hybrid  ...  0.059882  0.059629  0.059460  0.059314  0.059117  0.058983   \n",
       "1149  Hybrid  ...  0.059882  0.059629  0.059460  0.059314  0.059117  0.058983   \n",
       "1150  Hybrid  ...  0.059882  0.059629  0.059460  0.059314  0.059117  0.058983   \n",
       "\n",
       "         X2497     X2498     X2499     X2500  \n",
       "0     0.047252  0.047121  0.046992  0.046831  \n",
       "1     0.047252  0.047121  0.046992  0.046831  \n",
       "2     0.047252  0.047121  0.046992  0.046831  \n",
       "3     0.047252  0.047121  0.046992  0.046831  \n",
       "4     0.047252  0.047121  0.046992  0.046831  \n",
       "...        ...       ...       ...       ...  \n",
       "1146  0.053785  0.053714  0.053453  0.053083  \n",
       "1147  0.058702  0.058197  0.058011  0.057994  \n",
       "1148  0.058702  0.058197  0.058011  0.057994  \n",
       "1149  0.058702  0.058197  0.058011  0.057994  \n",
       "1150  0.058702  0.058197  0.058011  0.057994  \n",
       "\n",
       "[1151 rows x 2163 columns]"
      ]
     },
     "execution_count": 220,
     "metadata": {},
     "output_type": "execute_result"
    }
   ],
   "source": [
    "data"
   ]
  },
  {
   "cell_type": "code",
   "execution_count": 221,
   "metadata": {},
   "outputs": [],
   "source": [
    "data.columns =data.columns.str.replace('X', '')"
   ]
  },
  {
   "cell_type": "code",
   "execution_count": 222,
   "metadata": {},
   "outputs": [
    {
     "data": {
      "text/plain": [
       "Index(['index', 'genotype', 'PLOT.ID', 'rows', 'ranges', 'Block', 'Rep', 'Trt',\n",
       "       'year', 'note', 'Group', 'Calibration', 'ASD', '351', '352'],\n",
       "      dtype='object')"
      ]
     },
     "execution_count": 222,
     "metadata": {},
     "output_type": "execute_result"
    }
   ],
   "source": [
    "data.columns[0:15]"
   ]
  },
  {
   "cell_type": "code",
   "execution_count": 223,
   "metadata": {},
   "outputs": [
    {
     "data": {
      "text/plain": [
       "0       Hybrid\n",
       "1       Hybrid\n",
       "2       Hybrid\n",
       "3       Hybrid\n",
       "4       Hybrid\n",
       "         ...  \n",
       "1146    Hybrid\n",
       "1147    Hybrid\n",
       "1148    Hybrid\n",
       "1149    Hybrid\n",
       "1150    Hybrid\n",
       "Name: Group, Length: 1151, dtype: object"
      ]
     },
     "execution_count": 223,
     "metadata": {},
     "output_type": "execute_result"
    }
   ],
   "source": [
    "data['Group']"
   ]
  },
  {
   "cell_type": "code",
   "execution_count": 224,
   "metadata": {},
   "outputs": [],
   "source": [
    "data[['genotype', 'PLOT.ID', 'rows', 'ranges', 'Block', 'Rep', 'Trt', 'year',\n",
    "       'note', 'Group', 'Calibration', 'ASD']] = data[['genotype', 'PLOT.ID', 'rows', 'ranges', 'Block', 'Rep', 'Trt', 'year',\n",
    "       'note', 'Group', 'Calibration', 'ASD']].astype('category')"
   ]
  },
  {
   "cell_type": "code",
   "execution_count": 225,
   "metadata": {},
   "outputs": [],
   "source": [
    "position_350 = data.columns.get_loc('351')\n",
    "position_2500 = data.columns.get_loc('2500') + 1 \n",
    "X_train= data.iloc[:, position_350 : position_2500]"
   ]
  },
  {
   "cell_type": "code",
   "execution_count": 226,
   "metadata": {},
   "outputs": [
    {
     "data": {
      "text/html": [
       "<div>\n",
       "<style scoped>\n",
       "    .dataframe tbody tr th:only-of-type {\n",
       "        vertical-align: middle;\n",
       "    }\n",
       "\n",
       "    .dataframe tbody tr th {\n",
       "        vertical-align: top;\n",
       "    }\n",
       "\n",
       "    .dataframe thead th {\n",
       "        text-align: right;\n",
       "    }\n",
       "</style>\n",
       "<table border=\"1\" class=\"dataframe\">\n",
       "  <thead>\n",
       "    <tr style=\"text-align: right;\">\n",
       "      <th></th>\n",
       "      <th>351</th>\n",
       "      <th>352</th>\n",
       "      <th>353</th>\n",
       "      <th>354</th>\n",
       "      <th>355</th>\n",
       "      <th>356</th>\n",
       "      <th>357</th>\n",
       "      <th>358</th>\n",
       "      <th>359</th>\n",
       "      <th>360</th>\n",
       "      <th>...</th>\n",
       "      <th>2491</th>\n",
       "      <th>2492</th>\n",
       "      <th>2493</th>\n",
       "      <th>2494</th>\n",
       "      <th>2495</th>\n",
       "      <th>2496</th>\n",
       "      <th>2497</th>\n",
       "      <th>2498</th>\n",
       "      <th>2499</th>\n",
       "      <th>2500</th>\n",
       "    </tr>\n",
       "  </thead>\n",
       "  <tbody>\n",
       "    <tr>\n",
       "      <th>0</th>\n",
       "      <td>0.068292</td>\n",
       "      <td>0.065634</td>\n",
       "      <td>0.066076</td>\n",
       "      <td>0.069254</td>\n",
       "      <td>0.067849</td>\n",
       "      <td>0.063614</td>\n",
       "      <td>0.060802</td>\n",
       "      <td>0.062663</td>\n",
       "      <td>0.059648</td>\n",
       "      <td>0.059751</td>\n",
       "      <td>...</td>\n",
       "      <td>0.048292</td>\n",
       "      <td>0.048095</td>\n",
       "      <td>0.047899</td>\n",
       "      <td>0.047720</td>\n",
       "      <td>0.047537</td>\n",
       "      <td>0.047389</td>\n",
       "      <td>0.047252</td>\n",
       "      <td>0.047121</td>\n",
       "      <td>0.046992</td>\n",
       "      <td>0.046831</td>\n",
       "    </tr>\n",
       "    <tr>\n",
       "      <th>1</th>\n",
       "      <td>0.068292</td>\n",
       "      <td>0.065634</td>\n",
       "      <td>0.066076</td>\n",
       "      <td>0.069254</td>\n",
       "      <td>0.067849</td>\n",
       "      <td>0.063614</td>\n",
       "      <td>0.060802</td>\n",
       "      <td>0.062663</td>\n",
       "      <td>0.059648</td>\n",
       "      <td>0.059751</td>\n",
       "      <td>...</td>\n",
       "      <td>0.048292</td>\n",
       "      <td>0.048095</td>\n",
       "      <td>0.047899</td>\n",
       "      <td>0.047720</td>\n",
       "      <td>0.047537</td>\n",
       "      <td>0.047389</td>\n",
       "      <td>0.047252</td>\n",
       "      <td>0.047121</td>\n",
       "      <td>0.046992</td>\n",
       "      <td>0.046831</td>\n",
       "    </tr>\n",
       "    <tr>\n",
       "      <th>2</th>\n",
       "      <td>0.068292</td>\n",
       "      <td>0.065634</td>\n",
       "      <td>0.066076</td>\n",
       "      <td>0.069254</td>\n",
       "      <td>0.067849</td>\n",
       "      <td>0.063614</td>\n",
       "      <td>0.060802</td>\n",
       "      <td>0.062663</td>\n",
       "      <td>0.059648</td>\n",
       "      <td>0.059751</td>\n",
       "      <td>...</td>\n",
       "      <td>0.048292</td>\n",
       "      <td>0.048095</td>\n",
       "      <td>0.047899</td>\n",
       "      <td>0.047720</td>\n",
       "      <td>0.047537</td>\n",
       "      <td>0.047389</td>\n",
       "      <td>0.047252</td>\n",
       "      <td>0.047121</td>\n",
       "      <td>0.046992</td>\n",
       "      <td>0.046831</td>\n",
       "    </tr>\n",
       "    <tr>\n",
       "      <th>3</th>\n",
       "      <td>0.068292</td>\n",
       "      <td>0.065634</td>\n",
       "      <td>0.066076</td>\n",
       "      <td>0.069254</td>\n",
       "      <td>0.067849</td>\n",
       "      <td>0.063614</td>\n",
       "      <td>0.060802</td>\n",
       "      <td>0.062663</td>\n",
       "      <td>0.059648</td>\n",
       "      <td>0.059751</td>\n",
       "      <td>...</td>\n",
       "      <td>0.048292</td>\n",
       "      <td>0.048095</td>\n",
       "      <td>0.047899</td>\n",
       "      <td>0.047720</td>\n",
       "      <td>0.047537</td>\n",
       "      <td>0.047389</td>\n",
       "      <td>0.047252</td>\n",
       "      <td>0.047121</td>\n",
       "      <td>0.046992</td>\n",
       "      <td>0.046831</td>\n",
       "    </tr>\n",
       "    <tr>\n",
       "      <th>4</th>\n",
       "      <td>0.068292</td>\n",
       "      <td>0.065634</td>\n",
       "      <td>0.066076</td>\n",
       "      <td>0.069254</td>\n",
       "      <td>0.067849</td>\n",
       "      <td>0.063614</td>\n",
       "      <td>0.060802</td>\n",
       "      <td>0.062663</td>\n",
       "      <td>0.059648</td>\n",
       "      <td>0.059751</td>\n",
       "      <td>...</td>\n",
       "      <td>0.048292</td>\n",
       "      <td>0.048095</td>\n",
       "      <td>0.047899</td>\n",
       "      <td>0.047720</td>\n",
       "      <td>0.047537</td>\n",
       "      <td>0.047389</td>\n",
       "      <td>0.047252</td>\n",
       "      <td>0.047121</td>\n",
       "      <td>0.046992</td>\n",
       "      <td>0.046831</td>\n",
       "    </tr>\n",
       "    <tr>\n",
       "      <th>...</th>\n",
       "      <td>...</td>\n",
       "      <td>...</td>\n",
       "      <td>...</td>\n",
       "      <td>...</td>\n",
       "      <td>...</td>\n",
       "      <td>...</td>\n",
       "      <td>...</td>\n",
       "      <td>...</td>\n",
       "      <td>...</td>\n",
       "      <td>...</td>\n",
       "      <td>...</td>\n",
       "      <td>...</td>\n",
       "      <td>...</td>\n",
       "      <td>...</td>\n",
       "      <td>...</td>\n",
       "      <td>...</td>\n",
       "      <td>...</td>\n",
       "      <td>...</td>\n",
       "      <td>...</td>\n",
       "      <td>...</td>\n",
       "      <td>...</td>\n",
       "    </tr>\n",
       "    <tr>\n",
       "      <th>1146</th>\n",
       "      <td>0.067945</td>\n",
       "      <td>0.061708</td>\n",
       "      <td>0.061575</td>\n",
       "      <td>0.078763</td>\n",
       "      <td>0.066064</td>\n",
       "      <td>0.059401</td>\n",
       "      <td>0.069477</td>\n",
       "      <td>0.075641</td>\n",
       "      <td>0.071600</td>\n",
       "      <td>0.063664</td>\n",
       "      <td>...</td>\n",
       "      <td>0.055214</td>\n",
       "      <td>0.055023</td>\n",
       "      <td>0.054655</td>\n",
       "      <td>0.054295</td>\n",
       "      <td>0.054083</td>\n",
       "      <td>0.053881</td>\n",
       "      <td>0.053785</td>\n",
       "      <td>0.053714</td>\n",
       "      <td>0.053453</td>\n",
       "      <td>0.053083</td>\n",
       "    </tr>\n",
       "    <tr>\n",
       "      <th>1147</th>\n",
       "      <td>0.082840</td>\n",
       "      <td>0.069019</td>\n",
       "      <td>0.062765</td>\n",
       "      <td>0.068178</td>\n",
       "      <td>0.069412</td>\n",
       "      <td>0.067526</td>\n",
       "      <td>0.064534</td>\n",
       "      <td>0.062129</td>\n",
       "      <td>0.059235</td>\n",
       "      <td>0.062215</td>\n",
       "      <td>...</td>\n",
       "      <td>0.059882</td>\n",
       "      <td>0.059629</td>\n",
       "      <td>0.059460</td>\n",
       "      <td>0.059314</td>\n",
       "      <td>0.059117</td>\n",
       "      <td>0.058983</td>\n",
       "      <td>0.058702</td>\n",
       "      <td>0.058197</td>\n",
       "      <td>0.058011</td>\n",
       "      <td>0.057994</td>\n",
       "    </tr>\n",
       "    <tr>\n",
       "      <th>1148</th>\n",
       "      <td>0.082840</td>\n",
       "      <td>0.069019</td>\n",
       "      <td>0.062765</td>\n",
       "      <td>0.068178</td>\n",
       "      <td>0.069412</td>\n",
       "      <td>0.067526</td>\n",
       "      <td>0.064534</td>\n",
       "      <td>0.062129</td>\n",
       "      <td>0.059235</td>\n",
       "      <td>0.062215</td>\n",
       "      <td>...</td>\n",
       "      <td>0.059882</td>\n",
       "      <td>0.059629</td>\n",
       "      <td>0.059460</td>\n",
       "      <td>0.059314</td>\n",
       "      <td>0.059117</td>\n",
       "      <td>0.058983</td>\n",
       "      <td>0.058702</td>\n",
       "      <td>0.058197</td>\n",
       "      <td>0.058011</td>\n",
       "      <td>0.057994</td>\n",
       "    </tr>\n",
       "    <tr>\n",
       "      <th>1149</th>\n",
       "      <td>0.082840</td>\n",
       "      <td>0.069019</td>\n",
       "      <td>0.062765</td>\n",
       "      <td>0.068178</td>\n",
       "      <td>0.069412</td>\n",
       "      <td>0.067526</td>\n",
       "      <td>0.064534</td>\n",
       "      <td>0.062129</td>\n",
       "      <td>0.059235</td>\n",
       "      <td>0.062215</td>\n",
       "      <td>...</td>\n",
       "      <td>0.059882</td>\n",
       "      <td>0.059629</td>\n",
       "      <td>0.059460</td>\n",
       "      <td>0.059314</td>\n",
       "      <td>0.059117</td>\n",
       "      <td>0.058983</td>\n",
       "      <td>0.058702</td>\n",
       "      <td>0.058197</td>\n",
       "      <td>0.058011</td>\n",
       "      <td>0.057994</td>\n",
       "    </tr>\n",
       "    <tr>\n",
       "      <th>1150</th>\n",
       "      <td>0.082840</td>\n",
       "      <td>0.069019</td>\n",
       "      <td>0.062765</td>\n",
       "      <td>0.068178</td>\n",
       "      <td>0.069412</td>\n",
       "      <td>0.067526</td>\n",
       "      <td>0.064534</td>\n",
       "      <td>0.062129</td>\n",
       "      <td>0.059235</td>\n",
       "      <td>0.062215</td>\n",
       "      <td>...</td>\n",
       "      <td>0.059882</td>\n",
       "      <td>0.059629</td>\n",
       "      <td>0.059460</td>\n",
       "      <td>0.059314</td>\n",
       "      <td>0.059117</td>\n",
       "      <td>0.058983</td>\n",
       "      <td>0.058702</td>\n",
       "      <td>0.058197</td>\n",
       "      <td>0.058011</td>\n",
       "      <td>0.057994</td>\n",
       "    </tr>\n",
       "  </tbody>\n",
       "</table>\n",
       "<p>1151 rows × 2150 columns</p>\n",
       "</div>"
      ],
      "text/plain": [
       "           351       352       353       354       355       356       357  \\\n",
       "0     0.068292  0.065634  0.066076  0.069254  0.067849  0.063614  0.060802   \n",
       "1     0.068292  0.065634  0.066076  0.069254  0.067849  0.063614  0.060802   \n",
       "2     0.068292  0.065634  0.066076  0.069254  0.067849  0.063614  0.060802   \n",
       "3     0.068292  0.065634  0.066076  0.069254  0.067849  0.063614  0.060802   \n",
       "4     0.068292  0.065634  0.066076  0.069254  0.067849  0.063614  0.060802   \n",
       "...        ...       ...       ...       ...       ...       ...       ...   \n",
       "1146  0.067945  0.061708  0.061575  0.078763  0.066064  0.059401  0.069477   \n",
       "1147  0.082840  0.069019  0.062765  0.068178  0.069412  0.067526  0.064534   \n",
       "1148  0.082840  0.069019  0.062765  0.068178  0.069412  0.067526  0.064534   \n",
       "1149  0.082840  0.069019  0.062765  0.068178  0.069412  0.067526  0.064534   \n",
       "1150  0.082840  0.069019  0.062765  0.068178  0.069412  0.067526  0.064534   \n",
       "\n",
       "           358       359       360  ...      2491      2492      2493  \\\n",
       "0     0.062663  0.059648  0.059751  ...  0.048292  0.048095  0.047899   \n",
       "1     0.062663  0.059648  0.059751  ...  0.048292  0.048095  0.047899   \n",
       "2     0.062663  0.059648  0.059751  ...  0.048292  0.048095  0.047899   \n",
       "3     0.062663  0.059648  0.059751  ...  0.048292  0.048095  0.047899   \n",
       "4     0.062663  0.059648  0.059751  ...  0.048292  0.048095  0.047899   \n",
       "...        ...       ...       ...  ...       ...       ...       ...   \n",
       "1146  0.075641  0.071600  0.063664  ...  0.055214  0.055023  0.054655   \n",
       "1147  0.062129  0.059235  0.062215  ...  0.059882  0.059629  0.059460   \n",
       "1148  0.062129  0.059235  0.062215  ...  0.059882  0.059629  0.059460   \n",
       "1149  0.062129  0.059235  0.062215  ...  0.059882  0.059629  0.059460   \n",
       "1150  0.062129  0.059235  0.062215  ...  0.059882  0.059629  0.059460   \n",
       "\n",
       "          2494      2495      2496      2497      2498      2499      2500  \n",
       "0     0.047720  0.047537  0.047389  0.047252  0.047121  0.046992  0.046831  \n",
       "1     0.047720  0.047537  0.047389  0.047252  0.047121  0.046992  0.046831  \n",
       "2     0.047720  0.047537  0.047389  0.047252  0.047121  0.046992  0.046831  \n",
       "3     0.047720  0.047537  0.047389  0.047252  0.047121  0.046992  0.046831  \n",
       "4     0.047720  0.047537  0.047389  0.047252  0.047121  0.046992  0.046831  \n",
       "...        ...       ...       ...       ...       ...       ...       ...  \n",
       "1146  0.054295  0.054083  0.053881  0.053785  0.053714  0.053453  0.053083  \n",
       "1147  0.059314  0.059117  0.058983  0.058702  0.058197  0.058011  0.057994  \n",
       "1148  0.059314  0.059117  0.058983  0.058702  0.058197  0.058011  0.057994  \n",
       "1149  0.059314  0.059117  0.058983  0.058702  0.058197  0.058011  0.057994  \n",
       "1150  0.059314  0.059117  0.058983  0.058702  0.058197  0.058011  0.057994  \n",
       "\n",
       "[1151 rows x 2150 columns]"
      ]
     },
     "execution_count": 226,
     "metadata": {},
     "output_type": "execute_result"
    }
   ],
   "source": [
    "X_train"
   ]
  },
  {
   "cell_type": "code",
   "execution_count": 227,
   "metadata": {},
   "outputs": [],
   "source": [
    "group2 = []\n",
    "for i in data['Group']:\n",
    "    if i == 'Hybrid':\n",
    "        group2.append(1)\n",
    "    else:\n",
    "        group2.append(2)"
   ]
  },
  {
   "cell_type": "code",
   "execution_count": 228,
   "metadata": {},
   "outputs": [
    {
     "data": {
      "text/plain": [
       "array(['BGEM_Short_early', 'BGEM_Short_late', 'BGEM_Tall_early',\n",
       "       'BGEM_Tall_late', 'Hybrid'], dtype=object)"
      ]
     },
     "execution_count": 228,
     "metadata": {},
     "output_type": "execute_result"
    }
   ],
   "source": [
    "np.unique(data['note'])"
   ]
  },
  {
   "cell_type": "code",
   "execution_count": 229,
   "metadata": {},
   "outputs": [],
   "source": [
    "note2 = []\n",
    "for i in data['note']:\n",
    "    if i == 'BGEM_Short_early':\n",
    "        note2.append(1)\n",
    "    elif i ==  'BGEM_Short_late':\n",
    "        note2.append(2)\n",
    "    elif i == 'BGEM_Tall_early':\n",
    "        note2.append(3)\n",
    "    elif i == 'BGEM_Tall_late':\n",
    "        note2.append(4)\n",
    "    else:\n",
    "        note2.append(5)\n",
    "    "
   ]
  },
  {
   "cell_type": "code",
   "execution_count": 230,
   "metadata": {},
   "outputs": [],
   "source": [
    "data.insert(8, 'note2', note2)"
   ]
  },
  {
   "cell_type": "code",
   "execution_count": 231,
   "metadata": {},
   "outputs": [],
   "source": [
    "data.insert(8, 'Group2' , group2)"
   ]
  },
  {
   "cell_type": "code",
   "execution_count": 232,
   "metadata": {},
   "outputs": [],
   "source": [
    "y_train = data.loc[:, 'Group'].reset_index(drop=True)"
   ]
  },
  {
   "cell_type": "code",
   "execution_count": 233,
   "metadata": {},
   "outputs": [
    {
     "data": {
      "text/plain": [
       "0       Hybrid\n",
       "1       Hybrid\n",
       "2       Hybrid\n",
       "3       Hybrid\n",
       "4       Hybrid\n",
       "         ...  \n",
       "1146    Hybrid\n",
       "1147    Hybrid\n",
       "1148    Hybrid\n",
       "1149    Hybrid\n",
       "1150    Hybrid\n",
       "Name: Group, Length: 1151, dtype: category\n",
       "Categories (2, object): ['Hybrid', 'Inbred']"
      ]
     },
     "execution_count": 233,
     "metadata": {},
     "output_type": "execute_result"
    }
   ],
   "source": [
    "y"
   ]
  },
  {
   "cell_type": "code",
   "execution_count": 234,
   "metadata": {},
   "outputs": [],
   "source": [
    "test_set = pd.read_csv('2022_Brooke_v2.csv')"
   ]
  },
  {
   "cell_type": "code",
   "execution_count": 235,
   "metadata": {},
   "outputs": [],
   "source": [
    "test_set =test_set.loc[test_set['Growth Stage'] == 2 , :] "
   ]
  },
  {
   "cell_type": "code",
   "execution_count": 236,
   "metadata": {},
   "outputs": [],
   "source": [
    "test_set.dropna(inplace=True)"
   ]
  },
  {
   "cell_type": "code",
   "execution_count": 237,
   "metadata": {},
   "outputs": [
    {
     "ename": "NameError",
     "evalue": "name 'a' is not defined",
     "output_type": "error",
     "traceback": [
      "\u001b[1;31m---------------------------------------------------------------------------\u001b[0m",
      "\u001b[1;31mNameError\u001b[0m                                 Traceback (most recent call last)",
      "\u001b[1;32m~\\AppData\\Local\\Temp/ipykernel_13360/940364762.py\u001b[0m in \u001b[0;36m<module>\u001b[1;34m\u001b[0m\n\u001b[0;32m      1\u001b[0m test_set = test_set[['Unnamed: 0', 'Genotype', 'PLOT ID', 'Plant Number', 'Trt', 'Rep',\n\u001b[0;32m      2\u001b[0m        \u001b[1;34m'Growth Stage'\u001b[0m\u001b[1;33m,\u001b[0m \u001b[1;34m'Fresh_Weight'\u001b[0m\u001b[1;33m,\u001b[0m \u001b[1;34m'Leaf_Area'\u001b[0m\u001b[1;33m,\u001b[0m \u001b[1;34m'SPAD_1'\u001b[0m\u001b[1;33m,\u001b[0m \u001b[1;34m'SPAD_2 '\u001b[0m\u001b[1;33m,\u001b[0m\u001b[1;33m\u001b[0m\u001b[1;33m\u001b[0m\u001b[0m\n\u001b[1;32m----> 3\u001b[1;33m        'SPAD_3',] + a]\n\u001b[0m",
      "\u001b[1;31mNameError\u001b[0m: name 'a' is not defined"
     ]
    }
   ],
   "source": [
    "test_set = test_set[['Unnamed: 0', 'Genotype', 'PLOT ID', 'Plant Number', 'Trt', 'Rep',\n",
    "       'Growth Stage', 'Fresh_Weight', 'Leaf_Area', 'SPAD_1', 'SPAD_2 ',\n",
    "       'SPAD_3',] + a]"
   ]
  },
  {
   "cell_type": "code",
   "execution_count": 40,
   "metadata": {},
   "outputs": [
    {
     "ename": "KeyError",
     "evalue": "'Group'",
     "output_type": "error",
     "traceback": [
      "\u001b[1;31m---------------------------------------------------------------------------\u001b[0m",
      "\u001b[1;31mKeyError\u001b[0m                                  Traceback (most recent call last)",
      "\u001b[1;32m~\\anaconda3\\lib\\site-packages\\pandas\\core\\indexes\\base.py\u001b[0m in \u001b[0;36mget_loc\u001b[1;34m(self, key, method, tolerance)\u001b[0m\n\u001b[0;32m   3360\u001b[0m             \u001b[1;32mtry\u001b[0m\u001b[1;33m:\u001b[0m\u001b[1;33m\u001b[0m\u001b[1;33m\u001b[0m\u001b[0m\n\u001b[1;32m-> 3361\u001b[1;33m                 \u001b[1;32mreturn\u001b[0m \u001b[0mself\u001b[0m\u001b[1;33m.\u001b[0m\u001b[0m_engine\u001b[0m\u001b[1;33m.\u001b[0m\u001b[0mget_loc\u001b[0m\u001b[1;33m(\u001b[0m\u001b[0mcasted_key\u001b[0m\u001b[1;33m)\u001b[0m\u001b[1;33m\u001b[0m\u001b[1;33m\u001b[0m\u001b[0m\n\u001b[0m\u001b[0;32m   3362\u001b[0m             \u001b[1;32mexcept\u001b[0m \u001b[0mKeyError\u001b[0m \u001b[1;32mas\u001b[0m \u001b[0merr\u001b[0m\u001b[1;33m:\u001b[0m\u001b[1;33m\u001b[0m\u001b[1;33m\u001b[0m\u001b[0m\n",
      "\u001b[1;32m~\\anaconda3\\lib\\site-packages\\pandas\\_libs\\index.pyx\u001b[0m in \u001b[0;36mpandas._libs.index.IndexEngine.get_loc\u001b[1;34m()\u001b[0m\n",
      "\u001b[1;32m~\\anaconda3\\lib\\site-packages\\pandas\\_libs\\index.pyx\u001b[0m in \u001b[0;36mpandas._libs.index.IndexEngine.get_loc\u001b[1;34m()\u001b[0m\n",
      "\u001b[1;32mpandas\\_libs\\hashtable_class_helper.pxi\u001b[0m in \u001b[0;36mpandas._libs.hashtable.PyObjectHashTable.get_item\u001b[1;34m()\u001b[0m\n",
      "\u001b[1;32mpandas\\_libs\\hashtable_class_helper.pxi\u001b[0m in \u001b[0;36mpandas._libs.hashtable.PyObjectHashTable.get_item\u001b[1;34m()\u001b[0m\n",
      "\u001b[1;31mKeyError\u001b[0m: 'Group'",
      "\nThe above exception was the direct cause of the following exception:\n",
      "\u001b[1;31mKeyError\u001b[0m                                  Traceback (most recent call last)",
      "\u001b[1;32m~\\AppData\\Local\\Temp/ipykernel_4264/627411830.py\u001b[0m in \u001b[0;36m<module>\u001b[1;34m\u001b[0m\n\u001b[1;32m----> 1\u001b[1;33m \u001b[0mtest_set\u001b[0m\u001b[1;33m[\u001b[0m\u001b[1;34m'Group'\u001b[0m\u001b[1;33m]\u001b[0m \u001b[1;33m=\u001b[0m \u001b[0mtest_set\u001b[0m\u001b[1;33m[\u001b[0m\u001b[1;34m'Group'\u001b[0m\u001b[1;33m]\u001b[0m\u001b[1;33m.\u001b[0m\u001b[0mastype\u001b[0m\u001b[1;33m(\u001b[0m\u001b[1;34m'category'\u001b[0m\u001b[1;33m)\u001b[0m\u001b[1;33m\u001b[0m\u001b[1;33m\u001b[0m\u001b[0m\n\u001b[0m",
      "\u001b[1;32m~\\anaconda3\\lib\\site-packages\\pandas\\core\\frame.py\u001b[0m in \u001b[0;36m__getitem__\u001b[1;34m(self, key)\u001b[0m\n\u001b[0;32m   3456\u001b[0m             \u001b[1;32mif\u001b[0m \u001b[0mself\u001b[0m\u001b[1;33m.\u001b[0m\u001b[0mcolumns\u001b[0m\u001b[1;33m.\u001b[0m\u001b[0mnlevels\u001b[0m \u001b[1;33m>\u001b[0m \u001b[1;36m1\u001b[0m\u001b[1;33m:\u001b[0m\u001b[1;33m\u001b[0m\u001b[1;33m\u001b[0m\u001b[0m\n\u001b[0;32m   3457\u001b[0m                 \u001b[1;32mreturn\u001b[0m \u001b[0mself\u001b[0m\u001b[1;33m.\u001b[0m\u001b[0m_getitem_multilevel\u001b[0m\u001b[1;33m(\u001b[0m\u001b[0mkey\u001b[0m\u001b[1;33m)\u001b[0m\u001b[1;33m\u001b[0m\u001b[1;33m\u001b[0m\u001b[0m\n\u001b[1;32m-> 3458\u001b[1;33m             \u001b[0mindexer\u001b[0m \u001b[1;33m=\u001b[0m \u001b[0mself\u001b[0m\u001b[1;33m.\u001b[0m\u001b[0mcolumns\u001b[0m\u001b[1;33m.\u001b[0m\u001b[0mget_loc\u001b[0m\u001b[1;33m(\u001b[0m\u001b[0mkey\u001b[0m\u001b[1;33m)\u001b[0m\u001b[1;33m\u001b[0m\u001b[1;33m\u001b[0m\u001b[0m\n\u001b[0m\u001b[0;32m   3459\u001b[0m             \u001b[1;32mif\u001b[0m \u001b[0mis_integer\u001b[0m\u001b[1;33m(\u001b[0m\u001b[0mindexer\u001b[0m\u001b[1;33m)\u001b[0m\u001b[1;33m:\u001b[0m\u001b[1;33m\u001b[0m\u001b[1;33m\u001b[0m\u001b[0m\n\u001b[0;32m   3460\u001b[0m                 \u001b[0mindexer\u001b[0m \u001b[1;33m=\u001b[0m \u001b[1;33m[\u001b[0m\u001b[0mindexer\u001b[0m\u001b[1;33m]\u001b[0m\u001b[1;33m\u001b[0m\u001b[1;33m\u001b[0m\u001b[0m\n",
      "\u001b[1;32m~\\anaconda3\\lib\\site-packages\\pandas\\core\\indexes\\base.py\u001b[0m in \u001b[0;36mget_loc\u001b[1;34m(self, key, method, tolerance)\u001b[0m\n\u001b[0;32m   3361\u001b[0m                 \u001b[1;32mreturn\u001b[0m \u001b[0mself\u001b[0m\u001b[1;33m.\u001b[0m\u001b[0m_engine\u001b[0m\u001b[1;33m.\u001b[0m\u001b[0mget_loc\u001b[0m\u001b[1;33m(\u001b[0m\u001b[0mcasted_key\u001b[0m\u001b[1;33m)\u001b[0m\u001b[1;33m\u001b[0m\u001b[1;33m\u001b[0m\u001b[0m\n\u001b[0;32m   3362\u001b[0m             \u001b[1;32mexcept\u001b[0m \u001b[0mKeyError\u001b[0m \u001b[1;32mas\u001b[0m \u001b[0merr\u001b[0m\u001b[1;33m:\u001b[0m\u001b[1;33m\u001b[0m\u001b[1;33m\u001b[0m\u001b[0m\n\u001b[1;32m-> 3363\u001b[1;33m                 \u001b[1;32mraise\u001b[0m \u001b[0mKeyError\u001b[0m\u001b[1;33m(\u001b[0m\u001b[0mkey\u001b[0m\u001b[1;33m)\u001b[0m \u001b[1;32mfrom\u001b[0m \u001b[0merr\u001b[0m\u001b[1;33m\u001b[0m\u001b[1;33m\u001b[0m\u001b[0m\n\u001b[0m\u001b[0;32m   3364\u001b[0m \u001b[1;33m\u001b[0m\u001b[0m\n\u001b[0;32m   3365\u001b[0m         \u001b[1;32mif\u001b[0m \u001b[0mis_scalar\u001b[0m\u001b[1;33m(\u001b[0m\u001b[0mkey\u001b[0m\u001b[1;33m)\u001b[0m \u001b[1;32mand\u001b[0m \u001b[0misna\u001b[0m\u001b[1;33m(\u001b[0m\u001b[0mkey\u001b[0m\u001b[1;33m)\u001b[0m \u001b[1;32mand\u001b[0m \u001b[1;32mnot\u001b[0m \u001b[0mself\u001b[0m\u001b[1;33m.\u001b[0m\u001b[0mhasnans\u001b[0m\u001b[1;33m:\u001b[0m\u001b[1;33m\u001b[0m\u001b[1;33m\u001b[0m\u001b[0m\n",
      "\u001b[1;31mKeyError\u001b[0m: 'Group'"
     ]
    }
   ],
   "source": [
    "test_set['Group'] = test_set['Group'].astype('category')"
   ]
  },
  {
   "cell_type": "code",
   "execution_count": 44,
   "metadata": {},
   "outputs": [
    {
     "data": {
      "text/plain": [
       "MN        69\n",
       "Normal    68\n",
       "LN        68\n",
       "HN        68\n",
       "Name: Trt, dtype: int64"
      ]
     },
     "execution_count": 44,
     "metadata": {},
     "output_type": "execute_result"
    }
   ],
   "source": [
    "test_set['Trt'].value_counts()"
   ]
  },
  {
   "cell_type": "code",
   "execution_count": 1075,
   "metadata": {},
   "outputs": [],
   "source": [
    "#test_set = test_set.loc[test_set['Trt'].isin(['Normal','HN']), :]"
   ]
  },
  {
   "cell_type": "code",
   "execution_count": 238,
   "metadata": {},
   "outputs": [],
   "source": [
    "position_first = test_set.columns.get_loc('351')\n",
    "position_last = test_set.columns.get_loc('2500') + 1 \n",
    "X_test = test_set.iloc[:, position_first : position_2500]"
   ]
  },
  {
   "cell_type": "code",
   "execution_count": 239,
   "metadata": {},
   "outputs": [],
   "source": [
    "group = []\n",
    "for i in test_set['PLOT ID']:\n",
    "    if str(i)[0] == '1' or str(i)[0] == '2':\n",
    "        group.append('Inbred')\n",
    "    else:\n",
    "            group.append('Hybrid')"
   ]
  },
  {
   "cell_type": "code",
   "execution_count": 240,
   "metadata": {},
   "outputs": [],
   "source": [
    "test_set.insert(3, 'Group', group)"
   ]
  },
  {
   "cell_type": "code",
   "execution_count": 241,
   "metadata": {},
   "outputs": [],
   "source": [
    "y_test = test_set['Group']"
   ]
  },
  {
   "cell_type": "code",
   "execution_count": 162,
   "metadata": {},
   "outputs": [],
   "source": [
    "#random_state = 2\n",
    "# Split into train/test\n",
    "X_train, X_test, y_train, y_test = train_test_split(X, y, test_size=0.3, stratify=y) #, random_state=random_state)"
   ]
  },
  {
   "cell_type": "code",
   "execution_count": 184,
   "metadata": {},
   "outputs": [],
   "source": [
    "SVC_model = svm.SVC()\n",
    "# KNN model requires you to specify n_neighbors,\n",
    "# the number of points the classifier will look at to determine what class a new point belongs to\n",
    "KNN_model = KNeighborsClassifier(n_neighbors=2)\n",
    "logreg_model = LogisticRegression()"
   ]
  },
  {
   "cell_type": "code",
   "execution_count": 185,
   "metadata": {},
   "outputs": [
    {
     "data": {
      "text/plain": [
       "LogisticRegression()"
      ]
     },
     "execution_count": 185,
     "metadata": {},
     "output_type": "execute_result"
    }
   ],
   "source": [
    "SVC_model.fit(X_train, y_train)\n",
    "KNN_model.fit(X_train, y_train)\n",
    "logreg_model.fit(X_train, y_train)\n"
   ]
  },
  {
   "cell_type": "code",
   "execution_count": 186,
   "metadata": {},
   "outputs": [],
   "source": [
    "SVC_prediction = SVC_model.predict(X_test)\n",
    "KNN_prediction = KNN_model.predict(X_test)\n",
    "logreg_prediction= logreg_model.predict(X_test)"
   ]
  },
  {
   "cell_type": "code",
   "execution_count": 191,
   "metadata": {},
   "outputs": [
    {
     "name": "stdout",
     "output_type": "stream",
     "text": [
      "0.39194139194139194\n",
      "0.46886446886446886\n",
      "0.673992673992674\n"
     ]
    }
   ],
   "source": [
    "print(accuracy_score(SVC_prediction, y_test))\n",
    "print(accuracy_score(KNN_prediction, y_test))\n",
    "print(accuracy_score(logreg_prediction, y_test))"
   ]
  },
  {
   "cell_type": "code",
   "execution_count": 192,
   "metadata": {},
   "outputs": [],
   "source": [
    "forest = RandomForestClassifier(criterion='gini',\n",
    "                                 n_estimators=5,\n",
    "                                 min_samples_leaf=3,\n",
    "                                 min_samples_split= 5,\n",
    "                                 bootstrap = True,\n",
    "                                 n_jobs=2)"
   ]
  },
  {
   "cell_type": "code",
   "execution_count": 196,
   "metadata": {},
   "outputs": [
    {
     "name": "stdout",
     "output_type": "stream",
     "text": [
      "Accuracy: 0.377\n"
     ]
    }
   ],
   "source": [
    "#\n",
    "# Fit the model “gini”, “entropy”, “log_loss”}, \n",
    "#\n",
    "forest.fit(X_train, y_train)\n",
    " \n",
    "#\n",
    "# Measure model performance\n",
    "#\n",
    "y_pred = forest.predict(X_test)\n",
    "print('Accuracy: %.3f' % accuracy_score(y_test, y_pred))"
   ]
  },
  {
   "cell_type": "code",
   "execution_count": null,
   "metadata": {},
   "outputs": [],
   "source": []
  },
  {
   "cell_type": "code",
   "execution_count": 659,
   "metadata": {
    "collapsed": true
   },
   "outputs": [
    {
     "data": {
      "text/plain": [
       "{'bootstrap': False,\n",
       " 'ccp_alpha': 0.0,\n",
       " 'class_weight': None,\n",
       " 'criterion': 'gini',\n",
       " 'max_depth': None,\n",
       " 'max_features': 'auto',\n",
       " 'max_leaf_nodes': None,\n",
       " 'max_samples': None,\n",
       " 'min_impurity_decrease': 0.0,\n",
       " 'min_impurity_split': None,\n",
       " 'min_samples_leaf': 2,\n",
       " 'min_samples_split': 5,\n",
       " 'min_weight_fraction_leaf': 0.0,\n",
       " 'n_estimators': 10,\n",
       " 'n_jobs': 2,\n",
       " 'oob_score': False,\n",
       " 'random_state': None,\n",
       " 'verbose': 0,\n",
       " 'warm_start': False}"
      ]
     },
     "execution_count": 659,
     "metadata": {},
     "output_type": "execute_result"
    }
   ],
   "source": [
    "forest.get_params()"
   ]
  },
  {
   "cell_type": "code",
   "execution_count": 1099,
   "metadata": {},
   "outputs": [],
   "source": [
    "# Feature Importance\n",
    "result = permutation_importance(forest, X_train, y_train, n_repeats=10, random_state=42, n_jobs=2)\n",
    "forest_importances = pd.Series(result.importances_mean, index = X_train.columns)"
   ]
  },
  {
   "cell_type": "code",
   "execution_count": 1102,
   "metadata": {
    "collapsed": true
   },
   "outputs": [
    {
     "data": {
      "text/plain": [
       "444     0.003214\n",
       "1067    0.002381\n",
       "536     0.002143\n",
       "732     0.002024\n",
       "733     0.002024\n",
       "482     0.001905\n",
       "1603    0.001667\n",
       "1514    0.001667\n",
       "1060    0.001667\n",
       "435     0.001548\n",
       "1543    0.001548\n",
       "473     0.001429\n",
       "2242    0.001310\n",
       "1461    0.001310\n",
       "363     0.001310\n",
       "1058    0.001310\n",
       "1055    0.001190\n",
       "654     0.001190\n",
       "1584    0.001190\n",
       "430     0.001190\n",
       "1533    0.001071\n",
       "531     0.001071\n",
       "2140    0.001071\n",
       "393     0.001071\n",
       "1519    0.001071\n",
       "390     0.001071\n",
       "695     0.001071\n",
       "632     0.001071\n",
       "448     0.000952\n",
       "662     0.000952\n",
       "494     0.000952\n",
       "731     0.000952\n",
       "460     0.000952\n",
       "2163    0.000833\n",
       "406     0.000833\n",
       "468     0.000714\n",
       "728     0.000714\n",
       "359     0.000714\n",
       "1936    0.000714\n",
       "2171    0.000714\n",
       "1223    0.000595\n",
       "1193    0.000595\n",
       "1503    0.000595\n",
       "358     0.000595\n",
       "2257    0.000595\n",
       "1186    0.000595\n",
       "951     0.000595\n",
       "1752    0.000476\n",
       "1142    0.000476\n",
       "597     0.000357\n",
       "dtype: float64"
      ]
     },
     "execution_count": 1102,
     "metadata": {},
     "output_type": "execute_result"
    }
   ],
   "source": [
    "forest_importances.sort_values(ascending = False, inplace= True)\n",
    "forest_importances.head(50)"
   ]
  },
  {
   "cell_type": "code",
   "execution_count": 1178,
   "metadata": {},
   "outputs": [
    {
     "data": {
      "text/plain": [
       "724     0.000119\n",
       "1072    0.000000\n",
       "1052    0.000000\n",
       "1051    0.000000\n",
       "1107    0.000000\n",
       "1137    0.000000\n",
       "1136    0.000000\n",
       "1135    0.000000\n",
       "1134    0.000000\n",
       "1133    0.000000\n",
       "1132    0.000000\n",
       "1068    0.000000\n",
       "1071    0.000000\n",
       "1069    0.000000\n",
       "1070    0.000000\n",
       "1131    0.000000\n",
       "1054    0.000000\n",
       "1073    0.000000\n",
       "1074    0.000000\n",
       "1075    0.000000\n",
       "1076    0.000000\n",
       "1130    0.000000\n",
       "1066    0.000000\n",
       "1064    0.000000\n",
       "1065    0.000000\n",
       "1056    0.000000\n",
       "1047    0.000000\n",
       "1048    0.000000\n",
       "1049    0.000000\n",
       "1050    0.000000\n",
       "dtype: float64"
      ]
     },
     "execution_count": 1178,
     "metadata": {},
     "output_type": "execute_result"
    }
   ],
   "source": [
    "forest_importances[70:100]"
   ]
  },
  {
   "cell_type": "code",
   "execution_count": 1168,
   "metadata": {},
   "outputs": [],
   "source": [
    "importance= forest_importances.to_frame()"
   ]
  },
  {
   "cell_type": "code",
   "execution_count": 1169,
   "metadata": {},
   "outputs": [],
   "source": [
    "i2 =importance.reset_index()"
   ]
  },
  {
   "cell_type": "code",
   "execution_count": 1170,
   "metadata": {},
   "outputs": [],
   "source": [
    "i2['index'] = i2['index'].astype('int')"
   ]
  },
  {
   "cell_type": "code",
   "execution_count": 1171,
   "metadata": {},
   "outputs": [],
   "source": [
    "i2.rename(columns={'index':'band' , 0 : 'importance'}, inplace=True)"
   ]
  },
  {
   "cell_type": "code",
   "execution_count": 1174,
   "metadata": {},
   "outputs": [],
   "source": [
    "i2 =i2.sort_values(by='band')"
   ]
  },
  {
   "cell_type": "code",
   "execution_count": 1175,
   "metadata": {},
   "outputs": [
    {
     "data": {
      "text/plain": [
       "[<matplotlib.lines.Line2D at 0x7f827b0e8278>]"
      ]
     },
     "execution_count": 1175,
     "metadata": {},
     "output_type": "execute_result"
    },
    {
     "data": {
      "image/png": "[encoded data removed]",
      "text/plain": [
       "<Figure size 432x288 with 1 Axes>"
      ]
     },
     "metadata": {},
     "output_type": "display_data"
    }
   ],
   "source": [
    "plt.plot(i2['band'], i2['importance'])"
   ]
  },
  {
   "cell_type": "code",
   "execution_count": 1184,
   "metadata": {},
   "outputs": [],
   "source": [
    "first_70 = i2.sort_values(by ='importance', ascending=False)[0:70]"
   ]
  },
  {
   "cell_type": "code",
   "execution_count": 1214,
   "metadata": {},
   "outputs": [],
   "source": [
    "first_70 = first_70.sort_values(by='band', ascending=True)"
   ]
  },
  {
   "cell_type": "code",
   "execution_count": 1215,
   "metadata": {},
   "outputs": [],
   "source": [
    "first_70_bands = first_70['band'].astype('string')"
   ]
  },
  {
   "cell_type": "code",
   "execution_count": 1217,
   "metadata": {},
   "outputs": [],
   "source": [
    "a =first_70_bands.to_list()"
   ]
  },
  {
   "cell_type": "code",
   "execution_count": 1232,
   "metadata": {
    "scrolled": true
   },
   "outputs": [
    {
     "data": {
      "text/plain": [
       "['358',\n",
       " '359',\n",
       " '363',\n",
       " '390',\n",
       " '393',\n",
       " '406',\n",
       " '430',\n",
       " '435',\n",
       " '442',\n",
       " '444',\n",
       " '448',\n",
       " '460',\n",
       " '468',\n",
       " '473',\n",
       " '482',\n",
       " '494',\n",
       " '499',\n",
       " '522',\n",
       " '531',\n",
       " '536',\n",
       " '597',\n",
       " '621',\n",
       " '632',\n",
       " '643',\n",
       " '654',\n",
       " '662',\n",
       " '684',\n",
       " '695',\n",
       " '726',\n",
       " '728',\n",
       " '731',\n",
       " '732',\n",
       " '733',\n",
       " '744',\n",
       " '951',\n",
       " '955',\n",
       " '1015',\n",
       " '1019',\n",
       " '1055',\n",
       " '1058',\n",
       " '1060',\n",
       " '1067',\n",
       " '1110',\n",
       " '1142',\n",
       " '1186',\n",
       " '1193',\n",
       " '1223',\n",
       " '1461',\n",
       " '1503',\n",
       " '1510',\n",
       " '1514',\n",
       " '1519',\n",
       " '1533',\n",
       " '1543',\n",
       " '1546',\n",
       " '1584',\n",
       " '1588',\n",
       " '1603',\n",
       " '1624',\n",
       " '1735',\n",
       " '1752',\n",
       " '1795',\n",
       " '1936',\n",
       " '1949',\n",
       " '2140',\n",
       " '2150',\n",
       " '2163',\n",
       " '2171',\n",
       " '2242',\n",
       " '2257']"
      ]
     },
     "execution_count": 1232,
     "metadata": {},
     "output_type": "execute_result"
    }
   ],
   "source": [
    "a"
   ]
  },
  {
   "cell_type": "code",
   "execution_count": 1304,
   "metadata": {},
   "outputs": [],
   "source": [
    "selected = data[['index', 'genotype', 'PLOT.ID', 'rows', 'ranges', 'Block', 'Rep', 'Trt',\n",
    "       'year', 'note', 'Group', 'Calibration', 'ASD'] + a]"
   ]
  },
  {
   "cell_type": "code",
   "execution_count": 1518,
   "metadata": {
    "collapsed": true
   },
   "outputs": [
    {
     "name": "stderr",
     "output_type": "stream",
     "text": [
      "/usr/local/lib/python3.6/dist-packages/pandas/core/frame.py:3069: SettingWithCopyWarning: \n",
      "A value is trying to be set on a copy of a slice from a DataFrame.\n",
      "Try using .loc[row_indexer,col_indexer] = value instead\n",
      "\n",
      "See the caveats in the documentation: https://pandas.pydata.org/pandas-docs/stable/user_guide/indexing.html#returning-a-view-versus-a-copy\n",
      "  self[k1] = value[k2]\n"
     ]
    }
   ],
   "source": [
    "selected[['genotype', 'PLOT.ID', 'rows', 'ranges', 'Block', 'Rep', 'Trt', 'year',\n",
    "       'note', 'Group', 'Calibration', 'ASD']] = selected[['genotype', 'PLOT.ID', 'rows', 'ranges', 'Block', 'Rep', 'Trt', 'year',\n",
    "       'note', 'Group', 'Calibration', 'ASD']].astype('category')"
   ]
  },
  {
   "cell_type": "code",
   "execution_count": 1520,
   "metadata": {},
   "outputs": [],
   "source": [
    "position_first = selected.columns.get_loc('358')\n",
    "position_last = selected.columns.get_loc('2257') + 1 \n",
    "X_train= selected.iloc[:, position_first : position_last]"
   ]
  },
  {
   "cell_type": "code",
   "execution_count": 1519,
   "metadata": {},
   "outputs": [
    {
     "data": {
      "text/plain": [
       "index             int64\n",
       "genotype       category\n",
       "PLOT.ID        category\n",
       "rows           category\n",
       "ranges         category\n",
       "Block          category\n",
       "Rep            category\n",
       "Trt            category\n",
       "year           category\n",
       "note           category\n",
       "Group          category\n",
       "Calibration    category\n",
       "dtype: object"
      ]
     },
     "execution_count": 1519,
     "metadata": {},
     "output_type": "execute_result"
    }
   ],
   "source": [
    "selected.dtypes[0:12]"
   ]
  },
  {
   "cell_type": "code",
   "execution_count": 1522,
   "metadata": {},
   "outputs": [
    {
     "data": {
      "text/plain": [
       "0       Inbred\n",
       "1       Inbred\n",
       "2       Inbred\n",
       "3       Inbred\n",
       "4       Inbred\n",
       "         ...  \n",
       "1195    Hybrid\n",
       "1196    Hybrid\n",
       "1197    Hybrid\n",
       "1198    Hybrid\n",
       "1199    Hybrid\n",
       "Name: Group, Length: 1200, dtype: category\n",
       "Categories (2, object): ['Hybrid', 'Inbred']"
      ]
     },
     "execution_count": 1522,
     "metadata": {},
     "output_type": "execute_result"
    }
   ],
   "source": [
    "y_train"
   ]
  },
  {
   "cell_type": "code",
   "execution_count": 1521,
   "metadata": {},
   "outputs": [],
   "source": [
    "y_train = selected.loc[:, 'Group']"
   ]
  },
  {
   "cell_type": "code",
   "execution_count": 660,
   "metadata": {},
   "outputs": [
    {
     "name": "stdout",
     "output_type": "stream",
     "text": [
      "Accuracy: 0.262 (0.047)\n"
     ]
    }
   ],
   "source": [
    "steps = [('svd', TruncatedSVD(n_components=10)), ('m', KNeighborsClassifier(n_neighbors=1))]\n",
    "model = Pipeline(steps=steps)\n",
    "# evaluate model\n",
    "cv = RepeatedStratifiedKFold(n_splits=10, n_repeats=3, random_state=1)\n",
    "n_scores = cross_val_score(model, X, y, scoring='accuracy', cv=cv, n_jobs=-1)\n",
    "# report performance\n",
    "print('Accuracy: %.3f (%.3f)' % (mean(n_scores), std(n_scores)))"
   ]
  },
  {
   "cell_type": "code",
   "execution_count": null,
   "metadata": {},
   "outputs": [],
   "source": []
  },
  {
   "cell_type": "code",
   "execution_count": 661,
   "metadata": {},
   "outputs": [
    {
     "name": "stdout",
     "output_type": "stream",
     "text": [
      "Accuracy: 0.366 (0.070)\n"
     ]
    }
   ],
   "source": [
    "steps = [('lda', LinearDiscriminantAnalysis(n_components=1)), ('m', KNeighborsClassifier(n_neighbors=1))]\n",
    "model = Pipeline(steps=steps)\n",
    "# evaluate model\n",
    "cv = RepeatedStratifiedKFold(n_splits=10, n_repeats=3, random_state=1)\n",
    "n_scores = cross_val_score(model, X, y, scoring='accuracy', cv=cv, n_jobs=-1)\n",
    "# report performance\n",
    "print('Accuracy: %.3f (%.3f)' % (mean(n_scores), std(n_scores)))\n"
   ]
  },
  {
   "cell_type": "code",
   "execution_count": 662,
   "metadata": {},
   "outputs": [
    {
     "name": "stdout",
     "output_type": "stream",
     "text": [
      "Accuracy: 0.276 (0.047)\n"
     ]
    }
   ],
   "source": [
    "from sklearn.manifold import Isomap\n",
    "# define the pipeline\n",
    "steps = [('iso', Isomap(n_components=10)), ('m', KNeighborsClassifier(n_neighbors=1))]\n",
    "model = Pipeline(steps=steps)\n",
    "# evaluate model\n",
    "cv = RepeatedStratifiedKFold(n_splits=10, n_repeats=3, random_state=1)\n",
    "n_scores = cross_val_score(model, X, y, scoring='accuracy', cv=cv, n_jobs=-1)\n",
    "# report performance\n",
    "print('Accuracy: %.3f (%.3f)' % (mean(n_scores), std(n_scores)))"
   ]
  },
  {
   "cell_type": "code",
   "execution_count": 663,
   "metadata": {},
   "outputs": [
    {
     "name": "stdout",
     "output_type": "stream",
     "text": [
      "Accuracy: 0.270 (0.058)\n"
     ]
    }
   ],
   "source": [
    "from sklearn.manifold import LocallyLinearEmbedding\n",
    "# define the pipeline\n",
    "steps = [('lle', LocallyLinearEmbedding(n_components=10)), ('m', KNeighborsClassifier(n_neighbors=1))]\n",
    "model = Pipeline(steps=steps)\n",
    "# evaluate model\n",
    "cv = RepeatedStratifiedKFold(n_splits=10, n_repeats=3, random_state=1)\n",
    "n_scores = cross_val_score(model, X, y, scoring='accuracy', cv=cv, n_jobs=-1)\n",
    "# report performance\n",
    "print('Accuracy: %.3f (%.3f)' % (mean(n_scores), std(n_scores)))"
   ]
  },
  {
   "cell_type": "code",
   "execution_count": 664,
   "metadata": {},
   "outputs": [
    {
     "name": "stdout",
     "output_type": "stream",
     "text": [
      "Accuracy: 0.287 (0.057)\n"
     ]
    }
   ],
   "source": [
    "from sklearn.manifold import LocallyLinearEmbedding\n",
    "# define the pipeline\n",
    "steps = [('lle', LocallyLinearEmbedding(n_components=5, method='modified', n_neighbors=10)), ('m', KNeighborsClassifier(n_neighbors=1))]\n",
    "model = Pipeline(steps=steps)\n",
    "# evaluate model\n",
    "cv = RepeatedStratifiedKFold(n_splits=10, n_repeats=3, random_state=1)\n",
    "n_scores = cross_val_score(model, X, y, scoring='accuracy', cv=cv, n_jobs=-1)\n",
    "# report performance\n",
    "print('Accuracy: %.3f (%.3f)' % (mean(n_scores), std(n_scores)))"
   ]
  },
  {
   "cell_type": "code",
   "execution_count": 665,
   "metadata": {},
   "outputs": [],
   "source": [
    "PCA_blups = PCA(n_components=2)\n",
    "principal_comp = PCA_blups.fit_transform(X)"
   ]
  },
  {
   "cell_type": "code",
   "execution_count": 666,
   "metadata": {},
   "outputs": [],
   "source": [
    "principal_blups_Df = pd.DataFrame(data = principal_comp\n",
    "             , columns = ['principal component 1', 'principal component 2'])"
   ]
  },
  {
   "cell_type": "code",
   "execution_count": 667,
   "metadata": {},
   "outputs": [
    {
     "name": "stdout",
     "output_type": "stream",
     "text": [
      "Explained variation per principal component: [0.87266099 0.06973509]\n"
     ]
    }
   ],
   "source": [
    "print('Explained variation per principal component: {}'.format(PCA_blups.explained_variance_ratio_))"
   ]
  },
  {
   "cell_type": "code",
   "execution_count": 668,
   "metadata": {},
   "outputs": [
    {
     "data": {
      "text/plain": [
       "<matplotlib.legend.Legend at 0x7f82803cd240>"
      ]
     },
     "execution_count": 668,
     "metadata": {},
     "output_type": "execute_result"
    },
    {
     "data": {
      "text/plain": [
       "<Figure size 432x288 with 0 Axes>"
      ]
     },
     "metadata": {},
     "output_type": "display_data"
    },
    {
     "data": {
      "image/png": "[encoded data removed]",
      "text/plain": [
       "<Figure size 720x720 with 1 Axes>"
      ]
     },
     "metadata": {},
     "output_type": "display_data"
    }
   ],
   "source": [
    "plt.figure()\n",
    "plt.figure(figsize=(10,10))\n",
    "plt.xticks(fontsize=12)\n",
    "plt.yticks(fontsize=14)\n",
    "plt.xlabel('Principal Component - 1',fontsize=20)\n",
    "plt.ylabel('Principal Component - 2',fontsize=20)\n",
    "plt.title(\"Principal Component Analysis\",fontsize=20)\n",
    "targets = ['Hybrid', 'Inbred']\n",
    "colors = ['r', 'g']\n",
    "for target, color in zip(targets,colors):\n",
    "    indicesToKeep = data['Group'] == target\n",
    "    plt.scatter(principal_blups_Df.loc[indicesToKeep, 'principal component 1']\n",
    "               , principal_blups_Df.loc[indicesToKeep, 'principal component 2'], c = color, s = 50)\n",
    "\n",
    "plt.legend(targets,prop={'size': 15})"
   ]
  },
  {
   "cell_type": "code",
   "execution_count": 669,
   "metadata": {},
   "outputs": [
    {
     "data": {
      "text/plain": [
       "0       Inbred\n",
       "1       Inbred\n",
       "2       Inbred\n",
       "3       Inbred\n",
       "4       Inbred\n",
       "         ...  \n",
       "1195    Hybrid\n",
       "1196    Hybrid\n",
       "1197    Hybrid\n",
       "1198    Hybrid\n",
       "1199    Hybrid\n",
       "Name: Group, Length: 1200, dtype: category\n",
       "Categories (2, object): ['Hybrid', 'Inbred']"
      ]
     },
     "execution_count": 669,
     "metadata": {},
     "output_type": "execute_result"
    }
   ],
   "source": [
    "data['Group']"
   ]
  },
  {
   "cell_type": "code",
   "execution_count": 1776,
   "metadata": {},
   "outputs": [],
   "source": [
    "from sklearn.decomposition import PCA\n",
    "pca_spectra = PCA(n_components=5)\n",
    "principalComponents_spectra = pca_spectra.fit_transform(X)"
   ]
  },
  {
   "cell_type": "code",
   "execution_count": 1777,
   "metadata": {},
   "outputs": [],
   "source": [
    "pca_explained =pca_spectra.explained_variance_ratio_"
   ]
  },
  {
   "cell_type": "code",
   "execution_count": 1778,
   "metadata": {},
   "outputs": [],
   "source": [
    "pca_df = pd.DataFrame(\n",
    "    data=principalComponents_spectra, \n",
    "    columns=['PC1', 'PC2', 'PC3', 'PC4', 'PC5'])"
   ]
  },
  {
   "cell_type": "code",
   "execution_count": 1779,
   "metadata": {},
   "outputs": [
    {
     "data": {
      "text/html": [
       "<div>\n",
       "<style scoped>\n",
       "    .dataframe tbody tr th:only-of-type {\n",
       "        vertical-align: middle;\n",
       "    }\n",
       "\n",
       "    .dataframe tbody tr th {\n",
       "        vertical-align: top;\n",
       "    }\n",
       "\n",
       "    .dataframe thead th {\n",
       "        text-align: right;\n",
       "    }\n",
       "</style>\n",
       "<table border=\"1\" class=\"dataframe\">\n",
       "  <thead>\n",
       "    <tr style=\"text-align: right;\">\n",
       "      <th></th>\n",
       "      <th>PC1</th>\n",
       "      <th>PC2</th>\n",
       "      <th>PC3</th>\n",
       "      <th>PC4</th>\n",
       "      <th>PC5</th>\n",
       "    </tr>\n",
       "  </thead>\n",
       "  <tbody>\n",
       "    <tr>\n",
       "      <th>0</th>\n",
       "      <td>-0.213815</td>\n",
       "      <td>0.166827</td>\n",
       "      <td>0.076184</td>\n",
       "      <td>-0.011928</td>\n",
       "      <td>0.042922</td>\n",
       "    </tr>\n",
       "    <tr>\n",
       "      <th>1</th>\n",
       "      <td>-0.253658</td>\n",
       "      <td>-0.020129</td>\n",
       "      <td>-0.052851</td>\n",
       "      <td>-0.004830</td>\n",
       "      <td>0.008809</td>\n",
       "    </tr>\n",
       "    <tr>\n",
       "      <th>2</th>\n",
       "      <td>-0.272280</td>\n",
       "      <td>-0.058635</td>\n",
       "      <td>-0.088967</td>\n",
       "      <td>0.001167</td>\n",
       "      <td>0.001705</td>\n",
       "    </tr>\n",
       "    <tr>\n",
       "      <th>3</th>\n",
       "      <td>0.071897</td>\n",
       "      <td>-0.007135</td>\n",
       "      <td>-0.173800</td>\n",
       "      <td>-0.027143</td>\n",
       "      <td>0.031009</td>\n",
       "    </tr>\n",
       "    <tr>\n",
       "      <th>4</th>\n",
       "      <td>-0.186360</td>\n",
       "      <td>-0.124628</td>\n",
       "      <td>-0.109634</td>\n",
       "      <td>0.008589</td>\n",
       "      <td>-0.009645</td>\n",
       "    </tr>\n",
       "    <tr>\n",
       "      <th>...</th>\n",
       "      <td>...</td>\n",
       "      <td>...</td>\n",
       "      <td>...</td>\n",
       "      <td>...</td>\n",
       "      <td>...</td>\n",
       "    </tr>\n",
       "    <tr>\n",
       "      <th>604</th>\n",
       "      <td>0.276585</td>\n",
       "      <td>0.060858</td>\n",
       "      <td>0.055251</td>\n",
       "      <td>0.014119</td>\n",
       "      <td>-0.005410</td>\n",
       "    </tr>\n",
       "    <tr>\n",
       "      <th>605</th>\n",
       "      <td>0.432652</td>\n",
       "      <td>-0.096938</td>\n",
       "      <td>0.040226</td>\n",
       "      <td>-0.011445</td>\n",
       "      <td>-0.001393</td>\n",
       "    </tr>\n",
       "    <tr>\n",
       "      <th>606</th>\n",
       "      <td>0.231830</td>\n",
       "      <td>0.088999</td>\n",
       "      <td>-0.086200</td>\n",
       "      <td>0.002189</td>\n",
       "      <td>-0.021680</td>\n",
       "    </tr>\n",
       "    <tr>\n",
       "      <th>607</th>\n",
       "      <td>0.264359</td>\n",
       "      <td>0.115778</td>\n",
       "      <td>-0.098613</td>\n",
       "      <td>-0.002739</td>\n",
       "      <td>-0.013700</td>\n",
       "    </tr>\n",
       "    <tr>\n",
       "      <th>608</th>\n",
       "      <td>0.611083</td>\n",
       "      <td>-0.195128</td>\n",
       "      <td>0.056340</td>\n",
       "      <td>0.000956</td>\n",
       "      <td>0.010687</td>\n",
       "    </tr>\n",
       "  </tbody>\n",
       "</table>\n",
       "<p>609 rows × 5 columns</p>\n",
       "</div>"
      ],
      "text/plain": [
       "          PC1       PC2       PC3       PC4       PC5\n",
       "0   -0.213815  0.166827  0.076184 -0.011928  0.042922\n",
       "1   -0.253658 -0.020129 -0.052851 -0.004830  0.008809\n",
       "2   -0.272280 -0.058635 -0.088967  0.001167  0.001705\n",
       "3    0.071897 -0.007135 -0.173800 -0.027143  0.031009\n",
       "4   -0.186360 -0.124628 -0.109634  0.008589 -0.009645\n",
       "..        ...       ...       ...       ...       ...\n",
       "604  0.276585  0.060858  0.055251  0.014119 -0.005410\n",
       "605  0.432652 -0.096938  0.040226 -0.011445 -0.001393\n",
       "606  0.231830  0.088999 -0.086200  0.002189 -0.021680\n",
       "607  0.264359  0.115778 -0.098613 -0.002739 -0.013700\n",
       "608  0.611083 -0.195128  0.056340  0.000956  0.010687\n",
       "\n",
       "[609 rows x 5 columns]"
      ]
     },
     "execution_count": 1779,
     "metadata": {},
     "output_type": "execute_result"
    }
   ],
   "source": [
    "pca_df"
   ]
  },
  {
   "cell_type": "code",
   "execution_count": 242,
   "metadata": {},
   "outputs": [
    {
     "ename": "NameError",
     "evalue": "name 'pca_df' is not defined",
     "output_type": "error",
     "traceback": [
      "\u001b[0;31m---------------------------------------------------------------------------\u001b[0m",
      "\u001b[0;31mNameError\u001b[0m                                 Traceback (most recent call last)",
      "\u001b[0;32m<ipython-input-242-a2895101cda3>\u001b[0m in \u001b[0;36m<module>\u001b[0;34m()\u001b[0m\n\u001b[1;32m      6\u001b[0m }\n\u001b[1;32m      7\u001b[0m \u001b[0;34m\u001b[0m\u001b[0m\n\u001b[0;32m----> 8\u001b[0;31m \u001b[0mpca_df\u001b[0m\u001b[0;34m[\u001b[0m\u001b[0;34m'note2'\u001b[0m\u001b[0;34m]\u001b[0m \u001b[0;34m=\u001b[0m \u001b[0my\u001b[0m\u001b[0;34m\u001b[0m\u001b[0;34m\u001b[0m\u001b[0m\n\u001b[0m\u001b[1;32m      9\u001b[0m \u001b[0mpca_df\u001b[0m\u001b[0;34m[\u001b[0m\u001b[0;34m'note2'\u001b[0m\u001b[0;34m]\u001b[0m \u001b[0;34m=\u001b[0m \u001b[0mpca_df\u001b[0m\u001b[0;34m[\u001b[0m\u001b[0;34m'note2'\u001b[0m\u001b[0;34m]\u001b[0m\u001b[0;34m.\u001b[0m\u001b[0mmap\u001b[0m\u001b[0;34m(\u001b[0m\u001b[0mtarget_names\u001b[0m\u001b[0;34m)\u001b[0m\u001b[0;34m\u001b[0m\u001b[0;34m\u001b[0m\u001b[0m\n\u001b[1;32m     10\u001b[0m \u001b[0;34m\u001b[0m\u001b[0m\n",
      "\u001b[0;31mNameError\u001b[0m: name 'pca_df' is not defined"
     ]
    }
   ],
   "source": [
    "target_names = {\n",
    "    1:'BGEM_Short_early', \n",
    "    2:'BGEM_Short_late',\n",
    "    3:'BGEM_Tall_early',\n",
    "    4:'BGEM_Tall_late',\n",
    "}\n",
    " \n",
    "pca_df['note2'] = y\n",
    "pca_df['note2'] = pca_df['note2'].map(target_names)\n",
    " \n",
    "pca_df\n"
   ]
  },
  {
   "cell_type": "code",
   "execution_count": 1782,
   "metadata": {},
   "outputs": [
    {
     "data": {
      "image/png": "[encoded data removed]",
      "text/plain": [
       "<Figure size 640x480 with 1 Axes>"
      ]
     },
     "metadata": {},
     "output_type": "display_data"
    }
   ],
   "source": [
    "import matplotlib.pyplot as plt \n",
    " \n",
    "from sklearn.decomposition import PCA\n",
    "sns.set()\n",
    " \n",
    "\n",
    "# Bar plot of explained_variance\n",
    "plt.bar(\n",
    "    range(1,len(pca_spectra.explained_variance_)+1),\n",
    "    pca_spectra.explained_variance_\n",
    "    )\n",
    " \n",
    " \n",
    "plt.xlabel('PCA Feature')\n",
    "plt.ylabel('Explained variance')\n",
    "plt.title('Feature Explained Variance')\n",
    "plt.show()"
   ]
  },
  {
   "cell_type": "code",
   "execution_count": 1783,
   "metadata": {},
   "outputs": [
    {
     "data": {
      "image/png": "[encoded data removed]",
      "text/plain": [
       "<Figure size 640x480 with 1 Axes>"
      ]
     },
     "metadata": {},
     "output_type": "display_data"
    }
   ],
   "source": [
    "import numpy as np\n",
    "import matplotlib.pyplot as plt\n",
    " \n",
    "from mpl_toolkits import mplot3d\n",
    "plt.style.use('default')\n",
    " \n",
    "# Prepare 3D graph\n",
    "fig = plt.figure()\n",
    "ax = plt.axes(projection='3d')\n",
    " \n",
    "# Plot scaled features\n",
    "xdata = pca_df.iloc[:,0]\n",
    "ydata = pca_df.iloc[:,1]\n",
    "zdata = pca_df.iloc[:,2]\n",
    " \n",
    "# Plot 3D plot\n",
    "ax.scatter3D(xdata, ydata, zdata, c=note2, cmap='viridis')\n",
    " \n",
    "# Plot title of graph\n",
    "plt.title(f'3D Scatter of Iris')\n",
    " \n",
    "# Plot x, y, z even ticks\n",
    "#ticks = np.linspace(-1, 1, num=10)\n",
    "#ax.set_xticks(ticks)\n",
    "#ax.set_yticks(ticks)\n",
    "#ax.set_zticks(ticks)\n",
    " \n",
    "# Plot x, y, z labels\n",
    "ax.set_xlabel('PC1', rotation=0)\n",
    "ax.set_ylabel('PC2')\n",
    "ax.set_zlabel('PC3', rotation=60)\n",
    "plt.show()"
   ]
  },
  {
   "cell_type": "code",
   "execution_count": 333,
   "metadata": {},
   "outputs": [
    {
     "ename": "NameError",
     "evalue": "name 'pca_df' is not defined",
     "output_type": "error",
     "traceback": [
      "\u001b[0;31m---------------------------------------------------------------------------\u001b[0m",
      "\u001b[0;31mNameError\u001b[0m                                 Traceback (most recent call last)",
      "\u001b[0;32m<ipython-input-333-34fa6154ad88>\u001b[0m in \u001b[0;36m<module>\u001b[0;34m()\u001b[0m\n\u001b[1;32m      6\u001b[0m     \u001b[0mx\u001b[0m\u001b[0;34m=\u001b[0m\u001b[0;34m'PC1'\u001b[0m\u001b[0;34m,\u001b[0m\u001b[0;34m\u001b[0m\u001b[0;34m\u001b[0m\u001b[0m\n\u001b[1;32m      7\u001b[0m     \u001b[0my\u001b[0m\u001b[0;34m=\u001b[0m\u001b[0;34m'PC2'\u001b[0m\u001b[0;34m,\u001b[0m\u001b[0;34m\u001b[0m\u001b[0;34m\u001b[0m\u001b[0m\n\u001b[0;32m----> 8\u001b[0;31m     \u001b[0mdata\u001b[0m\u001b[0;34m=\u001b[0m\u001b[0mpca_df\u001b[0m\u001b[0;34m,\u001b[0m\u001b[0;34m\u001b[0m\u001b[0;34m\u001b[0m\u001b[0m\n\u001b[0m\u001b[1;32m      9\u001b[0m     \u001b[0mhue\u001b[0m\u001b[0;34m=\u001b[0m\u001b[0;34m'note2'\u001b[0m\u001b[0;34m,\u001b[0m\u001b[0;34m\u001b[0m\u001b[0;34m\u001b[0m\u001b[0m\n\u001b[1;32m     10\u001b[0m     \u001b[0mfit_reg\u001b[0m\u001b[0;34m=\u001b[0m\u001b[0;32mFalse\u001b[0m\u001b[0;34m,\u001b[0m\u001b[0;34m\u001b[0m\u001b[0;34m\u001b[0m\u001b[0m\n",
      "\u001b[0;31mNameError\u001b[0m: name 'pca_df' is not defined"
     ]
    }
   ],
   "source": [
    "import matplotlib.pyplot as plt \n",
    "import seaborn as sns\n",
    "sns.set()\n",
    " \n",
    "sns.lmplot(\n",
    "    x='PC1', \n",
    "    y='PC2', \n",
    "    data=pca_df, \n",
    "    hue='note2', \n",
    "    fit_reg=False, \n",
    "    legend=True\n",
    "    )\n",
    " \n",
    "plt.title('2D PCA Graph')\n",
    "plt.show()"
   ]
  },
  {
   "cell_type": "code",
   "execution_count": 1785,
   "metadata": {},
   "outputs": [],
   "source": [
    "X = pca_df.iloc[:, 0:4]"
   ]
  },
  {
   "cell_type": "code",
   "execution_count": 1786,
   "metadata": {},
   "outputs": [],
   "source": [
    "y = pca_df.iloc[:, 5]"
   ]
  },
  {
   "cell_type": "code",
   "execution_count": 304,
   "metadata": {},
   "outputs": [],
   "source": [
    "#random_state = 2\n",
    "# Split into train/test\n",
    "X_train, X_test, y_train, y_test = train_test_split(X, y, test_size=0.3, stratify=y)#, random_state=random_state)"
   ]
  },
  {
   "cell_type": "code",
   "execution_count": 305,
   "metadata": {},
   "outputs": [],
   "source": [
    "SVC_model = svm.SVC()\n",
    "# KNN model requires you to specify n_neighbors,\n",
    "# the number of points the classifier will look at to determine what class a new point belongs to\n",
    "KNN_model = KNeighborsClassifier(n_neighbors=3)\n",
    "logreg_model = LogisticRegression()"
   ]
  },
  {
   "cell_type": "code",
   "execution_count": 306,
   "metadata": {},
   "outputs": [
    {
     "data": {
      "text/plain": [
       "LogisticRegression()"
      ]
     },
     "execution_count": 306,
     "metadata": {},
     "output_type": "execute_result"
    }
   ],
   "source": [
    "SVC_model.fit(X_train, y_train)\n",
    "KNN_model.fit(X_train, y_train)\n",
    "logreg_model.fit(X_train, y_train)"
   ]
  },
  {
   "cell_type": "code",
   "execution_count": 307,
   "metadata": {},
   "outputs": [],
   "source": [
    "SVC_prediction = SVC_model.predict(X_test)\n",
    "KNN_prediction = KNN_model.predict(X_test)\n",
    "logreg_prediction= logreg_model.predict(X_test)"
   ]
  },
  {
   "cell_type": "code",
   "execution_count": 308,
   "metadata": {},
   "outputs": [
    {
     "name": "stdout",
     "output_type": "stream",
     "text": [
      "0.25\n",
      "0.2608695652173913\n",
      "0.2826086956521739\n"
     ]
    }
   ],
   "source": [
    "print(accuracy_score(SVC_prediction, y_test))\n",
    "print(accuracy_score(KNN_prediction, y_test))\n",
    "print(accuracy_score(logreg_prediction, y_test))"
   ]
  },
  {
   "cell_type": "code",
   "execution_count": 159,
   "metadata": {},
   "outputs": [],
   "source": [
    "forest = RandomForestClassifier(criterion='gini',\n",
    "                                 n_estimators=5,\n",
    "                                 min_samples_leaf=3,\n",
    "                                 min_samples_split= 5,\n",
    "                                 bootstrap = True,\n",
    "                                 n_jobs=2)"
   ]
  },
  {
   "cell_type": "code",
   "execution_count": 160,
   "metadata": {},
   "outputs": [
    {
     "name": "stdout",
     "output_type": "stream",
     "text": [
      "Accuracy: 0.320\n"
     ]
    }
   ],
   "source": [
    "#\n",
    "# Fit the model “gini”, “entropy”, “log_loss”}, \n",
    "#\n",
    "forest.fit(X_train, y_train)\n",
    " \n",
    "#\n",
    "# Measure model performance\n",
    "#\n",
    "y_pred = forest.predict(X_test)\n",
    "print('Accuracy: %.3f' % accuracy_score(y_test, y_pred))"
   ]
  },
  {
   "cell_type": "code",
   "execution_count": 134,
   "metadata": {},
   "outputs": [],
   "source": [
    "lda = LinearDiscriminantAnalysis(n_components=3)"
   ]
  },
  {
   "cell_type": "code",
   "execution_count": 135,
   "metadata": {},
   "outputs": [],
   "source": [
    "X_train = lda.fit_transform(X_train,y_train)\n"
   ]
  },
  {
   "cell_type": "code",
   "execution_count": 136,
   "metadata": {},
   "outputs": [],
   "source": [
    "X_test = lda.transform(X_test)"
   ]
  },
  {
   "cell_type": "code",
   "execution_count": 137,
   "metadata": {},
   "outputs": [
    {
     "data": {
      "text/plain": [
       "0.9953051643192489"
      ]
     },
     "execution_count": 137,
     "metadata": {},
     "output_type": "execute_result"
    }
   ],
   "source": [
    "clf=LinearDiscriminantAnalysis(n_components=3)\n",
    "clf.fit(X_train, y_train)\n",
    "clf.score(X_train, y_train)"
   ]
  },
  {
   "cell_type": "code",
   "execution_count": 138,
   "metadata": {},
   "outputs": [],
   "source": [
    "y_pred = clf.predict(X_test)"
   ]
  },
  {
   "cell_type": "code",
   "execution_count": 139,
   "metadata": {
    "scrolled": true
   },
   "outputs": [
    {
     "name": "stdout",
     "output_type": "stream",
     "text": [
      "              precision    recall  f1-score   support\n",
      "\n",
      "           1       0.56      0.43      0.49        23\n",
      "           2       0.55      0.52      0.53        23\n",
      "           3       0.52      0.52      0.52        23\n",
      "           4       0.48      0.61      0.54        23\n",
      "\n",
      "    accuracy                           0.52        92\n",
      "   macro avg       0.53      0.52      0.52        92\n",
      "weighted avg       0.53      0.52      0.52        92\n",
      "\n"
     ]
    }
   ],
   "source": [
    "print(classification_report(y_test, y_pred))"
   ]
  },
  {
   "cell_type": "code",
   "execution_count": 209,
   "metadata": {
    "scrolled": true
   },
   "outputs": [
    {
     "name": "stdout",
     "output_type": "stream",
     "text": [
      "[0.49180328 0.55737705 0.55737705 0.52459016 0.57377049 0.44262295\n",
      " 0.55737705 0.50819672 0.59016393 0.52459016 0.57377049 0.59016393\n",
      " 0.54098361 0.50819672 0.50819672 0.59016393 0.55737705 0.52459016\n",
      " 0.55737705 0.55737705 0.49180328 0.55737705 0.57377049 0.49180328\n",
      " 0.55737705]\n"
     ]
    },
    {
     "data": {
      "text/plain": [
       "\"\\n# Fit the method's model\\nmodel.fit(X, y)\\nX = model.transform(X)\\n\\n# Split into train/test\\nX_train, X_test, y_train, y_test =     train_test_split(X, y, test_size=0.5, stratify=y,\\n                     random_state=random_state)\\n\\n# Use a nearest neighbor classifier to evaluate the methods\\nknn = KNeighborsClassifier(n_neighbors=n_neighbors)\\n\\nscores = cross_val_score(knn, X, y, cv=5)  \\nprint(scores)\\n\\n# Fit a nearest neighbor classifier on the embedded training set\\nknn.fit(X_train, y_train)\\n\\n# Compute the nearest neighbor accuracy on the embedded test set\\nacc_knn = knn.score(X_test, y_test)\\n\\n# Embed the data set in 2 dimensions using the fitted model\\nX_embedded = model.transform(X)\\n\""
      ]
     },
     "execution_count": 209,
     "metadata": {},
     "output_type": "execute_result"
    }
   ],
   "source": [
    "random_state= 3\n",
    "n_neighbors = 3\n",
    "\n",
    "\n",
    "\n",
    "\n",
    "# Reduce dimension with LinearDiscriminantAnalysis\n",
    "model = LinearDiscriminantAnalysis(n_components=3)\n",
    "\n",
    "rkf = RepeatedStratifiedKFold(n_splits=5, n_repeats=5, random_state=random_state)\n",
    "scores = cross_val_score(model, X, y, cv=rkf)  \n",
    "print(scores)\n",
    "\n",
    "'''\n",
    "# Fit the method's model\n",
    "model.fit(X, y)\n",
    "X = model.transform(X)\n",
    "\n",
    "# Split into train/test\n",
    "X_train, X_test, y_train, y_test = \\\n",
    "    train_test_split(X, y, test_size=0.5, stratify=y,\n",
    "                     random_state=random_state)\n",
    "\n",
    "# Use a nearest neighbor classifier to evaluate the methods\n",
    "knn = KNeighborsClassifier(n_neighbors=n_neighbors)\n",
    "\n",
    "scores = cross_val_score(knn, X, y, cv=5)  \n",
    "print(scores)\n",
    "\n",
    "# Fit a nearest neighbor classifier on the embedded training set\n",
    "knn.fit(X_train, y_train)\n",
    "\n",
    "# Compute the nearest neighbor accuracy on the embedded test set\n",
    "acc_knn = knn.score(X_test, y_test)\n",
    "\n",
    "# Embed the data set in 2 dimensions using the fitted model\n",
    "X_embedded = model.transform(X)\n",
    "'''\n",
    "\n"
   ]
  },
  {
   "cell_type": "code",
   "execution_count": 210,
   "metadata": {},
   "outputs": [
    {
     "data": {
      "text/plain": [
       "array([0.49180328, 0.55737705, 0.55737705, 0.52459016, 0.57377049,\n",
       "       0.44262295, 0.55737705, 0.50819672, 0.59016393, 0.52459016,\n",
       "       0.57377049, 0.59016393, 0.54098361, 0.50819672, 0.50819672,\n",
       "       0.59016393, 0.55737705, 0.52459016, 0.55737705, 0.55737705,\n",
       "       0.49180328, 0.55737705, 0.57377049, 0.49180328, 0.55737705])"
      ]
     },
     "execution_count": 210,
     "metadata": {},
     "output_type": "execute_result"
    }
   ],
   "source": [
    "scores"
   ]
  },
  {
   "cell_type": "code",
   "execution_count": 158,
   "metadata": {},
   "outputs": [
    {
     "data": {
      "image/png": "[encoded data removed]",
      "text/plain": [
       "<Figure size 432x288 with 1 Axes>"
      ]
     },
     "metadata": {},
     "output_type": "display_data"
    }
   ],
   "source": [
    "random_state= 4\n",
    "n_neighbors = 3\n",
    "\n",
    "# Split into train/test\n",
    "X_train, X_test, y_train, y_test = \\\n",
    "    train_test_split(X, y, test_size=0.5, stratify=y,\n",
    "                     random_state=random_state)\n",
    "\n",
    "\n",
    "# Reduce dimension to 2 with PCA\n",
    "pca = make_pipeline(StandardScaler(),\n",
    "                    PCA(n_components=5, random_state=random_state))\n",
    "\n",
    "# Reduce dimension to 2 with LinearDiscriminantAnalysis\n",
    "lda = make_pipeline(StandardScaler(),\n",
    "                    LinearDiscriminantAnalysis(n_components=3))\n",
    "\n",
    "# Reduce dimension to 2 with NeighborhoodComponentAnalysis\n",
    "nca = make_pipeline(StandardScaler(),\n",
    "                    NeighborhoodComponentsAnalysis(n_components=3,\n",
    "                                                   random_state=random_state))\n",
    "\n",
    "# Use a nearest neighbor classifier to evaluate the methods\n",
    "knn = LogisticRegression()  \n",
    "#KNeighborsClassifier(n_neighbors=n_neighbors) #svm.SVC() \n",
    "#RandomForestClassifier()\n",
    "# KNeighborsClassifier(n_neighbors=n_neighbors)  \n",
    "    \n",
    "\n",
    "# Make a list of the methods to be compared\n",
    "dim_reduction_methods = [('PCA', pca)] #[('PCA', pca), ('LDA', lda), ('NCA', nca)]\n",
    "\n",
    "# plt.figure()\n",
    "for i, (name, model) in enumerate(dim_reduction_methods):\n",
    "    plt.figure()\n",
    "    # plt.subplot(1, 3, i + 1, aspect=1)\n",
    "\n",
    "    # Fit the method's model\n",
    "    model.fit(X_train, y_train)\n",
    "\n",
    "    # Fit a nearest neighbor classifier on the embedded training set\n",
    "    knn.fit(model.transform(X_train), y_train)\n",
    "\n",
    "    # Compute the nearest neighbor accuracy on the embedded test set\n",
    "    acc_knn = knn.score(model.transform(X_test), y_test)\n",
    "\n",
    "    # Embed the data set in 2 dimensions using the fitted model\n",
    "    X_embedded = model.transform(X)\n",
    "\n",
    "    # Plot the projected points and show the evaluation score\n",
    "    plt.scatter(X_embedded[:, 0], X_embedded[:, 1], s=30, cmap='Set1')\n",
    "    plt.title(\"{}, KNN (k={})\\nTest accuracy = {:.2f}\".format(name,\n",
    "                                                              n_neighbors,\n",
    "                                                              acc_knn))\n",
    "#plt.show()"
   ]
  },
  {
   "cell_type": "code",
   "execution_count": null,
   "metadata": {},
   "outputs": [],
   "source": []
  },
  {
   "cell_type": "code",
   "execution_count": 144,
   "metadata": {},
   "outputs": [],
   "source": [
    "PCAs =pd.DataFrame(X_embedded, columns=['PC1', 'PC2', 'PC3', 'PC4', 'PC5'])"
   ]
  },
  {
   "cell_type": "code",
   "execution_count": 145,
   "metadata": {},
   "outputs": [],
   "source": [
    "labels = data['Group'].reset_index(drop=True)\n",
    "labels = pd.DataFrame(labels, columns=['Group'])"
   ]
  },
  {
   "cell_type": "code",
   "execution_count": 146,
   "metadata": {},
   "outputs": [],
   "source": [
    "merged = pd.concat([PCAs, labels] ,axis=1 )"
   ]
  },
  {
   "cell_type": "code",
   "execution_count": 147,
   "metadata": {},
   "outputs": [
    {
     "data": {
      "text/html": [
       "<div>\n",
       "<style scoped>\n",
       "    .dataframe tbody tr th:only-of-type {\n",
       "        vertical-align: middle;\n",
       "    }\n",
       "\n",
       "    .dataframe tbody tr th {\n",
       "        vertical-align: top;\n",
       "    }\n",
       "\n",
       "    .dataframe thead th {\n",
       "        text-align: right;\n",
       "    }\n",
       "</style>\n",
       "<table border=\"1\" class=\"dataframe\">\n",
       "  <thead>\n",
       "    <tr style=\"text-align: right;\">\n",
       "      <th></th>\n",
       "      <th>PC1</th>\n",
       "      <th>PC2</th>\n",
       "      <th>PC3</th>\n",
       "      <th>PC4</th>\n",
       "      <th>PC5</th>\n",
       "      <th>Group</th>\n",
       "    </tr>\n",
       "  </thead>\n",
       "  <tbody>\n",
       "    <tr>\n",
       "      <th>0</th>\n",
       "      <td>-7.595206</td>\n",
       "      <td>-12.452529</td>\n",
       "      <td>-11.066966</td>\n",
       "      <td>-5.186974</td>\n",
       "      <td>-0.138645</td>\n",
       "      <td>Hybrid</td>\n",
       "    </tr>\n",
       "    <tr>\n",
       "      <th>1</th>\n",
       "      <td>-7.595206</td>\n",
       "      <td>-12.452529</td>\n",
       "      <td>-11.066966</td>\n",
       "      <td>-5.186974</td>\n",
       "      <td>-0.138645</td>\n",
       "      <td>Hybrid</td>\n",
       "    </tr>\n",
       "    <tr>\n",
       "      <th>2</th>\n",
       "      <td>-7.595206</td>\n",
       "      <td>-12.452529</td>\n",
       "      <td>-11.066966</td>\n",
       "      <td>-5.186974</td>\n",
       "      <td>-0.138645</td>\n",
       "      <td>Hybrid</td>\n",
       "    </tr>\n",
       "    <tr>\n",
       "      <th>3</th>\n",
       "      <td>-7.595206</td>\n",
       "      <td>-12.452529</td>\n",
       "      <td>-11.066966</td>\n",
       "      <td>-5.186974</td>\n",
       "      <td>-0.138645</td>\n",
       "      <td>Hybrid</td>\n",
       "    </tr>\n",
       "    <tr>\n",
       "      <th>4</th>\n",
       "      <td>-7.595206</td>\n",
       "      <td>-12.452529</td>\n",
       "      <td>-11.066966</td>\n",
       "      <td>-5.186974</td>\n",
       "      <td>-0.138645</td>\n",
       "      <td>Hybrid</td>\n",
       "    </tr>\n",
       "    <tr>\n",
       "      <th>...</th>\n",
       "      <td>...</td>\n",
       "      <td>...</td>\n",
       "      <td>...</td>\n",
       "      <td>...</td>\n",
       "      <td>...</td>\n",
       "      <td>...</td>\n",
       "    </tr>\n",
       "    <tr>\n",
       "      <th>1146</th>\n",
       "      <td>29.435030</td>\n",
       "      <td>17.794170</td>\n",
       "      <td>-6.706474</td>\n",
       "      <td>8.373960</td>\n",
       "      <td>1.793839</td>\n",
       "      <td>Hybrid</td>\n",
       "    </tr>\n",
       "    <tr>\n",
       "      <th>1147</th>\n",
       "      <td>60.792383</td>\n",
       "      <td>18.105621</td>\n",
       "      <td>-3.709188</td>\n",
       "      <td>3.334772</td>\n",
       "      <td>1.773978</td>\n",
       "      <td>Hybrid</td>\n",
       "    </tr>\n",
       "    <tr>\n",
       "      <th>1148</th>\n",
       "      <td>60.792383</td>\n",
       "      <td>18.105621</td>\n",
       "      <td>-3.709188</td>\n",
       "      <td>3.334772</td>\n",
       "      <td>1.773978</td>\n",
       "      <td>Hybrid</td>\n",
       "    </tr>\n",
       "    <tr>\n",
       "      <th>1149</th>\n",
       "      <td>60.792383</td>\n",
       "      <td>18.105621</td>\n",
       "      <td>-3.709188</td>\n",
       "      <td>3.334772</td>\n",
       "      <td>1.773978</td>\n",
       "      <td>Hybrid</td>\n",
       "    </tr>\n",
       "    <tr>\n",
       "      <th>1150</th>\n",
       "      <td>60.792383</td>\n",
       "      <td>18.105621</td>\n",
       "      <td>-3.709188</td>\n",
       "      <td>3.334772</td>\n",
       "      <td>1.773978</td>\n",
       "      <td>Hybrid</td>\n",
       "    </tr>\n",
       "  </tbody>\n",
       "</table>\n",
       "<p>1151 rows × 6 columns</p>\n",
       "</div>"
      ],
      "text/plain": [
       "            PC1        PC2        PC3       PC4       PC5   Group\n",
       "0     -7.595206 -12.452529 -11.066966 -5.186974 -0.138645  Hybrid\n",
       "1     -7.595206 -12.452529 -11.066966 -5.186974 -0.138645  Hybrid\n",
       "2     -7.595206 -12.452529 -11.066966 -5.186974 -0.138645  Hybrid\n",
       "3     -7.595206 -12.452529 -11.066966 -5.186974 -0.138645  Hybrid\n",
       "4     -7.595206 -12.452529 -11.066966 -5.186974 -0.138645  Hybrid\n",
       "...         ...        ...        ...       ...       ...     ...\n",
       "1146  29.435030  17.794170  -6.706474  8.373960  1.793839  Hybrid\n",
       "1147  60.792383  18.105621  -3.709188  3.334772  1.773978  Hybrid\n",
       "1148  60.792383  18.105621  -3.709188  3.334772  1.773978  Hybrid\n",
       "1149  60.792383  18.105621  -3.709188  3.334772  1.773978  Hybrid\n",
       "1150  60.792383  18.105621  -3.709188  3.334772  1.773978  Hybrid\n",
       "\n",
       "[1151 rows x 6 columns]"
      ]
     },
     "execution_count": 147,
     "metadata": {},
     "output_type": "execute_result"
    }
   ],
   "source": [
    "merged"
   ]
  },
  {
   "cell_type": "code",
   "execution_count": 150,
   "metadata": {},
   "outputs": [
    {
     "data": {
      "image/png": "[encoded data removed]",
      "text/plain": [
       "<Figure size 431.6x360 with 1 Axes>"
      ]
     },
     "metadata": {},
     "output_type": "display_data"
    }
   ],
   "source": [
    "import matplotlib.pyplot as plt \n",
    "import seaborn as sns\n",
    "sns.set()\n",
    " \n",
    "sns.lmplot(\n",
    "    x='PC1', \n",
    "    y='PC2', \n",
    "    data=merged, \n",
    "    hue='Group', \n",
    "    fit_reg=False, \n",
    "    legend=True\n",
    "    )\n",
    " \n",
    "plt.title('PCA Test Accuracy= 0.73')\n",
    "plt.show()"
   ]
  },
  {
   "cell_type": "code",
   "execution_count": 242,
   "metadata": {},
   "outputs": [],
   "source": [
    "PCA_train = PCA(n_components=6)\n",
    "principal_comp = PCA_train.fit_transform(X_train)"
   ]
  },
  {
   "cell_type": "code",
   "execution_count": 243,
   "metadata": {},
   "outputs": [],
   "source": [
    "PC_train_df = pd.DataFrame(data = principal_comp\n",
    "             , columns = ['PC1', 'PC2', 'PC3', 'PC4', 'PC5', 'PC6'])"
   ]
  },
  {
   "cell_type": "code",
   "execution_count": 244,
   "metadata": {},
   "outputs": [],
   "source": [
    "labels_train = data['Group'].reset_index(drop=True)\n",
    "labels_train = pd.DataFrame(labels_train, columns=['Group'])"
   ]
  },
  {
   "cell_type": "code",
   "execution_count": 245,
   "metadata": {},
   "outputs": [],
   "source": [
    "merged_train = pd.concat([PC_train_df, labels_train] ,axis=1 )"
   ]
  },
  {
   "cell_type": "code",
   "execution_count": 246,
   "metadata": {},
   "outputs": [],
   "source": [
    "PCA_test = PCA(n_components=6)\n",
    "principal_comp = PCA_test.fit_transform(X_test)"
   ]
  },
  {
   "cell_type": "code",
   "execution_count": 247,
   "metadata": {},
   "outputs": [],
   "source": [
    "PC_test_df = pd.DataFrame(data = principal_comp\n",
    "             , columns = ['PC1', 'PC2', 'PC3', 'PC4', 'PC5', 'PC6'])"
   ]
  },
  {
   "cell_type": "code",
   "execution_count": 253,
   "metadata": {},
   "outputs": [],
   "source": [
    "merged_train = pd.concat([PC_train_df, labels_train] ,axis=1 )\n",
    "labels_test = pd.DataFrame(labels_train, columns=['Group'])"
   ]
  },
  {
   "cell_type": "code",
   "execution_count": 254,
   "metadata": {},
   "outputs": [],
   "source": [
    "merged_test = pd.concat([PC_test_df, labels_test] ,axis=1 )"
   ]
  },
  {
   "cell_type": "code",
   "execution_count": 255,
   "metadata": {},
   "outputs": [],
   "source": [
    "X_train = PC_train_df\n",
    "X_test = PC_test_df"
   ]
  },
  {
   "cell_type": "code",
   "execution_count": 256,
   "metadata": {},
   "outputs": [],
   "source": [
    "SVC_model = svm.SVC()\n",
    "# KNN model requires you to specify n_neighbors,\n",
    "# the number of points the classifier will look at to determine what class a new point belongs to\n",
    "KNN_model = KNeighborsClassifier(n_neighbors=2)\n",
    "logreg_model = LogisticRegression()"
   ]
  },
  {
   "cell_type": "code",
   "execution_count": 257,
   "metadata": {},
   "outputs": [
    {
     "data": {
      "text/plain": [
       "LogisticRegression()"
      ]
     },
     "execution_count": 257,
     "metadata": {},
     "output_type": "execute_result"
    }
   ],
   "source": [
    "SVC_model.fit(X_train, y_train)\n",
    "KNN_model.fit(X_train, y_train)\n",
    "logreg_model.fit(X_train, y_train)"
   ]
  },
  {
   "cell_type": "code",
   "execution_count": 258,
   "metadata": {},
   "outputs": [],
   "source": [
    "SVC_prediction = SVC_model.predict(X_test)\n",
    "KNN_prediction = KNN_model.predict(X_test)\n",
    "logreg_prediction= logreg_model.predict(X_test)"
   ]
  },
  {
   "cell_type": "code",
   "execution_count": 259,
   "metadata": {},
   "outputs": [
    {
     "name": "stdout",
     "output_type": "stream",
     "text": [
      "0.4652014652014652\n",
      "0.5934065934065934\n",
      "0.5384615384615384\n"
     ]
    }
   ],
   "source": [
    "print(accuracy_score(SVC_prediction, y_test))\n",
    "print(accuracy_score(KNN_prediction, y_test))\n",
    "print(accuracy_score(logreg_prediction, y_test))"
   ]
  },
  {
   "cell_type": "code",
   "execution_count": 260,
   "metadata": {},
   "outputs": [],
   "source": [
    "forest = RandomForestClassifier(criterion='entropy',\n",
    "                                 n_estimators=10,\n",
    "                                 min_samples_leaf=5,\n",
    "                                 min_samples_split= 5,\n",
    "                                 bootstrap = True,\n",
    "                                 n_jobs=2)"
   ]
  },
  {
   "cell_type": "code",
   "execution_count": 270,
   "metadata": {},
   "outputs": [
    {
     "name": "stdout",
     "output_type": "stream",
     "text": [
      "Accuracy: 0.513\n"
     ]
    }
   ],
   "source": [
    "#\n",
    "# Fit the model “gini”, “entropy”, “log_loss”}, \n",
    "#\n",
    "forest.fit(X_train, y_train)\n",
    " \n",
    "#\n",
    "# Measure model performance\n",
    "#\n",
    "y_pred = forest.predict(X_test)\n",
    "print('Accuracy: %.3f' % accuracy_score(y_test, y_pred))"
   ]
  }
 ],
 "metadata": {
  "kernelspec": {
   "display_name": "Python 3 (ipykernel)",
   "language": "python",
   "name": "python3"
  },
  "language_info": {
   "codemirror_mode": {
    "name": "ipython",
    "version": 3
   },
   "file_extension": ".py",
   "mimetype": "text/x-python",
   "name": "python",
   "nbconvert_exporter": "python",
   "pygments_lexer": "ipython3",
   "version": "3.9.7"
  }
 },
 "nbformat": 4,
 "nbformat_minor": 2
}
