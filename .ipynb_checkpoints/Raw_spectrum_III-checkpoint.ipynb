{
 "cells": [
  {
   "cell_type": "code",
   "execution_count": 1,
   "metadata": {},
   "outputs": [],
   "source": [
    "import pandas as pd"
   ]
  },
  {
   "cell_type": "code",
   "execution_count": 2,
   "metadata": {
    "scrolled": true
   },
   "outputs": [],
   "source": [
    "data = pd.read_csv('Raw_spectrum_merged')"
   ]
  },
  {
   "cell_type": "code",
   "execution_count": 3,
   "metadata": {},
   "outputs": [
    {
     "data": {
      "text/html": [
       "<div>\n",
       "<style scoped>\n",
       "    .dataframe tbody tr th:only-of-type {\n",
       "        vertical-align: middle;\n",
       "    }\n",
       "\n",
       "    .dataframe tbody tr th {\n",
       "        vertical-align: top;\n",
       "    }\n",
       "\n",
       "    .dataframe thead th {\n",
       "        text-align: right;\n",
       "    }\n",
       "</style>\n",
       "<table border=\"1\" class=\"dataframe\">\n",
       "  <thead>\n",
       "    <tr style=\"text-align: right;\">\n",
       "      <th></th>\n",
       "      <th>Unnamed: 0</th>\n",
       "      <th>PLOT ID</th>\n",
       "      <th>Rep</th>\n",
       "      <th>Trt</th>\n",
       "      <th>year</th>\n",
       "      <th>genotype</th>\n",
       "      <th>note</th>\n",
       "      <th>Calibration</th>\n",
       "      <th>ASD</th>\n",
       "      <th>350</th>\n",
       "      <th>...</th>\n",
       "      <th>2491</th>\n",
       "      <th>2492</th>\n",
       "      <th>2493</th>\n",
       "      <th>2494</th>\n",
       "      <th>2495</th>\n",
       "      <th>2496</th>\n",
       "      <th>2497</th>\n",
       "      <th>2498</th>\n",
       "      <th>2499</th>\n",
       "      <th>2500</th>\n",
       "    </tr>\n",
       "  </thead>\n",
       "  <tbody>\n",
       "    <tr>\n",
       "      <th>0</th>\n",
       "      <td>0</td>\n",
       "      <td>1001</td>\n",
       "      <td>1</td>\n",
       "      <td>HN</td>\n",
       "      <td>2022</td>\n",
       "      <td>BGEM-0312-S</td>\n",
       "      <td>BGEM_Tall_late</td>\n",
       "      <td>0.0</td>\n",
       "      <td>2.0</td>\n",
       "      <td>0.080030</td>\n",
       "      <td>...</td>\n",
       "      <td>0.035234</td>\n",
       "      <td>0.035088</td>\n",
       "      <td>0.034933</td>\n",
       "      <td>0.034826</td>\n",
       "      <td>0.034614</td>\n",
       "      <td>0.034352</td>\n",
       "      <td>0.034138</td>\n",
       "      <td>0.033865</td>\n",
       "      <td>0.033638</td>\n",
       "      <td>0.033476</td>\n",
       "    </tr>\n",
       "    <tr>\n",
       "      <th>1</th>\n",
       "      <td>1</td>\n",
       "      <td>1002</td>\n",
       "      <td>1</td>\n",
       "      <td>HN</td>\n",
       "      <td>2022</td>\n",
       "      <td>BGEM-0245-S</td>\n",
       "      <td>BGEM_Tall_late</td>\n",
       "      <td>0.0</td>\n",
       "      <td>2.0</td>\n",
       "      <td>0.109493</td>\n",
       "      <td>...</td>\n",
       "      <td>0.037554</td>\n",
       "      <td>0.037249</td>\n",
       "      <td>0.037154</td>\n",
       "      <td>0.037163</td>\n",
       "      <td>0.037074</td>\n",
       "      <td>0.037141</td>\n",
       "      <td>0.037005</td>\n",
       "      <td>0.036618</td>\n",
       "      <td>0.036303</td>\n",
       "      <td>0.035844</td>\n",
       "    </tr>\n",
       "    <tr>\n",
       "      <th>2</th>\n",
       "      <td>2</td>\n",
       "      <td>1003</td>\n",
       "      <td>1</td>\n",
       "      <td>HN</td>\n",
       "      <td>2022</td>\n",
       "      <td>BGEM-0292-S</td>\n",
       "      <td>BGEM_Tall_late</td>\n",
       "      <td>0.0</td>\n",
       "      <td>2.0</td>\n",
       "      <td>0.118743</td>\n",
       "      <td>...</td>\n",
       "      <td>0.042723</td>\n",
       "      <td>0.042242</td>\n",
       "      <td>0.042083</td>\n",
       "      <td>0.041943</td>\n",
       "      <td>0.041776</td>\n",
       "      <td>0.041955</td>\n",
       "      <td>0.041835</td>\n",
       "      <td>0.041389</td>\n",
       "      <td>0.041090</td>\n",
       "      <td>0.040662</td>\n",
       "    </tr>\n",
       "    <tr>\n",
       "      <th>3</th>\n",
       "      <td>3</td>\n",
       "      <td>1004</td>\n",
       "      <td>1</td>\n",
       "      <td>HN</td>\n",
       "      <td>2022</td>\n",
       "      <td>BGEM-0075-S</td>\n",
       "      <td>BGEM_Tall_late</td>\n",
       "      <td>0.0</td>\n",
       "      <td>1.0</td>\n",
       "      <td>0.045093</td>\n",
       "      <td>...</td>\n",
       "      <td>0.041980</td>\n",
       "      <td>0.041998</td>\n",
       "      <td>0.041733</td>\n",
       "      <td>0.041467</td>\n",
       "      <td>0.041499</td>\n",
       "      <td>0.041415</td>\n",
       "      <td>0.041049</td>\n",
       "      <td>0.041078</td>\n",
       "      <td>0.041080</td>\n",
       "      <td>0.040855</td>\n",
       "    </tr>\n",
       "    <tr>\n",
       "      <th>4</th>\n",
       "      <td>4</td>\n",
       "      <td>1005</td>\n",
       "      <td>1</td>\n",
       "      <td>HN</td>\n",
       "      <td>2022</td>\n",
       "      <td>BGEM-0204-N</td>\n",
       "      <td>BGEM_Tall_late</td>\n",
       "      <td>0.0</td>\n",
       "      <td>1.0</td>\n",
       "      <td>0.028625</td>\n",
       "      <td>...</td>\n",
       "      <td>0.035746</td>\n",
       "      <td>0.035719</td>\n",
       "      <td>0.035662</td>\n",
       "      <td>0.035373</td>\n",
       "      <td>0.035116</td>\n",
       "      <td>0.034928</td>\n",
       "      <td>0.034894</td>\n",
       "      <td>0.035089</td>\n",
       "      <td>0.035207</td>\n",
       "      <td>0.035318</td>\n",
       "    </tr>\n",
       "  </tbody>\n",
       "</table>\n",
       "<p>5 rows × 2160 columns</p>\n",
       "</div>"
      ],
      "text/plain": [
       "   Unnamed: 0  PLOT ID  Rep Trt  year     genotype            note  \\\n",
       "0           0     1001    1  HN  2022  BGEM-0312-S  BGEM_Tall_late   \n",
       "1           1     1002    1  HN  2022  BGEM-0245-S  BGEM_Tall_late   \n",
       "2           2     1003    1  HN  2022  BGEM-0292-S  BGEM_Tall_late   \n",
       "3           3     1004    1  HN  2022  BGEM-0075-S  BGEM_Tall_late   \n",
       "4           4     1005    1  HN  2022  BGEM-0204-N  BGEM_Tall_late   \n",
       "\n",
       "   Calibration  ASD       350  ...      2491      2492      2493      2494  \\\n",
       "0          0.0  2.0  0.080030  ...  0.035234  0.035088  0.034933  0.034826   \n",
       "1          0.0  2.0  0.109493  ...  0.037554  0.037249  0.037154  0.037163   \n",
       "2          0.0  2.0  0.118743  ...  0.042723  0.042242  0.042083  0.041943   \n",
       "3          0.0  1.0  0.045093  ...  0.041980  0.041998  0.041733  0.041467   \n",
       "4          0.0  1.0  0.028625  ...  0.035746  0.035719  0.035662  0.035373   \n",
       "\n",
       "       2495      2496      2497      2498      2499      2500  \n",
       "0  0.034614  0.034352  0.034138  0.033865  0.033638  0.033476  \n",
       "1  0.037074  0.037141  0.037005  0.036618  0.036303  0.035844  \n",
       "2  0.041776  0.041955  0.041835  0.041389  0.041090  0.040662  \n",
       "3  0.041499  0.041415  0.041049  0.041078  0.041080  0.040855  \n",
       "4  0.035116  0.034928  0.034894  0.035089  0.035207  0.035318  \n",
       "\n",
       "[5 rows x 2160 columns]"
      ]
     },
     "execution_count": 3,
     "metadata": {},
     "output_type": "execute_result"
    }
   ],
   "source": [
    "data.head()"
   ]
  },
  {
   "cell_type": "code",
   "execution_count": 10,
   "metadata": {},
   "outputs": [],
   "source": [
    "block = []\n",
    "for i in data['PLOT ID'] :\n",
    "    a=str(i)[0]\n",
    "    block.append(a)\n",
    "    "
   ]
  },
  {
   "cell_type": "code",
   "execution_count": 12,
   "metadata": {},
   "outputs": [],
   "source": [
    "data.insert(2, 'Block', block)"
   ]
  },
  {
   "cell_type": "code",
   "execution_count": 18,
   "metadata": {},
   "outputs": [
    {
     "data": {
      "text/plain": [
       "Index(['Unnamed: 0', 'PLOT ID', 'Block', 'Rep', 'Trt', 'year', 'genotype',\n",
       "       'note', 'Calibration', 'ASD',\n",
       "       ...\n",
       "       '2491', '2492', '2493', '2494', '2495', '2496', '2497', '2498', '2499',\n",
       "       '2500'],\n",
       "      dtype='object', length=2161)"
      ]
     },
     "execution_count": 18,
     "metadata": {},
     "output_type": "execute_result"
    }
   ],
   "source": [
    "data.columns"
   ]
  },
  {
   "cell_type": "code",
   "execution_count": 21,
   "metadata": {},
   "outputs": [],
   "source": [
    "data.drop('Unnamed: 0', axis=1, inplace=True)"
   ]
  },
  {
   "cell_type": "code",
   "execution_count": 22,
   "metadata": {},
   "outputs": [],
   "source": [
    "data.to_csv('Raw_spectrum_merged')"
   ]
  }
 ],
 "metadata": {
  "kernelspec": {
   "display_name": "Python 3",
   "language": "python",
   "name": "python3"
  },
  "language_info": {
   "codemirror_mode": {
    "name": "ipython",
    "version": 3
   },
   "file_extension": ".py",
   "mimetype": "text/x-python",
   "name": "python",
   "nbconvert_exporter": "python",
   "pygments_lexer": "ipython3",
   "version": "3.6.9"
  }
 },
 "nbformat": 4,
 "nbformat_minor": 2
}
