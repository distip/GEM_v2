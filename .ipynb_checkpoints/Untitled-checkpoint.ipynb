{
 "cells": [
  {
   "cell_type": "code",
   "execution_count": 94,
   "id": "65d66cdf",
   "metadata": {},
   "outputs": [],
   "source": [
    "import pandas as pd"
   ]
  },
  {
   "cell_type": "code",
   "execution_count": 95,
   "id": "6e411c21",
   "metadata": {},
   "outputs": [],
   "source": [
    "data = pd.read_csv('BGEM_extra_phenotypes.csv')"
   ]
  },
  {
   "cell_type": "code",
   "execution_count": 96,
   "id": "9865ca6c",
   "metadata": {},
   "outputs": [],
   "source": [
    "data.rename(columns={'Plot ID' : 'PLOT ID'}, inplace= True)"
   ]
  },
  {
   "cell_type": "code",
   "execution_count": 97,
   "id": "cda0ba07",
   "metadata": {},
   "outputs": [],
   "source": [
    "genolabs = pd.read_csv('Raw_spectrum_merged')"
   ]
  },
  {
   "cell_type": "code",
   "execution_count": 98,
   "id": "bda38f5d",
   "metadata": {},
   "outputs": [
    {
     "data": {
      "text/plain": [
       "Index(['Unnamed: 0.1.1.1', 'PLOT ID', 'rows', 'ranges', 'Block', 'Rep',\n",
       "       'Group', 'Trt', 'year', 'genotype', 'note', 'Calibration', 'ASD',\n",
       "       '350'],\n",
       "      dtype='object')"
      ]
     },
     "execution_count": 98,
     "metadata": {},
     "output_type": "execute_result"
    }
   ],
   "source": [
    "genolabs.columns[3:17]"
   ]
  },
  {
   "cell_type": "code",
   "execution_count": 99,
   "id": "ea6f1b50",
   "metadata": {},
   "outputs": [],
   "source": [
    "genolabs = genolabs.loc[:, ['PLOT ID', 'rows', 'ranges', 'Block', 'Rep', 'Group', 'Trt', 'year',\n",
    "       'genotype', 'note', 'Calibration', 'ASD']]"
   ]
  },
  {
   "cell_type": "code",
   "execution_count": 100,
   "id": "bed4fa5e",
   "metadata": {},
   "outputs": [],
   "source": [
    "ids = pd.read_csv('BGEM_WGS_Labels.csv')"
   ]
  },
  {
   "cell_type": "code",
   "execution_count": 101,
   "id": "719b8b2e",
   "metadata": {},
   "outputs": [],
   "source": [
    "ids = ids.loc[: , ['UID', 'Genotype']]"
   ]
  },
  {
   "cell_type": "code",
   "execution_count": 102,
   "id": "edbc9c15",
   "metadata": {},
   "outputs": [],
   "source": [
    "ids.rename(columns={'Genotype' : 'genotype'}, inplace=True)"
   ]
  },
  {
   "cell_type": "code",
   "execution_count": 103,
   "id": "6fcb4a32",
   "metadata": {},
   "outputs": [],
   "source": [
    "merged1 = pd.merge(genolabs, data , how= 'right')"
   ]
  },
  {
   "cell_type": "code",
   "execution_count": 104,
   "id": "eb0045e2",
   "metadata": {},
   "outputs": [],
   "source": [
    "leaf_length = merged1[['Leaf Length 1', 'Leaf Length 2']].mean(axis=1)"
   ]
  },
  {
   "cell_type": "code",
   "execution_count": 105,
   "id": "7ff97ec3",
   "metadata": {},
   "outputs": [],
   "source": [
    "leaf_width = merged1[['Leaf Width 1', 'Leaf Width 2']].mean(axis=1)"
   ]
  },
  {
   "cell_type": "code",
   "execution_count": 106,
   "id": "401ef0c2",
   "metadata": {},
   "outputs": [],
   "source": [
    "ear_height = merged1[['Ear Height 1', 'Ear Height 2']].mean(axis=1)"
   ]
  },
  {
   "cell_type": "code",
   "execution_count": 107,
   "id": "4c960af3",
   "metadata": {},
   "outputs": [],
   "source": [
    "flag_leaf = merged1[['Flag Leaf Height 1', 'Flag Leaf Height 2']].mean(axis=1)"
   ]
  },
  {
   "cell_type": "code",
   "execution_count": 108,
   "id": "c2745e92",
   "metadata": {},
   "outputs": [],
   "source": [
    "plant_height = merged1[['Plant Height 1', 'Plant Height 2']].mean(axis=1)"
   ]
  },
  {
   "cell_type": "code",
   "execution_count": 115,
   "id": "1a9664b0",
   "metadata": {},
   "outputs": [],
   "source": [
    "merged1.insert(12 , 'plant_height', plant_height)"
   ]
  },
  {
   "cell_type": "code",
   "execution_count": 117,
   "id": "4faafa6b",
   "metadata": {},
   "outputs": [],
   "source": [
    "merged1.insert(12 , 'flag_leaf', flag_leaf)"
   ]
  },
  {
   "cell_type": "code",
   "execution_count": 118,
   "id": "88201ab9",
   "metadata": {},
   "outputs": [],
   "source": [
    "merged1.insert(12 , 'ear_height', ear_height)"
   ]
  },
  {
   "cell_type": "code",
   "execution_count": 119,
   "id": "429516bf",
   "metadata": {},
   "outputs": [],
   "source": [
    "merged1.insert(12 , 'leaf_width', leaf_width)"
   ]
  },
  {
   "cell_type": "code",
   "execution_count": 120,
   "id": "277a2881",
   "metadata": {},
   "outputs": [],
   "source": [
    "merged1.insert(12 , 'leaf_length', leaf_length)"
   ]
  },
  {
   "cell_type": "code",
   "execution_count": 122,
   "id": "d09f1666",
   "metadata": {},
   "outputs": [],
   "source": [
    "merged1.to_csv('BGEM_extra_phenotypes.csv')"
   ]
  }
 ],
 "metadata": {
  "kernelspec": {
   "display_name": "Python 3 (ipykernel)",
   "language": "python",
   "name": "python3"
  },
  "language_info": {
   "codemirror_mode": {
    "name": "ipython",
    "version": 3
   },
   "file_extension": ".py",
   "mimetype": "text/x-python",
   "name": "python",
   "nbconvert_exporter": "python",
   "pygments_lexer": "ipython3",
   "version": "3.9.7"
  }
 },
 "nbformat": 4,
 "nbformat_minor": 5
}
