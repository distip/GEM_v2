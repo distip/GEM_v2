{
 "cells": [
  {
   "cell_type": "code",
   "execution_count": 90,
   "metadata": {},
   "outputs": [],
   "source": [
    "import pandas as pd\n",
    "import numpy as np\n",
    "import matplotlib.pyplot as plt\n",
    "import seaborn as sns\n",
    "from sklearn.preprocessing import scale \n",
    "from sklearn.preprocessing import StandardScaler\n",
    "from sklearn import model_selection\n",
    "from sklearn.model_selection import RepeatedKFold\n",
    "from sklearn.model_selection import train_test_split\n",
    "from sklearn.cross_decomposition import PLSRegression\n",
    "from sklearn.metrics import mean_squared_error\n",
    "from sklearn.metrics import r2_score\n",
    "from scipy.signal import savgol_filter"
   ]
  },
  {
   "cell_type": "code",
   "execution_count": 91,
   "metadata": {},
   "outputs": [],
   "source": [
    "data = pd.read_csv('Spectrum_ground_truth_v1')"
   ]
  },
  {
   "cell_type": "code",
   "execution_count": 92,
   "metadata": {},
   "outputs": [],
   "source": [
    "data.drop(data.filter(regex=\"Unname\"),axis=1, inplace=True)"
   ]
  },
  {
   "cell_type": "code",
   "execution_count": 93,
   "metadata": {},
   "outputs": [],
   "source": [
    "data = data.loc[data['350'].notnull(), :]"
   ]
  },
  {
   "cell_type": "code",
   "execution_count": 94,
   "metadata": {
    "scrolled": true
   },
   "outputs": [
    {
     "data": {
      "text/html": [
       "<div>\n",
       "<style scoped>\n",
       "    .dataframe tbody tr th:only-of-type {\n",
       "        vertical-align: middle;\n",
       "    }\n",
       "\n",
       "    .dataframe tbody tr th {\n",
       "        vertical-align: top;\n",
       "    }\n",
       "\n",
       "    .dataframe thead th {\n",
       "        text-align: right;\n",
       "    }\n",
       "</style>\n",
       "<table border=\"1\" class=\"dataframe\">\n",
       "  <thead>\n",
       "    <tr style=\"text-align: right;\">\n",
       "      <th></th>\n",
       "      <th>PLOT ID</th>\n",
       "      <th>Fresh_weight</th>\n",
       "      <th>Leaf_area</th>\n",
       "      <th>LWC</th>\n",
       "      <th>SLA</th>\n",
       "      <th>CHL</th>\n",
       "      <th>CHL1</th>\n",
       "      <th>CHL2</th>\n",
       "      <th>CHL3</th>\n",
       "      <th>Dry_weight</th>\n",
       "      <th>...</th>\n",
       "      <th>2491</th>\n",
       "      <th>2492</th>\n",
       "      <th>2493</th>\n",
       "      <th>2494</th>\n",
       "      <th>2495</th>\n",
       "      <th>2496</th>\n",
       "      <th>2497</th>\n",
       "      <th>2498</th>\n",
       "      <th>2499</th>\n",
       "      <th>2500</th>\n",
       "    </tr>\n",
       "  </thead>\n",
       "  <tbody>\n",
       "    <tr>\n",
       "      <th>0</th>\n",
       "      <td>1001</td>\n",
       "      <td>NaN</td>\n",
       "      <td>NaN</td>\n",
       "      <td>NaN</td>\n",
       "      <td>NaN</td>\n",
       "      <td>NaN</td>\n",
       "      <td>NaN</td>\n",
       "      <td>NaN</td>\n",
       "      <td>NaN</td>\n",
       "      <td>NaN</td>\n",
       "      <td>...</td>\n",
       "      <td>0.035234</td>\n",
       "      <td>0.035088</td>\n",
       "      <td>0.034933</td>\n",
       "      <td>0.034826</td>\n",
       "      <td>0.034614</td>\n",
       "      <td>0.034352</td>\n",
       "      <td>0.034138</td>\n",
       "      <td>0.033865</td>\n",
       "      <td>0.033638</td>\n",
       "      <td>0.033476</td>\n",
       "    </tr>\n",
       "    <tr>\n",
       "      <th>1</th>\n",
       "      <td>1002</td>\n",
       "      <td>NaN</td>\n",
       "      <td>NaN</td>\n",
       "      <td>NaN</td>\n",
       "      <td>NaN</td>\n",
       "      <td>NaN</td>\n",
       "      <td>NaN</td>\n",
       "      <td>NaN</td>\n",
       "      <td>NaN</td>\n",
       "      <td>NaN</td>\n",
       "      <td>...</td>\n",
       "      <td>0.037554</td>\n",
       "      <td>0.037249</td>\n",
       "      <td>0.037154</td>\n",
       "      <td>0.037163</td>\n",
       "      <td>0.037074</td>\n",
       "      <td>0.037141</td>\n",
       "      <td>0.037005</td>\n",
       "      <td>0.036618</td>\n",
       "      <td>0.036303</td>\n",
       "      <td>0.035844</td>\n",
       "    </tr>\n",
       "    <tr>\n",
       "      <th>2</th>\n",
       "      <td>1003</td>\n",
       "      <td>NaN</td>\n",
       "      <td>NaN</td>\n",
       "      <td>NaN</td>\n",
       "      <td>NaN</td>\n",
       "      <td>NaN</td>\n",
       "      <td>NaN</td>\n",
       "      <td>NaN</td>\n",
       "      <td>NaN</td>\n",
       "      <td>NaN</td>\n",
       "      <td>...</td>\n",
       "      <td>0.042723</td>\n",
       "      <td>0.042242</td>\n",
       "      <td>0.042083</td>\n",
       "      <td>0.041943</td>\n",
       "      <td>0.041776</td>\n",
       "      <td>0.041955</td>\n",
       "      <td>0.041835</td>\n",
       "      <td>0.041389</td>\n",
       "      <td>0.041090</td>\n",
       "      <td>0.040662</td>\n",
       "    </tr>\n",
       "    <tr>\n",
       "      <th>3</th>\n",
       "      <td>1004</td>\n",
       "      <td>NaN</td>\n",
       "      <td>NaN</td>\n",
       "      <td>NaN</td>\n",
       "      <td>NaN</td>\n",
       "      <td>NaN</td>\n",
       "      <td>NaN</td>\n",
       "      <td>NaN</td>\n",
       "      <td>NaN</td>\n",
       "      <td>NaN</td>\n",
       "      <td>...</td>\n",
       "      <td>0.041980</td>\n",
       "      <td>0.041998</td>\n",
       "      <td>0.041733</td>\n",
       "      <td>0.041467</td>\n",
       "      <td>0.041499</td>\n",
       "      <td>0.041415</td>\n",
       "      <td>0.041049</td>\n",
       "      <td>0.041078</td>\n",
       "      <td>0.041080</td>\n",
       "      <td>0.040855</td>\n",
       "    </tr>\n",
       "    <tr>\n",
       "      <th>4</th>\n",
       "      <td>1005</td>\n",
       "      <td>7.73</td>\n",
       "      <td>366.0</td>\n",
       "      <td>77.490298</td>\n",
       "      <td>210.344828</td>\n",
       "      <td>NaN</td>\n",
       "      <td>NaN</td>\n",
       "      <td>NaN</td>\n",
       "      <td>NaN</td>\n",
       "      <td>1.74</td>\n",
       "      <td>...</td>\n",
       "      <td>0.035746</td>\n",
       "      <td>0.035719</td>\n",
       "      <td>0.035662</td>\n",
       "      <td>0.035373</td>\n",
       "      <td>0.035116</td>\n",
       "      <td>0.034928</td>\n",
       "      <td>0.034894</td>\n",
       "      <td>0.035089</td>\n",
       "      <td>0.035207</td>\n",
       "      <td>0.035318</td>\n",
       "    </tr>\n",
       "  </tbody>\n",
       "</table>\n",
       "<p>5 rows × 2171 columns</p>\n",
       "</div>"
      ],
      "text/plain": [
       "   PLOT ID  Fresh_weight  Leaf_area        LWC         SLA  CHL  CHL1  CHL2  \\\n",
       "0     1001           NaN        NaN        NaN         NaN  NaN   NaN   NaN   \n",
       "1     1002           NaN        NaN        NaN         NaN  NaN   NaN   NaN   \n",
       "2     1003           NaN        NaN        NaN         NaN  NaN   NaN   NaN   \n",
       "3     1004           NaN        NaN        NaN         NaN  NaN   NaN   NaN   \n",
       "4     1005          7.73      366.0  77.490298  210.344828  NaN   NaN   NaN   \n",
       "\n",
       "   CHL3  Dry_weight  ...      2491      2492      2493      2494      2495  \\\n",
       "0   NaN         NaN  ...  0.035234  0.035088  0.034933  0.034826  0.034614   \n",
       "1   NaN         NaN  ...  0.037554  0.037249  0.037154  0.037163  0.037074   \n",
       "2   NaN         NaN  ...  0.042723  0.042242  0.042083  0.041943  0.041776   \n",
       "3   NaN         NaN  ...  0.041980  0.041998  0.041733  0.041467  0.041499   \n",
       "4   NaN        1.74  ...  0.035746  0.035719  0.035662  0.035373  0.035116   \n",
       "\n",
       "       2496      2497      2498      2499      2500  \n",
       "0  0.034352  0.034138  0.033865  0.033638  0.033476  \n",
       "1  0.037141  0.037005  0.036618  0.036303  0.035844  \n",
       "2  0.041955  0.041835  0.041389  0.041090  0.040662  \n",
       "3  0.041415  0.041049  0.041078  0.041080  0.040855  \n",
       "4  0.034928  0.034894  0.035089  0.035207  0.035318  \n",
       "\n",
       "[5 rows x 2171 columns]"
      ]
     },
     "execution_count": 94,
     "metadata": {},
     "output_type": "execute_result"
    }
   ],
   "source": [
    "data.head()"
   ]
  },
  {
   "cell_type": "code",
   "execution_count": 95,
   "metadata": {},
   "outputs": [],
   "source": [
    "trait = 'CHL'"
   ]
  },
  {
   "cell_type": "code",
   "execution_count": 96,
   "metadata": {},
   "outputs": [],
   "source": [
    "df= data.loc[data[trait].notnull(),:]"
   ]
  },
  {
   "cell_type": "code",
   "execution_count": 97,
   "metadata": {},
   "outputs": [],
   "source": [
    "y = df.loc[:, trait]"
   ]
  },
  {
   "cell_type": "code",
   "execution_count": 98,
   "metadata": {},
   "outputs": [],
   "source": [
    "X = df.iloc[:, 20:]"
   ]
  },
  {
   "cell_type": "code",
   "execution_count": 99,
   "metadata": {},
   "outputs": [],
   "source": [
    "# split the dataset into training (60%) and testing (40%) sets\n",
    "X_train,X_test,y_train,y_test = train_test_split(X, y,test_size=0.4) "
   ]
  },
  {
   "cell_type": "code",
   "execution_count": 104,
   "metadata": {},
   "outputs": [
    {
     "data": {
      "text/plain": [
       "PLSRegression(n_components=15)"
      ]
     },
     "execution_count": 104,
     "metadata": {},
     "output_type": "execute_result"
    }
   ],
   "source": [
    "### calculate RMSE\n",
    "pls = PLSRegression(n_components=15)\n",
    "pls.fit(X_train, y_train)"
   ]
  },
  {
   "cell_type": "code",
   "execution_count": 105,
   "metadata": {},
   "outputs": [
    {
     "data": {
      "text/plain": [
       "33.88344684693887"
      ]
     },
     "execution_count": 105,
     "metadata": {},
     "output_type": "execute_result"
    }
   ],
   "source": [
    "np.sqrt(mean_squared_error(y_test, pls.predict(X_test)))"
   ]
  },
  {
   "cell_type": "code",
   "execution_count": 106,
   "metadata": {},
   "outputs": [],
   "source": [
    "y_pred = pls.predict(X_test)"
   ]
  },
  {
   "cell_type": "code",
   "execution_count": 107,
   "metadata": {},
   "outputs": [
    {
     "data": {
      "text/plain": [
       "<AxesSubplot:xlabel='CHL', ylabel='Predicted CHL values'>"
      ]
     },
     "execution_count": 107,
     "metadata": {},
     "output_type": "execute_result"
    },
    {
     "data": {
      "image/png": "[encoded data removed]",
      "text/plain": [
       "<Figure size 432x288 with 1 Axes>"
      ]
     },
     "metadata": {},
     "output_type": "display_data"
    }
   ],
   "source": [
    "plt.scatter(y_test, y_pred)\n",
    "plt.ylabel('Predicted CHL values')\n",
    "plt.xlabel('Ground truth LWC measurements')\n",
    "sns.regplot(x = y_test , y = y_pred)"
   ]
  },
  {
   "cell_type": "code",
   "execution_count": 108,
   "metadata": {},
   "outputs": [
    {
     "name": "stdout",
     "output_type": "stream",
     "text": [
      "0.888681104548256 2.7550846901238104e-42\n"
     ]
    }
   ],
   "source": [
    "from scipy.stats import pearsonr, spearmanr\n",
    "y_pred2 = [x[0] for x in y_pred]\n",
    "\n",
    "r, p = spearmanr(y_test, y_pred2)\n",
    "r2 = r**2\n",
    "print(r2, p)"
   ]
  }
 ],
 "metadata": {
  "kernelspec": {
   "display_name": "Python 3",
   "language": "python",
   "name": "python3"
  },
  "language_info": {
   "codemirror_mode": {
    "name": "ipython",
    "version": 3
   },
   "file_extension": ".py",
   "mimetype": "text/x-python",
   "name": "python",
   "nbconvert_exporter": "python",
   "pygments_lexer": "ipython3",
   "version": "3.6.9"
  }
 },
 "nbformat": 4,
 "nbformat_minor": 2
}
