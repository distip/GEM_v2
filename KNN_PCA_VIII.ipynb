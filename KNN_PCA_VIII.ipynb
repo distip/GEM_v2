{
 "cells": [
  {
   "cell_type": "code",
   "execution_count": 272,
   "metadata": {},
   "outputs": [],
   "source": [
    "import pandas as pd\n",
    "import numpy as np\n",
    "import matplotlib.pyplot as plt\n",
    "import seaborn as sns\n",
    "from sklearn.preprocessing import scale \n",
    "from sklearn.preprocessing import StandardScaler\n",
    "from sklearn import model_selection\n",
    "from sklearn.model_selection import RepeatedKFold\n",
    "from sklearn.model_selection import train_test_split\n",
    "from sklearn.cross_decomposition import PLSRegression\n",
    "from sklearn.metrics import mean_squared_error\n",
    "from sklearn.metrics import r2_score\n",
    "from scipy.signal import savgol_filter\n",
    "from sklearn.decomposition import PCA\n",
    "from sklearn.discriminant_analysis import LinearDiscriminantAnalysis\n",
    "from sklearn.neighbors import KNeighborsClassifier, NeighborhoodComponentsAnalysis\n",
    "from sklearn.pipeline import make_pipeline\n",
    "from sklearn.metrics import classification_report\n",
    "from sklearn.metrics import confusion_matrix\n",
    "from sklearn.metrics import accuracy_score\n",
    "from sklearn.neighbors import KNeighborsClassifier\n",
    "from sklearn import svm\n",
    "from sklearn.linear_model import LogisticRegression\n",
    "from sklearn.decomposition import TruncatedSVD\n",
    "from sklearn.pipeline import Pipeline\n",
    "from sklearn.model_selection import RepeatedStratifiedKFold\n",
    "from numpy import std\n",
    "from sklearn.datasets import make_classification\n",
    "from sklearn.model_selection import cross_val_score\n",
    "from sklearn.model_selection import RepeatedStratifiedKFold\n",
    "from sklearn.pipeline import Pipeline\n",
    "from sklearn.decomposition import PCA\n",
    "from sklearn.linear_model import LogisticRegression\n",
    "from numpy import mean\n",
    "from sklearn.discriminant_analysis import LinearDiscriminantAnalysis\n",
    "from sklearn.ensemble import RandomForestClassifier\n",
    "from sklearn.inspection import permutation_importance"
   ]
  },
  {
   "cell_type": "code",
   "execution_count": 309,
   "metadata": {},
   "outputs": [],
   "source": [
    "data = pd.read_csv('spectra_blups.csv')\n",
    "data= data.loc[data['Rep'] == 1, :]\n",
    "data.reset_index(inplace= True)\n",
    "data= data.loc[data['note'] != 'Hybrid', :]\n",
    "data = data.loc[-data['genotype'].isin(['B73', 'Mo17']), :]\n",
    "#data  = data.loc[data['Trt']== 'LN', :]\n"
   ]
  },
  {
   "cell_type": "code",
   "execution_count": 310,
   "metadata": {},
   "outputs": [
    {
     "data": {
      "text/html": [
       "<div>\n",
       "<style scoped>\n",
       "    .dataframe tbody tr th:only-of-type {\n",
       "        vertical-align: middle;\n",
       "    }\n",
       "\n",
       "    .dataframe tbody tr th {\n",
       "        vertical-align: top;\n",
       "    }\n",
       "\n",
       "    .dataframe thead th {\n",
       "        text-align: right;\n",
       "    }\n",
       "</style>\n",
       "<table border=\"1\" class=\"dataframe\">\n",
       "  <thead>\n",
       "    <tr style=\"text-align: right;\">\n",
       "      <th></th>\n",
       "      <th>index</th>\n",
       "      <th>genotype</th>\n",
       "      <th>PLOT.ID</th>\n",
       "      <th>rows</th>\n",
       "      <th>ranges</th>\n",
       "      <th>Block</th>\n",
       "      <th>Rep</th>\n",
       "      <th>Trt</th>\n",
       "      <th>year</th>\n",
       "      <th>note</th>\n",
       "      <th>...</th>\n",
       "      <th>X2491</th>\n",
       "      <th>X2492</th>\n",
       "      <th>X2493</th>\n",
       "      <th>X2494</th>\n",
       "      <th>X2495</th>\n",
       "      <th>X2496</th>\n",
       "      <th>X2497</th>\n",
       "      <th>X2498</th>\n",
       "      <th>X2499</th>\n",
       "      <th>X2500</th>\n",
       "    </tr>\n",
       "  </thead>\n",
       "  <tbody>\n",
       "    <tr>\n",
       "      <th>55</th>\n",
       "      <td>119</td>\n",
       "      <td>BGEM-0001-N</td>\n",
       "      <td>1313</td>\n",
       "      <td>13</td>\n",
       "      <td>7</td>\n",
       "      <td>1</td>\n",
       "      <td>1</td>\n",
       "      <td>HN</td>\n",
       "      <td>2022</td>\n",
       "      <td>BGEM_Tall_early</td>\n",
       "      <td>...</td>\n",
       "      <td>0.047039</td>\n",
       "      <td>0.046910</td>\n",
       "      <td>0.046745</td>\n",
       "      <td>0.046547</td>\n",
       "      <td>0.046383</td>\n",
       "      <td>0.046231</td>\n",
       "      <td>0.046113</td>\n",
       "      <td>0.046034</td>\n",
       "      <td>0.045907</td>\n",
       "      <td>0.045765</td>\n",
       "    </tr>\n",
       "    <tr>\n",
       "      <th>56</th>\n",
       "      <td>121</td>\n",
       "      <td>BGEM-0002-N</td>\n",
       "      <td>1314</td>\n",
       "      <td>14</td>\n",
       "      <td>7</td>\n",
       "      <td>1</td>\n",
       "      <td>1</td>\n",
       "      <td>HN</td>\n",
       "      <td>2022</td>\n",
       "      <td>BGEM_Tall_early</td>\n",
       "      <td>...</td>\n",
       "      <td>0.049191</td>\n",
       "      <td>0.048992</td>\n",
       "      <td>0.048779</td>\n",
       "      <td>0.048630</td>\n",
       "      <td>0.048459</td>\n",
       "      <td>0.048253</td>\n",
       "      <td>0.048114</td>\n",
       "      <td>0.047977</td>\n",
       "      <td>0.047840</td>\n",
       "      <td>0.047732</td>\n",
       "    </tr>\n",
       "    <tr>\n",
       "      <th>58</th>\n",
       "      <td>125</td>\n",
       "      <td>BGEM-0003-N</td>\n",
       "      <td>1111</td>\n",
       "      <td>11</td>\n",
       "      <td>3</td>\n",
       "      <td>1</td>\n",
       "      <td>1</td>\n",
       "      <td>HN</td>\n",
       "      <td>2022</td>\n",
       "      <td>BGEM_Tall_late</td>\n",
       "      <td>...</td>\n",
       "      <td>0.048976</td>\n",
       "      <td>0.048711</td>\n",
       "      <td>0.048490</td>\n",
       "      <td>0.048318</td>\n",
       "      <td>0.048166</td>\n",
       "      <td>0.048106</td>\n",
       "      <td>0.047983</td>\n",
       "      <td>0.047799</td>\n",
       "      <td>0.047680</td>\n",
       "      <td>0.047510</td>\n",
       "    </tr>\n",
       "    <tr>\n",
       "      <th>60</th>\n",
       "      <td>128</td>\n",
       "      <td>BGEM-0004-N</td>\n",
       "      <td>1298</td>\n",
       "      <td>48</td>\n",
       "      <td>6</td>\n",
       "      <td>1</td>\n",
       "      <td>1</td>\n",
       "      <td>HN</td>\n",
       "      <td>2022</td>\n",
       "      <td>BGEM_Short_late</td>\n",
       "      <td>...</td>\n",
       "      <td>0.052943</td>\n",
       "      <td>0.052751</td>\n",
       "      <td>0.052555</td>\n",
       "      <td>0.052341</td>\n",
       "      <td>0.052103</td>\n",
       "      <td>0.051852</td>\n",
       "      <td>0.051687</td>\n",
       "      <td>0.051628</td>\n",
       "      <td>0.051477</td>\n",
       "      <td>0.051321</td>\n",
       "    </tr>\n",
       "    <tr>\n",
       "      <th>62</th>\n",
       "      <td>132</td>\n",
       "      <td>BGEM-0005-N</td>\n",
       "      <td>1321</td>\n",
       "      <td>21</td>\n",
       "      <td>7</td>\n",
       "      <td>1</td>\n",
       "      <td>1</td>\n",
       "      <td>HN</td>\n",
       "      <td>2022</td>\n",
       "      <td>BGEM_Tall_early</td>\n",
       "      <td>...</td>\n",
       "      <td>0.050270</td>\n",
       "      <td>0.050102</td>\n",
       "      <td>0.049913</td>\n",
       "      <td>0.049728</td>\n",
       "      <td>0.049515</td>\n",
       "      <td>0.049315</td>\n",
       "      <td>0.049188</td>\n",
       "      <td>0.049123</td>\n",
       "      <td>0.049006</td>\n",
       "      <td>0.048822</td>\n",
       "    </tr>\n",
       "    <tr>\n",
       "      <th>...</th>\n",
       "      <td>...</td>\n",
       "      <td>...</td>\n",
       "      <td>...</td>\n",
       "      <td>...</td>\n",
       "      <td>...</td>\n",
       "      <td>...</td>\n",
       "      <td>...</td>\n",
       "      <td>...</td>\n",
       "      <td>...</td>\n",
       "      <td>...</td>\n",
       "      <td>...</td>\n",
       "      <td>...</td>\n",
       "      <td>...</td>\n",
       "      <td>...</td>\n",
       "      <td>...</td>\n",
       "      <td>...</td>\n",
       "      <td>...</td>\n",
       "      <td>...</td>\n",
       "      <td>...</td>\n",
       "      <td>...</td>\n",
       "      <td>...</td>\n",
       "    </tr>\n",
       "    <tr>\n",
       "      <th>1117</th>\n",
       "      <td>2250</td>\n",
       "      <td>BGEM-0324-N</td>\n",
       "      <td>2137</td>\n",
       "      <td>37</td>\n",
       "      <td>3</td>\n",
       "      <td>2</td>\n",
       "      <td>1</td>\n",
       "      <td>LN</td>\n",
       "      <td>2022</td>\n",
       "      <td>BGEM_Tall_late</td>\n",
       "      <td>...</td>\n",
       "      <td>0.051868</td>\n",
       "      <td>0.051686</td>\n",
       "      <td>0.051442</td>\n",
       "      <td>0.051306</td>\n",
       "      <td>0.051132</td>\n",
       "      <td>0.050842</td>\n",
       "      <td>0.050676</td>\n",
       "      <td>0.050524</td>\n",
       "      <td>0.050362</td>\n",
       "      <td>0.050302</td>\n",
       "    </tr>\n",
       "    <tr>\n",
       "      <th>1118</th>\n",
       "      <td>2251</td>\n",
       "      <td>BGEM-0325-N</td>\n",
       "      <td>2047</td>\n",
       "      <td>47</td>\n",
       "      <td>1</td>\n",
       "      <td>2</td>\n",
       "      <td>1</td>\n",
       "      <td>LN</td>\n",
       "      <td>2022</td>\n",
       "      <td>BGEM_Tall_late</td>\n",
       "      <td>...</td>\n",
       "      <td>0.052182</td>\n",
       "      <td>0.051997</td>\n",
       "      <td>0.051808</td>\n",
       "      <td>0.051615</td>\n",
       "      <td>0.051431</td>\n",
       "      <td>0.051247</td>\n",
       "      <td>0.051087</td>\n",
       "      <td>0.050938</td>\n",
       "      <td>0.050791</td>\n",
       "      <td>0.050630</td>\n",
       "    </tr>\n",
       "    <tr>\n",
       "      <th>1119</th>\n",
       "      <td>2253</td>\n",
       "      <td>BGEM-0326-N</td>\n",
       "      <td>2066</td>\n",
       "      <td>16</td>\n",
       "      <td>2</td>\n",
       "      <td>2</td>\n",
       "      <td>1</td>\n",
       "      <td>LN</td>\n",
       "      <td>2022</td>\n",
       "      <td>BGEM_Short_early</td>\n",
       "      <td>...</td>\n",
       "      <td>0.052589</td>\n",
       "      <td>0.052431</td>\n",
       "      <td>0.052255</td>\n",
       "      <td>0.052073</td>\n",
       "      <td>0.051893</td>\n",
       "      <td>0.051737</td>\n",
       "      <td>0.051565</td>\n",
       "      <td>0.051325</td>\n",
       "      <td>0.051162</td>\n",
       "      <td>0.051050</td>\n",
       "    </tr>\n",
       "    <tr>\n",
       "      <th>1120</th>\n",
       "      <td>2256</td>\n",
       "      <td>BGEM-0327-N</td>\n",
       "      <td>2105</td>\n",
       "      <td>5</td>\n",
       "      <td>3</td>\n",
       "      <td>2</td>\n",
       "      <td>1</td>\n",
       "      <td>LN</td>\n",
       "      <td>2022</td>\n",
       "      <td>BGEM_Short_early</td>\n",
       "      <td>...</td>\n",
       "      <td>0.053383</td>\n",
       "      <td>0.053190</td>\n",
       "      <td>0.052980</td>\n",
       "      <td>0.052841</td>\n",
       "      <td>0.052704</td>\n",
       "      <td>0.052493</td>\n",
       "      <td>0.052338</td>\n",
       "      <td>0.052174</td>\n",
       "      <td>0.051976</td>\n",
       "      <td>0.051870</td>\n",
       "    </tr>\n",
       "    <tr>\n",
       "      <th>1121</th>\n",
       "      <td>2257</td>\n",
       "      <td>BGEM-0328-S</td>\n",
       "      <td>2099</td>\n",
       "      <td>49</td>\n",
       "      <td>2</td>\n",
       "      <td>2</td>\n",
       "      <td>1</td>\n",
       "      <td>LN</td>\n",
       "      <td>2022</td>\n",
       "      <td>BGEM_Tall_late</td>\n",
       "      <td>...</td>\n",
       "      <td>0.054458</td>\n",
       "      <td>0.054173</td>\n",
       "      <td>0.053934</td>\n",
       "      <td>0.053722</td>\n",
       "      <td>0.053513</td>\n",
       "      <td>0.053399</td>\n",
       "      <td>0.053262</td>\n",
       "      <td>0.053052</td>\n",
       "      <td>0.052920</td>\n",
       "      <td>0.052803</td>\n",
       "    </tr>\n",
       "  </tbody>\n",
       "</table>\n",
       "<p>609 rows × 2164 columns</p>\n",
       "</div>"
      ],
      "text/plain": [
       "      index     genotype  PLOT.ID  rows  ranges  Block  Rep Trt  year  \\\n",
       "55      119  BGEM-0001-N     1313    13       7      1    1  HN  2022   \n",
       "56      121  BGEM-0002-N     1314    14       7      1    1  HN  2022   \n",
       "58      125  BGEM-0003-N     1111    11       3      1    1  HN  2022   \n",
       "60      128  BGEM-0004-N     1298    48       6      1    1  HN  2022   \n",
       "62      132  BGEM-0005-N     1321    21       7      1    1  HN  2022   \n",
       "...     ...          ...      ...   ...     ...    ...  ...  ..   ...   \n",
       "1117   2250  BGEM-0324-N     2137    37       3      2    1  LN  2022   \n",
       "1118   2251  BGEM-0325-N     2047    47       1      2    1  LN  2022   \n",
       "1119   2253  BGEM-0326-N     2066    16       2      2    1  LN  2022   \n",
       "1120   2256  BGEM-0327-N     2105     5       3      2    1  LN  2022   \n",
       "1121   2257  BGEM-0328-S     2099    49       2      2    1  LN  2022   \n",
       "\n",
       "                  note  ...     X2491     X2492     X2493     X2494     X2495  \\\n",
       "55     BGEM_Tall_early  ...  0.047039  0.046910  0.046745  0.046547  0.046383   \n",
       "56     BGEM_Tall_early  ...  0.049191  0.048992  0.048779  0.048630  0.048459   \n",
       "58      BGEM_Tall_late  ...  0.048976  0.048711  0.048490  0.048318  0.048166   \n",
       "60     BGEM_Short_late  ...  0.052943  0.052751  0.052555  0.052341  0.052103   \n",
       "62     BGEM_Tall_early  ...  0.050270  0.050102  0.049913  0.049728  0.049515   \n",
       "...                ...  ...       ...       ...       ...       ...       ...   \n",
       "1117    BGEM_Tall_late  ...  0.051868  0.051686  0.051442  0.051306  0.051132   \n",
       "1118    BGEM_Tall_late  ...  0.052182  0.051997  0.051808  0.051615  0.051431   \n",
       "1119  BGEM_Short_early  ...  0.052589  0.052431  0.052255  0.052073  0.051893   \n",
       "1120  BGEM_Short_early  ...  0.053383  0.053190  0.052980  0.052841  0.052704   \n",
       "1121    BGEM_Tall_late  ...  0.054458  0.054173  0.053934  0.053722  0.053513   \n",
       "\n",
       "         X2496     X2497     X2498     X2499     X2500  \n",
       "55    0.046231  0.046113  0.046034  0.045907  0.045765  \n",
       "56    0.048253  0.048114  0.047977  0.047840  0.047732  \n",
       "58    0.048106  0.047983  0.047799  0.047680  0.047510  \n",
       "60    0.051852  0.051687  0.051628  0.051477  0.051321  \n",
       "62    0.049315  0.049188  0.049123  0.049006  0.048822  \n",
       "...        ...       ...       ...       ...       ...  \n",
       "1117  0.050842  0.050676  0.050524  0.050362  0.050302  \n",
       "1118  0.051247  0.051087  0.050938  0.050791  0.050630  \n",
       "1119  0.051737  0.051565  0.051325  0.051162  0.051050  \n",
       "1120  0.052493  0.052338  0.052174  0.051976  0.051870  \n",
       "1121  0.053399  0.053262  0.053052  0.052920  0.052803  \n",
       "\n",
       "[609 rows x 2164 columns]"
      ]
     },
     "execution_count": 310,
     "metadata": {},
     "output_type": "execute_result"
    }
   ],
   "source": [
    "data"
   ]
  },
  {
   "cell_type": "code",
   "execution_count": 311,
   "metadata": {},
   "outputs": [],
   "source": [
    "data.columns =data.columns.str.replace('X', '')"
   ]
  },
  {
   "cell_type": "code",
   "execution_count": null,
   "metadata": {},
   "outputs": [],
   "source": []
  },
  {
   "cell_type": "code",
   "execution_count": 312,
   "metadata": {},
   "outputs": [
    {
     "data": {
      "text/plain": [
       "Index(['index', 'genotype', 'PLOT.ID', 'rows', 'ranges', 'Block', 'Rep', 'Trt',\n",
       "       'year', 'note', 'Group', 'Calibration', 'ASD', '350', '351'],\n",
       "      dtype='object')"
      ]
     },
     "execution_count": 312,
     "metadata": {},
     "output_type": "execute_result"
    }
   ],
   "source": [
    "data.columns[0:15]"
   ]
  },
  {
   "cell_type": "code",
   "execution_count": 313,
   "metadata": {},
   "outputs": [
    {
     "data": {
      "text/plain": [
       "55      Inbred\n",
       "56      Inbred\n",
       "58      Inbred\n",
       "60      Inbred\n",
       "62      Inbred\n",
       "         ...  \n",
       "1117    Inbred\n",
       "1118    Inbred\n",
       "1119    Inbred\n",
       "1120    Inbred\n",
       "1121    Inbred\n",
       "Name: Group, Length: 609, dtype: object"
      ]
     },
     "execution_count": 313,
     "metadata": {},
     "output_type": "execute_result"
    }
   ],
   "source": [
    "data['Group']"
   ]
  },
  {
   "cell_type": "code",
   "execution_count": 314,
   "metadata": {},
   "outputs": [],
   "source": [
    "data[['genotype', 'PLOT.ID', 'rows', 'ranges', 'Block', 'Rep', 'Trt', 'year',\n",
    "       'note', 'Group', 'Calibration', 'ASD']] = data[['genotype', 'PLOT.ID', 'rows', 'ranges', 'Block', 'Rep', 'Trt', 'year',\n",
    "       'note', 'Group', 'Calibration', 'ASD']].astype('category')"
   ]
  },
  {
   "cell_type": "code",
   "execution_count": 315,
   "metadata": {},
   "outputs": [],
   "source": [
    "position_350 = data.columns.get_loc('350')\n",
    "position_2500 = data.columns.get_loc('2500') + 1 \n",
    "X = data.iloc[:, position_350 : position_2500]"
   ]
  },
  {
   "cell_type": "code",
   "execution_count": 316,
   "metadata": {},
   "outputs": [
    {
     "data": {
      "text/html": [
       "<div>\n",
       "<style scoped>\n",
       "    .dataframe tbody tr th:only-of-type {\n",
       "        vertical-align: middle;\n",
       "    }\n",
       "\n",
       "    .dataframe tbody tr th {\n",
       "        vertical-align: top;\n",
       "    }\n",
       "\n",
       "    .dataframe thead th {\n",
       "        text-align: right;\n",
       "    }\n",
       "</style>\n",
       "<table border=\"1\" class=\"dataframe\">\n",
       "  <thead>\n",
       "    <tr style=\"text-align: right;\">\n",
       "      <th></th>\n",
       "      <th>350</th>\n",
       "      <th>351</th>\n",
       "      <th>352</th>\n",
       "      <th>353</th>\n",
       "      <th>354</th>\n",
       "      <th>355</th>\n",
       "      <th>356</th>\n",
       "      <th>357</th>\n",
       "      <th>358</th>\n",
       "      <th>359</th>\n",
       "      <th>...</th>\n",
       "      <th>2491</th>\n",
       "      <th>2492</th>\n",
       "      <th>2493</th>\n",
       "      <th>2494</th>\n",
       "      <th>2495</th>\n",
       "      <th>2496</th>\n",
       "      <th>2497</th>\n",
       "      <th>2498</th>\n",
       "      <th>2499</th>\n",
       "      <th>2500</th>\n",
       "    </tr>\n",
       "  </thead>\n",
       "  <tbody>\n",
       "    <tr>\n",
       "      <th>55</th>\n",
       "      <td>0.074977</td>\n",
       "      <td>0.072681</td>\n",
       "      <td>0.070706</td>\n",
       "      <td>0.069901</td>\n",
       "      <td>0.071965</td>\n",
       "      <td>0.069335</td>\n",
       "      <td>0.065900</td>\n",
       "      <td>0.065798</td>\n",
       "      <td>0.066554</td>\n",
       "      <td>0.063296</td>\n",
       "      <td>...</td>\n",
       "      <td>0.047039</td>\n",
       "      <td>0.046910</td>\n",
       "      <td>0.046745</td>\n",
       "      <td>0.046547</td>\n",
       "      <td>0.046383</td>\n",
       "      <td>0.046231</td>\n",
       "      <td>0.046113</td>\n",
       "      <td>0.046034</td>\n",
       "      <td>0.045907</td>\n",
       "      <td>0.045765</td>\n",
       "    </tr>\n",
       "    <tr>\n",
       "      <th>56</th>\n",
       "      <td>0.074977</td>\n",
       "      <td>0.072305</td>\n",
       "      <td>0.070633</td>\n",
       "      <td>0.069901</td>\n",
       "      <td>0.071965</td>\n",
       "      <td>0.069335</td>\n",
       "      <td>0.065900</td>\n",
       "      <td>0.065706</td>\n",
       "      <td>0.066456</td>\n",
       "      <td>0.063296</td>\n",
       "      <td>...</td>\n",
       "      <td>0.049191</td>\n",
       "      <td>0.048992</td>\n",
       "      <td>0.048779</td>\n",
       "      <td>0.048630</td>\n",
       "      <td>0.048459</td>\n",
       "      <td>0.048253</td>\n",
       "      <td>0.048114</td>\n",
       "      <td>0.047977</td>\n",
       "      <td>0.047840</td>\n",
       "      <td>0.047732</td>\n",
       "    </tr>\n",
       "    <tr>\n",
       "      <th>58</th>\n",
       "      <td>0.074977</td>\n",
       "      <td>0.072664</td>\n",
       "      <td>0.070641</td>\n",
       "      <td>0.069901</td>\n",
       "      <td>0.071965</td>\n",
       "      <td>0.069335</td>\n",
       "      <td>0.065900</td>\n",
       "      <td>0.064761</td>\n",
       "      <td>0.066382</td>\n",
       "      <td>0.063296</td>\n",
       "      <td>...</td>\n",
       "      <td>0.048976</td>\n",
       "      <td>0.048711</td>\n",
       "      <td>0.048490</td>\n",
       "      <td>0.048318</td>\n",
       "      <td>0.048166</td>\n",
       "      <td>0.048106</td>\n",
       "      <td>0.047983</td>\n",
       "      <td>0.047799</td>\n",
       "      <td>0.047680</td>\n",
       "      <td>0.047510</td>\n",
       "    </tr>\n",
       "    <tr>\n",
       "      <th>60</th>\n",
       "      <td>0.074977</td>\n",
       "      <td>0.073020</td>\n",
       "      <td>0.070656</td>\n",
       "      <td>0.069901</td>\n",
       "      <td>0.071965</td>\n",
       "      <td>0.069335</td>\n",
       "      <td>0.065900</td>\n",
       "      <td>0.064554</td>\n",
       "      <td>0.066631</td>\n",
       "      <td>0.063296</td>\n",
       "      <td>...</td>\n",
       "      <td>0.052943</td>\n",
       "      <td>0.052751</td>\n",
       "      <td>0.052555</td>\n",
       "      <td>0.052341</td>\n",
       "      <td>0.052103</td>\n",
       "      <td>0.051852</td>\n",
       "      <td>0.051687</td>\n",
       "      <td>0.051628</td>\n",
       "      <td>0.051477</td>\n",
       "      <td>0.051321</td>\n",
       "    </tr>\n",
       "    <tr>\n",
       "      <th>62</th>\n",
       "      <td>0.074977</td>\n",
       "      <td>0.073703</td>\n",
       "      <td>0.070722</td>\n",
       "      <td>0.069901</td>\n",
       "      <td>0.071965</td>\n",
       "      <td>0.069335</td>\n",
       "      <td>0.065900</td>\n",
       "      <td>0.065915</td>\n",
       "      <td>0.066948</td>\n",
       "      <td>0.063296</td>\n",
       "      <td>...</td>\n",
       "      <td>0.050270</td>\n",
       "      <td>0.050102</td>\n",
       "      <td>0.049913</td>\n",
       "      <td>0.049728</td>\n",
       "      <td>0.049515</td>\n",
       "      <td>0.049315</td>\n",
       "      <td>0.049188</td>\n",
       "      <td>0.049123</td>\n",
       "      <td>0.049006</td>\n",
       "      <td>0.048822</td>\n",
       "    </tr>\n",
       "    <tr>\n",
       "      <th>...</th>\n",
       "      <td>...</td>\n",
       "      <td>...</td>\n",
       "      <td>...</td>\n",
       "      <td>...</td>\n",
       "      <td>...</td>\n",
       "      <td>...</td>\n",
       "      <td>...</td>\n",
       "      <td>...</td>\n",
       "      <td>...</td>\n",
       "      <td>...</td>\n",
       "      <td>...</td>\n",
       "      <td>...</td>\n",
       "      <td>...</td>\n",
       "      <td>...</td>\n",
       "      <td>...</td>\n",
       "      <td>...</td>\n",
       "      <td>...</td>\n",
       "      <td>...</td>\n",
       "      <td>...</td>\n",
       "      <td>...</td>\n",
       "      <td>...</td>\n",
       "    </tr>\n",
       "    <tr>\n",
       "      <th>1117</th>\n",
       "      <td>0.083192</td>\n",
       "      <td>0.079482</td>\n",
       "      <td>0.076508</td>\n",
       "      <td>0.075413</td>\n",
       "      <td>0.074210</td>\n",
       "      <td>0.073554</td>\n",
       "      <td>0.070912</td>\n",
       "      <td>0.068110</td>\n",
       "      <td>0.068402</td>\n",
       "      <td>0.066951</td>\n",
       "      <td>...</td>\n",
       "      <td>0.051868</td>\n",
       "      <td>0.051686</td>\n",
       "      <td>0.051442</td>\n",
       "      <td>0.051306</td>\n",
       "      <td>0.051132</td>\n",
       "      <td>0.050842</td>\n",
       "      <td>0.050676</td>\n",
       "      <td>0.050524</td>\n",
       "      <td>0.050362</td>\n",
       "      <td>0.050302</td>\n",
       "    </tr>\n",
       "    <tr>\n",
       "      <th>1118</th>\n",
       "      <td>0.083912</td>\n",
       "      <td>0.079585</td>\n",
       "      <td>0.076704</td>\n",
       "      <td>0.075775</td>\n",
       "      <td>0.074007</td>\n",
       "      <td>0.074168</td>\n",
       "      <td>0.071480</td>\n",
       "      <td>0.068334</td>\n",
       "      <td>0.069530</td>\n",
       "      <td>0.067488</td>\n",
       "      <td>...</td>\n",
       "      <td>0.052182</td>\n",
       "      <td>0.051997</td>\n",
       "      <td>0.051808</td>\n",
       "      <td>0.051615</td>\n",
       "      <td>0.051431</td>\n",
       "      <td>0.051247</td>\n",
       "      <td>0.051087</td>\n",
       "      <td>0.050938</td>\n",
       "      <td>0.050791</td>\n",
       "      <td>0.050630</td>\n",
       "    </tr>\n",
       "    <tr>\n",
       "      <th>1119</th>\n",
       "      <td>0.083259</td>\n",
       "      <td>0.079415</td>\n",
       "      <td>0.076692</td>\n",
       "      <td>0.075799</td>\n",
       "      <td>0.074208</td>\n",
       "      <td>0.073514</td>\n",
       "      <td>0.071540</td>\n",
       "      <td>0.068684</td>\n",
       "      <td>0.068723</td>\n",
       "      <td>0.067059</td>\n",
       "      <td>...</td>\n",
       "      <td>0.052589</td>\n",
       "      <td>0.052431</td>\n",
       "      <td>0.052255</td>\n",
       "      <td>0.052073</td>\n",
       "      <td>0.051893</td>\n",
       "      <td>0.051737</td>\n",
       "      <td>0.051565</td>\n",
       "      <td>0.051325</td>\n",
       "      <td>0.051162</td>\n",
       "      <td>0.051050</td>\n",
       "    </tr>\n",
       "    <tr>\n",
       "      <th>1120</th>\n",
       "      <td>0.081785</td>\n",
       "      <td>0.079500</td>\n",
       "      <td>0.076721</td>\n",
       "      <td>0.075646</td>\n",
       "      <td>0.073730</td>\n",
       "      <td>0.073496</td>\n",
       "      <td>0.071402</td>\n",
       "      <td>0.068440</td>\n",
       "      <td>0.068223</td>\n",
       "      <td>0.066524</td>\n",
       "      <td>...</td>\n",
       "      <td>0.053383</td>\n",
       "      <td>0.053190</td>\n",
       "      <td>0.052980</td>\n",
       "      <td>0.052841</td>\n",
       "      <td>0.052704</td>\n",
       "      <td>0.052493</td>\n",
       "      <td>0.052338</td>\n",
       "      <td>0.052174</td>\n",
       "      <td>0.051976</td>\n",
       "      <td>0.051870</td>\n",
       "    </tr>\n",
       "    <tr>\n",
       "      <th>1121</th>\n",
       "      <td>0.083013</td>\n",
       "      <td>0.079676</td>\n",
       "      <td>0.076723</td>\n",
       "      <td>0.075707</td>\n",
       "      <td>0.074645</td>\n",
       "      <td>0.074124</td>\n",
       "      <td>0.071680</td>\n",
       "      <td>0.068834</td>\n",
       "      <td>0.069473</td>\n",
       "      <td>0.067218</td>\n",
       "      <td>...</td>\n",
       "      <td>0.054458</td>\n",
       "      <td>0.054173</td>\n",
       "      <td>0.053934</td>\n",
       "      <td>0.053722</td>\n",
       "      <td>0.053513</td>\n",
       "      <td>0.053399</td>\n",
       "      <td>0.053262</td>\n",
       "      <td>0.053052</td>\n",
       "      <td>0.052920</td>\n",
       "      <td>0.052803</td>\n",
       "    </tr>\n",
       "  </tbody>\n",
       "</table>\n",
       "<p>609 rows × 2151 columns</p>\n",
       "</div>"
      ],
      "text/plain": [
       "           350       351       352       353       354       355       356  \\\n",
       "55    0.074977  0.072681  0.070706  0.069901  0.071965  0.069335  0.065900   \n",
       "56    0.074977  0.072305  0.070633  0.069901  0.071965  0.069335  0.065900   \n",
       "58    0.074977  0.072664  0.070641  0.069901  0.071965  0.069335  0.065900   \n",
       "60    0.074977  0.073020  0.070656  0.069901  0.071965  0.069335  0.065900   \n",
       "62    0.074977  0.073703  0.070722  0.069901  0.071965  0.069335  0.065900   \n",
       "...        ...       ...       ...       ...       ...       ...       ...   \n",
       "1117  0.083192  0.079482  0.076508  0.075413  0.074210  0.073554  0.070912   \n",
       "1118  0.083912  0.079585  0.076704  0.075775  0.074007  0.074168  0.071480   \n",
       "1119  0.083259  0.079415  0.076692  0.075799  0.074208  0.073514  0.071540   \n",
       "1120  0.081785  0.079500  0.076721  0.075646  0.073730  0.073496  0.071402   \n",
       "1121  0.083013  0.079676  0.076723  0.075707  0.074645  0.074124  0.071680   \n",
       "\n",
       "           357       358       359  ...      2491      2492      2493  \\\n",
       "55    0.065798  0.066554  0.063296  ...  0.047039  0.046910  0.046745   \n",
       "56    0.065706  0.066456  0.063296  ...  0.049191  0.048992  0.048779   \n",
       "58    0.064761  0.066382  0.063296  ...  0.048976  0.048711  0.048490   \n",
       "60    0.064554  0.066631  0.063296  ...  0.052943  0.052751  0.052555   \n",
       "62    0.065915  0.066948  0.063296  ...  0.050270  0.050102  0.049913   \n",
       "...        ...       ...       ...  ...       ...       ...       ...   \n",
       "1117  0.068110  0.068402  0.066951  ...  0.051868  0.051686  0.051442   \n",
       "1118  0.068334  0.069530  0.067488  ...  0.052182  0.051997  0.051808   \n",
       "1119  0.068684  0.068723  0.067059  ...  0.052589  0.052431  0.052255   \n",
       "1120  0.068440  0.068223  0.066524  ...  0.053383  0.053190  0.052980   \n",
       "1121  0.068834  0.069473  0.067218  ...  0.054458  0.054173  0.053934   \n",
       "\n",
       "          2494      2495      2496      2497      2498      2499      2500  \n",
       "55    0.046547  0.046383  0.046231  0.046113  0.046034  0.045907  0.045765  \n",
       "56    0.048630  0.048459  0.048253  0.048114  0.047977  0.047840  0.047732  \n",
       "58    0.048318  0.048166  0.048106  0.047983  0.047799  0.047680  0.047510  \n",
       "60    0.052341  0.052103  0.051852  0.051687  0.051628  0.051477  0.051321  \n",
       "62    0.049728  0.049515  0.049315  0.049188  0.049123  0.049006  0.048822  \n",
       "...        ...       ...       ...       ...       ...       ...       ...  \n",
       "1117  0.051306  0.051132  0.050842  0.050676  0.050524  0.050362  0.050302  \n",
       "1118  0.051615  0.051431  0.051247  0.051087  0.050938  0.050791  0.050630  \n",
       "1119  0.052073  0.051893  0.051737  0.051565  0.051325  0.051162  0.051050  \n",
       "1120  0.052841  0.052704  0.052493  0.052338  0.052174  0.051976  0.051870  \n",
       "1121  0.053722  0.053513  0.053399  0.053262  0.053052  0.052920  0.052803  \n",
       "\n",
       "[609 rows x 2151 columns]"
      ]
     },
     "execution_count": 316,
     "metadata": {},
     "output_type": "execute_result"
    }
   ],
   "source": [
    "X"
   ]
  },
  {
   "cell_type": "code",
   "execution_count": 317,
   "metadata": {},
   "outputs": [],
   "source": [
    "group2 = []\n",
    "for i in data['Group']:\n",
    "    if i == 'Hybrid':\n",
    "        group2.append(1)\n",
    "    else:\n",
    "        group2.append(2)"
   ]
  },
  {
   "cell_type": "code",
   "execution_count": 318,
   "metadata": {},
   "outputs": [
    {
     "data": {
      "text/plain": [
       "array(['BGEM_Short_early', 'BGEM_Short_late', 'BGEM_Tall_early',\n",
       "       'BGEM_Tall_late'], dtype=object)"
      ]
     },
     "execution_count": 318,
     "metadata": {},
     "output_type": "execute_result"
    }
   ],
   "source": [
    "np.unique(data['note'])"
   ]
  },
  {
   "cell_type": "code",
   "execution_count": 319,
   "metadata": {},
   "outputs": [],
   "source": [
    "note2 = []\n",
    "for i in data['note']:\n",
    "    if i == 'BGEM_Short_early':\n",
    "        note2.append(1)\n",
    "    elif i ==  'BGEM_Short_late':\n",
    "        note2.append(2)\n",
    "    elif i == 'BGEM_Tall_early':\n",
    "        note2.append(3)\n",
    "    elif i == 'BGEM_Tall_late':\n",
    "        note2.append(4)\n",
    "    else:\n",
    "        note2.append(5)\n",
    "    "
   ]
  },
  {
   "cell_type": "code",
   "execution_count": 320,
   "metadata": {},
   "outputs": [],
   "source": [
    "data.insert(8, 'note2', note2)"
   ]
  },
  {
   "cell_type": "code",
   "execution_count": 321,
   "metadata": {},
   "outputs": [],
   "source": [
    "data.insert(8, 'Group2' , group2)"
   ]
  },
  {
   "cell_type": "code",
   "execution_count": 322,
   "metadata": {},
   "outputs": [],
   "source": [
    "y = data.loc[:, 'note2'].reset_index(drop=True)"
   ]
  },
  {
   "cell_type": "code",
   "execution_count": 323,
   "metadata": {},
   "outputs": [
    {
     "data": {
      "text/plain": [
       "0      3\n",
       "1      3\n",
       "2      4\n",
       "3      2\n",
       "4      3\n",
       "      ..\n",
       "604    4\n",
       "605    4\n",
       "606    1\n",
       "607    1\n",
       "608    4\n",
       "Name: note2, Length: 609, dtype: int64"
      ]
     },
     "execution_count": 323,
     "metadata": {},
     "output_type": "execute_result"
    }
   ],
   "source": [
    "y"
   ]
  },
  {
   "cell_type": "code",
   "execution_count": 111,
   "metadata": {},
   "outputs": [],
   "source": [
    "test_set = pd.read_csv('2022_Brooke_v2.csv')"
   ]
  },
  {
   "cell_type": "code",
   "execution_count": 112,
   "metadata": {},
   "outputs": [],
   "source": [
    "test_set =test_set.loc[test_set['Growth Stage'] == 2 , :] "
   ]
  },
  {
   "cell_type": "code",
   "execution_count": 113,
   "metadata": {},
   "outputs": [],
   "source": [
    "test_set.dropna(inplace=True)"
   ]
  },
  {
   "cell_type": "code",
   "execution_count": 24,
   "metadata": {},
   "outputs": [
    {
     "ename": "NameError",
     "evalue": "name 'a' is not defined",
     "output_type": "error",
     "traceback": [
      "\u001b[0;31m---------------------------------------------------------------------------\u001b[0m",
      "\u001b[0;31mNameError\u001b[0m                                 Traceback (most recent call last)",
      "\u001b[0;32m<ipython-input-24-7b29b4af31a5>\u001b[0m in \u001b[0;36m<module>\u001b[0;34m()\u001b[0m\n\u001b[1;32m      1\u001b[0m test_set = test_set[['Unnamed: 0', 'Genotype', 'PLOT ID', 'Plant Number', 'Trt', 'Rep',\n\u001b[1;32m      2\u001b[0m        \u001b[0;34m'Growth Stage'\u001b[0m\u001b[0;34m,\u001b[0m \u001b[0;34m'Fresh_Weight'\u001b[0m\u001b[0;34m,\u001b[0m \u001b[0;34m'Leaf_Area'\u001b[0m\u001b[0;34m,\u001b[0m \u001b[0;34m'SPAD_1'\u001b[0m\u001b[0;34m,\u001b[0m \u001b[0;34m'SPAD_2 '\u001b[0m\u001b[0;34m,\u001b[0m\u001b[0;34m\u001b[0m\u001b[0;34m\u001b[0m\u001b[0m\n\u001b[0;32m----> 3\u001b[0;31m        'SPAD_3',] + a]\n\u001b[0m",
      "\u001b[0;31mNameError\u001b[0m: name 'a' is not defined"
     ]
    }
   ],
   "source": [
    "test_set = test_set[['Unnamed: 0', 'Genotype', 'PLOT ID', 'Plant Number', 'Trt', 'Rep',\n",
    "       'Growth Stage', 'Fresh_Weight', 'Leaf_Area', 'SPAD_1', 'SPAD_2 ',\n",
    "       'SPAD_3',] + a]"
   ]
  },
  {
   "cell_type": "code",
   "execution_count": 32,
   "metadata": {},
   "outputs": [],
   "source": [
    "test_set['Group'] = test_set['Group'].astype('category')"
   ]
  },
  {
   "cell_type": "code",
   "execution_count": 62,
   "metadata": {},
   "outputs": [
    {
     "data": {
      "text/plain": [
       "MN        69\n",
       "HN        68\n",
       "Normal    68\n",
       "LN        68\n",
       "Name: Trt, dtype: int64"
      ]
     },
     "execution_count": 62,
     "metadata": {},
     "output_type": "execute_result"
    }
   ],
   "source": [
    "test_set['Trt'].value_counts()"
   ]
  },
  {
   "cell_type": "code",
   "execution_count": 1075,
   "metadata": {},
   "outputs": [],
   "source": [
    "#test_set = test_set.loc[test_set['Trt'].isin(['Normal','HN']), :]"
   ]
  },
  {
   "cell_type": "code",
   "execution_count": 63,
   "metadata": {},
   "outputs": [],
   "source": [
    "position_first = test_set.columns.get_loc('350')\n",
    "position_last = test_set.columns.get_loc('2500') + 1 \n",
    "X_test = test_set.iloc[:, position_first : position_2500]"
   ]
  },
  {
   "cell_type": "code",
   "execution_count": 64,
   "metadata": {},
   "outputs": [],
   "source": [
    "group = []\n",
    "for i in test_set['PLOT ID']:\n",
    "    if str(i)[0] == '1' or str(i)[0] == '2':\n",
    "        group.append('Inbred')\n",
    "    else:\n",
    "            group.append('Hybrid')"
   ]
  },
  {
   "cell_type": "code",
   "execution_count": 65,
   "metadata": {},
   "outputs": [],
   "source": [
    "test_set.insert(3, 'Group', group)"
   ]
  },
  {
   "cell_type": "code",
   "execution_count": 66,
   "metadata": {},
   "outputs": [],
   "source": [
    "y_test = test_set['Group']"
   ]
  },
  {
   "cell_type": "code",
   "execution_count": 324,
   "metadata": {},
   "outputs": [],
   "source": [
    "random_state = 2\n",
    "# Split into train/test\n",
    "X_train, X_test, y_train, y_test = train_test_split(X, y, test_size=0.3, stratify=y, random_state=random_state)"
   ]
  },
  {
   "cell_type": "code",
   "execution_count": 329,
   "metadata": {},
   "outputs": [],
   "source": [
    "SVC_model = svm.SVC()\n",
    "# KNN model requires you to specify n_neighbors,\n",
    "# the number of points the classifier will look at to determine what class a new point belongs to\n",
    "KNN_model = KNeighborsClassifier(n_neighbors=1)\n",
    "logreg_model = LogisticRegression()"
   ]
  },
  {
   "cell_type": "code",
   "execution_count": 330,
   "metadata": {},
   "outputs": [
    {
     "name": "stderr",
     "output_type": "stream",
     "text": [
      "/usr/local/lib/python3.6/dist-packages/sklearn/linear_model/_logistic.py:765: ConvergenceWarning: lbfgs failed to converge (status=1):\n",
      "STOP: TOTAL NO. of ITERATIONS REACHED LIMIT.\n",
      "\n",
      "Increase the number of iterations (max_iter) or scale the data as shown in:\n",
      "    https://scikit-learn.org/stable/modules/preprocessing.html\n",
      "Please also refer to the documentation for alternative solver options:\n",
      "    https://scikit-learn.org/stable/modules/linear_model.html#logistic-regression\n",
      "  extra_warning_msg=_LOGISTIC_SOLVER_CONVERGENCE_MSG)\n"
     ]
    },
    {
     "data": {
      "text/plain": [
       "LogisticRegression()"
      ]
     },
     "execution_count": 330,
     "metadata": {},
     "output_type": "execute_result"
    }
   ],
   "source": [
    "SVC_model.fit(X_train, y_train)\n",
    "KNN_model.fit(X_train, y_train)\n",
    "logreg_model.fit(X_train, y_train)\n"
   ]
  },
  {
   "cell_type": "code",
   "execution_count": 331,
   "metadata": {},
   "outputs": [],
   "source": [
    "SVC_prediction = SVC_model.predict(X_test)\n",
    "KNN_prediction = KNN_model.predict(X_test)\n",
    "logreg_prediction= logreg_model.predict(X_test)"
   ]
  },
  {
   "cell_type": "code",
   "execution_count": 332,
   "metadata": {},
   "outputs": [
    {
     "name": "stdout",
     "output_type": "stream",
     "text": [
      "0.25136612021857924\n",
      "0.2568306010928962\n",
      "0.28415300546448086\n"
     ]
    }
   ],
   "source": [
    "print(accuracy_score(SVC_prediction, y_test))\n",
    "print(accuracy_score(KNN_prediction, y_test))\n",
    "print(accuracy_score(logreg_prediction, y_test))"
   ]
  },
  {
   "cell_type": "code",
   "execution_count": 127,
   "metadata": {},
   "outputs": [],
   "source": [
    "forest = RandomForestClassifier(criterion='gini',\n",
    "                                 n_estimators=10,\n",
    "                                 min_samples_leaf=3,\n",
    "                                 min_samples_split= 5,\n",
    "                                 bootstrap = True,\n",
    "                                 n_jobs=2)"
   ]
  },
  {
   "cell_type": "code",
   "execution_count": 128,
   "metadata": {},
   "outputs": [
    {
     "name": "stdout",
     "output_type": "stream",
     "text": [
      "Accuracy: 0.217\n"
     ]
    }
   ],
   "source": [
    "#\n",
    "# Fit the model “gini”, “entropy”, “log_loss”}, \n",
    "#\n",
    "forest.fit(X_train, y_train)\n",
    " \n",
    "#\n",
    "# Measure model performance\n",
    "#\n",
    "y_pred = forest.predict(X_test)\n",
    "print('Accuracy: %.3f' % accuracy_score(y_test, y_pred))"
   ]
  },
  {
   "cell_type": "code",
   "execution_count": null,
   "metadata": {},
   "outputs": [],
   "source": []
  },
  {
   "cell_type": "code",
   "execution_count": 659,
   "metadata": {
    "collapsed": true
   },
   "outputs": [
    {
     "data": {
      "text/plain": [
       "{'bootstrap': False,\n",
       " 'ccp_alpha': 0.0,\n",
       " 'class_weight': None,\n",
       " 'criterion': 'gini',\n",
       " 'max_depth': None,\n",
       " 'max_features': 'auto',\n",
       " 'max_leaf_nodes': None,\n",
       " 'max_samples': None,\n",
       " 'min_impurity_decrease': 0.0,\n",
       " 'min_impurity_split': None,\n",
       " 'min_samples_leaf': 2,\n",
       " 'min_samples_split': 5,\n",
       " 'min_weight_fraction_leaf': 0.0,\n",
       " 'n_estimators': 10,\n",
       " 'n_jobs': 2,\n",
       " 'oob_score': False,\n",
       " 'random_state': None,\n",
       " 'verbose': 0,\n",
       " 'warm_start': False}"
      ]
     },
     "execution_count": 659,
     "metadata": {},
     "output_type": "execute_result"
    }
   ],
   "source": [
    "forest.get_params()"
   ]
  },
  {
   "cell_type": "code",
   "execution_count": 1099,
   "metadata": {},
   "outputs": [],
   "source": [
    "# Feature Importance\n",
    "result = permutation_importance(forest, X_train, y_train, n_repeats=10, random_state=42, n_jobs=2)\n",
    "forest_importances = pd.Series(result.importances_mean, index = X_train.columns)"
   ]
  },
  {
   "cell_type": "code",
   "execution_count": 1102,
   "metadata": {
    "collapsed": true
   },
   "outputs": [
    {
     "data": {
      "text/plain": [
       "444     0.003214\n",
       "1067    0.002381\n",
       "536     0.002143\n",
       "732     0.002024\n",
       "733     0.002024\n",
       "482     0.001905\n",
       "1603    0.001667\n",
       "1514    0.001667\n",
       "1060    0.001667\n",
       "435     0.001548\n",
       "1543    0.001548\n",
       "473     0.001429\n",
       "2242    0.001310\n",
       "1461    0.001310\n",
       "363     0.001310\n",
       "1058    0.001310\n",
       "1055    0.001190\n",
       "654     0.001190\n",
       "1584    0.001190\n",
       "430     0.001190\n",
       "1533    0.001071\n",
       "531     0.001071\n",
       "2140    0.001071\n",
       "393     0.001071\n",
       "1519    0.001071\n",
       "390     0.001071\n",
       "695     0.001071\n",
       "632     0.001071\n",
       "448     0.000952\n",
       "662     0.000952\n",
       "494     0.000952\n",
       "731     0.000952\n",
       "460     0.000952\n",
       "2163    0.000833\n",
       "406     0.000833\n",
       "468     0.000714\n",
       "728     0.000714\n",
       "359     0.000714\n",
       "1936    0.000714\n",
       "2171    0.000714\n",
       "1223    0.000595\n",
       "1193    0.000595\n",
       "1503    0.000595\n",
       "358     0.000595\n",
       "2257    0.000595\n",
       "1186    0.000595\n",
       "951     0.000595\n",
       "1752    0.000476\n",
       "1142    0.000476\n",
       "597     0.000357\n",
       "dtype: float64"
      ]
     },
     "execution_count": 1102,
     "metadata": {},
     "output_type": "execute_result"
    }
   ],
   "source": [
    "forest_importances.sort_values(ascending = False, inplace= True)\n",
    "forest_importances.head(50)"
   ]
  },
  {
   "cell_type": "code",
   "execution_count": 1178,
   "metadata": {},
   "outputs": [
    {
     "data": {
      "text/plain": [
       "724     0.000119\n",
       "1072    0.000000\n",
       "1052    0.000000\n",
       "1051    0.000000\n",
       "1107    0.000000\n",
       "1137    0.000000\n",
       "1136    0.000000\n",
       "1135    0.000000\n",
       "1134    0.000000\n",
       "1133    0.000000\n",
       "1132    0.000000\n",
       "1068    0.000000\n",
       "1071    0.000000\n",
       "1069    0.000000\n",
       "1070    0.000000\n",
       "1131    0.000000\n",
       "1054    0.000000\n",
       "1073    0.000000\n",
       "1074    0.000000\n",
       "1075    0.000000\n",
       "1076    0.000000\n",
       "1130    0.000000\n",
       "1066    0.000000\n",
       "1064    0.000000\n",
       "1065    0.000000\n",
       "1056    0.000000\n",
       "1047    0.000000\n",
       "1048    0.000000\n",
       "1049    0.000000\n",
       "1050    0.000000\n",
       "dtype: float64"
      ]
     },
     "execution_count": 1178,
     "metadata": {},
     "output_type": "execute_result"
    }
   ],
   "source": [
    "forest_importances[70:100]"
   ]
  },
  {
   "cell_type": "code",
   "execution_count": 1168,
   "metadata": {},
   "outputs": [],
   "source": [
    "importance= forest_importances.to_frame()"
   ]
  },
  {
   "cell_type": "code",
   "execution_count": 1169,
   "metadata": {},
   "outputs": [],
   "source": [
    "i2 =importance.reset_index()"
   ]
  },
  {
   "cell_type": "code",
   "execution_count": 1170,
   "metadata": {},
   "outputs": [],
   "source": [
    "i2['index'] = i2['index'].astype('int')"
   ]
  },
  {
   "cell_type": "code",
   "execution_count": 1171,
   "metadata": {},
   "outputs": [],
   "source": [
    "i2.rename(columns={'index':'band' , 0 : 'importance'}, inplace=True)"
   ]
  },
  {
   "cell_type": "code",
   "execution_count": 1174,
   "metadata": {},
   "outputs": [],
   "source": [
    "i2 =i2.sort_values(by='band')"
   ]
  },
  {
   "cell_type": "code",
   "execution_count": 1175,
   "metadata": {},
   "outputs": [
    {
     "data": {
      "text/plain": [
       "[<matplotlib.lines.Line2D at 0x7f827b0e8278>]"
      ]
     },
     "execution_count": 1175,
     "metadata": {},
     "output_type": "execute_result"
    },
    {
     "data": {
      "image/png": "[encoded data removed]",
      "text/plain": [
       "<Figure size 432x288 with 1 Axes>"
      ]
     },
     "metadata": {},
     "output_type": "display_data"
    }
   ],
   "source": [
    "plt.plot(i2['band'], i2['importance'])"
   ]
  },
  {
   "cell_type": "code",
   "execution_count": 1184,
   "metadata": {},
   "outputs": [],
   "source": [
    "first_70 = i2.sort_values(by ='importance', ascending=False)[0:70]"
   ]
  },
  {
   "cell_type": "code",
   "execution_count": 1214,
   "metadata": {},
   "outputs": [],
   "source": [
    "first_70 = first_70.sort_values(by='band', ascending=True)"
   ]
  },
  {
   "cell_type": "code",
   "execution_count": 1215,
   "metadata": {},
   "outputs": [],
   "source": [
    "first_70_bands = first_70['band'].astype('string')"
   ]
  },
  {
   "cell_type": "code",
   "execution_count": 1217,
   "metadata": {},
   "outputs": [],
   "source": [
    "a =first_70_bands.to_list()"
   ]
  },
  {
   "cell_type": "code",
   "execution_count": 1232,
   "metadata": {
    "scrolled": true
   },
   "outputs": [
    {
     "data": {
      "text/plain": [
       "['358',\n",
       " '359',\n",
       " '363',\n",
       " '390',\n",
       " '393',\n",
       " '406',\n",
       " '430',\n",
       " '435',\n",
       " '442',\n",
       " '444',\n",
       " '448',\n",
       " '460',\n",
       " '468',\n",
       " '473',\n",
       " '482',\n",
       " '494',\n",
       " '499',\n",
       " '522',\n",
       " '531',\n",
       " '536',\n",
       " '597',\n",
       " '621',\n",
       " '632',\n",
       " '643',\n",
       " '654',\n",
       " '662',\n",
       " '684',\n",
       " '695',\n",
       " '726',\n",
       " '728',\n",
       " '731',\n",
       " '732',\n",
       " '733',\n",
       " '744',\n",
       " '951',\n",
       " '955',\n",
       " '1015',\n",
       " '1019',\n",
       " '1055',\n",
       " '1058',\n",
       " '1060',\n",
       " '1067',\n",
       " '1110',\n",
       " '1142',\n",
       " '1186',\n",
       " '1193',\n",
       " '1223',\n",
       " '1461',\n",
       " '1503',\n",
       " '1510',\n",
       " '1514',\n",
       " '1519',\n",
       " '1533',\n",
       " '1543',\n",
       " '1546',\n",
       " '1584',\n",
       " '1588',\n",
       " '1603',\n",
       " '1624',\n",
       " '1735',\n",
       " '1752',\n",
       " '1795',\n",
       " '1936',\n",
       " '1949',\n",
       " '2140',\n",
       " '2150',\n",
       " '2163',\n",
       " '2171',\n",
       " '2242',\n",
       " '2257']"
      ]
     },
     "execution_count": 1232,
     "metadata": {},
     "output_type": "execute_result"
    }
   ],
   "source": [
    "a"
   ]
  },
  {
   "cell_type": "code",
   "execution_count": 1304,
   "metadata": {},
   "outputs": [],
   "source": [
    "selected = data[['index', 'genotype', 'PLOT.ID', 'rows', 'ranges', 'Block', 'Rep', 'Trt',\n",
    "       'year', 'note', 'Group', 'Calibration', 'ASD'] + a]"
   ]
  },
  {
   "cell_type": "code",
   "execution_count": 1518,
   "metadata": {
    "collapsed": true
   },
   "outputs": [
    {
     "name": "stderr",
     "output_type": "stream",
     "text": [
      "/usr/local/lib/python3.6/dist-packages/pandas/core/frame.py:3069: SettingWithCopyWarning: \n",
      "A value is trying to be set on a copy of a slice from a DataFrame.\n",
      "Try using .loc[row_indexer,col_indexer] = value instead\n",
      "\n",
      "See the caveats in the documentation: https://pandas.pydata.org/pandas-docs/stable/user_guide/indexing.html#returning-a-view-versus-a-copy\n",
      "  self[k1] = value[k2]\n"
     ]
    }
   ],
   "source": [
    "selected[['genotype', 'PLOT.ID', 'rows', 'ranges', 'Block', 'Rep', 'Trt', 'year',\n",
    "       'note', 'Group', 'Calibration', 'ASD']] = selected[['genotype', 'PLOT.ID', 'rows', 'ranges', 'Block', 'Rep', 'Trt', 'year',\n",
    "       'note', 'Group', 'Calibration', 'ASD']].astype('category')"
   ]
  },
  {
   "cell_type": "code",
   "execution_count": 1520,
   "metadata": {},
   "outputs": [],
   "source": [
    "position_first = selected.columns.get_loc('358')\n",
    "position_last = selected.columns.get_loc('2257') + 1 \n",
    "X_train= selected.iloc[:, position_first : position_last]"
   ]
  },
  {
   "cell_type": "code",
   "execution_count": 1519,
   "metadata": {},
   "outputs": [
    {
     "data": {
      "text/plain": [
       "index             int64\n",
       "genotype       category\n",
       "PLOT.ID        category\n",
       "rows           category\n",
       "ranges         category\n",
       "Block          category\n",
       "Rep            category\n",
       "Trt            category\n",
       "year           category\n",
       "note           category\n",
       "Group          category\n",
       "Calibration    category\n",
       "dtype: object"
      ]
     },
     "execution_count": 1519,
     "metadata": {},
     "output_type": "execute_result"
    }
   ],
   "source": [
    "selected.dtypes[0:12]"
   ]
  },
  {
   "cell_type": "code",
   "execution_count": 1522,
   "metadata": {},
   "outputs": [
    {
     "data": {
      "text/plain": [
       "0       Inbred\n",
       "1       Inbred\n",
       "2       Inbred\n",
       "3       Inbred\n",
       "4       Inbred\n",
       "         ...  \n",
       "1195    Hybrid\n",
       "1196    Hybrid\n",
       "1197    Hybrid\n",
       "1198    Hybrid\n",
       "1199    Hybrid\n",
       "Name: Group, Length: 1200, dtype: category\n",
       "Categories (2, object): ['Hybrid', 'Inbred']"
      ]
     },
     "execution_count": 1522,
     "metadata": {},
     "output_type": "execute_result"
    }
   ],
   "source": [
    "y_train"
   ]
  },
  {
   "cell_type": "code",
   "execution_count": 1521,
   "metadata": {},
   "outputs": [],
   "source": [
    "y_train = selected.loc[:, 'Group']"
   ]
  },
  {
   "cell_type": "code",
   "execution_count": 660,
   "metadata": {},
   "outputs": [
    {
     "name": "stdout",
     "output_type": "stream",
     "text": [
      "Accuracy: 0.262 (0.047)\n"
     ]
    }
   ],
   "source": [
    "steps = [('svd', TruncatedSVD(n_components=10)), ('m', KNeighborsClassifier(n_neighbors=1))]\n",
    "model = Pipeline(steps=steps)\n",
    "# evaluate model\n",
    "cv = RepeatedStratifiedKFold(n_splits=10, n_repeats=3, random_state=1)\n",
    "n_scores = cross_val_score(model, X, y, scoring='accuracy', cv=cv, n_jobs=-1)\n",
    "# report performance\n",
    "print('Accuracy: %.3f (%.3f)' % (mean(n_scores), std(n_scores)))"
   ]
  },
  {
   "cell_type": "code",
   "execution_count": null,
   "metadata": {},
   "outputs": [],
   "source": []
  },
  {
   "cell_type": "code",
   "execution_count": 661,
   "metadata": {},
   "outputs": [
    {
     "name": "stdout",
     "output_type": "stream",
     "text": [
      "Accuracy: 0.366 (0.070)\n"
     ]
    }
   ],
   "source": [
    "steps = [('lda', LinearDiscriminantAnalysis(n_components=1)), ('m', KNeighborsClassifier(n_neighbors=1))]\n",
    "model = Pipeline(steps=steps)\n",
    "# evaluate model\n",
    "cv = RepeatedStratifiedKFold(n_splits=10, n_repeats=3, random_state=1)\n",
    "n_scores = cross_val_score(model, X, y, scoring='accuracy', cv=cv, n_jobs=-1)\n",
    "# report performance\n",
    "print('Accuracy: %.3f (%.3f)' % (mean(n_scores), std(n_scores)))\n"
   ]
  },
  {
   "cell_type": "code",
   "execution_count": 662,
   "metadata": {},
   "outputs": [
    {
     "name": "stdout",
     "output_type": "stream",
     "text": [
      "Accuracy: 0.276 (0.047)\n"
     ]
    }
   ],
   "source": [
    "from sklearn.manifold import Isomap\n",
    "# define the pipeline\n",
    "steps = [('iso', Isomap(n_components=10)), ('m', KNeighborsClassifier(n_neighbors=1))]\n",
    "model = Pipeline(steps=steps)\n",
    "# evaluate model\n",
    "cv = RepeatedStratifiedKFold(n_splits=10, n_repeats=3, random_state=1)\n",
    "n_scores = cross_val_score(model, X, y, scoring='accuracy', cv=cv, n_jobs=-1)\n",
    "# report performance\n",
    "print('Accuracy: %.3f (%.3f)' % (mean(n_scores), std(n_scores)))"
   ]
  },
  {
   "cell_type": "code",
   "execution_count": 663,
   "metadata": {},
   "outputs": [
    {
     "name": "stdout",
     "output_type": "stream",
     "text": [
      "Accuracy: 0.270 (0.058)\n"
     ]
    }
   ],
   "source": [
    "from sklearn.manifold import LocallyLinearEmbedding\n",
    "# define the pipeline\n",
    "steps = [('lle', LocallyLinearEmbedding(n_components=10)), ('m', KNeighborsClassifier(n_neighbors=1))]\n",
    "model = Pipeline(steps=steps)\n",
    "# evaluate model\n",
    "cv = RepeatedStratifiedKFold(n_splits=10, n_repeats=3, random_state=1)\n",
    "n_scores = cross_val_score(model, X, y, scoring='accuracy', cv=cv, n_jobs=-1)\n",
    "# report performance\n",
    "print('Accuracy: %.3f (%.3f)' % (mean(n_scores), std(n_scores)))"
   ]
  },
  {
   "cell_type": "code",
   "execution_count": 664,
   "metadata": {},
   "outputs": [
    {
     "name": "stdout",
     "output_type": "stream",
     "text": [
      "Accuracy: 0.287 (0.057)\n"
     ]
    }
   ],
   "source": [
    "from sklearn.manifold import LocallyLinearEmbedding\n",
    "# define the pipeline\n",
    "steps = [('lle', LocallyLinearEmbedding(n_components=5, method='modified', n_neighbors=10)), ('m', KNeighborsClassifier(n_neighbors=1))]\n",
    "model = Pipeline(steps=steps)\n",
    "# evaluate model\n",
    "cv = RepeatedStratifiedKFold(n_splits=10, n_repeats=3, random_state=1)\n",
    "n_scores = cross_val_score(model, X, y, scoring='accuracy', cv=cv, n_jobs=-1)\n",
    "# report performance\n",
    "print('Accuracy: %.3f (%.3f)' % (mean(n_scores), std(n_scores)))"
   ]
  },
  {
   "cell_type": "code",
   "execution_count": 665,
   "metadata": {},
   "outputs": [],
   "source": [
    "PCA_blups = PCA(n_components=2)\n",
    "principal_comp = PCA_blups.fit_transform(X)"
   ]
  },
  {
   "cell_type": "code",
   "execution_count": 666,
   "metadata": {},
   "outputs": [],
   "source": [
    "principal_blups_Df = pd.DataFrame(data = principal_comp\n",
    "             , columns = ['principal component 1', 'principal component 2'])"
   ]
  },
  {
   "cell_type": "code",
   "execution_count": 667,
   "metadata": {},
   "outputs": [
    {
     "name": "stdout",
     "output_type": "stream",
     "text": [
      "Explained variation per principal component: [0.87266099 0.06973509]\n"
     ]
    }
   ],
   "source": [
    "print('Explained variation per principal component: {}'.format(PCA_blups.explained_variance_ratio_))"
   ]
  },
  {
   "cell_type": "code",
   "execution_count": 668,
   "metadata": {},
   "outputs": [
    {
     "data": {
      "text/plain": [
       "<matplotlib.legend.Legend at 0x7f82803cd240>"
      ]
     },
     "execution_count": 668,
     "metadata": {},
     "output_type": "execute_result"
    },
    {
     "data": {
      "text/plain": [
       "<Figure size 432x288 with 0 Axes>"
      ]
     },
     "metadata": {},
     "output_type": "display_data"
    },
    {
     "data": {
      "image/png": "[encoded data removed]",
      "text/plain": [
       "<Figure size 720x720 with 1 Axes>"
      ]
     },
     "metadata": {},
     "output_type": "display_data"
    }
   ],
   "source": [
    "plt.figure()\n",
    "plt.figure(figsize=(10,10))\n",
    "plt.xticks(fontsize=12)\n",
    "plt.yticks(fontsize=14)\n",
    "plt.xlabel('Principal Component - 1',fontsize=20)\n",
    "plt.ylabel('Principal Component - 2',fontsize=20)\n",
    "plt.title(\"Principal Component Analysis\",fontsize=20)\n",
    "targets = ['Hybrid', 'Inbred']\n",
    "colors = ['r', 'g']\n",
    "for target, color in zip(targets,colors):\n",
    "    indicesToKeep = data['Group'] == target\n",
    "    plt.scatter(principal_blups_Df.loc[indicesToKeep, 'principal component 1']\n",
    "               , principal_blups_Df.loc[indicesToKeep, 'principal component 2'], c = color, s = 50)\n",
    "\n",
    "plt.legend(targets,prop={'size': 15})"
   ]
  },
  {
   "cell_type": "code",
   "execution_count": 669,
   "metadata": {},
   "outputs": [
    {
     "data": {
      "text/plain": [
       "0       Inbred\n",
       "1       Inbred\n",
       "2       Inbred\n",
       "3       Inbred\n",
       "4       Inbred\n",
       "         ...  \n",
       "1195    Hybrid\n",
       "1196    Hybrid\n",
       "1197    Hybrid\n",
       "1198    Hybrid\n",
       "1199    Hybrid\n",
       "Name: Group, Length: 1200, dtype: category\n",
       "Categories (2, object): ['Hybrid', 'Inbred']"
      ]
     },
     "execution_count": 669,
     "metadata": {},
     "output_type": "execute_result"
    }
   ],
   "source": [
    "data['Group']"
   ]
  },
  {
   "cell_type": "code",
   "execution_count": 1776,
   "metadata": {},
   "outputs": [],
   "source": [
    "from sklearn.decomposition import PCA\n",
    "pca_spectra = PCA(n_components=5)\n",
    "principalComponents_spectra = pca_spectra.fit_transform(X)"
   ]
  },
  {
   "cell_type": "code",
   "execution_count": 1777,
   "metadata": {},
   "outputs": [],
   "source": [
    "pca_explained =pca_spectra.explained_variance_ratio_"
   ]
  },
  {
   "cell_type": "code",
   "execution_count": 1778,
   "metadata": {},
   "outputs": [],
   "source": [
    "pca_df = pd.DataFrame(\n",
    "    data=principalComponents_spectra, \n",
    "    columns=['PC1', 'PC2', 'PC3', 'PC4', 'PC5'])"
   ]
  },
  {
   "cell_type": "code",
   "execution_count": 1779,
   "metadata": {},
   "outputs": [
    {
     "data": {
      "text/html": [
       "<div>\n",
       "<style scoped>\n",
       "    .dataframe tbody tr th:only-of-type {\n",
       "        vertical-align: middle;\n",
       "    }\n",
       "\n",
       "    .dataframe tbody tr th {\n",
       "        vertical-align: top;\n",
       "    }\n",
       "\n",
       "    .dataframe thead th {\n",
       "        text-align: right;\n",
       "    }\n",
       "</style>\n",
       "<table border=\"1\" class=\"dataframe\">\n",
       "  <thead>\n",
       "    <tr style=\"text-align: right;\">\n",
       "      <th></th>\n",
       "      <th>PC1</th>\n",
       "      <th>PC2</th>\n",
       "      <th>PC3</th>\n",
       "      <th>PC4</th>\n",
       "      <th>PC5</th>\n",
       "    </tr>\n",
       "  </thead>\n",
       "  <tbody>\n",
       "    <tr>\n",
       "      <th>0</th>\n",
       "      <td>-0.213815</td>\n",
       "      <td>0.166827</td>\n",
       "      <td>0.076184</td>\n",
       "      <td>-0.011928</td>\n",
       "      <td>0.042922</td>\n",
       "    </tr>\n",
       "    <tr>\n",
       "      <th>1</th>\n",
       "      <td>-0.253658</td>\n",
       "      <td>-0.020129</td>\n",
       "      <td>-0.052851</td>\n",
       "      <td>-0.004830</td>\n",
       "      <td>0.008809</td>\n",
       "    </tr>\n",
       "    <tr>\n",
       "      <th>2</th>\n",
       "      <td>-0.272280</td>\n",
       "      <td>-0.058635</td>\n",
       "      <td>-0.088967</td>\n",
       "      <td>0.001167</td>\n",
       "      <td>0.001705</td>\n",
       "    </tr>\n",
       "    <tr>\n",
       "      <th>3</th>\n",
       "      <td>0.071897</td>\n",
       "      <td>-0.007135</td>\n",
       "      <td>-0.173800</td>\n",
       "      <td>-0.027143</td>\n",
       "      <td>0.031009</td>\n",
       "    </tr>\n",
       "    <tr>\n",
       "      <th>4</th>\n",
       "      <td>-0.186360</td>\n",
       "      <td>-0.124628</td>\n",
       "      <td>-0.109634</td>\n",
       "      <td>0.008589</td>\n",
       "      <td>-0.009645</td>\n",
       "    </tr>\n",
       "    <tr>\n",
       "      <th>...</th>\n",
       "      <td>...</td>\n",
       "      <td>...</td>\n",
       "      <td>...</td>\n",
       "      <td>...</td>\n",
       "      <td>...</td>\n",
       "    </tr>\n",
       "    <tr>\n",
       "      <th>604</th>\n",
       "      <td>0.276585</td>\n",
       "      <td>0.060858</td>\n",
       "      <td>0.055251</td>\n",
       "      <td>0.014119</td>\n",
       "      <td>-0.005410</td>\n",
       "    </tr>\n",
       "    <tr>\n",
       "      <th>605</th>\n",
       "      <td>0.432652</td>\n",
       "      <td>-0.096938</td>\n",
       "      <td>0.040226</td>\n",
       "      <td>-0.011445</td>\n",
       "      <td>-0.001393</td>\n",
       "    </tr>\n",
       "    <tr>\n",
       "      <th>606</th>\n",
       "      <td>0.231830</td>\n",
       "      <td>0.088999</td>\n",
       "      <td>-0.086200</td>\n",
       "      <td>0.002189</td>\n",
       "      <td>-0.021680</td>\n",
       "    </tr>\n",
       "    <tr>\n",
       "      <th>607</th>\n",
       "      <td>0.264359</td>\n",
       "      <td>0.115778</td>\n",
       "      <td>-0.098613</td>\n",
       "      <td>-0.002739</td>\n",
       "      <td>-0.013700</td>\n",
       "    </tr>\n",
       "    <tr>\n",
       "      <th>608</th>\n",
       "      <td>0.611083</td>\n",
       "      <td>-0.195128</td>\n",
       "      <td>0.056340</td>\n",
       "      <td>0.000956</td>\n",
       "      <td>0.010687</td>\n",
       "    </tr>\n",
       "  </tbody>\n",
       "</table>\n",
       "<p>609 rows × 5 columns</p>\n",
       "</div>"
      ],
      "text/plain": [
       "          PC1       PC2       PC3       PC4       PC5\n",
       "0   -0.213815  0.166827  0.076184 -0.011928  0.042922\n",
       "1   -0.253658 -0.020129 -0.052851 -0.004830  0.008809\n",
       "2   -0.272280 -0.058635 -0.088967  0.001167  0.001705\n",
       "3    0.071897 -0.007135 -0.173800 -0.027143  0.031009\n",
       "4   -0.186360 -0.124628 -0.109634  0.008589 -0.009645\n",
       "..        ...       ...       ...       ...       ...\n",
       "604  0.276585  0.060858  0.055251  0.014119 -0.005410\n",
       "605  0.432652 -0.096938  0.040226 -0.011445 -0.001393\n",
       "606  0.231830  0.088999 -0.086200  0.002189 -0.021680\n",
       "607  0.264359  0.115778 -0.098613 -0.002739 -0.013700\n",
       "608  0.611083 -0.195128  0.056340  0.000956  0.010687\n",
       "\n",
       "[609 rows x 5 columns]"
      ]
     },
     "execution_count": 1779,
     "metadata": {},
     "output_type": "execute_result"
    }
   ],
   "source": [
    "pca_df"
   ]
  },
  {
   "cell_type": "code",
   "execution_count": 242,
   "metadata": {},
   "outputs": [
    {
     "ename": "NameError",
     "evalue": "name 'pca_df' is not defined",
     "output_type": "error",
     "traceback": [
      "\u001b[0;31m---------------------------------------------------------------------------\u001b[0m",
      "\u001b[0;31mNameError\u001b[0m                                 Traceback (most recent call last)",
      "\u001b[0;32m<ipython-input-242-a2895101cda3>\u001b[0m in \u001b[0;36m<module>\u001b[0;34m()\u001b[0m\n\u001b[1;32m      6\u001b[0m }\n\u001b[1;32m      7\u001b[0m \u001b[0;34m\u001b[0m\u001b[0m\n\u001b[0;32m----> 8\u001b[0;31m \u001b[0mpca_df\u001b[0m\u001b[0;34m[\u001b[0m\u001b[0;34m'note2'\u001b[0m\u001b[0;34m]\u001b[0m \u001b[0;34m=\u001b[0m \u001b[0my\u001b[0m\u001b[0;34m\u001b[0m\u001b[0;34m\u001b[0m\u001b[0m\n\u001b[0m\u001b[1;32m      9\u001b[0m \u001b[0mpca_df\u001b[0m\u001b[0;34m[\u001b[0m\u001b[0;34m'note2'\u001b[0m\u001b[0;34m]\u001b[0m \u001b[0;34m=\u001b[0m \u001b[0mpca_df\u001b[0m\u001b[0;34m[\u001b[0m\u001b[0;34m'note2'\u001b[0m\u001b[0;34m]\u001b[0m\u001b[0;34m.\u001b[0m\u001b[0mmap\u001b[0m\u001b[0;34m(\u001b[0m\u001b[0mtarget_names\u001b[0m\u001b[0;34m)\u001b[0m\u001b[0;34m\u001b[0m\u001b[0;34m\u001b[0m\u001b[0m\n\u001b[1;32m     10\u001b[0m \u001b[0;34m\u001b[0m\u001b[0m\n",
      "\u001b[0;31mNameError\u001b[0m: name 'pca_df' is not defined"
     ]
    }
   ],
   "source": [
    "target_names = {\n",
    "    1:'BGEM_Short_early', \n",
    "    2:'BGEM_Short_late',\n",
    "    3:'BGEM_Tall_early',\n",
    "    4:'BGEM_Tall_late',\n",
    "}\n",
    " \n",
    "pca_df['note2'] = y\n",
    "pca_df['note2'] = pca_df['note2'].map(target_names)\n",
    " \n",
    "pca_df\n"
   ]
  },
  {
   "cell_type": "code",
   "execution_count": 1782,
   "metadata": {},
   "outputs": [
    {
     "data": {
      "image/png": "[encoded data removed]",
      "text/plain": [
       "<Figure size 640x480 with 1 Axes>"
      ]
     },
     "metadata": {},
     "output_type": "display_data"
    }
   ],
   "source": [
    "import matplotlib.pyplot as plt \n",
    " \n",
    "from sklearn.decomposition import PCA\n",
    "sns.set()\n",
    " \n",
    "\n",
    "# Bar plot of explained_variance\n",
    "plt.bar(\n",
    "    range(1,len(pca_spectra.explained_variance_)+1),\n",
    "    pca_spectra.explained_variance_\n",
    "    )\n",
    " \n",
    " \n",
    "plt.xlabel('PCA Feature')\n",
    "plt.ylabel('Explained variance')\n",
    "plt.title('Feature Explained Variance')\n",
    "plt.show()"
   ]
  },
  {
   "cell_type": "code",
   "execution_count": 1783,
   "metadata": {},
   "outputs": [
    {
     "data": {
      "image/png": "[encoded data removed]",
      "text/plain": [
       "<Figure size 640x480 with 1 Axes>"
      ]
     },
     "metadata": {},
     "output_type": "display_data"
    }
   ],
   "source": [
    "import numpy as np\n",
    "import matplotlib.pyplot as plt\n",
    " \n",
    "from mpl_toolkits import mplot3d\n",
    "plt.style.use('default')\n",
    " \n",
    "# Prepare 3D graph\n",
    "fig = plt.figure()\n",
    "ax = plt.axes(projection='3d')\n",
    " \n",
    "# Plot scaled features\n",
    "xdata = pca_df.iloc[:,0]\n",
    "ydata = pca_df.iloc[:,1]\n",
    "zdata = pca_df.iloc[:,2]\n",
    " \n",
    "# Plot 3D plot\n",
    "ax.scatter3D(xdata, ydata, zdata, c=note2, cmap='viridis')\n",
    " \n",
    "# Plot title of graph\n",
    "plt.title(f'3D Scatter of Iris')\n",
    " \n",
    "# Plot x, y, z even ticks\n",
    "#ticks = np.linspace(-1, 1, num=10)\n",
    "#ax.set_xticks(ticks)\n",
    "#ax.set_yticks(ticks)\n",
    "#ax.set_zticks(ticks)\n",
    " \n",
    "# Plot x, y, z labels\n",
    "ax.set_xlabel('PC1', rotation=0)\n",
    "ax.set_ylabel('PC2')\n",
    "ax.set_zlabel('PC3', rotation=60)\n",
    "plt.show()"
   ]
  },
  {
   "cell_type": "code",
   "execution_count": 333,
   "metadata": {},
   "outputs": [
    {
     "ename": "NameError",
     "evalue": "name 'pca_df' is not defined",
     "output_type": "error",
     "traceback": [
      "\u001b[0;31m---------------------------------------------------------------------------\u001b[0m",
      "\u001b[0;31mNameError\u001b[0m                                 Traceback (most recent call last)",
      "\u001b[0;32m<ipython-input-333-34fa6154ad88>\u001b[0m in \u001b[0;36m<module>\u001b[0;34m()\u001b[0m\n\u001b[1;32m      6\u001b[0m     \u001b[0mx\u001b[0m\u001b[0;34m=\u001b[0m\u001b[0;34m'PC1'\u001b[0m\u001b[0;34m,\u001b[0m\u001b[0;34m\u001b[0m\u001b[0;34m\u001b[0m\u001b[0m\n\u001b[1;32m      7\u001b[0m     \u001b[0my\u001b[0m\u001b[0;34m=\u001b[0m\u001b[0;34m'PC2'\u001b[0m\u001b[0;34m,\u001b[0m\u001b[0;34m\u001b[0m\u001b[0;34m\u001b[0m\u001b[0m\n\u001b[0;32m----> 8\u001b[0;31m     \u001b[0mdata\u001b[0m\u001b[0;34m=\u001b[0m\u001b[0mpca_df\u001b[0m\u001b[0;34m,\u001b[0m\u001b[0;34m\u001b[0m\u001b[0;34m\u001b[0m\u001b[0m\n\u001b[0m\u001b[1;32m      9\u001b[0m     \u001b[0mhue\u001b[0m\u001b[0;34m=\u001b[0m\u001b[0;34m'note2'\u001b[0m\u001b[0;34m,\u001b[0m\u001b[0;34m\u001b[0m\u001b[0;34m\u001b[0m\u001b[0m\n\u001b[1;32m     10\u001b[0m     \u001b[0mfit_reg\u001b[0m\u001b[0;34m=\u001b[0m\u001b[0;32mFalse\u001b[0m\u001b[0;34m,\u001b[0m\u001b[0;34m\u001b[0m\u001b[0;34m\u001b[0m\u001b[0m\n",
      "\u001b[0;31mNameError\u001b[0m: name 'pca_df' is not defined"
     ]
    }
   ],
   "source": [
    "import matplotlib.pyplot as plt \n",
    "import seaborn as sns\n",
    "sns.set()\n",
    " \n",
    "sns.lmplot(\n",
    "    x='PC1', \n",
    "    y='PC2', \n",
    "    data=pca_df, \n",
    "    hue='note2', \n",
    "    fit_reg=False, \n",
    "    legend=True\n",
    "    )\n",
    " \n",
    "plt.title('2D PCA Graph')\n",
    "plt.show()"
   ]
  },
  {
   "cell_type": "code",
   "execution_count": 1785,
   "metadata": {},
   "outputs": [],
   "source": [
    "X = pca_df.iloc[:, 0:4]"
   ]
  },
  {
   "cell_type": "code",
   "execution_count": 1786,
   "metadata": {},
   "outputs": [],
   "source": [
    "y = pca_df.iloc[:, 5]"
   ]
  },
  {
   "cell_type": "code",
   "execution_count": 304,
   "metadata": {},
   "outputs": [],
   "source": [
    "#random_state = 2\n",
    "# Split into train/test\n",
    "X_train, X_test, y_train, y_test = train_test_split(X, y, test_size=0.3, stratify=y)#, random_state=random_state)"
   ]
  },
  {
   "cell_type": "code",
   "execution_count": 305,
   "metadata": {},
   "outputs": [],
   "source": [
    "SVC_model = svm.SVC()\n",
    "# KNN model requires you to specify n_neighbors,\n",
    "# the number of points the classifier will look at to determine what class a new point belongs to\n",
    "KNN_model = KNeighborsClassifier(n_neighbors=3)\n",
    "logreg_model = LogisticRegression()"
   ]
  },
  {
   "cell_type": "code",
   "execution_count": 306,
   "metadata": {},
   "outputs": [
    {
     "data": {
      "text/plain": [
       "LogisticRegression()"
      ]
     },
     "execution_count": 306,
     "metadata": {},
     "output_type": "execute_result"
    }
   ],
   "source": [
    "SVC_model.fit(X_train, y_train)\n",
    "KNN_model.fit(X_train, y_train)\n",
    "logreg_model.fit(X_train, y_train)"
   ]
  },
  {
   "cell_type": "code",
   "execution_count": 307,
   "metadata": {},
   "outputs": [],
   "source": [
    "SVC_prediction = SVC_model.predict(X_test)\n",
    "KNN_prediction = KNN_model.predict(X_test)\n",
    "logreg_prediction= logreg_model.predict(X_test)"
   ]
  },
  {
   "cell_type": "code",
   "execution_count": 308,
   "metadata": {},
   "outputs": [
    {
     "name": "stdout",
     "output_type": "stream",
     "text": [
      "0.25\n",
      "0.2608695652173913\n",
      "0.2826086956521739\n"
     ]
    }
   ],
   "source": [
    "print(accuracy_score(SVC_prediction, y_test))\n",
    "print(accuracy_score(KNN_prediction, y_test))\n",
    "print(accuracy_score(logreg_prediction, y_test))"
   ]
  },
  {
   "cell_type": "code",
   "execution_count": 159,
   "metadata": {},
   "outputs": [],
   "source": [
    "forest = RandomForestClassifier(criterion='gini',\n",
    "                                 n_estimators=5,\n",
    "                                 min_samples_leaf=3,\n",
    "                                 min_samples_split= 5,\n",
    "                                 bootstrap = True,\n",
    "                                 n_jobs=2)"
   ]
  },
  {
   "cell_type": "code",
   "execution_count": 160,
   "metadata": {},
   "outputs": [
    {
     "name": "stdout",
     "output_type": "stream",
     "text": [
      "Accuracy: 0.320\n"
     ]
    }
   ],
   "source": [
    "#\n",
    "# Fit the model “gini”, “entropy”, “log_loss”}, \n",
    "#\n",
    "forest.fit(X_train, y_train)\n",
    " \n",
    "#\n",
    "# Measure model performance\n",
    "#\n",
    "y_pred = forest.predict(X_test)\n",
    "print('Accuracy: %.3f' % accuracy_score(y_test, y_pred))"
   ]
  },
  {
   "cell_type": "code",
   "execution_count": 134,
   "metadata": {},
   "outputs": [],
   "source": [
    "lda = LinearDiscriminantAnalysis(n_components=3)"
   ]
  },
  {
   "cell_type": "code",
   "execution_count": 135,
   "metadata": {},
   "outputs": [],
   "source": [
    "X_train = lda.fit_transform(X_train,y_train)\n"
   ]
  },
  {
   "cell_type": "code",
   "execution_count": 136,
   "metadata": {},
   "outputs": [],
   "source": [
    "X_test = lda.transform(X_test)"
   ]
  },
  {
   "cell_type": "code",
   "execution_count": 137,
   "metadata": {},
   "outputs": [
    {
     "data": {
      "text/plain": [
       "0.9953051643192489"
      ]
     },
     "execution_count": 137,
     "metadata": {},
     "output_type": "execute_result"
    }
   ],
   "source": [
    "clf=LinearDiscriminantAnalysis(n_components=3)\n",
    "clf.fit(X_train, y_train)\n",
    "clf.score(X_train, y_train)"
   ]
  },
  {
   "cell_type": "code",
   "execution_count": 138,
   "metadata": {},
   "outputs": [],
   "source": [
    "y_pred = clf.predict(X_test)"
   ]
  },
  {
   "cell_type": "code",
   "execution_count": 139,
   "metadata": {
    "scrolled": true
   },
   "outputs": [
    {
     "name": "stdout",
     "output_type": "stream",
     "text": [
      "              precision    recall  f1-score   support\n",
      "\n",
      "           1       0.56      0.43      0.49        23\n",
      "           2       0.55      0.52      0.53        23\n",
      "           3       0.52      0.52      0.52        23\n",
      "           4       0.48      0.61      0.54        23\n",
      "\n",
      "    accuracy                           0.52        92\n",
      "   macro avg       0.53      0.52      0.52        92\n",
      "weighted avg       0.53      0.52      0.52        92\n",
      "\n"
     ]
    }
   ],
   "source": [
    "print(classification_report(y_test, y_pred))"
   ]
  },
  {
   "cell_type": "code",
   "execution_count": 209,
   "metadata": {
    "scrolled": true
   },
   "outputs": [
    {
     "name": "stdout",
     "output_type": "stream",
     "text": [
      "[0.49180328 0.55737705 0.55737705 0.52459016 0.57377049 0.44262295\n",
      " 0.55737705 0.50819672 0.59016393 0.52459016 0.57377049 0.59016393\n",
      " 0.54098361 0.50819672 0.50819672 0.59016393 0.55737705 0.52459016\n",
      " 0.55737705 0.55737705 0.49180328 0.55737705 0.57377049 0.49180328\n",
      " 0.55737705]\n"
     ]
    },
    {
     "data": {
      "text/plain": [
       "\"\\n# Fit the method's model\\nmodel.fit(X, y)\\nX = model.transform(X)\\n\\n# Split into train/test\\nX_train, X_test, y_train, y_test =     train_test_split(X, y, test_size=0.5, stratify=y,\\n                     random_state=random_state)\\n\\n# Use a nearest neighbor classifier to evaluate the methods\\nknn = KNeighborsClassifier(n_neighbors=n_neighbors)\\n\\nscores = cross_val_score(knn, X, y, cv=5)  \\nprint(scores)\\n\\n# Fit a nearest neighbor classifier on the embedded training set\\nknn.fit(X_train, y_train)\\n\\n# Compute the nearest neighbor accuracy on the embedded test set\\nacc_knn = knn.score(X_test, y_test)\\n\\n# Embed the data set in 2 dimensions using the fitted model\\nX_embedded = model.transform(X)\\n\""
      ]
     },
     "execution_count": 209,
     "metadata": {},
     "output_type": "execute_result"
    }
   ],
   "source": [
    "random_state= 3\n",
    "n_neighbors = 3\n",
    "\n",
    "\n",
    "\n",
    "\n",
    "# Reduce dimension with LinearDiscriminantAnalysis\n",
    "model = LinearDiscriminantAnalysis(n_components=3)\n",
    "\n",
    "rkf = RepeatedStratifiedKFold(n_splits=5, n_repeats=5, random_state=random_state)\n",
    "scores = cross_val_score(model, X, y, cv=rkf)  \n",
    "print(scores)\n",
    "\n",
    "'''\n",
    "# Fit the method's model\n",
    "model.fit(X, y)\n",
    "X = model.transform(X)\n",
    "\n",
    "# Split into train/test\n",
    "X_train, X_test, y_train, y_test = \\\n",
    "    train_test_split(X, y, test_size=0.5, stratify=y,\n",
    "                     random_state=random_state)\n",
    "\n",
    "# Use a nearest neighbor classifier to evaluate the methods\n",
    "knn = KNeighborsClassifier(n_neighbors=n_neighbors)\n",
    "\n",
    "scores = cross_val_score(knn, X, y, cv=5)  \n",
    "print(scores)\n",
    "\n",
    "# Fit a nearest neighbor classifier on the embedded training set\n",
    "knn.fit(X_train, y_train)\n",
    "\n",
    "# Compute the nearest neighbor accuracy on the embedded test set\n",
    "acc_knn = knn.score(X_test, y_test)\n",
    "\n",
    "# Embed the data set in 2 dimensions using the fitted model\n",
    "X_embedded = model.transform(X)\n",
    "'''\n",
    "\n"
   ]
  },
  {
   "cell_type": "code",
   "execution_count": 210,
   "metadata": {},
   "outputs": [
    {
     "data": {
      "text/plain": [
       "array([0.49180328, 0.55737705, 0.55737705, 0.52459016, 0.57377049,\n",
       "       0.44262295, 0.55737705, 0.50819672, 0.59016393, 0.52459016,\n",
       "       0.57377049, 0.59016393, 0.54098361, 0.50819672, 0.50819672,\n",
       "       0.59016393, 0.55737705, 0.52459016, 0.55737705, 0.55737705,\n",
       "       0.49180328, 0.55737705, 0.57377049, 0.49180328, 0.55737705])"
      ]
     },
     "execution_count": 210,
     "metadata": {},
     "output_type": "execute_result"
    }
   ],
   "source": [
    "scores"
   ]
  },
  {
   "cell_type": "code",
   "execution_count": 373,
   "metadata": {},
   "outputs": [
    {
     "data": {
      "image/png": "[encoded data removed]",
      "text/plain": [
       "<Figure size 432x288 with 1 Axes>"
      ]
     },
     "metadata": {},
     "output_type": "display_data"
    }
   ],
   "source": [
    "random_state= 6\n",
    "n_neighbors = 3\n",
    "\n",
    "# Split into train/test\n",
    "X_train, X_test, y_train, y_test = \\\n",
    "    train_test_split(X, y, test_size=0.5, stratify=y,\n",
    "                     random_state=random_state)\n",
    "\n",
    "\n",
    "# Reduce dimension to 2 with PCA\n",
    "pca = make_pipeline(StandardScaler(),\n",
    "                    PCA(n_components=3, random_state=random_state))\n",
    "\n",
    "# Reduce dimension to 2 with LinearDiscriminantAnalysis\n",
    "lda = make_pipeline(StandardScaler(),\n",
    "                    LinearDiscriminantAnalysis(n_components=3))\n",
    "\n",
    "# Reduce dimension to 2 with NeighborhoodComponentAnalysis\n",
    "nca = make_pipeline(StandardScaler(),\n",
    "                    NeighborhoodComponentsAnalysis(n_components=3,\n",
    "                                                   random_state=random_state))\n",
    "\n",
    "# Use a nearest neighbor classifier to evaluate the methods\n",
    "knn = KNeighborsClassifier(n_neighbors=n_neighbors) #svm.SVC() \n",
    "\n",
    "#RandomForestClassifier()\n",
    "# KNeighborsClassifier(n_neighbors=n_neighbors) #LogisticRegression()  \n",
    "    \n",
    "\n",
    "# Make a list of the methods to be compared\n",
    "dim_reduction_methods = [('PCA', pca)] #[('PCA', pca), ('LDA', lda), ('NCA', nca)]\n",
    "\n",
    "# plt.figure()\n",
    "for i, (name, model) in enumerate(dim_reduction_methods):\n",
    "    plt.figure()\n",
    "    # plt.subplot(1, 3, i + 1, aspect=1)\n",
    "\n",
    "    # Fit the method's model\n",
    "    model.fit(X_train, y_train)\n",
    "\n",
    "    # Fit a nearest neighbor classifier on the embedded training set\n",
    "    knn.fit(model.transform(X_train), y_train)\n",
    "\n",
    "    # Compute the nearest neighbor accuracy on the embedded test set\n",
    "    acc_knn = knn.score(model.transform(X_test), y_test)\n",
    "\n",
    "    # Embed the data set in 2 dimensions using the fitted model\n",
    "    X_embedded = model.transform(X)\n",
    "\n",
    "    # Plot the projected points and show the evaluation score\n",
    "    plt.scatter(X_embedded[:, 0], X_embedded[:, 1], c=y, s=30, cmap='Set1')\n",
    "    plt.title(\"{}, KNN (k={})\\nTest accuracy = {:.2f}\".format(name,\n",
    "                                                              n_neighbors,\n",
    "                                                              acc_knn))\n",
    "plt.show()"
   ]
  },
  {
   "cell_type": "code",
   "execution_count": 374,
   "metadata": {},
   "outputs": [],
   "source": [
    "LDAs =pd.DataFrame(X_embedded, columns=['PC1', 'PC2', 'PC3'])"
   ]
  },
  {
   "cell_type": "code",
   "execution_count": 375,
   "metadata": {},
   "outputs": [],
   "source": [
    "labels = data['note'].reset_index(drop=True)\n",
    "labels = pd.DataFrame(labels, columns=['note'])"
   ]
  },
  {
   "cell_type": "code",
   "execution_count": 376,
   "metadata": {},
   "outputs": [],
   "source": [
    "merged = pd.concat([LDAs, labels] ,axis=1 )"
   ]
  },
  {
   "cell_type": "code",
   "execution_count": 377,
   "metadata": {},
   "outputs": [
    {
     "data": {
      "text/html": [
       "<div>\n",
       "<style scoped>\n",
       "    .dataframe tbody tr th:only-of-type {\n",
       "        vertical-align: middle;\n",
       "    }\n",
       "\n",
       "    .dataframe tbody tr th {\n",
       "        vertical-align: top;\n",
       "    }\n",
       "\n",
       "    .dataframe thead th {\n",
       "        text-align: right;\n",
       "    }\n",
       "</style>\n",
       "<table border=\"1\" class=\"dataframe\">\n",
       "  <thead>\n",
       "    <tr style=\"text-align: right;\">\n",
       "      <th></th>\n",
       "      <th>PC1</th>\n",
       "      <th>PC2</th>\n",
       "      <th>PC3</th>\n",
       "      <th>note</th>\n",
       "    </tr>\n",
       "  </thead>\n",
       "  <tbody>\n",
       "    <tr>\n",
       "      <th>0</th>\n",
       "      <td>-44.624165</td>\n",
       "      <td>-0.741744</td>\n",
       "      <td>11.222093</td>\n",
       "      <td>BGEM_Tall_early</td>\n",
       "    </tr>\n",
       "    <tr>\n",
       "      <th>1</th>\n",
       "      <td>-30.475900</td>\n",
       "      <td>6.060141</td>\n",
       "      <td>-5.488543</td>\n",
       "      <td>BGEM_Tall_early</td>\n",
       "    </tr>\n",
       "    <tr>\n",
       "      <th>2</th>\n",
       "      <td>-30.244915</td>\n",
       "      <td>7.556219</td>\n",
       "      <td>-10.727571</td>\n",
       "      <td>BGEM_Tall_late</td>\n",
       "    </tr>\n",
       "    <tr>\n",
       "      <th>3</th>\n",
       "      <td>15.347050</td>\n",
       "      <td>24.767934</td>\n",
       "      <td>-13.070591</td>\n",
       "      <td>BGEM_Short_late</td>\n",
       "    </tr>\n",
       "    <tr>\n",
       "      <th>4</th>\n",
       "      <td>-11.338496</td>\n",
       "      <td>7.088578</td>\n",
       "      <td>-12.252030</td>\n",
       "      <td>BGEM_Tall_early</td>\n",
       "    </tr>\n",
       "    <tr>\n",
       "      <th>...</th>\n",
       "      <td>...</td>\n",
       "      <td>...</td>\n",
       "      <td>...</td>\n",
       "      <td>...</td>\n",
       "    </tr>\n",
       "    <tr>\n",
       "      <th>604</th>\n",
       "      <td>31.573600</td>\n",
       "      <td>-3.384872</td>\n",
       "      <td>7.606958</td>\n",
       "      <td>BGEM_Tall_late</td>\n",
       "    </tr>\n",
       "    <tr>\n",
       "      <th>605</th>\n",
       "      <td>62.557365</td>\n",
       "      <td>-14.710017</td>\n",
       "      <td>-4.070231</td>\n",
       "      <td>BGEM_Tall_late</td>\n",
       "    </tr>\n",
       "    <tr>\n",
       "      <th>606</th>\n",
       "      <td>29.184768</td>\n",
       "      <td>19.675607</td>\n",
       "      <td>6.216542</td>\n",
       "      <td>BGEM_Short_early</td>\n",
       "    </tr>\n",
       "    <tr>\n",
       "      <th>607</th>\n",
       "      <td>31.320056</td>\n",
       "      <td>23.825872</td>\n",
       "      <td>3.855504</td>\n",
       "      <td>BGEM_Short_early</td>\n",
       "    </tr>\n",
       "    <tr>\n",
       "      <th>608</th>\n",
       "      <td>94.352868</td>\n",
       "      <td>-23.331105</td>\n",
       "      <td>-10.303885</td>\n",
       "      <td>BGEM_Tall_late</td>\n",
       "    </tr>\n",
       "  </tbody>\n",
       "</table>\n",
       "<p>609 rows × 4 columns</p>\n",
       "</div>"
      ],
      "text/plain": [
       "           PC1        PC2        PC3              note\n",
       "0   -44.624165  -0.741744  11.222093   BGEM_Tall_early\n",
       "1   -30.475900   6.060141  -5.488543   BGEM_Tall_early\n",
       "2   -30.244915   7.556219 -10.727571    BGEM_Tall_late\n",
       "3    15.347050  24.767934 -13.070591   BGEM_Short_late\n",
       "4   -11.338496   7.088578 -12.252030   BGEM_Tall_early\n",
       "..         ...        ...        ...               ...\n",
       "604  31.573600  -3.384872   7.606958    BGEM_Tall_late\n",
       "605  62.557365 -14.710017  -4.070231    BGEM_Tall_late\n",
       "606  29.184768  19.675607   6.216542  BGEM_Short_early\n",
       "607  31.320056  23.825872   3.855504  BGEM_Short_early\n",
       "608  94.352868 -23.331105 -10.303885    BGEM_Tall_late\n",
       "\n",
       "[609 rows x 4 columns]"
      ]
     },
     "execution_count": 377,
     "metadata": {},
     "output_type": "execute_result"
    }
   ],
   "source": [
    "merged"
   ]
  },
  {
   "cell_type": "code",
   "execution_count": 380,
   "metadata": {},
   "outputs": [
    {
     "data": {
      "image/png": "[encoded data removed]",
      "text/plain": [
       "<Figure size 500.475x360 with 1 Axes>"
      ]
     },
     "metadata": {},
     "output_type": "display_data"
    }
   ],
   "source": [
    "import matplotlib.pyplot as plt \n",
    "import seaborn as sns\n",
    "sns.set()\n",
    " \n",
    "sns.lmplot(\n",
    "    x='PC1', \n",
    "    y='PC2', \n",
    "    data=merged, \n",
    "    hue='note', \n",
    "    fit_reg=False, \n",
    "    legend=True\n",
    "    )\n",
    " \n",
    "plt.title('PCA Test Accuracy= 0.30')\n",
    "plt.show()"
   ]
  }
 ],
 "metadata": {
  "kernelspec": {
   "display_name": "Python 3",
   "language": "python",
   "name": "python3"
  },
  "language_info": {
   "codemirror_mode": {
    "name": "ipython",
    "version": 3
   },
   "file_extension": ".py",
   "mimetype": "text/x-python",
   "name": "python",
   "nbconvert_exporter": "python",
   "pygments_lexer": "ipython3",
   "version": "3.6.9"
  }
 },
 "nbformat": 4,
 "nbformat_minor": 2
}
