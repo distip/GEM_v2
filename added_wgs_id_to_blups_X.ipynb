{
 "cells": [
  {
   "cell_type": "code",
   "execution_count": 2,
   "metadata": {},
   "outputs": [],
   "source": [
    "import pandas as pd\n",
    "import numpy as np\n",
    "import matplotlib.pyplot as plt"
   ]
  },
  {
   "cell_type": "code",
   "execution_count": 15,
   "metadata": {},
   "outputs": [],
   "source": [
    "blups = pd.read_csv('CHL_blups.csv')"
   ]
  },
  {
   "cell_type": "code",
   "execution_count": 16,
   "metadata": {},
   "outputs": [],
   "source": [
    "blups = blups.loc[blups['Rep'] == 1 , :]"
   ]
  },
  {
   "cell_type": "code",
   "execution_count": 17,
   "metadata": {},
   "outputs": [
    {
     "data": {
      "text/html": [
       "<div>\n",
       "<style scoped>\n",
       "    .dataframe tbody tr th:only-of-type {\n",
       "        vertical-align: middle;\n",
       "    }\n",
       "\n",
       "    .dataframe tbody tr th {\n",
       "        vertical-align: top;\n",
       "    }\n",
       "\n",
       "    .dataframe thead th {\n",
       "        text-align: right;\n",
       "    }\n",
       "</style>\n",
       "<table border=\"1\" class=\"dataframe\">\n",
       "  <thead>\n",
       "    <tr style=\"text-align: right;\">\n",
       "      <th></th>\n",
       "      <th>genotype</th>\n",
       "      <th>PLOT.ID</th>\n",
       "      <th>rows</th>\n",
       "      <th>ranges</th>\n",
       "      <th>Block</th>\n",
       "      <th>Rep</th>\n",
       "      <th>Trt</th>\n",
       "      <th>year</th>\n",
       "      <th>note</th>\n",
       "      <th>Calibration</th>\n",
       "      <th>ASD</th>\n",
       "      <th>CHL</th>\n",
       "    </tr>\n",
       "  </thead>\n",
       "  <tbody>\n",
       "    <tr>\n",
       "      <th>1</th>\n",
       "      <td>B73</td>\n",
       "      <td>1310</td>\n",
       "      <td>10</td>\n",
       "      <td>7</td>\n",
       "      <td>1</td>\n",
       "      <td>1</td>\n",
       "      <td>HN</td>\n",
       "      <td>2022</td>\n",
       "      <td>BGEM_Tall_early</td>\n",
       "      <td>0.0</td>\n",
       "      <td>1.0</td>\n",
       "      <td>475.092325</td>\n",
       "    </tr>\n",
       "    <tr>\n",
       "      <th>3</th>\n",
       "      <td>B73</td>\n",
       "      <td>1139</td>\n",
       "      <td>39</td>\n",
       "      <td>3</td>\n",
       "      <td>1</td>\n",
       "      <td>1</td>\n",
       "      <td>HN</td>\n",
       "      <td>2022</td>\n",
       "      <td>BGEM_Short_early</td>\n",
       "      <td>0.0</td>\n",
       "      <td>1.0</td>\n",
       "      <td>475.092325</td>\n",
       "    </tr>\n",
       "    <tr>\n",
       "      <th>6</th>\n",
       "      <td>B73</td>\n",
       "      <td>1008</td>\n",
       "      <td>8</td>\n",
       "      <td>1</td>\n",
       "      <td>1</td>\n",
       "      <td>1</td>\n",
       "      <td>HN</td>\n",
       "      <td>2022</td>\n",
       "      <td>BGEM_Tall_late</td>\n",
       "      <td>0.0</td>\n",
       "      <td>2.0</td>\n",
       "      <td>475.092325</td>\n",
       "    </tr>\n",
       "    <tr>\n",
       "      <th>9</th>\n",
       "      <td>B73</td>\n",
       "      <td>1293</td>\n",
       "      <td>43</td>\n",
       "      <td>6</td>\n",
       "      <td>1</td>\n",
       "      <td>1</td>\n",
       "      <td>HN</td>\n",
       "      <td>2022</td>\n",
       "      <td>BGEM_Short_late</td>\n",
       "      <td>0.0</td>\n",
       "      <td>1.0</td>\n",
       "      <td>475.092325</td>\n",
       "    </tr>\n",
       "    <tr>\n",
       "      <th>13</th>\n",
       "      <td>B73</td>\n",
       "      <td>1041</td>\n",
       "      <td>41</td>\n",
       "      <td>1</td>\n",
       "      <td>1</td>\n",
       "      <td>1</td>\n",
       "      <td>HN</td>\n",
       "      <td>2022</td>\n",
       "      <td>BGEM_Short_early</td>\n",
       "      <td>0.0</td>\n",
       "      <td>1.0</td>\n",
       "      <td>475.092325</td>\n",
       "    </tr>\n",
       "    <tr>\n",
       "      <th>...</th>\n",
       "      <td>...</td>\n",
       "      <td>...</td>\n",
       "      <td>...</td>\n",
       "      <td>...</td>\n",
       "      <td>...</td>\n",
       "      <td>...</td>\n",
       "      <td>...</td>\n",
       "      <td>...</td>\n",
       "      <td>...</td>\n",
       "      <td>...</td>\n",
       "      <td>...</td>\n",
       "      <td>...</td>\n",
       "    </tr>\n",
       "    <tr>\n",
       "      <th>2392</th>\n",
       "      <td>PHZ51 x LH123</td>\n",
       "      <td>2572</td>\n",
       "      <td>22</td>\n",
       "      <td>12</td>\n",
       "      <td>2</td>\n",
       "      <td>1</td>\n",
       "      <td>LN</td>\n",
       "      <td>2022</td>\n",
       "      <td>Hybrid</td>\n",
       "      <td>0.0</td>\n",
       "      <td>2.0</td>\n",
       "      <td>315.227603</td>\n",
       "    </tr>\n",
       "    <tr>\n",
       "      <th>2394</th>\n",
       "      <td>PHZ51 x PHG35</td>\n",
       "      <td>2542</td>\n",
       "      <td>42</td>\n",
       "      <td>11</td>\n",
       "      <td>2</td>\n",
       "      <td>1</td>\n",
       "      <td>LN</td>\n",
       "      <td>2022</td>\n",
       "      <td>Hybrid</td>\n",
       "      <td>0.0</td>\n",
       "      <td>1.0</td>\n",
       "      <td>308.978928</td>\n",
       "    </tr>\n",
       "    <tr>\n",
       "      <th>2396</th>\n",
       "      <td>PHZ51 x PHG35</td>\n",
       "      <td>2506</td>\n",
       "      <td>6</td>\n",
       "      <td>11</td>\n",
       "      <td>2</td>\n",
       "      <td>1</td>\n",
       "      <td>LN</td>\n",
       "      <td>2022</td>\n",
       "      <td>Hybrid</td>\n",
       "      <td>0.0</td>\n",
       "      <td>2.0</td>\n",
       "      <td>308.978928</td>\n",
       "    </tr>\n",
       "    <tr>\n",
       "      <th>2398</th>\n",
       "      <td>PHZ51 x PHG35</td>\n",
       "      <td>2500</td>\n",
       "      <td>50</td>\n",
       "      <td>10</td>\n",
       "      <td>2</td>\n",
       "      <td>1</td>\n",
       "      <td>LN</td>\n",
       "      <td>2022</td>\n",
       "      <td>Hybrid</td>\n",
       "      <td>0.0</td>\n",
       "      <td>1.0</td>\n",
       "      <td>308.978928</td>\n",
       "    </tr>\n",
       "    <tr>\n",
       "      <th>2399</th>\n",
       "      <td>PHZ51 x PHG35</td>\n",
       "      <td>2536</td>\n",
       "      <td>36</td>\n",
       "      <td>11</td>\n",
       "      <td>2</td>\n",
       "      <td>1</td>\n",
       "      <td>LN</td>\n",
       "      <td>2022</td>\n",
       "      <td>Hybrid</td>\n",
       "      <td>0.0</td>\n",
       "      <td>2.0</td>\n",
       "      <td>308.978928</td>\n",
       "    </tr>\n",
       "  </tbody>\n",
       "</table>\n",
       "<p>1200 rows × 12 columns</p>\n",
       "</div>"
      ],
      "text/plain": [
       "           genotype  PLOT.ID  rows  ranges  Block  Rep Trt  year  \\\n",
       "1               B73     1310    10       7      1    1  HN  2022   \n",
       "3               B73     1139    39       3      1    1  HN  2022   \n",
       "6               B73     1008     8       1      1    1  HN  2022   \n",
       "9               B73     1293    43       6      1    1  HN  2022   \n",
       "13              B73     1041    41       1      1    1  HN  2022   \n",
       "...             ...      ...   ...     ...    ...  ...  ..   ...   \n",
       "2392  PHZ51 x LH123     2572    22      12      2    1  LN  2022   \n",
       "2394  PHZ51 x PHG35     2542    42      11      2    1  LN  2022   \n",
       "2396  PHZ51 x PHG35     2506     6      11      2    1  LN  2022   \n",
       "2398  PHZ51 x PHG35     2500    50      10      2    1  LN  2022   \n",
       "2399  PHZ51 x PHG35     2536    36      11      2    1  LN  2022   \n",
       "\n",
       "                  note  Calibration  ASD         CHL  \n",
       "1      BGEM_Tall_early          0.0  1.0  475.092325  \n",
       "3     BGEM_Short_early          0.0  1.0  475.092325  \n",
       "6       BGEM_Tall_late          0.0  2.0  475.092325  \n",
       "9      BGEM_Short_late          0.0  1.0  475.092325  \n",
       "13    BGEM_Short_early          0.0  1.0  475.092325  \n",
       "...                ...          ...  ...         ...  \n",
       "2392            Hybrid          0.0  2.0  315.227603  \n",
       "2394            Hybrid          0.0  1.0  308.978928  \n",
       "2396            Hybrid          0.0  2.0  308.978928  \n",
       "2398            Hybrid          0.0  1.0  308.978928  \n",
       "2399            Hybrid          0.0  2.0  308.978928  \n",
       "\n",
       "[1200 rows x 12 columns]"
      ]
     },
     "execution_count": 17,
     "metadata": {},
     "output_type": "execute_result"
    }
   ],
   "source": [
    "blups"
   ]
  },
  {
   "cell_type": "code",
   "execution_count": 18,
   "metadata": {},
   "outputs": [],
   "source": [
    "ids = pd.read_csv('BGEM_WGS_Labels.csv')"
   ]
  },
  {
   "cell_type": "code",
   "execution_count": 19,
   "metadata": {},
   "outputs": [
    {
     "data": {
      "text/plain": [
       "Index(['UID'], dtype='object')"
      ]
     },
     "execution_count": 19,
     "metadata": {},
     "output_type": "execute_result"
    }
   ],
   "source": [
    "GWAS_labels.columns"
   ]
  },
  {
   "cell_type": "code",
   "execution_count": 20,
   "metadata": {},
   "outputs": [],
   "source": [
    "GWAS_labels = pd.read_csv('WGS_labels_only.csv')"
   ]
  },
  {
   "cell_type": "code",
   "execution_count": 21,
   "metadata": {},
   "outputs": [],
   "source": [
    "GWAS_labels.rename(columns={'UID                     ': 'UID'}, inplace=True)"
   ]
  },
  {
   "cell_type": "code",
   "execution_count": 22,
   "metadata": {},
   "outputs": [],
   "source": [
    "GWAS_labels['UID'] = GWAS_labels['UID'].str.replace(' ' , '')"
   ]
  },
  {
   "cell_type": "code",
   "execution_count": 23,
   "metadata": {},
   "outputs": [],
   "source": [
    "ids = ids.loc[: , ['UID', 'Genotype']]"
   ]
  },
  {
   "cell_type": "code",
   "execution_count": 24,
   "metadata": {},
   "outputs": [],
   "source": [
    "ids.rename(columns ={'Genotype': 'genotype'}, inplace=True)"
   ]
  },
  {
   "cell_type": "code",
   "execution_count": 25,
   "metadata": {},
   "outputs": [
    {
     "data": {
      "text/html": [
       "<div>\n",
       "<style scoped>\n",
       "    .dataframe tbody tr th:only-of-type {\n",
       "        vertical-align: middle;\n",
       "    }\n",
       "\n",
       "    .dataframe tbody tr th {\n",
       "        vertical-align: top;\n",
       "    }\n",
       "\n",
       "    .dataframe thead th {\n",
       "        text-align: right;\n",
       "    }\n",
       "</style>\n",
       "<table border=\"1\" class=\"dataframe\">\n",
       "  <thead>\n",
       "    <tr style=\"text-align: right;\">\n",
       "      <th></th>\n",
       "      <th>UID</th>\n",
       "    </tr>\n",
       "  </thead>\n",
       "  <tbody>\n",
       "    <tr>\n",
       "      <th>0</th>\n",
       "      <td>B001</td>\n",
       "    </tr>\n",
       "    <tr>\n",
       "      <th>1</th>\n",
       "      <td>B002</td>\n",
       "    </tr>\n",
       "    <tr>\n",
       "      <th>2</th>\n",
       "      <td>B003</td>\n",
       "    </tr>\n",
       "    <tr>\n",
       "      <th>3</th>\n",
       "      <td>B004</td>\n",
       "    </tr>\n",
       "    <tr>\n",
       "      <th>4</th>\n",
       "      <td>B005</td>\n",
       "    </tr>\n",
       "    <tr>\n",
       "      <th>...</th>\n",
       "      <td>...</td>\n",
       "    </tr>\n",
       "    <tr>\n",
       "      <th>217</th>\n",
       "      <td>B311</td>\n",
       "    </tr>\n",
       "    <tr>\n",
       "      <th>218</th>\n",
       "      <td>B312</td>\n",
       "    </tr>\n",
       "    <tr>\n",
       "      <th>219</th>\n",
       "      <td>B313</td>\n",
       "    </tr>\n",
       "    <tr>\n",
       "      <th>220</th>\n",
       "      <td>B314</td>\n",
       "    </tr>\n",
       "    <tr>\n",
       "      <th>221</th>\n",
       "      <td>B315</td>\n",
       "    </tr>\n",
       "  </tbody>\n",
       "</table>\n",
       "<p>222 rows × 1 columns</p>\n",
       "</div>"
      ],
      "text/plain": [
       "      UID\n",
       "0    B001\n",
       "1    B002\n",
       "2    B003\n",
       "3    B004\n",
       "4    B005\n",
       "..    ...\n",
       "217  B311\n",
       "218  B312\n",
       "219  B313\n",
       "220  B314\n",
       "221  B315\n",
       "\n",
       "[222 rows x 1 columns]"
      ]
     },
     "execution_count": 25,
     "metadata": {},
     "output_type": "execute_result"
    }
   ],
   "source": [
    "GWAS_labels"
   ]
  },
  {
   "cell_type": "code",
   "execution_count": 26,
   "metadata": {},
   "outputs": [],
   "source": [
    "merged = pd.merge(GWAS_labels, ids, on='UID', how='left')"
   ]
  },
  {
   "cell_type": "code",
   "execution_count": 27,
   "metadata": {},
   "outputs": [
    {
     "data": {
      "text/html": [
       "<div>\n",
       "<style scoped>\n",
       "    .dataframe tbody tr th:only-of-type {\n",
       "        vertical-align: middle;\n",
       "    }\n",
       "\n",
       "    .dataframe tbody tr th {\n",
       "        vertical-align: top;\n",
       "    }\n",
       "\n",
       "    .dataframe thead th {\n",
       "        text-align: right;\n",
       "    }\n",
       "</style>\n",
       "<table border=\"1\" class=\"dataframe\">\n",
       "  <thead>\n",
       "    <tr style=\"text-align: right;\">\n",
       "      <th></th>\n",
       "      <th>UID</th>\n",
       "      <th>genotype</th>\n",
       "    </tr>\n",
       "  </thead>\n",
       "  <tbody>\n",
       "    <tr>\n",
       "      <th>0</th>\n",
       "      <td>B001</td>\n",
       "      <td>BGEM-0001-N</td>\n",
       "    </tr>\n",
       "    <tr>\n",
       "      <th>1</th>\n",
       "      <td>B002</td>\n",
       "      <td>BGEM-0002-N</td>\n",
       "    </tr>\n",
       "    <tr>\n",
       "      <th>2</th>\n",
       "      <td>B003</td>\n",
       "      <td>BGEM-0003-N</td>\n",
       "    </tr>\n",
       "    <tr>\n",
       "      <th>3</th>\n",
       "      <td>B004</td>\n",
       "      <td>BGEM-0004-N</td>\n",
       "    </tr>\n",
       "    <tr>\n",
       "      <th>4</th>\n",
       "      <td>B005</td>\n",
       "      <td>BGEM-0005-N</td>\n",
       "    </tr>\n",
       "    <tr>\n",
       "      <th>...</th>\n",
       "      <td>...</td>\n",
       "      <td>...</td>\n",
       "    </tr>\n",
       "    <tr>\n",
       "      <th>217</th>\n",
       "      <td>B311</td>\n",
       "      <td>BGEM-0181-N</td>\n",
       "    </tr>\n",
       "    <tr>\n",
       "      <th>218</th>\n",
       "      <td>B312</td>\n",
       "      <td>BGEM-0121-N</td>\n",
       "    </tr>\n",
       "    <tr>\n",
       "      <th>219</th>\n",
       "      <td>B313</td>\n",
       "      <td>BGEM-0251-S</td>\n",
       "    </tr>\n",
       "    <tr>\n",
       "      <th>220</th>\n",
       "      <td>B314</td>\n",
       "      <td>BGEM-0189-S</td>\n",
       "    </tr>\n",
       "    <tr>\n",
       "      <th>221</th>\n",
       "      <td>B315</td>\n",
       "      <td>BGEM-0249-N</td>\n",
       "    </tr>\n",
       "  </tbody>\n",
       "</table>\n",
       "<p>222 rows × 2 columns</p>\n",
       "</div>"
      ],
      "text/plain": [
       "      UID     genotype\n",
       "0    B001  BGEM-0001-N\n",
       "1    B002  BGEM-0002-N\n",
       "2    B003  BGEM-0003-N\n",
       "3    B004  BGEM-0004-N\n",
       "4    B005  BGEM-0005-N\n",
       "..    ...          ...\n",
       "217  B311  BGEM-0181-N\n",
       "218  B312  BGEM-0121-N\n",
       "219  B313  BGEM-0251-S\n",
       "220  B314  BGEM-0189-S\n",
       "221  B315  BGEM-0249-N\n",
       "\n",
       "[222 rows x 2 columns]"
      ]
     },
     "execution_count": 27,
     "metadata": {},
     "output_type": "execute_result"
    }
   ],
   "source": [
    "merged"
   ]
  },
  {
   "cell_type": "code",
   "execution_count": 28,
   "metadata": {},
   "outputs": [],
   "source": [
    "merged = pd.merge(merged, blups, on='genotype', how='left')"
   ]
  },
  {
   "cell_type": "code",
   "execution_count": 29,
   "metadata": {},
   "outputs": [
    {
     "data": {
      "text/html": [
       "<div>\n",
       "<style scoped>\n",
       "    .dataframe tbody tr th:only-of-type {\n",
       "        vertical-align: middle;\n",
       "    }\n",
       "\n",
       "    .dataframe tbody tr th {\n",
       "        vertical-align: top;\n",
       "    }\n",
       "\n",
       "    .dataframe thead th {\n",
       "        text-align: right;\n",
       "    }\n",
       "</style>\n",
       "<table border=\"1\" class=\"dataframe\">\n",
       "  <thead>\n",
       "    <tr style=\"text-align: right;\">\n",
       "      <th></th>\n",
       "      <th>UID</th>\n",
       "      <th>genotype</th>\n",
       "      <th>PLOT.ID</th>\n",
       "      <th>rows</th>\n",
       "      <th>ranges</th>\n",
       "      <th>Block</th>\n",
       "      <th>Rep</th>\n",
       "      <th>Trt</th>\n",
       "      <th>year</th>\n",
       "      <th>note</th>\n",
       "      <th>Calibration</th>\n",
       "      <th>ASD</th>\n",
       "      <th>CHL</th>\n",
       "    </tr>\n",
       "  </thead>\n",
       "  <tbody>\n",
       "    <tr>\n",
       "      <th>0</th>\n",
       "      <td>B001</td>\n",
       "      <td>BGEM-0001-N</td>\n",
       "      <td>1313</td>\n",
       "      <td>13</td>\n",
       "      <td>7</td>\n",
       "      <td>1</td>\n",
       "      <td>1</td>\n",
       "      <td>HN</td>\n",
       "      <td>2022</td>\n",
       "      <td>BGEM_Tall_early</td>\n",
       "      <td>0.0</td>\n",
       "      <td>2.0</td>\n",
       "      <td>310.604381</td>\n",
       "    </tr>\n",
       "    <tr>\n",
       "      <th>1</th>\n",
       "      <td>B001</td>\n",
       "      <td>BGEM-0001-N</td>\n",
       "      <td>2338</td>\n",
       "      <td>38</td>\n",
       "      <td>7</td>\n",
       "      <td>2</td>\n",
       "      <td>1</td>\n",
       "      <td>LN</td>\n",
       "      <td>2022</td>\n",
       "      <td>BGEM_Tall_early</td>\n",
       "      <td>0.0</td>\n",
       "      <td>2.0</td>\n",
       "      <td>305.224587</td>\n",
       "    </tr>\n",
       "    <tr>\n",
       "      <th>2</th>\n",
       "      <td>B002</td>\n",
       "      <td>BGEM-0002-N</td>\n",
       "      <td>1314</td>\n",
       "      <td>14</td>\n",
       "      <td>7</td>\n",
       "      <td>1</td>\n",
       "      <td>1</td>\n",
       "      <td>HN</td>\n",
       "      <td>2022</td>\n",
       "      <td>BGEM_Tall_early</td>\n",
       "      <td>0.0</td>\n",
       "      <td>1.0</td>\n",
       "      <td>400.861723</td>\n",
       "    </tr>\n",
       "    <tr>\n",
       "      <th>3</th>\n",
       "      <td>B002</td>\n",
       "      <td>BGEM-0002-N</td>\n",
       "      <td>2339</td>\n",
       "      <td>39</td>\n",
       "      <td>7</td>\n",
       "      <td>2</td>\n",
       "      <td>1</td>\n",
       "      <td>LN</td>\n",
       "      <td>2022</td>\n",
       "      <td>BGEM_Tall_early</td>\n",
       "      <td>NaN</td>\n",
       "      <td>NaN</td>\n",
       "      <td>309.794141</td>\n",
       "    </tr>\n",
       "    <tr>\n",
       "      <th>4</th>\n",
       "      <td>B003</td>\n",
       "      <td>BGEM-0003-N</td>\n",
       "      <td>1111</td>\n",
       "      <td>11</td>\n",
       "      <td>3</td>\n",
       "      <td>1</td>\n",
       "      <td>1</td>\n",
       "      <td>HN</td>\n",
       "      <td>2022</td>\n",
       "      <td>BGEM_Tall_late</td>\n",
       "      <td>0.0</td>\n",
       "      <td>1.0</td>\n",
       "      <td>433.836536</td>\n",
       "    </tr>\n",
       "    <tr>\n",
       "      <th>...</th>\n",
       "      <td>...</td>\n",
       "      <td>...</td>\n",
       "      <td>...</td>\n",
       "      <td>...</td>\n",
       "      <td>...</td>\n",
       "      <td>...</td>\n",
       "      <td>...</td>\n",
       "      <td>...</td>\n",
       "      <td>...</td>\n",
       "      <td>...</td>\n",
       "      <td>...</td>\n",
       "      <td>...</td>\n",
       "      <td>...</td>\n",
       "    </tr>\n",
       "    <tr>\n",
       "      <th>439</th>\n",
       "      <td>B313</td>\n",
       "      <td>BGEM-0251-S</td>\n",
       "      <td>2336</td>\n",
       "      <td>36</td>\n",
       "      <td>7</td>\n",
       "      <td>2</td>\n",
       "      <td>1</td>\n",
       "      <td>LN</td>\n",
       "      <td>2022</td>\n",
       "      <td>BGEM_Tall_early</td>\n",
       "      <td>0.0</td>\n",
       "      <td>2.0</td>\n",
       "      <td>329.824417</td>\n",
       "    </tr>\n",
       "    <tr>\n",
       "      <th>440</th>\n",
       "      <td>B314</td>\n",
       "      <td>BGEM-0189-S</td>\n",
       "      <td>1265</td>\n",
       "      <td>15</td>\n",
       "      <td>6</td>\n",
       "      <td>1</td>\n",
       "      <td>1</td>\n",
       "      <td>HN</td>\n",
       "      <td>2022</td>\n",
       "      <td>BGEM_Tall_early</td>\n",
       "      <td>0.0</td>\n",
       "      <td>1.0</td>\n",
       "      <td>328.267548</td>\n",
       "    </tr>\n",
       "    <tr>\n",
       "      <th>441</th>\n",
       "      <td>B314</td>\n",
       "      <td>BGEM-0189-S</td>\n",
       "      <td>2290</td>\n",
       "      <td>40</td>\n",
       "      <td>6</td>\n",
       "      <td>2</td>\n",
       "      <td>1</td>\n",
       "      <td>LN</td>\n",
       "      <td>2022</td>\n",
       "      <td>BGEM_Tall_early</td>\n",
       "      <td>0.0</td>\n",
       "      <td>2.0</td>\n",
       "      <td>298.973053</td>\n",
       "    </tr>\n",
       "    <tr>\n",
       "      <th>442</th>\n",
       "      <td>B315</td>\n",
       "      <td>BGEM-0249-N</td>\n",
       "      <td>1189</td>\n",
       "      <td>39</td>\n",
       "      <td>4</td>\n",
       "      <td>1</td>\n",
       "      <td>1</td>\n",
       "      <td>HN</td>\n",
       "      <td>2022</td>\n",
       "      <td>BGEM_Short_late</td>\n",
       "      <td>0.0</td>\n",
       "      <td>2.0</td>\n",
       "      <td>370.973292</td>\n",
       "    </tr>\n",
       "    <tr>\n",
       "      <th>443</th>\n",
       "      <td>B315</td>\n",
       "      <td>BGEM-0249-N</td>\n",
       "      <td>2164</td>\n",
       "      <td>14</td>\n",
       "      <td>4</td>\n",
       "      <td>2</td>\n",
       "      <td>1</td>\n",
       "      <td>LN</td>\n",
       "      <td>2022</td>\n",
       "      <td>BGEM_Short_late</td>\n",
       "      <td>0.0</td>\n",
       "      <td>2.0</td>\n",
       "      <td>319.496828</td>\n",
       "    </tr>\n",
       "  </tbody>\n",
       "</table>\n",
       "<p>444 rows × 13 columns</p>\n",
       "</div>"
      ],
      "text/plain": [
       "      UID     genotype  PLOT.ID  rows  ranges  Block  Rep Trt  year  \\\n",
       "0    B001  BGEM-0001-N     1313    13       7      1    1  HN  2022   \n",
       "1    B001  BGEM-0001-N     2338    38       7      2    1  LN  2022   \n",
       "2    B002  BGEM-0002-N     1314    14       7      1    1  HN  2022   \n",
       "3    B002  BGEM-0002-N     2339    39       7      2    1  LN  2022   \n",
       "4    B003  BGEM-0003-N     1111    11       3      1    1  HN  2022   \n",
       "..    ...          ...      ...   ...     ...    ...  ...  ..   ...   \n",
       "439  B313  BGEM-0251-S     2336    36       7      2    1  LN  2022   \n",
       "440  B314  BGEM-0189-S     1265    15       6      1    1  HN  2022   \n",
       "441  B314  BGEM-0189-S     2290    40       6      2    1  LN  2022   \n",
       "442  B315  BGEM-0249-N     1189    39       4      1    1  HN  2022   \n",
       "443  B315  BGEM-0249-N     2164    14       4      2    1  LN  2022   \n",
       "\n",
       "                note  Calibration  ASD         CHL  \n",
       "0    BGEM_Tall_early          0.0  2.0  310.604381  \n",
       "1    BGEM_Tall_early          0.0  2.0  305.224587  \n",
       "2    BGEM_Tall_early          0.0  1.0  400.861723  \n",
       "3    BGEM_Tall_early          NaN  NaN  309.794141  \n",
       "4     BGEM_Tall_late          0.0  1.0  433.836536  \n",
       "..               ...          ...  ...         ...  \n",
       "439  BGEM_Tall_early          0.0  2.0  329.824417  \n",
       "440  BGEM_Tall_early          0.0  1.0  328.267548  \n",
       "441  BGEM_Tall_early          0.0  2.0  298.973053  \n",
       "442  BGEM_Short_late          0.0  2.0  370.973292  \n",
       "443  BGEM_Short_late          0.0  2.0  319.496828  \n",
       "\n",
       "[444 rows x 13 columns]"
      ]
     },
     "execution_count": 29,
     "metadata": {},
     "output_type": "execute_result"
    }
   ],
   "source": [
    "merged"
   ]
  },
  {
   "cell_type": "code",
   "execution_count": 30,
   "metadata": {},
   "outputs": [],
   "source": [
    "merged.to_csv('blups_CHL_with_gwas_ids')"
   ]
  },
  {
   "cell_type": "code",
   "execution_count": 31,
   "metadata": {},
   "outputs": [],
   "source": [
    "blups_CHL_HN = merged.loc[merged['Trt'] == 'HN' , ['UID', 'CHL']]\n",
    "blups_CHL_LN = merged.loc[merged['Trt'] == 'LN' , ['UID', 'CHL']]"
   ]
  },
  {
   "cell_type": "code",
   "execution_count": 32,
   "metadata": {},
   "outputs": [],
   "source": [
    "blups_CHL_LN.to_csv('blups_CHL_LN.csv' , index=False)\n",
    "blups_CHL_HN.to_csv('blups_CHL_HN.csv' , index=False)"
   ]
  },
  {
   "cell_type": "code",
   "execution_count": 33,
   "metadata": {},
   "outputs": [
    {
     "data": {
      "text/html": [
       "<div>\n",
       "<style scoped>\n",
       "    .dataframe tbody tr th:only-of-type {\n",
       "        vertical-align: middle;\n",
       "    }\n",
       "\n",
       "    .dataframe tbody tr th {\n",
       "        vertical-align: top;\n",
       "    }\n",
       "\n",
       "    .dataframe thead th {\n",
       "        text-align: right;\n",
       "    }\n",
       "</style>\n",
       "<table border=\"1\" class=\"dataframe\">\n",
       "  <thead>\n",
       "    <tr style=\"text-align: right;\">\n",
       "      <th></th>\n",
       "      <th>UID</th>\n",
       "      <th>CHL</th>\n",
       "    </tr>\n",
       "  </thead>\n",
       "  <tbody>\n",
       "    <tr>\n",
       "      <th>0</th>\n",
       "      <td>B001</td>\n",
       "      <td>310.604381</td>\n",
       "    </tr>\n",
       "    <tr>\n",
       "      <th>2</th>\n",
       "      <td>B002</td>\n",
       "      <td>400.861723</td>\n",
       "    </tr>\n",
       "    <tr>\n",
       "      <th>4</th>\n",
       "      <td>B003</td>\n",
       "      <td>433.836536</td>\n",
       "    </tr>\n",
       "    <tr>\n",
       "      <th>6</th>\n",
       "      <td>B004</td>\n",
       "      <td>373.498438</td>\n",
       "    </tr>\n",
       "    <tr>\n",
       "      <th>8</th>\n",
       "      <td>B005</td>\n",
       "      <td>464.352804</td>\n",
       "    </tr>\n",
       "    <tr>\n",
       "      <th>...</th>\n",
       "      <td>...</td>\n",
       "      <td>...</td>\n",
       "    </tr>\n",
       "    <tr>\n",
       "      <th>434</th>\n",
       "      <td>B311</td>\n",
       "      <td>389.113594</td>\n",
       "    </tr>\n",
       "    <tr>\n",
       "      <th>436</th>\n",
       "      <td>B312</td>\n",
       "      <td>328.799187</td>\n",
       "    </tr>\n",
       "    <tr>\n",
       "      <th>438</th>\n",
       "      <td>B313</td>\n",
       "      <td>354.752934</td>\n",
       "    </tr>\n",
       "    <tr>\n",
       "      <th>440</th>\n",
       "      <td>B314</td>\n",
       "      <td>328.267548</td>\n",
       "    </tr>\n",
       "    <tr>\n",
       "      <th>442</th>\n",
       "      <td>B315</td>\n",
       "      <td>370.973292</td>\n",
       "    </tr>\n",
       "  </tbody>\n",
       "</table>\n",
       "<p>222 rows × 2 columns</p>\n",
       "</div>"
      ],
      "text/plain": [
       "      UID         CHL\n",
       "0    B001  310.604381\n",
       "2    B002  400.861723\n",
       "4    B003  433.836536\n",
       "6    B004  373.498438\n",
       "8    B005  464.352804\n",
       "..    ...         ...\n",
       "434  B311  389.113594\n",
       "436  B312  328.799187\n",
       "438  B313  354.752934\n",
       "440  B314  328.267548\n",
       "442  B315  370.973292\n",
       "\n",
       "[222 rows x 2 columns]"
      ]
     },
     "execution_count": 33,
     "metadata": {},
     "output_type": "execute_result"
    }
   ],
   "source": [
    "blups_CHL_HN"
   ]
  },
  {
   "cell_type": "markdown",
   "metadata": {},
   "source": [
    "# adding uids to CHL blues and blups"
   ]
  },
  {
   "cell_type": "code",
   "execution_count": 1,
   "metadata": {},
   "outputs": [],
   "source": [
    "import pandas as pd\n",
    "blues = pd.read_csv('blues_CHL_LN_HN_seperately.csv')"
   ]
  },
  {
   "cell_type": "code",
   "execution_count": 2,
   "metadata": {},
   "outputs": [
    {
     "data": {
      "text/html": [
       "<div>\n",
       "<style scoped>\n",
       "    .dataframe tbody tr th:only-of-type {\n",
       "        vertical-align: middle;\n",
       "    }\n",
       "\n",
       "    .dataframe tbody tr th {\n",
       "        vertical-align: top;\n",
       "    }\n",
       "\n",
       "    .dataframe thead th {\n",
       "        text-align: right;\n",
       "    }\n",
       "</style>\n",
       "<table border=\"1\" class=\"dataframe\">\n",
       "  <thead>\n",
       "    <tr style=\"text-align: right;\">\n",
       "      <th></th>\n",
       "      <th>genotype</th>\n",
       "      <th>CHL_LN</th>\n",
       "      <th>CHL_HN</th>\n",
       "    </tr>\n",
       "  </thead>\n",
       "  <tbody>\n",
       "    <tr>\n",
       "      <th>0</th>\n",
       "      <td>B73</td>\n",
       "      <td>382.090624</td>\n",
       "      <td>481.418206</td>\n",
       "    </tr>\n",
       "    <tr>\n",
       "      <th>1</th>\n",
       "      <td>BGEM-0001-N</td>\n",
       "      <td>279.544886</td>\n",
       "      <td>275.021749</td>\n",
       "    </tr>\n",
       "    <tr>\n",
       "      <th>2</th>\n",
       "      <td>BGEM-0002-N</td>\n",
       "      <td>263.386545</td>\n",
       "      <td>387.872590</td>\n",
       "    </tr>\n",
       "    <tr>\n",
       "      <th>3</th>\n",
       "      <td>BGEM-0003-N</td>\n",
       "      <td>298.080737</td>\n",
       "      <td>428.353598</td>\n",
       "    </tr>\n",
       "    <tr>\n",
       "      <th>4</th>\n",
       "      <td>BGEM-0004-N</td>\n",
       "      <td>283.994567</td>\n",
       "      <td>359.010910</td>\n",
       "    </tr>\n",
       "    <tr>\n",
       "      <th>...</th>\n",
       "      <td>...</td>\n",
       "      <td>...</td>\n",
       "      <td>...</td>\n",
       "    </tr>\n",
       "    <tr>\n",
       "      <th>301</th>\n",
       "      <td>BGEM-0325-N</td>\n",
       "      <td>317.956778</td>\n",
       "      <td>425.815526</td>\n",
       "    </tr>\n",
       "    <tr>\n",
       "      <th>302</th>\n",
       "      <td>BGEM-0326-N</td>\n",
       "      <td>309.324426</td>\n",
       "      <td>355.800929</td>\n",
       "    </tr>\n",
       "    <tr>\n",
       "      <th>303</th>\n",
       "      <td>BGEM-0327-N</td>\n",
       "      <td>290.541292</td>\n",
       "      <td>361.954213</td>\n",
       "    </tr>\n",
       "    <tr>\n",
       "      <th>304</th>\n",
       "      <td>BGEM-0328-S</td>\n",
       "      <td>328.639963</td>\n",
       "      <td>379.266291</td>\n",
       "    </tr>\n",
       "    <tr>\n",
       "      <th>305</th>\n",
       "      <td>Mo17</td>\n",
       "      <td>345.922833</td>\n",
       "      <td>409.459713</td>\n",
       "    </tr>\n",
       "  </tbody>\n",
       "</table>\n",
       "<p>306 rows × 3 columns</p>\n",
       "</div>"
      ],
      "text/plain": [
       "        genotype      CHL_LN      CHL_HN\n",
       "0            B73  382.090624  481.418206\n",
       "1    BGEM-0001-N  279.544886  275.021749\n",
       "2    BGEM-0002-N  263.386545  387.872590\n",
       "3    BGEM-0003-N  298.080737  428.353598\n",
       "4    BGEM-0004-N  283.994567  359.010910\n",
       "..           ...         ...         ...\n",
       "301  BGEM-0325-N  317.956778  425.815526\n",
       "302  BGEM-0326-N  309.324426  355.800929\n",
       "303  BGEM-0327-N  290.541292  361.954213\n",
       "304  BGEM-0328-S  328.639963  379.266291\n",
       "305         Mo17  345.922833  409.459713\n",
       "\n",
       "[306 rows x 3 columns]"
      ]
     },
     "execution_count": 2,
     "metadata": {},
     "output_type": "execute_result"
    }
   ],
   "source": [
    "blues"
   ]
  },
  {
   "cell_type": "code",
   "execution_count": 3,
   "metadata": {},
   "outputs": [],
   "source": [
    "ids = pd.read_csv('BGEM_WGS_Labels.csv')"
   ]
  },
  {
   "cell_type": "code",
   "execution_count": 4,
   "metadata": {},
   "outputs": [],
   "source": [
    "GWAS_labels = pd.read_csv('WGS_labels_only.csv')"
   ]
  },
  {
   "cell_type": "code",
   "execution_count": 5,
   "metadata": {},
   "outputs": [
    {
     "data": {
      "text/plain": [
       "Index(['UID                     '], dtype='object')"
      ]
     },
     "execution_count": 5,
     "metadata": {},
     "output_type": "execute_result"
    }
   ],
   "source": [
    "GWAS_labels.columns"
   ]
  },
  {
   "cell_type": "code",
   "execution_count": 6,
   "metadata": {},
   "outputs": [],
   "source": [
    "GWAS_labels.rename(columns={'UID                     ': 'UID'}, inplace=True)"
   ]
  },
  {
   "cell_type": "code",
   "execution_count": 7,
   "metadata": {},
   "outputs": [],
   "source": [
    "GWAS_labels['UID'] = GWAS_labels['UID'].str.replace(' ' , '')"
   ]
  },
  {
   "cell_type": "code",
   "execution_count": 8,
   "metadata": {},
   "outputs": [],
   "source": [
    "ids = ids.loc[: , ['UID', 'Genotype']]"
   ]
  },
  {
   "cell_type": "code",
   "execution_count": 9,
   "metadata": {},
   "outputs": [],
   "source": [
    "ids.rename(columns ={'Genotype': 'genotype'}, inplace=True)"
   ]
  },
  {
   "cell_type": "code",
   "execution_count": 10,
   "metadata": {},
   "outputs": [],
   "source": [
    "merged = pd.merge(ids, blues, on='genotype', how='inner')"
   ]
  },
  {
   "cell_type": "code",
   "execution_count": 11,
   "metadata": {},
   "outputs": [],
   "source": [
    "merged = pd.merge(merged, GWAS_labels, on='UID', how='inner')"
   ]
  },
  {
   "cell_type": "code",
   "execution_count": 12,
   "metadata": {},
   "outputs": [],
   "source": [
    "merged =merged.loc[:, ['UID', 'CHL_LN', 'CHL_HN']]"
   ]
  },
  {
   "cell_type": "code",
   "execution_count": 13,
   "metadata": {},
   "outputs": [],
   "source": [
    "merged.loc[:, ['CHL_LN', 'CHL_HN']] = merged.loc[:, ['CHL_LN', 'CHL_HN']].round(decimals=1)"
   ]
  },
  {
   "cell_type": "code",
   "execution_count": 14,
   "metadata": {},
   "outputs": [
    {
     "data": {
      "text/html": [
       "<div>\n",
       "<style scoped>\n",
       "    .dataframe tbody tr th:only-of-type {\n",
       "        vertical-align: middle;\n",
       "    }\n",
       "\n",
       "    .dataframe tbody tr th {\n",
       "        vertical-align: top;\n",
       "    }\n",
       "\n",
       "    .dataframe thead th {\n",
       "        text-align: right;\n",
       "    }\n",
       "</style>\n",
       "<table border=\"1\" class=\"dataframe\">\n",
       "  <thead>\n",
       "    <tr style=\"text-align: right;\">\n",
       "      <th></th>\n",
       "      <th>UID</th>\n",
       "      <th>CHL_LN</th>\n",
       "      <th>CHL_HN</th>\n",
       "    </tr>\n",
       "  </thead>\n",
       "  <tbody>\n",
       "    <tr>\n",
       "      <th>0</th>\n",
       "      <td>B001</td>\n",
       "      <td>279.5</td>\n",
       "      <td>275.0</td>\n",
       "    </tr>\n",
       "    <tr>\n",
       "      <th>1</th>\n",
       "      <td>B002</td>\n",
       "      <td>263.4</td>\n",
       "      <td>387.9</td>\n",
       "    </tr>\n",
       "    <tr>\n",
       "      <th>2</th>\n",
       "      <td>B003</td>\n",
       "      <td>298.1</td>\n",
       "      <td>428.4</td>\n",
       "    </tr>\n",
       "    <tr>\n",
       "      <th>3</th>\n",
       "      <td>B004</td>\n",
       "      <td>284.0</td>\n",
       "      <td>359.0</td>\n",
       "    </tr>\n",
       "    <tr>\n",
       "      <th>4</th>\n",
       "      <td>B005</td>\n",
       "      <td>343.6</td>\n",
       "      <td>482.1</td>\n",
       "    </tr>\n",
       "    <tr>\n",
       "      <th>...</th>\n",
       "      <td>...</td>\n",
       "      <td>...</td>\n",
       "      <td>...</td>\n",
       "    </tr>\n",
       "    <tr>\n",
       "      <th>217</th>\n",
       "      <td>B311</td>\n",
       "      <td>303.3</td>\n",
       "      <td>375.5</td>\n",
       "    </tr>\n",
       "    <tr>\n",
       "      <th>218</th>\n",
       "      <td>B312</td>\n",
       "      <td>254.5</td>\n",
       "      <td>287.2</td>\n",
       "    </tr>\n",
       "    <tr>\n",
       "      <th>219</th>\n",
       "      <td>B313</td>\n",
       "      <td>352.3</td>\n",
       "      <td>331.7</td>\n",
       "    </tr>\n",
       "    <tr>\n",
       "      <th>220</th>\n",
       "      <td>B314</td>\n",
       "      <td>261.6</td>\n",
       "      <td>290.5</td>\n",
       "    </tr>\n",
       "    <tr>\n",
       "      <th>221</th>\n",
       "      <td>B315</td>\n",
       "      <td>318.5</td>\n",
       "      <td>352.4</td>\n",
       "    </tr>\n",
       "  </tbody>\n",
       "</table>\n",
       "<p>222 rows × 3 columns</p>\n",
       "</div>"
      ],
      "text/plain": [
       "      UID  CHL_LN  CHL_HN\n",
       "0    B001   279.5   275.0\n",
       "1    B002   263.4   387.9\n",
       "2    B003   298.1   428.4\n",
       "3    B004   284.0   359.0\n",
       "4    B005   343.6   482.1\n",
       "..    ...     ...     ...\n",
       "217  B311   303.3   375.5\n",
       "218  B312   254.5   287.2\n",
       "219  B313   352.3   331.7\n",
       "220  B314   261.6   290.5\n",
       "221  B315   318.5   352.4\n",
       "\n",
       "[222 rows x 3 columns]"
      ]
     },
     "execution_count": 14,
     "metadata": {},
     "output_type": "execute_result"
    }
   ],
   "source": [
    "merged"
   ]
  },
  {
   "cell_type": "code",
   "execution_count": 15,
   "metadata": {},
   "outputs": [],
   "source": [
    "merged.to_csv('blues_CHL_with_gwas_ids_only_inbreds.csv', index=False)"
   ]
  },
  {
   "cell_type": "code",
   "execution_count": 25,
   "metadata": {},
   "outputs": [
    {
     "data": {
      "text/plain": [
       "<AxesSubplot: >"
      ]
     },
     "execution_count": 25,
     "metadata": {},
     "output_type": "execute_result"
    }
   ],
   "source": [
    "merged.boxplot('CHL_LN')"
   ]
  },
  {
   "cell_type": "code",
   "execution_count": 51,
   "metadata": {},
   "outputs": [],
   "source": [
    "blues = pd.read_csv('blues_CHL_LN_HN_seperately_with_hybrids.csv')"
   ]
  },
  {
   "cell_type": "code",
   "execution_count": 53,
   "metadata": {},
   "outputs": [],
   "source": [
    "merged = pd.merge(ids, blues, on='genotype', how='inner')"
   ]
  },
  {
   "cell_type": "code",
   "execution_count": 54,
   "metadata": {},
   "outputs": [],
   "source": [
    "merged = pd.merge(merged, GWAS_labels, on='UID', how='inner')"
   ]
  },
  {
   "cell_type": "code",
   "execution_count": 56,
   "metadata": {},
   "outputs": [],
   "source": [
    "merged =merged.loc[:, ['UID', 'CHL_LN', 'CHL_HN']]"
   ]
  },
  {
   "cell_type": "code",
   "execution_count": 58,
   "metadata": {},
   "outputs": [],
   "source": [
    "blups = pd.read_csv('blups_CHL_with_gwas_ids_with_hybrids.csv')\n",
    "blues = merged"
   ]
  },
  {
   "cell_type": "code",
   "execution_count": 59,
   "metadata": {},
   "outputs": [],
   "source": [
    "merged2 = pd.merge(blups, blues, how='left')"
   ]
  },
  {
   "cell_type": "code",
   "execution_count": 61,
   "metadata": {},
   "outputs": [],
   "source": [
    "merged2.to_csv('CHL_blups_blues_with_hybrids.csv', index=False)"
   ]
  },
  {
   "cell_type": "code",
   "execution_count": null,
   "metadata": {},
   "outputs": [],
   "source": []
  },
  {
   "cell_type": "code",
   "execution_count": null,
   "metadata": {},
   "outputs": [],
   "source": []
  },
  {
   "cell_type": "markdown",
   "metadata": {},
   "source": [
    "# merging spectra blups with GWAS Ids"
   ]
  },
  {
   "cell_type": "code",
   "execution_count": 2,
   "metadata": {},
   "outputs": [],
   "source": [
    "import pandas as pd\n",
    "import numpy as np\n",
    "blups = pd.read_csv('spectra_blups_N_combined_nonASD_only_inbreds.csv')"
   ]
  },
  {
   "cell_type": "code",
   "execution_count": 3,
   "metadata": {},
   "outputs": [],
   "source": [
    "# Create a np array for downsampling for every 5 nm\n",
    "column_filter = np.arange(1, 2200, 50)\n",
    "blups_spectra= blups.iloc[:, column_filter]"
   ]
  },
  {
   "cell_type": "code",
   "execution_count": 4,
   "metadata": {},
   "outputs": [],
   "source": [
    "blups_geno = blups.loc[:, 'genotype']"
   ]
  },
  {
   "cell_type": "code",
   "execution_count": 5,
   "metadata": {},
   "outputs": [],
   "source": [
    "blups_int = pd.concat([blups_geno, blups_spectra], axis=1)"
   ]
  },
  {
   "cell_type": "code",
   "execution_count": 6,
   "metadata": {},
   "outputs": [],
   "source": [
    "ids = pd.read_csv('BGEM_WGS_Labels.csv')"
   ]
  },
  {
   "cell_type": "code",
   "execution_count": 7,
   "metadata": {},
   "outputs": [],
   "source": [
    "GWAS_labels = pd.read_csv('WGS_labels_only.csv')"
   ]
  },
  {
   "cell_type": "code",
   "execution_count": 8,
   "metadata": {},
   "outputs": [],
   "source": [
    "GWAS_labels.rename(columns={'UID                     ': 'UID'}, inplace=True)"
   ]
  },
  {
   "cell_type": "code",
   "execution_count": 9,
   "metadata": {},
   "outputs": [],
   "source": [
    "GWAS_labels['UID'] = GWAS_labels['UID'].str.replace(' ' , '')"
   ]
  },
  {
   "cell_type": "code",
   "execution_count": 10,
   "metadata": {},
   "outputs": [],
   "source": [
    "ids = ids.loc[: , ['UID', 'Genotype']]"
   ]
  },
  {
   "cell_type": "code",
   "execution_count": 11,
   "metadata": {},
   "outputs": [],
   "source": [
    "ids.rename(columns ={'Genotype': 'genotype'}, inplace=True)"
   ]
  },
  {
   "cell_type": "code",
   "execution_count": 12,
   "metadata": {},
   "outputs": [],
   "source": [
    "merged = pd.merge(ids, blups_int, on='genotype', how='inner')"
   ]
  },
  {
   "cell_type": "code",
   "execution_count": 13,
   "metadata": {},
   "outputs": [],
   "source": [
    "merged2 = pd.merge(merged, GWAS_labels, on='UID', how='inner')"
   ]
  },
  {
   "cell_type": "code",
   "execution_count": 14,
   "metadata": {},
   "outputs": [],
   "source": [
    "merged2.drop(['genotype'], axis=1, inplace=True)"
   ]
  },
  {
   "cell_type": "code",
   "execution_count": 15,
   "metadata": {},
   "outputs": [],
   "source": [
    "merged2.to_csv('blups_spectra_N_combined_only_inbreds_GWAS_ready.csv', index=False)"
   ]
  },
  {
   "cell_type": "code",
   "execution_count": 16,
   "metadata": {},
   "outputs": [
    {
     "data": {
      "text/html": [
       "<div>\n",
       "<style scoped>\n",
       "    .dataframe tbody tr th:only-of-type {\n",
       "        vertical-align: middle;\n",
       "    }\n",
       "\n",
       "    .dataframe tbody tr th {\n",
       "        vertical-align: top;\n",
       "    }\n",
       "\n",
       "    .dataframe thead th {\n",
       "        text-align: right;\n",
       "    }\n",
       "</style>\n",
       "<table border=\"1\" class=\"dataframe\">\n",
       "  <thead>\n",
       "    <tr style=\"text-align: right;\">\n",
       "      <th></th>\n",
       "      <th>UID</th>\n",
       "      <th>X350</th>\n",
       "      <th>X400</th>\n",
       "      <th>X450</th>\n",
       "      <th>X500</th>\n",
       "      <th>X550</th>\n",
       "      <th>X600</th>\n",
       "      <th>X650</th>\n",
       "      <th>X700</th>\n",
       "      <th>X750</th>\n",
       "      <th>...</th>\n",
       "      <th>X2050</th>\n",
       "      <th>X2100</th>\n",
       "      <th>X2150</th>\n",
       "      <th>X2200</th>\n",
       "      <th>X2250</th>\n",
       "      <th>X2300</th>\n",
       "      <th>X2350</th>\n",
       "      <th>X2400</th>\n",
       "      <th>X2450</th>\n",
       "      <th>X2500</th>\n",
       "    </tr>\n",
       "  </thead>\n",
       "  <tbody>\n",
       "    <tr>\n",
       "      <th>0</th>\n",
       "      <td>B001</td>\n",
       "      <td>0.082296</td>\n",
       "      <td>0.046531</td>\n",
       "      <td>0.055440</td>\n",
       "      <td>0.065912</td>\n",
       "      <td>0.165976</td>\n",
       "      <td>0.105845</td>\n",
       "      <td>0.071533</td>\n",
       "      <td>0.131935</td>\n",
       "      <td>0.450569</td>\n",
       "      <td>...</td>\n",
       "      <td>0.108947</td>\n",
       "      <td>0.142685</td>\n",
       "      <td>0.168140</td>\n",
       "      <td>0.174738</td>\n",
       "      <td>0.164910</td>\n",
       "      <td>0.141465</td>\n",
       "      <td>0.114851</td>\n",
       "      <td>0.088761</td>\n",
       "      <td>0.063922</td>\n",
       "      <td>0.048542</td>\n",
       "    </tr>\n",
       "    <tr>\n",
       "      <th>1</th>\n",
       "      <td>B002</td>\n",
       "      <td>0.080296</td>\n",
       "      <td>0.045596</td>\n",
       "      <td>0.054280</td>\n",
       "      <td>0.063808</td>\n",
       "      <td>0.150755</td>\n",
       "      <td>0.097256</td>\n",
       "      <td>0.067539</td>\n",
       "      <td>0.121333</td>\n",
       "      <td>0.449184</td>\n",
       "      <td>...</td>\n",
       "      <td>0.114609</td>\n",
       "      <td>0.147661</td>\n",
       "      <td>0.172187</td>\n",
       "      <td>0.178576</td>\n",
       "      <td>0.168749</td>\n",
       "      <td>0.145351</td>\n",
       "      <td>0.119007</td>\n",
       "      <td>0.093216</td>\n",
       "      <td>0.067678</td>\n",
       "      <td>0.051602</td>\n",
       "    </tr>\n",
       "    <tr>\n",
       "      <th>2</th>\n",
       "      <td>B003</td>\n",
       "      <td>0.077507</td>\n",
       "      <td>0.044477</td>\n",
       "      <td>0.052744</td>\n",
       "      <td>0.062273</td>\n",
       "      <td>0.144077</td>\n",
       "      <td>0.093925</td>\n",
       "      <td>0.065544</td>\n",
       "      <td>0.117633</td>\n",
       "      <td>0.446765</td>\n",
       "      <td>...</td>\n",
       "      <td>0.114890</td>\n",
       "      <td>0.148302</td>\n",
       "      <td>0.172926</td>\n",
       "      <td>0.179161</td>\n",
       "      <td>0.170360</td>\n",
       "      <td>0.148266</td>\n",
       "      <td>0.121237</td>\n",
       "      <td>0.095265</td>\n",
       "      <td>0.069861</td>\n",
       "      <td>0.053559</td>\n",
       "    </tr>\n",
       "    <tr>\n",
       "      <th>3</th>\n",
       "      <td>B004</td>\n",
       "      <td>0.081749</td>\n",
       "      <td>0.046392</td>\n",
       "      <td>0.054857</td>\n",
       "      <td>0.064614</td>\n",
       "      <td>0.154818</td>\n",
       "      <td>0.099279</td>\n",
       "      <td>0.068366</td>\n",
       "      <td>0.126324</td>\n",
       "      <td>0.449078</td>\n",
       "      <td>...</td>\n",
       "      <td>0.121734</td>\n",
       "      <td>0.156097</td>\n",
       "      <td>0.180941</td>\n",
       "      <td>0.186820</td>\n",
       "      <td>0.177236</td>\n",
       "      <td>0.154257</td>\n",
       "      <td>0.127713</td>\n",
       "      <td>0.100776</td>\n",
       "      <td>0.073229</td>\n",
       "      <td>0.055202</td>\n",
       "    </tr>\n",
       "    <tr>\n",
       "      <th>4</th>\n",
       "      <td>B005</td>\n",
       "      <td>0.082352</td>\n",
       "      <td>0.046344</td>\n",
       "      <td>0.055089</td>\n",
       "      <td>0.064602</td>\n",
       "      <td>0.148535</td>\n",
       "      <td>0.096541</td>\n",
       "      <td>0.067544</td>\n",
       "      <td>0.120918</td>\n",
       "      <td>0.451557</td>\n",
       "      <td>...</td>\n",
       "      <td>0.115569</td>\n",
       "      <td>0.149011</td>\n",
       "      <td>0.173869</td>\n",
       "      <td>0.180169</td>\n",
       "      <td>0.170316</td>\n",
       "      <td>0.146476</td>\n",
       "      <td>0.120511</td>\n",
       "      <td>0.094420</td>\n",
       "      <td>0.068643</td>\n",
       "      <td>0.052253</td>\n",
       "    </tr>\n",
       "    <tr>\n",
       "      <th>...</th>\n",
       "      <td>...</td>\n",
       "      <td>...</td>\n",
       "      <td>...</td>\n",
       "      <td>...</td>\n",
       "      <td>...</td>\n",
       "      <td>...</td>\n",
       "      <td>...</td>\n",
       "      <td>...</td>\n",
       "      <td>...</td>\n",
       "      <td>...</td>\n",
       "      <td>...</td>\n",
       "      <td>...</td>\n",
       "      <td>...</td>\n",
       "      <td>...</td>\n",
       "      <td>...</td>\n",
       "      <td>...</td>\n",
       "      <td>...</td>\n",
       "      <td>...</td>\n",
       "      <td>...</td>\n",
       "      <td>...</td>\n",
       "      <td>...</td>\n",
       "    </tr>\n",
       "    <tr>\n",
       "      <th>217</th>\n",
       "      <td>B311</td>\n",
       "      <td>0.080219</td>\n",
       "      <td>0.045337</td>\n",
       "      <td>0.053046</td>\n",
       "      <td>0.061712</td>\n",
       "      <td>0.141519</td>\n",
       "      <td>0.090398</td>\n",
       "      <td>0.063123</td>\n",
       "      <td>0.113491</td>\n",
       "      <td>0.445466</td>\n",
       "      <td>...</td>\n",
       "      <td>0.099590</td>\n",
       "      <td>0.131576</td>\n",
       "      <td>0.156000</td>\n",
       "      <td>0.162734</td>\n",
       "      <td>0.154120</td>\n",
       "      <td>0.132300</td>\n",
       "      <td>0.106079</td>\n",
       "      <td>0.081459</td>\n",
       "      <td>0.059063</td>\n",
       "      <td>0.045463</td>\n",
       "    </tr>\n",
       "    <tr>\n",
       "      <th>218</th>\n",
       "      <td>B312</td>\n",
       "      <td>0.080119</td>\n",
       "      <td>0.045643</td>\n",
       "      <td>0.054790</td>\n",
       "      <td>0.065985</td>\n",
       "      <td>0.165286</td>\n",
       "      <td>0.108499</td>\n",
       "      <td>0.073811</td>\n",
       "      <td>0.135865</td>\n",
       "      <td>0.447771</td>\n",
       "      <td>...</td>\n",
       "      <td>0.108765</td>\n",
       "      <td>0.141282</td>\n",
       "      <td>0.165982</td>\n",
       "      <td>0.172387</td>\n",
       "      <td>0.162956</td>\n",
       "      <td>0.140220</td>\n",
       "      <td>0.114345</td>\n",
       "      <td>0.088977</td>\n",
       "      <td>0.064616</td>\n",
       "      <td>0.049473</td>\n",
       "    </tr>\n",
       "    <tr>\n",
       "      <th>219</th>\n",
       "      <td>B313</td>\n",
       "      <td>0.078888</td>\n",
       "      <td>0.044448</td>\n",
       "      <td>0.052291</td>\n",
       "      <td>0.061335</td>\n",
       "      <td>0.141020</td>\n",
       "      <td>0.090645</td>\n",
       "      <td>0.063109</td>\n",
       "      <td>0.114885</td>\n",
       "      <td>0.445814</td>\n",
       "      <td>...</td>\n",
       "      <td>0.104481</td>\n",
       "      <td>0.137509</td>\n",
       "      <td>0.162715</td>\n",
       "      <td>0.169626</td>\n",
       "      <td>0.160477</td>\n",
       "      <td>0.137362</td>\n",
       "      <td>0.111567</td>\n",
       "      <td>0.086223</td>\n",
       "      <td>0.062048</td>\n",
       "      <td>0.047288</td>\n",
       "    </tr>\n",
       "    <tr>\n",
       "      <th>220</th>\n",
       "      <td>B314</td>\n",
       "      <td>0.081071</td>\n",
       "      <td>0.045903</td>\n",
       "      <td>0.054179</td>\n",
       "      <td>0.064272</td>\n",
       "      <td>0.159721</td>\n",
       "      <td>0.101175</td>\n",
       "      <td>0.068150</td>\n",
       "      <td>0.132100</td>\n",
       "      <td>0.449871</td>\n",
       "      <td>...</td>\n",
       "      <td>0.112515</td>\n",
       "      <td>0.147127</td>\n",
       "      <td>0.172813</td>\n",
       "      <td>0.179290</td>\n",
       "      <td>0.169795</td>\n",
       "      <td>0.146253</td>\n",
       "      <td>0.119409</td>\n",
       "      <td>0.092515</td>\n",
       "      <td>0.066234</td>\n",
       "      <td>0.049571</td>\n",
       "    </tr>\n",
       "    <tr>\n",
       "      <th>221</th>\n",
       "      <td>B315</td>\n",
       "      <td>0.082179</td>\n",
       "      <td>0.046277</td>\n",
       "      <td>0.054608</td>\n",
       "      <td>0.063931</td>\n",
       "      <td>0.151793</td>\n",
       "      <td>0.097192</td>\n",
       "      <td>0.067149</td>\n",
       "      <td>0.121001</td>\n",
       "      <td>0.447924</td>\n",
       "      <td>...</td>\n",
       "      <td>0.112086</td>\n",
       "      <td>0.145175</td>\n",
       "      <td>0.169835</td>\n",
       "      <td>0.176344</td>\n",
       "      <td>0.166301</td>\n",
       "      <td>0.143131</td>\n",
       "      <td>0.117218</td>\n",
       "      <td>0.091511</td>\n",
       "      <td>0.065871</td>\n",
       "      <td>0.049749</td>\n",
       "    </tr>\n",
       "  </tbody>\n",
       "</table>\n",
       "<p>222 rows × 45 columns</p>\n",
       "</div>"
      ],
      "text/plain": [
       "      UID      X350      X400      X450      X500      X550      X600  \\\n",
       "0    B001  0.082296  0.046531  0.055440  0.065912  0.165976  0.105845   \n",
       "1    B002  0.080296  0.045596  0.054280  0.063808  0.150755  0.097256   \n",
       "2    B003  0.077507  0.044477  0.052744  0.062273  0.144077  0.093925   \n",
       "3    B004  0.081749  0.046392  0.054857  0.064614  0.154818  0.099279   \n",
       "4    B005  0.082352  0.046344  0.055089  0.064602  0.148535  0.096541   \n",
       "..    ...       ...       ...       ...       ...       ...       ...   \n",
       "217  B311  0.080219  0.045337  0.053046  0.061712  0.141519  0.090398   \n",
       "218  B312  0.080119  0.045643  0.054790  0.065985  0.165286  0.108499   \n",
       "219  B313  0.078888  0.044448  0.052291  0.061335  0.141020  0.090645   \n",
       "220  B314  0.081071  0.045903  0.054179  0.064272  0.159721  0.101175   \n",
       "221  B315  0.082179  0.046277  0.054608  0.063931  0.151793  0.097192   \n",
       "\n",
       "         X650      X700      X750  ...     X2050     X2100     X2150  \\\n",
       "0    0.071533  0.131935  0.450569  ...  0.108947  0.142685  0.168140   \n",
       "1    0.067539  0.121333  0.449184  ...  0.114609  0.147661  0.172187   \n",
       "2    0.065544  0.117633  0.446765  ...  0.114890  0.148302  0.172926   \n",
       "3    0.068366  0.126324  0.449078  ...  0.121734  0.156097  0.180941   \n",
       "4    0.067544  0.120918  0.451557  ...  0.115569  0.149011  0.173869   \n",
       "..        ...       ...       ...  ...       ...       ...       ...   \n",
       "217  0.063123  0.113491  0.445466  ...  0.099590  0.131576  0.156000   \n",
       "218  0.073811  0.135865  0.447771  ...  0.108765  0.141282  0.165982   \n",
       "219  0.063109  0.114885  0.445814  ...  0.104481  0.137509  0.162715   \n",
       "220  0.068150  0.132100  0.449871  ...  0.112515  0.147127  0.172813   \n",
       "221  0.067149  0.121001  0.447924  ...  0.112086  0.145175  0.169835   \n",
       "\n",
       "        X2200     X2250     X2300     X2350     X2400     X2450     X2500  \n",
       "0    0.174738  0.164910  0.141465  0.114851  0.088761  0.063922  0.048542  \n",
       "1    0.178576  0.168749  0.145351  0.119007  0.093216  0.067678  0.051602  \n",
       "2    0.179161  0.170360  0.148266  0.121237  0.095265  0.069861  0.053559  \n",
       "3    0.186820  0.177236  0.154257  0.127713  0.100776  0.073229  0.055202  \n",
       "4    0.180169  0.170316  0.146476  0.120511  0.094420  0.068643  0.052253  \n",
       "..        ...       ...       ...       ...       ...       ...       ...  \n",
       "217  0.162734  0.154120  0.132300  0.106079  0.081459  0.059063  0.045463  \n",
       "218  0.172387  0.162956  0.140220  0.114345  0.088977  0.064616  0.049473  \n",
       "219  0.169626  0.160477  0.137362  0.111567  0.086223  0.062048  0.047288  \n",
       "220  0.179290  0.169795  0.146253  0.119409  0.092515  0.066234  0.049571  \n",
       "221  0.176344  0.166301  0.143131  0.117218  0.091511  0.065871  0.049749  \n",
       "\n",
       "[222 rows x 45 columns]"
      ]
     },
     "execution_count": 16,
     "metadata": {},
     "output_type": "execute_result"
    }
   ],
   "source": [
    "merged2"
   ]
  },
  {
   "cell_type": "code",
   "execution_count": null,
   "metadata": {},
   "outputs": [],
   "source": []
  },
  {
   "cell_type": "markdown",
   "metadata": {},
   "source": [
    "# Spectral Plasticity GWAS\n"
   ]
  },
  {
   "cell_type": "code",
   "execution_count": 1,
   "metadata": {},
   "outputs": [],
   "source": [
    "import pandas as pd\n",
    "import numpy as np"
   ]
  },
  {
   "cell_type": "code",
   "execution_count": 2,
   "metadata": {},
   "outputs": [],
   "source": [
    "plast = pd.read_csv('spectra_plasticity.csv')"
   ]
  },
  {
   "cell_type": "code",
   "execution_count": 3,
   "metadata": {},
   "outputs": [],
   "source": [
    "plast_inb = plast.loc[plast['Group'] == 'Inbred' , :]\n",
    "plast_first_cols = plast_inb.iloc[:, 0:1]\n",
    "plast_inb_bands = plast_inb.iloc[:, 2:]"
   ]
  },
  {
   "cell_type": "code",
   "execution_count": 4,
   "metadata": {},
   "outputs": [],
   "source": [
    "# Create a np array for downsampling for every 5 nm\n",
    "column_filter = np.arange(1540, 2150, 10)\n",
    "plast_inb_bands = plast_inb_bands.iloc[:, column_filter]"
   ]
  },
  {
   "cell_type": "code",
   "execution_count": 5,
   "metadata": {},
   "outputs": [],
   "source": [
    "plast_GWAS = pd.concat([plast_first_cols, plast_inb_bands], axis=1)"
   ]
  },
  {
   "cell_type": "code",
   "execution_count": 6,
   "metadata": {},
   "outputs": [],
   "source": [
    "ids = pd.read_csv('BGEM_WGS_Labels.csv')\n",
    "GWAS_labels = pd.read_csv('WGS_labels_only.csv')\n",
    "GWAS_labels.rename(columns={'UID                     ': 'UID'}, inplace=True)\n",
    "GWAS_labels['UID'] = GWAS_labels['UID'].str.replace(' ' , '')\n",
    "ids = ids.loc[: , ['UID', 'Genotype']]\n",
    "ids.rename(columns ={'Genotype': 'genotype'}, inplace=True)"
   ]
  },
  {
   "cell_type": "code",
   "execution_count": 7,
   "metadata": {},
   "outputs": [],
   "source": [
    "merged = pd.merge(ids, plast_GWAS, on='genotype', how='inner')"
   ]
  },
  {
   "cell_type": "code",
   "execution_count": 8,
   "metadata": {},
   "outputs": [],
   "source": [
    "merged2 = pd.merge(merged, GWAS_labels, on='UID', how='inner')"
   ]
  },
  {
   "cell_type": "code",
   "execution_count": 9,
   "metadata": {},
   "outputs": [],
   "source": [
    "merged2.drop(['genotype'], axis=1, inplace=True)"
   ]
  },
  {
   "cell_type": "code",
   "execution_count": 10,
   "metadata": {},
   "outputs": [],
   "source": [
    "#defining a function to remove the outliers\n",
    "def outlier_treatment(datacolumn):\n",
    " sorted(datacolumn)\n",
    " Q1=datacolumn.quantile(0.25)\n",
    " Q3=datacolumn.quantile(0.75)\n",
    " #Q1,Q3 = np.percentile(datacolumn , [25,75])\n",
    " IQR = Q3 - Q1\n",
    " lower_range = Q1 - (1.5 * IQR)\n",
    " upper_range = Q3 + (1.5 * IQR)\n",
    " return lower_range,upper_range"
   ]
  },
  {
   "cell_type": "code",
   "execution_count": 11,
   "metadata": {},
   "outputs": [],
   "source": [
    "#Outlier treatment\n",
    "for trait in merged2.columns[1:] : \n",
    "    outlier_treatment(merged2.loc[: , trait])\n",
    "    lowerbound,upperbound = outlier_treatment(merged2.loc[: , trait])\n",
    "    rm_index =merged2[(merged2[trait] < lowerbound) | (merged2[trait] > upperbound)].index\n",
    "    merged2.loc[rm_index, trait] = np.nan"
   ]
  },
  {
   "cell_type": "code",
   "execution_count": 12,
   "metadata": {},
   "outputs": [],
   "source": [
    "merged2.to_csv('spetrum_plasticity_GWAS_ready.csv', index=False)"
   ]
  },
  {
   "cell_type": "code",
   "execution_count": 13,
   "metadata": {},
   "outputs": [
    {
     "data": {
      "text/html": [
       "<div>\n",
       "<style scoped>\n",
       "    .dataframe tbody tr th:only-of-type {\n",
       "        vertical-align: middle;\n",
       "    }\n",
       "\n",
       "    .dataframe tbody tr th {\n",
       "        vertical-align: top;\n",
       "    }\n",
       "\n",
       "    .dataframe thead th {\n",
       "        text-align: right;\n",
       "    }\n",
       "</style>\n",
       "<table border=\"1\" class=\"dataframe\">\n",
       "  <thead>\n",
       "    <tr style=\"text-align: right;\">\n",
       "      <th></th>\n",
       "      <th>UID</th>\n",
       "      <th>X1890</th>\n",
       "      <th>X1900</th>\n",
       "      <th>X1910</th>\n",
       "      <th>X1920</th>\n",
       "      <th>X1930</th>\n",
       "      <th>X1940</th>\n",
       "      <th>X1950</th>\n",
       "      <th>X1960</th>\n",
       "      <th>X1970</th>\n",
       "      <th>...</th>\n",
       "      <th>X2400</th>\n",
       "      <th>X2410</th>\n",
       "      <th>X2420</th>\n",
       "      <th>X2430</th>\n",
       "      <th>X2440</th>\n",
       "      <th>X2450</th>\n",
       "      <th>X2460</th>\n",
       "      <th>X2470</th>\n",
       "      <th>X2480</th>\n",
       "      <th>X2490</th>\n",
       "    </tr>\n",
       "  </thead>\n",
       "  <tbody>\n",
       "    <tr>\n",
       "      <th>0</th>\n",
       "      <td>B001</td>\n",
       "      <td>0.153</td>\n",
       "      <td>0.153</td>\n",
       "      <td>0.141</td>\n",
       "      <td>0.133</td>\n",
       "      <td>0.132</td>\n",
       "      <td>0.135</td>\n",
       "      <td>0.141</td>\n",
       "      <td>0.148</td>\n",
       "      <td>0.154</td>\n",
       "      <td>...</td>\n",
       "      <td>0.155</td>\n",
       "      <td>0.158</td>\n",
       "      <td>0.160</td>\n",
       "      <td>0.161</td>\n",
       "      <td>0.160</td>\n",
       "      <td>0.161</td>\n",
       "      <td>0.159</td>\n",
       "      <td>0.159</td>\n",
       "      <td>0.157</td>\n",
       "      <td>0.155</td>\n",
       "    </tr>\n",
       "    <tr>\n",
       "      <th>1</th>\n",
       "      <td>B002</td>\n",
       "      <td>0.101</td>\n",
       "      <td>0.089</td>\n",
       "      <td>0.073</td>\n",
       "      <td>0.065</td>\n",
       "      <td>0.064</td>\n",
       "      <td>0.068</td>\n",
       "      <td>0.076</td>\n",
       "      <td>0.085</td>\n",
       "      <td>0.093</td>\n",
       "      <td>...</td>\n",
       "      <td>0.101</td>\n",
       "      <td>0.102</td>\n",
       "      <td>0.102</td>\n",
       "      <td>0.099</td>\n",
       "      <td>0.097</td>\n",
       "      <td>0.094</td>\n",
       "      <td>0.091</td>\n",
       "      <td>0.086</td>\n",
       "      <td>0.083</td>\n",
       "      <td>0.076</td>\n",
       "    </tr>\n",
       "    <tr>\n",
       "      <th>2</th>\n",
       "      <td>B003</td>\n",
       "      <td>0.083</td>\n",
       "      <td>0.088</td>\n",
       "      <td>0.084</td>\n",
       "      <td>0.083</td>\n",
       "      <td>0.084</td>\n",
       "      <td>0.087</td>\n",
       "      <td>0.090</td>\n",
       "      <td>0.094</td>\n",
       "      <td>0.096</td>\n",
       "      <td>...</td>\n",
       "      <td>0.094</td>\n",
       "      <td>0.096</td>\n",
       "      <td>0.097</td>\n",
       "      <td>0.099</td>\n",
       "      <td>0.098</td>\n",
       "      <td>0.102</td>\n",
       "      <td>0.100</td>\n",
       "      <td>0.096</td>\n",
       "      <td>0.096</td>\n",
       "      <td>0.094</td>\n",
       "    </tr>\n",
       "    <tr>\n",
       "      <th>3</th>\n",
       "      <td>B004</td>\n",
       "      <td>-0.011</td>\n",
       "      <td>-0.021</td>\n",
       "      <td>-0.028</td>\n",
       "      <td>-0.031</td>\n",
       "      <td>-0.032</td>\n",
       "      <td>-0.031</td>\n",
       "      <td>-0.029</td>\n",
       "      <td>-0.025</td>\n",
       "      <td>-0.021</td>\n",
       "      <td>...</td>\n",
       "      <td>0.001</td>\n",
       "      <td>-0.001</td>\n",
       "      <td>-0.001</td>\n",
       "      <td>-0.003</td>\n",
       "      <td>-0.006</td>\n",
       "      <td>-0.007</td>\n",
       "      <td>-0.008</td>\n",
       "      <td>-0.010</td>\n",
       "      <td>-0.013</td>\n",
       "      <td>-0.013</td>\n",
       "    </tr>\n",
       "    <tr>\n",
       "      <th>4</th>\n",
       "      <td>B005</td>\n",
       "      <td>0.048</td>\n",
       "      <td>0.044</td>\n",
       "      <td>0.038</td>\n",
       "      <td>0.035</td>\n",
       "      <td>0.036</td>\n",
       "      <td>0.037</td>\n",
       "      <td>0.040</td>\n",
       "      <td>0.043</td>\n",
       "      <td>0.046</td>\n",
       "      <td>...</td>\n",
       "      <td>0.053</td>\n",
       "      <td>0.054</td>\n",
       "      <td>0.053</td>\n",
       "      <td>0.052</td>\n",
       "      <td>0.051</td>\n",
       "      <td>0.049</td>\n",
       "      <td>0.048</td>\n",
       "      <td>0.047</td>\n",
       "      <td>0.043</td>\n",
       "      <td>0.044</td>\n",
       "    </tr>\n",
       "    <tr>\n",
       "      <th>...</th>\n",
       "      <td>...</td>\n",
       "      <td>...</td>\n",
       "      <td>...</td>\n",
       "      <td>...</td>\n",
       "      <td>...</td>\n",
       "      <td>...</td>\n",
       "      <td>...</td>\n",
       "      <td>...</td>\n",
       "      <td>...</td>\n",
       "      <td>...</td>\n",
       "      <td>...</td>\n",
       "      <td>...</td>\n",
       "      <td>...</td>\n",
       "      <td>...</td>\n",
       "      <td>...</td>\n",
       "      <td>...</td>\n",
       "      <td>...</td>\n",
       "      <td>...</td>\n",
       "      <td>...</td>\n",
       "      <td>...</td>\n",
       "      <td>...</td>\n",
       "    </tr>\n",
       "    <tr>\n",
       "      <th>217</th>\n",
       "      <td>B311</td>\n",
       "      <td>0.038</td>\n",
       "      <td>0.022</td>\n",
       "      <td>0.009</td>\n",
       "      <td>0.007</td>\n",
       "      <td>0.008</td>\n",
       "      <td>0.012</td>\n",
       "      <td>0.017</td>\n",
       "      <td>0.023</td>\n",
       "      <td>0.030</td>\n",
       "      <td>...</td>\n",
       "      <td>0.046</td>\n",
       "      <td>0.046</td>\n",
       "      <td>0.044</td>\n",
       "      <td>0.042</td>\n",
       "      <td>0.039</td>\n",
       "      <td>0.038</td>\n",
       "      <td>0.032</td>\n",
       "      <td>0.027</td>\n",
       "      <td>0.024</td>\n",
       "      <td>0.018</td>\n",
       "    </tr>\n",
       "    <tr>\n",
       "      <th>218</th>\n",
       "      <td>B312</td>\n",
       "      <td>0.085</td>\n",
       "      <td>0.085</td>\n",
       "      <td>0.077</td>\n",
       "      <td>0.071</td>\n",
       "      <td>0.069</td>\n",
       "      <td>0.071</td>\n",
       "      <td>0.075</td>\n",
       "      <td>0.080</td>\n",
       "      <td>0.083</td>\n",
       "      <td>...</td>\n",
       "      <td>0.084</td>\n",
       "      <td>0.085</td>\n",
       "      <td>0.086</td>\n",
       "      <td>0.086</td>\n",
       "      <td>0.087</td>\n",
       "      <td>0.087</td>\n",
       "      <td>0.084</td>\n",
       "      <td>0.084</td>\n",
       "      <td>0.083</td>\n",
       "      <td>0.080</td>\n",
       "    </tr>\n",
       "    <tr>\n",
       "      <th>219</th>\n",
       "      <td>B313</td>\n",
       "      <td>0.059</td>\n",
       "      <td>0.062</td>\n",
       "      <td>0.057</td>\n",
       "      <td>0.054</td>\n",
       "      <td>0.054</td>\n",
       "      <td>0.055</td>\n",
       "      <td>0.057</td>\n",
       "      <td>0.061</td>\n",
       "      <td>0.062</td>\n",
       "      <td>...</td>\n",
       "      <td>0.058</td>\n",
       "      <td>0.060</td>\n",
       "      <td>0.062</td>\n",
       "      <td>0.061</td>\n",
       "      <td>0.064</td>\n",
       "      <td>0.063</td>\n",
       "      <td>0.064</td>\n",
       "      <td>0.062</td>\n",
       "      <td>0.061</td>\n",
       "      <td>0.057</td>\n",
       "    </tr>\n",
       "    <tr>\n",
       "      <th>220</th>\n",
       "      <td>B314</td>\n",
       "      <td>0.005</td>\n",
       "      <td>0.009</td>\n",
       "      <td>0.011</td>\n",
       "      <td>0.012</td>\n",
       "      <td>0.013</td>\n",
       "      <td>0.014</td>\n",
       "      <td>0.013</td>\n",
       "      <td>0.012</td>\n",
       "      <td>0.011</td>\n",
       "      <td>...</td>\n",
       "      <td>0.005</td>\n",
       "      <td>0.006</td>\n",
       "      <td>0.007</td>\n",
       "      <td>0.008</td>\n",
       "      <td>0.008</td>\n",
       "      <td>0.009</td>\n",
       "      <td>0.011</td>\n",
       "      <td>0.010</td>\n",
       "      <td>0.009</td>\n",
       "      <td>0.013</td>\n",
       "    </tr>\n",
       "    <tr>\n",
       "      <th>221</th>\n",
       "      <td>B315</td>\n",
       "      <td>0.103</td>\n",
       "      <td>0.108</td>\n",
       "      <td>0.102</td>\n",
       "      <td>0.098</td>\n",
       "      <td>0.098</td>\n",
       "      <td>0.101</td>\n",
       "      <td>0.106</td>\n",
       "      <td>0.111</td>\n",
       "      <td>0.115</td>\n",
       "      <td>...</td>\n",
       "      <td>0.097</td>\n",
       "      <td>0.099</td>\n",
       "      <td>0.100</td>\n",
       "      <td>0.100</td>\n",
       "      <td>0.100</td>\n",
       "      <td>0.100</td>\n",
       "      <td>0.100</td>\n",
       "      <td>0.101</td>\n",
       "      <td>0.097</td>\n",
       "      <td>0.098</td>\n",
       "    </tr>\n",
       "  </tbody>\n",
       "</table>\n",
       "<p>222 rows × 62 columns</p>\n",
       "</div>"
      ],
      "text/plain": [
       "      UID  X1890  X1900  X1910  X1920  X1930  X1940  X1950  X1960  X1970  ...  \\\n",
       "0    B001  0.153  0.153  0.141  0.133  0.132  0.135  0.141  0.148  0.154  ...   \n",
       "1    B002  0.101  0.089  0.073  0.065  0.064  0.068  0.076  0.085  0.093  ...   \n",
       "2    B003  0.083  0.088  0.084  0.083  0.084  0.087  0.090  0.094  0.096  ...   \n",
       "3    B004 -0.011 -0.021 -0.028 -0.031 -0.032 -0.031 -0.029 -0.025 -0.021  ...   \n",
       "4    B005  0.048  0.044  0.038  0.035  0.036  0.037  0.040  0.043  0.046  ...   \n",
       "..    ...    ...    ...    ...    ...    ...    ...    ...    ...    ...  ...   \n",
       "217  B311  0.038  0.022  0.009  0.007  0.008  0.012  0.017  0.023  0.030  ...   \n",
       "218  B312  0.085  0.085  0.077  0.071  0.069  0.071  0.075  0.080  0.083  ...   \n",
       "219  B313  0.059  0.062  0.057  0.054  0.054  0.055  0.057  0.061  0.062  ...   \n",
       "220  B314  0.005  0.009  0.011  0.012  0.013  0.014  0.013  0.012  0.011  ...   \n",
       "221  B315  0.103  0.108  0.102  0.098  0.098  0.101  0.106  0.111  0.115  ...   \n",
       "\n",
       "     X2400  X2410  X2420  X2430  X2440  X2450  X2460  X2470  X2480  X2490  \n",
       "0    0.155  0.158  0.160  0.161  0.160  0.161  0.159  0.159  0.157  0.155  \n",
       "1    0.101  0.102  0.102  0.099  0.097  0.094  0.091  0.086  0.083  0.076  \n",
       "2    0.094  0.096  0.097  0.099  0.098  0.102  0.100  0.096  0.096  0.094  \n",
       "3    0.001 -0.001 -0.001 -0.003 -0.006 -0.007 -0.008 -0.010 -0.013 -0.013  \n",
       "4    0.053  0.054  0.053  0.052  0.051  0.049  0.048  0.047  0.043  0.044  \n",
       "..     ...    ...    ...    ...    ...    ...    ...    ...    ...    ...  \n",
       "217  0.046  0.046  0.044  0.042  0.039  0.038  0.032  0.027  0.024  0.018  \n",
       "218  0.084  0.085  0.086  0.086  0.087  0.087  0.084  0.084  0.083  0.080  \n",
       "219  0.058  0.060  0.062  0.061  0.064  0.063  0.064  0.062  0.061  0.057  \n",
       "220  0.005  0.006  0.007  0.008  0.008  0.009  0.011  0.010  0.009  0.013  \n",
       "221  0.097  0.099  0.100  0.100  0.100  0.100  0.100  0.101  0.097  0.098  \n",
       "\n",
       "[222 rows x 62 columns]"
      ]
     },
     "execution_count": 13,
     "metadata": {},
     "output_type": "execute_result"
    }
   ],
   "source": [
    "merged2"
   ]
  },
  {
   "cell_type": "markdown",
   "metadata": {},
   "source": [
    "# For raw CHL GWAS"
   ]
  },
  {
   "cell_type": "code",
   "execution_count": 2,
   "metadata": {},
   "outputs": [],
   "source": [
    "import pandas as pd\n",
    "import numpy as np\n",
    "chl = pd.read_csv('Raw_spectrum_merged_predicted_CHL.csv')"
   ]
  },
  {
   "cell_type": "code",
   "execution_count": 6,
   "metadata": {},
   "outputs": [],
   "source": [
    "chl =chl.loc[:, ['genotype', 'Trt', 'Rep', 'CHL']]"
   ]
  },
  {
   "cell_type": "code",
   "execution_count": 20,
   "metadata": {},
   "outputs": [],
   "source": [
    "chl_rep_means= chl.groupby(['Trt', 'genotype']).mean().reset_index().drop('Rep', axis=1)"
   ]
  },
  {
   "cell_type": "code",
   "execution_count": 25,
   "metadata": {},
   "outputs": [],
   "source": [
    "chl_HN_LN = chl_rep_means.pivot( index= 'genotype', columns='Trt')['CHL'].reset_index()"
   ]
  },
  {
   "cell_type": "code",
   "execution_count": 27,
   "metadata": {},
   "outputs": [],
   "source": [
    "ids = pd.read_csv('BGEM_WGS_Labels.csv')\n",
    "GWAS_labels = pd.read_csv('WGS_labels_only.csv')\n",
    "GWAS_labels.columns\n",
    "GWAS_labels.rename(columns={'UID                     ': 'UID'}, inplace=True)\n",
    "GWAS_labels['UID'] = GWAS_labels['UID'].str.replace(' ' , '')\n",
    "ids = ids.loc[: , ['UID', 'Genotype']]\n",
    "ids.rename(columns ={'Genotype': 'genotype'}, inplace=True)\n"
   ]
  },
  {
   "cell_type": "code",
   "execution_count": 28,
   "metadata": {},
   "outputs": [],
   "source": [
    "merged = pd.merge(ids, chl_HN_LN, on='genotype', how='inner')"
   ]
  },
  {
   "cell_type": "code",
   "execution_count": 29,
   "metadata": {},
   "outputs": [],
   "source": [
    "merged = pd.merge(merged, GWAS_labels, on='UID', how='inner')"
   ]
  },
  {
   "cell_type": "code",
   "execution_count": 30,
   "metadata": {},
   "outputs": [],
   "source": [
    "merged =merged.loc[:, ['UID', 'LN', 'HN']]"
   ]
  },
  {
   "cell_type": "code",
   "execution_count": 38,
   "metadata": {},
   "outputs": [],
   "source": [
    "merged.to_csv('CHL_raw_for_GWAS.csv', index=False)"
   ]
  },
  {
   "cell_type": "markdown",
   "metadata": {},
   "source": [
    "# GWAS for predicted biochemicals"
   ]
  },
  {
   "cell_type": "code",
   "execution_count": 1,
   "metadata": {},
   "outputs": [],
   "source": [
    "import pandas as pd\n",
    "import numpy as np\n",
    "bio = pd.read_csv('blups_all_predicted.csv')"
   ]
  },
  {
   "cell_type": "code",
   "execution_count": 2,
   "metadata": {},
   "outputs": [
    {
     "data": {
      "text/plain": [
       "Index(['genotype', 'SLA_HN', 'LWC_HN', 'X..N_HN', 'X..P_HN', 'X..K_HN',\n",
       "       'X..S_HN', 'X..Ca_HN', 'X..Mg_HN', 'ppm.Zn_HN', 'ppm.Fe_HN',\n",
       "       'ppm.Mn_HN', 'ppm.Cu_HN', 'ppm.B_HN', 'ppm.Mo_HN', 'SLA_LN', 'LWC_LN',\n",
       "       'X..N_LN', 'X..P_LN', 'X..K_LN', 'X..S_LN', 'X..Ca_LN', 'X..Mg_LN',\n",
       "       'ppm.Zn_LN', 'ppm.Fe_LN'],\n",
       "      dtype='object')"
      ]
     },
     "execution_count": 2,
     "metadata": {},
     "output_type": "execute_result"
    }
   ],
   "source": [
    "bio.columns[0:25]"
   ]
  },
  {
   "cell_type": "code",
   "execution_count": 4,
   "metadata": {},
   "outputs": [],
   "source": [
    "traits = bio.columns[1:]"
   ]
  },
  {
   "cell_type": "code",
   "execution_count": 6,
   "metadata": {},
   "outputs": [],
   "source": [
    "#defining a function to remove the outliers\n",
    "def outlier_treatment(datacolumn):\n",
    " sorted(datacolumn)\n",
    " Q1=datacolumn.quantile(0.25)\n",
    " Q3=datacolumn.quantile(0.75)\n",
    " #Q1,Q3 = np.percentile(datacolumn , [25,75])\n",
    " IQR = Q3 - Q1\n",
    " lower_range = Q1 - (1.5 * IQR)\n",
    " upper_range = Q3 + (1.5 * IQR)\n",
    " return lower_range,upper_range"
   ]
  },
  {
   "cell_type": "code",
   "execution_count": 7,
   "metadata": {},
   "outputs": [],
   "source": [
    "#Outlier treatment\n",
    "for trait in traits:\n",
    "    data_non_na = bio.loc[bio[trait].notna(),:]\n",
    "    outlier_treatment(data_non_na.loc[: , trait])\n",
    "    lowerbound,upperbound = outlier_treatment(data_non_na.loc[: , trait])\n",
    "    rm_index =data_non_na.loc[: , trait][(data_non_na[trait] < lowerbound) | (data_non_na[trait] > upperbound)].index.values.tolist()\n",
    "    rm_index\n",
    "    bio.loc[rm_index, trait] = np.nan"
   ]
  },
  {
   "cell_type": "code",
   "execution_count": 8,
   "metadata": {},
   "outputs": [],
   "source": [
    "ids = pd.read_csv('BGEM_WGS_Labels.csv')\n",
    "GWAS_labels = pd.read_csv('WGS_labels_only.csv')\n",
    "GWAS_labels.columns\n",
    "GWAS_labels.rename(columns={'UID                     ': 'UID'}, inplace=True)\n",
    "GWAS_labels['UID'] = GWAS_labels['UID'].str.replace(' ' , '')\n",
    "ids = ids.loc[: , ['UID', 'Genotype']]\n",
    "ids.rename(columns ={'Genotype': 'genotype'}, inplace=True)"
   ]
  },
  {
   "cell_type": "code",
   "execution_count": 9,
   "metadata": {},
   "outputs": [],
   "source": [
    "merged = pd.merge(ids, bio, on='genotype', how='inner')"
   ]
  },
  {
   "cell_type": "code",
   "execution_count": 10,
   "metadata": {},
   "outputs": [],
   "source": [
    "merged = pd.merge(merged, GWAS_labels, on='UID', how='inner')"
   ]
  },
  {
   "cell_type": "code",
   "execution_count": 11,
   "metadata": {},
   "outputs": [],
   "source": [
    "merged.drop('genotype', axis=1, inplace=True)"
   ]
  },
  {
   "cell_type": "code",
   "execution_count": 13,
   "metadata": {},
   "outputs": [],
   "source": [
    "merged.to_csv('bio_GWAS_outlier.csv', index= False)"
   ]
  },
  {
   "cell_type": "code",
   "execution_count": 8,
   "metadata": {},
   "outputs": [],
   "source": [
    "bio = pd.read_csv('bio_GWAS.csv')"
   ]
  },
  {
   "cell_type": "code",
   "execution_count": 9,
   "metadata": {},
   "outputs": [],
   "source": [
    "traits = bio.columns[1:]"
   ]
  },
  {
   "cell_type": "code",
   "execution_count": 10,
   "metadata": {},
   "outputs": [
    {
     "data": {
      "text/plain": [
       "Index(['SLA_HN', 'LWC_HN', 'X..N_HN', 'X..P_HN', 'X..K_HN', 'X..S_HN',\n",
       "       'X..Ca_HN', 'X..Mg_HN', 'ppm.Zn_HN', 'ppm.Fe_HN', 'ppm.Mn_HN',\n",
       "       'ppm.Cu_HN', 'ppm.B_HN', 'ppm.Mo_HN', 'SLA_LN', 'LWC_LN', 'X..N_LN',\n",
       "       'X..P_LN', 'X..K_LN', 'X..S_LN', 'X..Ca_LN', 'X..Mg_LN', 'ppm.Zn_LN',\n",
       "       'ppm.Fe_LN', 'ppm.Mn_LN', 'ppm.Cu_LN', 'ppm.B_LN', 'ppm.Mo_LN'],\n",
       "      dtype='object')"
      ]
     },
     "execution_count": 10,
     "metadata": {},
     "output_type": "execute_result"
    }
   ],
   "source": [
    "traits"
   ]
  },
  {
   "cell_type": "code",
   "execution_count": null,
   "metadata": {},
   "outputs": [],
   "source": []
  },
  {
   "cell_type": "code",
   "execution_count": 5,
   "metadata": {},
   "outputs": [],
   "source": [
    "#defining a function to remove the outliers\n",
    "def outlier_treatment(datacolumn):\n",
    " sorted(datacolumn)\n",
    " Q1=datacolumn.quantile(0.25)\n",
    " Q3=datacolumn.quantile(0.75)\n",
    " #Q1,Q3 = np.percentile(datacolumn , [25,75])\n",
    " IQR = Q3 - Q1\n",
    " lower_range = Q1 - (1.5 * IQR)\n",
    " upper_range = Q3 + (1.5 * IQR)\n",
    " return lower_range,upper_range"
   ]
  },
  {
   "cell_type": "code",
   "execution_count": 13,
   "metadata": {},
   "outputs": [],
   "source": [
    "#Outlier treatment\n",
    "for trait in traits:\n",
    "    data_non_na = bio.loc[bio[trait].notna(),:]\n",
    "    outlier_treatment(data_non_na.loc[: , trait])\n",
    "    lowerbound,upperbound = outlier_treatment(data_non_na.loc[: , trait])\n",
    "    rm_index =data_non_na.loc[: , trait][(data_non_na[trait] < lowerbound) | (data_non_na[trait] > upperbound)].index.values.tolist()\n",
    "    rm_index\n",
    "    bio.loc[rm_index, trait] = np.nan"
   ]
  },
  {
   "cell_type": "code",
   "execution_count": 16,
   "metadata": {
    "collapsed": true,
    "jupyter": {
     "outputs_hidden": true
    },
    "tags": []
   },
   "outputs": [
    {
     "data": {
      "text/plain": [
       "array([[<AxesSubplot: title={'center': 'ppm.B HN'}>]], dtype=object)"
      ]
     },
     "execution_count": 16,
     "metadata": {},
     "output_type": "execute_result"
    },
    {
     "data": {
      "image/png": "[encoded data removed]",
      "text/plain": [
       "<Figure size 640x480 with 1 Axes>"
      ]
     },
     "metadata": {},
     "output_type": "display_data"
    }
   ],
   "source": [
    "bio.hist('ppm.B HN')"
   ]
  },
  {
   "cell_type": "code",
   "execution_count": 17,
   "metadata": {},
   "outputs": [],
   "source": [
    "bio.to_csv('bio_GWAS_outlier.csv', index=False)"
   ]
  },
  {
   "cell_type": "code",
   "execution_count": 23,
   "metadata": {},
   "outputs": [
    {
     "data": {
      "text/plain": [
       "38    NaN\n",
       "44    NaN\n",
       "135   NaN\n",
       "143   NaN\n",
       "184   NaN\n",
       "192   NaN\n",
       "200   NaN\n",
       "213   NaN\n",
       "Name: ppm.B HN, dtype: float64"
      ]
     },
     "execution_count": 23,
     "metadata": {},
     "output_type": "execute_result"
    }
   ],
   "source": [
    "bio.loc[bio['ppm.B HN'].isnull(), 'ppm.B HN']"
   ]
  },
  {
   "cell_type": "markdown",
   "metadata": {},
   "source": [
    "# GWAS for principal components"
   ]
  },
  {
   "cell_type": "code",
   "execution_count": 17,
   "metadata": {},
   "outputs": [],
   "source": [
    "PCs = pd.read_csv('GWAS_PCA_blups_v2.csv')"
   ]
  },
  {
   "cell_type": "code",
   "execution_count": 18,
   "metadata": {},
   "outputs": [
    {
     "data": {
      "text/html": [
       "<div>\n",
       "<style scoped>\n",
       "    .dataframe tbody tr th:only-of-type {\n",
       "        vertical-align: middle;\n",
       "    }\n",
       "\n",
       "    .dataframe tbody tr th {\n",
       "        vertical-align: top;\n",
       "    }\n",
       "\n",
       "    .dataframe thead th {\n",
       "        text-align: right;\n",
       "    }\n",
       "</style>\n",
       "<table border=\"1\" class=\"dataframe\">\n",
       "  <thead>\n",
       "    <tr style=\"text-align: right;\">\n",
       "      <th></th>\n",
       "      <th>genotype</th>\n",
       "      <th>Trt</th>\n",
       "      <th>Dim.1</th>\n",
       "      <th>Dim.2</th>\n",
       "      <th>Dim.3</th>\n",
       "    </tr>\n",
       "  </thead>\n",
       "  <tbody>\n",
       "    <tr>\n",
       "      <th>0</th>\n",
       "      <td>B73 X Mo17</td>\n",
       "      <td>HN</td>\n",
       "      <td>0.242398</td>\n",
       "      <td>0.223001</td>\n",
       "      <td>0.021807</td>\n",
       "    </tr>\n",
       "    <tr>\n",
       "      <th>1</th>\n",
       "      <td>B73 X Mo17</td>\n",
       "      <td>HN</td>\n",
       "      <td>0.242398</td>\n",
       "      <td>0.223001</td>\n",
       "      <td>0.021807</td>\n",
       "    </tr>\n",
       "    <tr>\n",
       "      <th>2</th>\n",
       "      <td>B73 X Mo17</td>\n",
       "      <td>HN</td>\n",
       "      <td>0.242398</td>\n",
       "      <td>0.223001</td>\n",
       "      <td>0.021807</td>\n",
       "    </tr>\n",
       "    <tr>\n",
       "      <th>3</th>\n",
       "      <td>B73 X Mo17</td>\n",
       "      <td>HN</td>\n",
       "      <td>0.242398</td>\n",
       "      <td>0.223001</td>\n",
       "      <td>0.021807</td>\n",
       "    </tr>\n",
       "    <tr>\n",
       "      <th>4</th>\n",
       "      <td>B73 X Mo17</td>\n",
       "      <td>HN</td>\n",
       "      <td>0.242398</td>\n",
       "      <td>0.223001</td>\n",
       "      <td>0.021807</td>\n",
       "    </tr>\n",
       "    <tr>\n",
       "      <th>...</th>\n",
       "      <td>...</td>\n",
       "      <td>...</td>\n",
       "      <td>...</td>\n",
       "      <td>...</td>\n",
       "      <td>...</td>\n",
       "    </tr>\n",
       "    <tr>\n",
       "      <th>1195</th>\n",
       "      <td>PHK29 X PHW52</td>\n",
       "      <td>LN</td>\n",
       "      <td>-0.059703</td>\n",
       "      <td>-0.060021</td>\n",
       "      <td>-0.075441</td>\n",
       "    </tr>\n",
       "    <tr>\n",
       "      <th>1196</th>\n",
       "      <td>PHZ51 X LH123</td>\n",
       "      <td>HN</td>\n",
       "      <td>0.095923</td>\n",
       "      <td>-0.021276</td>\n",
       "      <td>0.004148</td>\n",
       "    </tr>\n",
       "    <tr>\n",
       "      <th>1197</th>\n",
       "      <td>PHZ51 X LH123</td>\n",
       "      <td>LN</td>\n",
       "      <td>-0.263610</td>\n",
       "      <td>-0.071711</td>\n",
       "      <td>0.062816</td>\n",
       "    </tr>\n",
       "    <tr>\n",
       "      <th>1198</th>\n",
       "      <td>PHZ51 X PHG35</td>\n",
       "      <td>LN</td>\n",
       "      <td>-0.627517</td>\n",
       "      <td>0.038990</td>\n",
       "      <td>0.107210</td>\n",
       "    </tr>\n",
       "    <tr>\n",
       "      <th>1199</th>\n",
       "      <td>PHZ51 X PHG35</td>\n",
       "      <td>LN</td>\n",
       "      <td>-0.627517</td>\n",
       "      <td>0.038990</td>\n",
       "      <td>0.107210</td>\n",
       "    </tr>\n",
       "  </tbody>\n",
       "</table>\n",
       "<p>1200 rows × 5 columns</p>\n",
       "</div>"
      ],
      "text/plain": [
       "           genotype Trt     Dim.1     Dim.2     Dim.3\n",
       "0        B73 X Mo17  HN  0.242398  0.223001  0.021807\n",
       "1        B73 X Mo17  HN  0.242398  0.223001  0.021807\n",
       "2        B73 X Mo17  HN  0.242398  0.223001  0.021807\n",
       "3        B73 X Mo17  HN  0.242398  0.223001  0.021807\n",
       "4        B73 X Mo17  HN  0.242398  0.223001  0.021807\n",
       "...             ...  ..       ...       ...       ...\n",
       "1195  PHK29 X PHW52  LN -0.059703 -0.060021 -0.075441\n",
       "1196  PHZ51 X LH123  HN  0.095923 -0.021276  0.004148\n",
       "1197  PHZ51 X LH123  LN -0.263610 -0.071711  0.062816\n",
       "1198  PHZ51 X PHG35  LN -0.627517  0.038990  0.107210\n",
       "1199  PHZ51 X PHG35  LN -0.627517  0.038990  0.107210\n",
       "\n",
       "[1200 rows x 5 columns]"
      ]
     },
     "execution_count": 18,
     "metadata": {},
     "output_type": "execute_result"
    }
   ],
   "source": [
    "PCs"
   ]
  },
  {
   "cell_type": "code",
   "execution_count": 19,
   "metadata": {},
   "outputs": [],
   "source": [
    "PCs_HN = PCs.loc[PCs['Trt']=='HN', :].reset_index(drop=True)\n",
    "PCs_LN = PCs.loc[PCs['Trt']=='LN', :].reset_index(drop=True)"
   ]
  },
  {
   "cell_type": "code",
   "execution_count": 20,
   "metadata": {
    "tags": []
   },
   "outputs": [],
   "source": [
    "PCs_HN.rename(columns={'Dim.1' : 'PC1_HN', 'Dim.2' : 'PC2_HN', 'Dim.3' : 'PC3_HN'}, inplace= True)"
   ]
  },
  {
   "cell_type": "code",
   "execution_count": 21,
   "metadata": {
    "tags": []
   },
   "outputs": [],
   "source": [
    "PCs_LN.rename(columns={'Dim.1' : 'PC1_LN', 'Dim.2' : 'PC2_LN', 'Dim.3' : 'PC3_LN'}, inplace= True)"
   ]
  },
  {
   "cell_type": "code",
   "execution_count": 22,
   "metadata": {},
   "outputs": [],
   "source": [
    "ids = pd.read_csv('BGEM_WGS_Labels.csv')\n",
    "GWAS_labels = pd.read_csv('WGS_labels_only.csv')\n",
    "GWAS_labels.columns\n",
    "GWAS_labels.rename(columns={'UID                     ': 'UID'}, inplace=True)\n",
    "GWAS_labels['UID'] = GWAS_labels['UID'].str.replace(' ' , '')\n",
    "ids = ids.loc[: , ['UID', 'Genotype']]\n",
    "ids.rename(columns ={'Genotype': 'genotype'}, inplace=True)"
   ]
  },
  {
   "cell_type": "code",
   "execution_count": 23,
   "metadata": {},
   "outputs": [],
   "source": [
    "merged = pd.merge(ids, PCs_HN, on='genotype', how='inner')"
   ]
  },
  {
   "cell_type": "code",
   "execution_count": 24,
   "metadata": {},
   "outputs": [],
   "source": [
    "merged = pd.merge(merged, PCs_LN , on='genotype', how='inner')"
   ]
  },
  {
   "cell_type": "code",
   "execution_count": 25,
   "metadata": {},
   "outputs": [],
   "source": [
    "merged = pd.merge(merged, GWAS_labels, on='UID', how='inner')"
   ]
  },
  {
   "cell_type": "code",
   "execution_count": 26,
   "metadata": {},
   "outputs": [],
   "source": [
    "merged.drop(['genotype', 'Trt_x', 'Trt_y'] , axis=1, inplace=True)"
   ]
  },
  {
   "cell_type": "code",
   "execution_count": 27,
   "metadata": {},
   "outputs": [],
   "source": [
    "merged.to_csv('PC_GWAS_Ready_blups_v2.csv', index= False)"
   ]
  }
 ],
 "metadata": {
  "kernelspec": {
   "display_name": "Python (mypython)",
   "language": "python",
   "name": "mypython"
  },
  "language_info": {
   "codemirror_mode": {
    "name": "ipython",
    "version": 3
   },
   "file_extension": ".py",
   "mimetype": "text/x-python",
   "name": "python",
   "nbconvert_exporter": "python",
   "pygments_lexer": "ipython3",
   "version": "3.11.0"
  }
 },
 "nbformat": 4,
 "nbformat_minor": 4
}
