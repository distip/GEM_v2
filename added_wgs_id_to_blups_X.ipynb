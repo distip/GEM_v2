{
 "cells": [
  {
   "cell_type": "code",
   "execution_count": 27,
   "metadata": {},
   "outputs": [],
   "source": [
    "import pandas as pd"
   ]
  },
  {
   "cell_type": "code",
   "execution_count": 40,
   "metadata": {},
   "outputs": [],
   "source": [
    "blups = pd.read_csv('blups_CHL.csv')"
   ]
  },
  {
   "cell_type": "code",
   "execution_count": 41,
   "metadata": {},
   "outputs": [],
   "source": [
    "ids = pd.read_csv('BGEM_WGS_Labels.csv')"
   ]
  },
  {
   "cell_type": "code",
   "execution_count": 46,
   "metadata": {},
   "outputs": [
    {
     "data": {
      "text/plain": [
       "Index(['UID'], dtype='object')"
      ]
     },
     "execution_count": 46,
     "metadata": {},
     "output_type": "execute_result"
    }
   ],
   "source": [
    "GWAS_labels.columns"
   ]
  },
  {
   "cell_type": "code",
   "execution_count": 43,
   "metadata": {},
   "outputs": [],
   "source": [
    "GWAS_labels = pd.read_csv('WGS_labels_only.csv')"
   ]
  },
  {
   "cell_type": "code",
   "execution_count": 45,
   "metadata": {},
   "outputs": [],
   "source": [
    "GWAS_labels.rename(columns={'UID                     ': 'UID'}, inplace=True)"
   ]
  },
  {
   "cell_type": "code",
   "execution_count": 47,
   "metadata": {},
   "outputs": [],
   "source": [
    "GWAS_labels['UID'] = GWAS_labels['UID'].str.replace(' ' , '')"
   ]
  },
  {
   "cell_type": "code",
   "execution_count": 48,
   "metadata": {},
   "outputs": [],
   "source": [
    "ids = ids.loc[: , ['UID', 'Genotype']]"
   ]
  },
  {
   "cell_type": "code",
   "execution_count": 49,
   "metadata": {},
   "outputs": [],
   "source": [
    "ids.rename(columns ={'Genotype': 'genotype'}, inplace=True)"
   ]
  },
  {
   "cell_type": "code",
   "execution_count": 56,
   "metadata": {},
   "outputs": [],
   "source": [
    "merged = pd.merge(ids, blups, on='genotype', how='inner')"
   ]
  },
  {
   "cell_type": "code",
   "execution_count": 58,
   "metadata": {},
   "outputs": [],
   "source": [
    "merged = pd.merge(merged, GWAS_labels, on='UID', how='inner')"
   ]
  },
  {
   "cell_type": "code",
   "execution_count": 59,
   "metadata": {},
   "outputs": [
    {
     "data": {
      "text/html": [
       "<div>\n",
       "<style scoped>\n",
       "    .dataframe tbody tr th:only-of-type {\n",
       "        vertical-align: middle;\n",
       "    }\n",
       "\n",
       "    .dataframe tbody tr th {\n",
       "        vertical-align: top;\n",
       "    }\n",
       "\n",
       "    .dataframe thead th {\n",
       "        text-align: right;\n",
       "    }\n",
       "</style>\n",
       "<table border=\"1\" class=\"dataframe\">\n",
       "  <thead>\n",
       "    <tr style=\"text-align: right;\">\n",
       "      <th></th>\n",
       "      <th>UID</th>\n",
       "      <th>genotype</th>\n",
       "      <th>new_GID</th>\n",
       "      <th>PLOT.ID</th>\n",
       "      <th>rows</th>\n",
       "      <th>ranges</th>\n",
       "      <th>Block</th>\n",
       "      <th>Rep</th>\n",
       "      <th>Trt</th>\n",
       "      <th>year</th>\n",
       "      <th>note</th>\n",
       "      <th>Group</th>\n",
       "      <th>Calibration</th>\n",
       "      <th>ASD</th>\n",
       "      <th>CHL</th>\n",
       "    </tr>\n",
       "  </thead>\n",
       "  <tbody>\n",
       "    <tr>\n",
       "      <th>0</th>\n",
       "      <td>B001</td>\n",
       "      <td>BGEM-0001-N</td>\n",
       "      <td>BGEM-0001-N_HN</td>\n",
       "      <td>4338</td>\n",
       "      <td>38</td>\n",
       "      <td>7</td>\n",
       "      <td>1</td>\n",
       "      <td>2</td>\n",
       "      <td>HN</td>\n",
       "      <td>2022</td>\n",
       "      <td>BGEM_Tall_early</td>\n",
       "      <td>Inbred</td>\n",
       "      <td>0.0</td>\n",
       "      <td>2.0</td>\n",
       "      <td>291.162515</td>\n",
       "    </tr>\n",
       "    <tr>\n",
       "      <th>1</th>\n",
       "      <td>B001</td>\n",
       "      <td>BGEM-0001-N</td>\n",
       "      <td>BGEM-0001-N_LN</td>\n",
       "      <td>3151</td>\n",
       "      <td>1</td>\n",
       "      <td>4</td>\n",
       "      <td>1</td>\n",
       "      <td>2</td>\n",
       "      <td>LN</td>\n",
       "      <td>2022</td>\n",
       "      <td>BGEM_Tall_early</td>\n",
       "      <td>Inbred</td>\n",
       "      <td>0.0</td>\n",
       "      <td>2.0</td>\n",
       "      <td>290.635128</td>\n",
       "    </tr>\n",
       "    <tr>\n",
       "      <th>2</th>\n",
       "      <td>B002</td>\n",
       "      <td>BGEM-0002-N</td>\n",
       "      <td>BGEM-0002-N_HN</td>\n",
       "      <td>4339</td>\n",
       "      <td>39</td>\n",
       "      <td>7</td>\n",
       "      <td>4</td>\n",
       "      <td>2</td>\n",
       "      <td>HN</td>\n",
       "      <td>2022</td>\n",
       "      <td>BGEM_Tall_early</td>\n",
       "      <td>Inbred</td>\n",
       "      <td>0.0</td>\n",
       "      <td>2.0</td>\n",
       "      <td>382.761990</td>\n",
       "    </tr>\n",
       "    <tr>\n",
       "      <th>3</th>\n",
       "      <td>B002</td>\n",
       "      <td>BGEM-0002-N</td>\n",
       "      <td>BGEM-0002-N_LN</td>\n",
       "      <td>3152</td>\n",
       "      <td>2</td>\n",
       "      <td>4</td>\n",
       "      <td>1</td>\n",
       "      <td>2</td>\n",
       "      <td>LN</td>\n",
       "      <td>2022</td>\n",
       "      <td>BGEM_Tall_early</td>\n",
       "      <td>Inbred</td>\n",
       "      <td>0.0</td>\n",
       "      <td>2.0</td>\n",
       "      <td>304.242242</td>\n",
       "    </tr>\n",
       "    <tr>\n",
       "      <th>4</th>\n",
       "      <td>B003</td>\n",
       "      <td>BGEM-0003-N</td>\n",
       "      <td>BGEM-0003-N_HN</td>\n",
       "      <td>4136</td>\n",
       "      <td>36</td>\n",
       "      <td>3</td>\n",
       "      <td>4</td>\n",
       "      <td>2</td>\n",
       "      <td>HN</td>\n",
       "      <td>2022</td>\n",
       "      <td>BGEM_Tall_late</td>\n",
       "      <td>Inbred</td>\n",
       "      <td>0.0</td>\n",
       "      <td>1.0</td>\n",
       "      <td>413.810227</td>\n",
       "    </tr>\n",
       "    <tr>\n",
       "      <th>...</th>\n",
       "      <td>...</td>\n",
       "      <td>...</td>\n",
       "      <td>...</td>\n",
       "      <td>...</td>\n",
       "      <td>...</td>\n",
       "      <td>...</td>\n",
       "      <td>...</td>\n",
       "      <td>...</td>\n",
       "      <td>...</td>\n",
       "      <td>...</td>\n",
       "      <td>...</td>\n",
       "      <td>...</td>\n",
       "      <td>...</td>\n",
       "      <td>...</td>\n",
       "      <td>...</td>\n",
       "    </tr>\n",
       "    <tr>\n",
       "      <th>439</th>\n",
       "      <td>B313</td>\n",
       "      <td>BGEM-0251-S</td>\n",
       "      <td>BGEM-0251-S_LN</td>\n",
       "      <td>3124</td>\n",
       "      <td>24</td>\n",
       "      <td>3</td>\n",
       "      <td>2</td>\n",
       "      <td>2</td>\n",
       "      <td>LN</td>\n",
       "      <td>2022</td>\n",
       "      <td>BGEM_Tall_early</td>\n",
       "      <td>Inbred</td>\n",
       "      <td>0.0</td>\n",
       "      <td>1.0</td>\n",
       "      <td>354.588511</td>\n",
       "    </tr>\n",
       "    <tr>\n",
       "      <th>440</th>\n",
       "      <td>B314</td>\n",
       "      <td>BGEM-0189-S</td>\n",
       "      <td>BGEM-0189-S_HN</td>\n",
       "      <td>4290</td>\n",
       "      <td>40</td>\n",
       "      <td>6</td>\n",
       "      <td>3</td>\n",
       "      <td>2</td>\n",
       "      <td>HN</td>\n",
       "      <td>2022</td>\n",
       "      <td>BGEM_Tall_early</td>\n",
       "      <td>Inbred</td>\n",
       "      <td>0.0</td>\n",
       "      <td>2.0</td>\n",
       "      <td>309.041145</td>\n",
       "    </tr>\n",
       "    <tr>\n",
       "      <th>441</th>\n",
       "      <td>B314</td>\n",
       "      <td>BGEM-0189-S</td>\n",
       "      <td>BGEM-0189-S_LN</td>\n",
       "      <td>3103</td>\n",
       "      <td>3</td>\n",
       "      <td>3</td>\n",
       "      <td>2</td>\n",
       "      <td>2</td>\n",
       "      <td>LN</td>\n",
       "      <td>2022</td>\n",
       "      <td>BGEM_Tall_early</td>\n",
       "      <td>Inbred</td>\n",
       "      <td>0.0</td>\n",
       "      <td>2.0</td>\n",
       "      <td>287.311513</td>\n",
       "    </tr>\n",
       "    <tr>\n",
       "      <th>442</th>\n",
       "      <td>B315</td>\n",
       "      <td>BGEM-0249-N</td>\n",
       "      <td>BGEM-0249-N_HN</td>\n",
       "      <td>4002</td>\n",
       "      <td>2</td>\n",
       "      <td>1</td>\n",
       "      <td>3</td>\n",
       "      <td>2</td>\n",
       "      <td>HN</td>\n",
       "      <td>2022</td>\n",
       "      <td>BGEM_Short_late</td>\n",
       "      <td>Inbred</td>\n",
       "      <td>0.0</td>\n",
       "      <td>2.0</td>\n",
       "      <td>354.627108</td>\n",
       "    </tr>\n",
       "    <tr>\n",
       "      <th>443</th>\n",
       "      <td>B315</td>\n",
       "      <td>BGEM-0249-N</td>\n",
       "      <td>BGEM-0249-N_LN</td>\n",
       "      <td>3027</td>\n",
       "      <td>27</td>\n",
       "      <td>1</td>\n",
       "      <td>2</td>\n",
       "      <td>2</td>\n",
       "      <td>LN</td>\n",
       "      <td>2022</td>\n",
       "      <td>BGEM_Short_late</td>\n",
       "      <td>Inbred</td>\n",
       "      <td>0.0</td>\n",
       "      <td>2.0</td>\n",
       "      <td>325.302650</td>\n",
       "    </tr>\n",
       "  </tbody>\n",
       "</table>\n",
       "<p>444 rows × 15 columns</p>\n",
       "</div>"
      ],
      "text/plain": [
       "      UID     genotype         new_GID  PLOT.ID  rows  ranges  Block  Rep Trt  \\\n",
       "0    B001  BGEM-0001-N  BGEM-0001-N_HN     4338    38       7      1    2  HN   \n",
       "1    B001  BGEM-0001-N  BGEM-0001-N_LN     3151     1       4      1    2  LN   \n",
       "2    B002  BGEM-0002-N  BGEM-0002-N_HN     4339    39       7      4    2  HN   \n",
       "3    B002  BGEM-0002-N  BGEM-0002-N_LN     3152     2       4      1    2  LN   \n",
       "4    B003  BGEM-0003-N  BGEM-0003-N_HN     4136    36       3      4    2  HN   \n",
       "..    ...          ...             ...      ...   ...     ...    ...  ...  ..   \n",
       "439  B313  BGEM-0251-S  BGEM-0251-S_LN     3124    24       3      2    2  LN   \n",
       "440  B314  BGEM-0189-S  BGEM-0189-S_HN     4290    40       6      3    2  HN   \n",
       "441  B314  BGEM-0189-S  BGEM-0189-S_LN     3103     3       3      2    2  LN   \n",
       "442  B315  BGEM-0249-N  BGEM-0249-N_HN     4002     2       1      3    2  HN   \n",
       "443  B315  BGEM-0249-N  BGEM-0249-N_LN     3027    27       1      2    2  LN   \n",
       "\n",
       "     year             note   Group  Calibration  ASD         CHL  \n",
       "0    2022  BGEM_Tall_early  Inbred          0.0  2.0  291.162515  \n",
       "1    2022  BGEM_Tall_early  Inbred          0.0  2.0  290.635128  \n",
       "2    2022  BGEM_Tall_early  Inbred          0.0  2.0  382.761990  \n",
       "3    2022  BGEM_Tall_early  Inbred          0.0  2.0  304.242242  \n",
       "4    2022   BGEM_Tall_late  Inbred          0.0  1.0  413.810227  \n",
       "..    ...              ...     ...          ...  ...         ...  \n",
       "439  2022  BGEM_Tall_early  Inbred          0.0  1.0  354.588511  \n",
       "440  2022  BGEM_Tall_early  Inbred          0.0  2.0  309.041145  \n",
       "441  2022  BGEM_Tall_early  Inbred          0.0  2.0  287.311513  \n",
       "442  2022  BGEM_Short_late  Inbred          0.0  2.0  354.627108  \n",
       "443  2022  BGEM_Short_late  Inbred          0.0  2.0  325.302650  \n",
       "\n",
       "[444 rows x 15 columns]"
      ]
     },
     "execution_count": 59,
     "metadata": {},
     "output_type": "execute_result"
    }
   ],
   "source": [
    "merged"
   ]
  },
  {
   "cell_type": "code",
   "execution_count": 60,
   "metadata": {},
   "outputs": [],
   "source": [
    "merged.to_csv('blups_CHL_with_gwas_ids')"
   ]
  },
  {
   "cell_type": "code",
   "execution_count": null,
   "metadata": {},
   "outputs": [],
   "source": []
  },
  {
   "cell_type": "markdown",
   "metadata": {},
   "source": [
    "# adding uids to CHL blues"
   ]
  },
  {
   "cell_type": "code",
   "execution_count": 1,
   "metadata": {},
   "outputs": [],
   "source": [
    "import pandas as pd\n",
    "blues = pd.read_csv('blues_CHL_only_inbreds.csv')"
   ]
  },
  {
   "cell_type": "code",
   "execution_count": 2,
   "metadata": {},
   "outputs": [],
   "source": [
    "ids = pd.read_csv('BGEM_WGS_Labels.csv')"
   ]
  },
  {
   "cell_type": "code",
   "execution_count": 3,
   "metadata": {},
   "outputs": [],
   "source": [
    "GWAS_labels = pd.read_csv('WGS_labels_only.csv')"
   ]
  },
  {
   "cell_type": "code",
   "execution_count": 4,
   "metadata": {},
   "outputs": [
    {
     "data": {
      "text/plain": [
       "Index(['UID                     '], dtype='object')"
      ]
     },
     "execution_count": 4,
     "metadata": {},
     "output_type": "execute_result"
    }
   ],
   "source": [
    "GWAS_labels.columns"
   ]
  },
  {
   "cell_type": "code",
   "execution_count": 5,
   "metadata": {},
   "outputs": [],
   "source": [
    "GWAS_labels.rename(columns={'UID                     ': 'UID'}, inplace=True)"
   ]
  },
  {
   "cell_type": "code",
   "execution_count": 6,
   "metadata": {},
   "outputs": [],
   "source": [
    "GWAS_labels['UID'] = GWAS_labels['UID'].str.replace(' ' , '')"
   ]
  },
  {
   "cell_type": "code",
   "execution_count": 7,
   "metadata": {},
   "outputs": [],
   "source": [
    "ids = ids.loc[: , ['UID', 'Genotype']]"
   ]
  },
  {
   "cell_type": "code",
   "execution_count": 8,
   "metadata": {},
   "outputs": [],
   "source": [
    "ids.rename(columns ={'Genotype': 'genotype'}, inplace=True)"
   ]
  },
  {
   "cell_type": "code",
   "execution_count": 9,
   "metadata": {},
   "outputs": [],
   "source": [
    "merged = pd.merge(ids, blues, on='genotype', how='inner')"
   ]
  },
  {
   "cell_type": "code",
   "execution_count": 10,
   "metadata": {},
   "outputs": [],
   "source": [
    "merged = pd.merge(merged, GWAS_labels, on='UID', how='inner')"
   ]
  },
  {
   "cell_type": "code",
   "execution_count": 11,
   "metadata": {},
   "outputs": [
    {
     "data": {
      "text/html": [
       "<div>\n",
       "<style scoped>\n",
       "    .dataframe tbody tr th:only-of-type {\n",
       "        vertical-align: middle;\n",
       "    }\n",
       "\n",
       "    .dataframe tbody tr th {\n",
       "        vertical-align: top;\n",
       "    }\n",
       "\n",
       "    .dataframe thead th {\n",
       "        text-align: right;\n",
       "    }\n",
       "</style>\n",
       "<table border=\"1\" class=\"dataframe\">\n",
       "  <thead>\n",
       "    <tr style=\"text-align: right;\">\n",
       "      <th></th>\n",
       "      <th>UID</th>\n",
       "      <th>genotype</th>\n",
       "      <th>CHL</th>\n",
       "    </tr>\n",
       "  </thead>\n",
       "  <tbody>\n",
       "    <tr>\n",
       "      <th>0</th>\n",
       "      <td>B001</td>\n",
       "      <td>BGEM-0001-N</td>\n",
       "      <td>270.585515</td>\n",
       "    </tr>\n",
       "    <tr>\n",
       "      <th>1</th>\n",
       "      <td>B002</td>\n",
       "      <td>BGEM-0002-N</td>\n",
       "      <td>332.987008</td>\n",
       "    </tr>\n",
       "    <tr>\n",
       "      <th>2</th>\n",
       "      <td>B003</td>\n",
       "      <td>BGEM-0003-N</td>\n",
       "      <td>359.087466</td>\n",
       "    </tr>\n",
       "    <tr>\n",
       "      <th>3</th>\n",
       "      <td>B004</td>\n",
       "      <td>BGEM-0004-N</td>\n",
       "      <td>317.052461</td>\n",
       "    </tr>\n",
       "    <tr>\n",
       "      <th>4</th>\n",
       "      <td>B005</td>\n",
       "      <td>BGEM-0005-N</td>\n",
       "      <td>411.855036</td>\n",
       "    </tr>\n",
       "    <tr>\n",
       "      <th>...</th>\n",
       "      <td>...</td>\n",
       "      <td>...</td>\n",
       "      <td>...</td>\n",
       "    </tr>\n",
       "    <tr>\n",
       "      <th>217</th>\n",
       "      <td>B311</td>\n",
       "      <td>BGEM-0181-N</td>\n",
       "      <td>338.641754</td>\n",
       "    </tr>\n",
       "    <tr>\n",
       "      <th>218</th>\n",
       "      <td>B312</td>\n",
       "      <td>BGEM-0121-N</td>\n",
       "      <td>267.202497</td>\n",
       "    </tr>\n",
       "    <tr>\n",
       "      <th>219</th>\n",
       "      <td>B313</td>\n",
       "      <td>BGEM-0251-S</td>\n",
       "      <td>338.907303</td>\n",
       "    </tr>\n",
       "    <tr>\n",
       "      <th>220</th>\n",
       "      <td>B314</td>\n",
       "      <td>BGEM-0189-S</td>\n",
       "      <td>279.913928</td>\n",
       "    </tr>\n",
       "    <tr>\n",
       "      <th>221</th>\n",
       "      <td>B315</td>\n",
       "      <td>BGEM-0249-N</td>\n",
       "      <td>330.784931</td>\n",
       "    </tr>\n",
       "  </tbody>\n",
       "</table>\n",
       "<p>222 rows × 3 columns</p>\n",
       "</div>"
      ],
      "text/plain": [
       "      UID     genotype         CHL\n",
       "0    B001  BGEM-0001-N  270.585515\n",
       "1    B002  BGEM-0002-N  332.987008\n",
       "2    B003  BGEM-0003-N  359.087466\n",
       "3    B004  BGEM-0004-N  317.052461\n",
       "4    B005  BGEM-0005-N  411.855036\n",
       "..    ...          ...         ...\n",
       "217  B311  BGEM-0181-N  338.641754\n",
       "218  B312  BGEM-0121-N  267.202497\n",
       "219  B313  BGEM-0251-S  338.907303\n",
       "220  B314  BGEM-0189-S  279.913928\n",
       "221  B315  BGEM-0249-N  330.784931\n",
       "\n",
       "[222 rows x 3 columns]"
      ]
     },
     "execution_count": 11,
     "metadata": {},
     "output_type": "execute_result"
    }
   ],
   "source": [
    "merged"
   ]
  },
  {
   "cell_type": "code",
   "execution_count": 13,
   "metadata": {},
   "outputs": [],
   "source": [
    "merged.to_csv('blues_CHL_with_gwas_ids_only_inbreds.csv')"
   ]
  }
 ],
 "metadata": {
  "kernelspec": {
   "display_name": "Python 3 (ipykernel)",
   "language": "python",
   "name": "python3"
  },
  "language_info": {
   "codemirror_mode": {
    "name": "ipython",
    "version": 3
   },
   "file_extension": ".py",
   "mimetype": "text/x-python",
   "name": "python",
   "nbconvert_exporter": "python",
   "pygments_lexer": "ipython3",
   "version": "3.9.7"
  }
 },
 "nbformat": 4,
 "nbformat_minor": 2
}
